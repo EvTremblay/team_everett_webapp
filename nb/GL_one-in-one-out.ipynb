{
 "cells": [
  {
   "cell_type": "code",
   "execution_count": 1,
   "metadata": {
    "ExecuteTime": {
     "end_time": "2016-04-06T19:02:55.073805",
     "start_time": "2016-04-06T19:02:53.383232"
    },
    "collapsed": true
   },
   "outputs": [],
   "source": [
    "import graphlab as gl"
   ]
  },
  {
   "cell_type": "code",
   "execution_count": 2,
   "metadata": {
    "ExecuteTime": {
     "end_time": "2016-04-06T19:02:56.750527",
     "start_time": "2016-04-06T19:02:55.075444"
    },
    "collapsed": false
   },
   "outputs": [
    {
     "name": "stderr",
     "output_type": "stream",
     "text": [
      "2016-04-06 19:02:56,680 [INFO] graphlab.cython.cy_server, 176: GraphLab Create v1.8.5 started. Logging: /tmp/graphlab_server_1459994575.log\n"
     ]
    },
    {
     "name": "stdout",
     "output_type": "stream",
     "text": [
      "This non-commercial license of GraphLab Create is assigned to miles.erickson@gmail.com and will expire on October 25, 2016. For commercial licensing options, visit https://dato.com/buy/.\n"
     ]
    }
   ],
   "source": [
    "sf = gl.SFrame('data/reduced_data')"
   ]
  },
  {
   "cell_type": "code",
   "execution_count": 3,
   "metadata": {
    "ExecuteTime": {
     "end_time": "2016-04-06T19:02:56.868526",
     "start_time": "2016-04-06T19:02:56.752032"
    },
    "collapsed": false,
    "scrolled": false
   },
   "outputs": [
    {
     "data": {
      "text/html": [
       "<pre>Finished parsing file /Users/miles/edu/zipfian/fraud-detection-case-study/data/y_vector.csv</pre>"
      ],
      "text/plain": [
       "Finished parsing file /Users/miles/edu/zipfian/fraud-detection-case-study/data/y_vector.csv"
      ]
     },
     "metadata": {},
     "output_type": "display_data"
    },
    {
     "data": {
      "text/html": [
       "<pre>Parsing completed. Parsed 100 lines in 0.032134 secs.</pre>"
      ],
      "text/plain": [
       "Parsing completed. Parsed 100 lines in 0.032134 secs."
      ]
     },
     "metadata": {},
     "output_type": "display_data"
    },
    {
     "data": {
      "text/html": [
       "<pre>Finished parsing file /Users/miles/edu/zipfian/fraud-detection-case-study/data/y_vector.csv</pre>"
      ],
      "text/plain": [
       "Finished parsing file /Users/miles/edu/zipfian/fraud-detection-case-study/data/y_vector.csv"
      ]
     },
     "metadata": {},
     "output_type": "display_data"
    },
    {
     "data": {
      "text/html": [
       "<pre>Parsing completed. Parsed 14337 lines in 0.012739 secs.</pre>"
      ],
      "text/plain": [
       "Parsing completed. Parsed 14337 lines in 0.012739 secs."
      ]
     },
     "metadata": {},
     "output_type": "display_data"
    },
    {
     "name": "stdout",
     "output_type": "stream",
     "text": [
      "------------------------------------------------------\n",
      "Inferred types from first line of file as \n",
      "column_type_hints=[int,str]\n",
      "If parsing fails due to incorrect types, you can correct\n",
      "the inferred type list above and pass it to read_csv in\n",
      "the column_type_hints argument\n",
      "------------------------------------------------------\n"
     ]
    }
   ],
   "source": [
    "y = gl.SFrame.read_csv('data/y_vector.csv', header=False)\n",
    "sf['fraud'] = y['X2']"
   ]
  },
  {
   "cell_type": "code",
   "execution_count": 4,
   "metadata": {
    "ExecuteTime": {
     "end_time": "2016-04-06T19:02:56.903228",
     "start_time": "2016-04-06T19:02:56.869841"
    },
    "collapsed": false,
    "scrolled": true
   },
   "outputs": [],
   "source": [
    "sf_train, sf_test = sf.random_split(.8, seed=55)"
   ]
  },
  {
   "cell_type": "code",
   "execution_count": 5,
   "metadata": {
    "ExecuteTime": {
     "end_time": "2016-04-06T19:03:25.616668",
     "start_time": "2016-04-06T19:02:56.904305"
    },
    "collapsed": false
   },
   "outputs": [
    {
     "name": "stderr",
     "output_type": "stream",
     "text": [
      "2016-04-06 19:02:56,976 [ERROR] graphlab.toolkits._main, 66: Toolkit error: Feature 'approx_payout_date' is not of type (numeric, string, array, or dictionary).\n",
      "\n"
     ]
    },
    {
     "data": {
      "text/html": [
       "<pre>Random forest classifier:</pre>"
      ],
      "text/plain": [
       "Random forest classifier:"
      ]
     },
     "metadata": {},
     "output_type": "display_data"
    },
    {
     "data": {
      "text/html": [
       "<pre>--------------------------------------------------------</pre>"
      ],
      "text/plain": [
       "--------------------------------------------------------"
      ]
     },
     "metadata": {},
     "output_type": "display_data"
    },
    {
     "data": {
      "text/html": [
       "<pre>Number of examples          : 10879</pre>"
      ],
      "text/plain": [
       "Number of examples          : 10879"
      ]
     },
     "metadata": {},
     "output_type": "display_data"
    },
    {
     "data": {
      "text/html": [
       "<pre>Number of classes           : 2</pre>"
      ],
      "text/plain": [
       "Number of classes           : 2"
      ]
     },
     "metadata": {},
     "output_type": "display_data"
    },
    {
     "data": {
      "text/html": [
       "<pre>Number of feature columns   : 1</pre>"
      ],
      "text/plain": [
       "Number of feature columns   : 1"
      ]
     },
     "metadata": {},
     "output_type": "display_data"
    },
    {
     "data": {
      "text/html": [
       "<pre>Number of unpacked features : 1</pre>"
      ],
      "text/plain": [
       "Number of unpacked features : 1"
      ]
     },
     "metadata": {},
     "output_type": "display_data"
    },
    {
     "data": {
      "text/html": [
       "<pre>+-----------+--------------+-------------------+-------------------+---------------------+---------------------+</pre>"
      ],
      "text/plain": [
       "+-----------+--------------+-------------------+-------------------+---------------------+---------------------+"
      ]
     },
     "metadata": {},
     "output_type": "display_data"
    },
    {
     "data": {
      "text/html": [
       "<pre>| Iteration | Elapsed Time | Training-accuracy | Training-log_loss | Validation-accuracy | Validation-log_loss |</pre>"
      ],
      "text/plain": [
       "| Iteration | Elapsed Time | Training-accuracy | Training-log_loss | Validation-accuracy | Validation-log_loss |"
      ]
     },
     "metadata": {},
     "output_type": "display_data"
    },
    {
     "data": {
      "text/html": [
       "<pre>+-----------+--------------+-------------------+-------------------+---------------------+---------------------+</pre>"
      ],
      "text/plain": [
       "+-----------+--------------+-------------------+-------------------+---------------------+---------------------+"
      ]
     },
     "metadata": {},
     "output_type": "display_data"
    },
    {
     "data": {
      "text/html": [
       "<pre>| 1         | 0.013060     | 0.867359          | 0.385597          | 0.854452            | 0.403246            |</pre>"
      ],
      "text/plain": [
       "| 1         | 0.013060     | 0.867359          | 0.385597          | 0.854452            | 0.403246            |"
      ]
     },
     "metadata": {},
     "output_type": "display_data"
    },
    {
     "data": {
      "text/html": [
       "<pre>| 2         | 0.021732     | 0.869198          | 0.383045          | 0.857877            | 0.401815            |</pre>"
      ],
      "text/plain": [
       "| 2         | 0.021732     | 0.869198          | 0.383045          | 0.857877            | 0.401815            |"
      ]
     },
     "metadata": {},
     "output_type": "display_data"
    },
    {
     "data": {
      "text/html": [
       "<pre>| 3         | 0.029631     | 0.868922          | 0.382832          | 0.856164            | 0.401782            |</pre>"
      ],
      "text/plain": [
       "| 3         | 0.029631     | 0.868922          | 0.382832          | 0.856164            | 0.401782            |"
      ]
     },
     "metadata": {},
     "output_type": "display_data"
    },
    {
     "data": {
      "text/html": [
       "<pre>| 4         | 0.038562     | 0.869014          | 0.382742          | 0.856164            | 0.401248            |</pre>"
      ],
      "text/plain": [
       "| 4         | 0.038562     | 0.869014          | 0.382742          | 0.856164            | 0.401248            |"
      ]
     },
     "metadata": {},
     "output_type": "display_data"
    },
    {
     "data": {
      "text/html": [
       "<pre>| 5         | 0.047531     | 0.869014          | 0.382740          | 0.856164            | 0.400992            |</pre>"
      ],
      "text/plain": [
       "| 5         | 0.047531     | 0.869014          | 0.382740          | 0.856164            | 0.400992            |"
      ]
     },
     "metadata": {},
     "output_type": "display_data"
    },
    {
     "data": {
      "text/html": [
       "<pre>| 6         | 0.056519     | 0.869014          | 0.382595          | 0.856164            | 0.401057            |</pre>"
      ],
      "text/plain": [
       "| 6         | 0.056519     | 0.869014          | 0.382595          | 0.856164            | 0.401057            |"
      ]
     },
     "metadata": {},
     "output_type": "display_data"
    },
    {
     "data": {
      "text/html": [
       "<pre>| 11        | 0.099018     | 0.869289          | 0.382471          | 0.854452            | 0.401404            |</pre>"
      ],
      "text/plain": [
       "| 11        | 0.099018     | 0.869289          | 0.382471          | 0.854452            | 0.401404            |"
      ]
     },
     "metadata": {},
     "output_type": "display_data"
    },
    {
     "data": {
      "text/html": [
       "<pre>| 51        | 0.419788     | 0.869198          | 0.382068          | 0.856164            | 0.400755            |</pre>"
      ],
      "text/plain": [
       "| 51        | 0.419788     | 0.869198          | 0.382068          | 0.856164            | 0.400755            |"
      ]
     },
     "metadata": {},
     "output_type": "display_data"
    },
    {
     "data": {
      "text/html": [
       "<pre>+-----------+--------------+-------------------+-------------------+---------------------+---------------------+</pre>"
      ],
      "text/plain": [
       "+-----------+--------------+-------------------+-------------------+---------------------+---------------------+"
      ]
     },
     "metadata": {},
     "output_type": "display_data"
    },
    {
     "name": "stdout",
     "output_type": "stream",
     "text": [
      "PROGRESS: Creating a validation set from 5 percent of training data. This may take a while.\n",
      "          You can set ``validation_set=None`` to disable validation tracking.\n",
      "\n",
      "PROGRESS: Creating a validation set from 5 percent of training data. This may take a while.\n",
      "          You can set ``validation_set=None`` to disable validation tracking.\n",
      "\n",
      "PROGRESS: Creating a validation set from 5 percent of training data. This may take a while.\n",
      "          You can set ``validation_set=None`` to disable validation tracking.\n"
     ]
    },
    {
     "name": "stderr",
     "output_type": "stream",
     "text": [
      "2016-04-06 19:02:58,936 [ERROR] graphlab.toolkits._main, 66: Toolkit error: Feature 'event_created' is not of type (numeric, string, array, or dictionary).\n",
      "\n",
      "2016-04-06 19:02:58,987 [ERROR] graphlab.toolkits._main, 66: Toolkit error: Feature 'event_end' is not of type (numeric, string, array, or dictionary).\n",
      "\n"
     ]
    },
    {
     "name": "stdout",
     "output_type": "stream",
     "text": [
      "\n",
      "PROGRESS: Creating a validation set from 5 percent of training data. This may take a while.\n",
      "          You can set ``validation_set=None`` to disable validation tracking.\n",
      "\n",
      "PROGRESS: Creating a validation set from 5 percent of training data. This may take a while.\n",
      "          You can set ``validation_set=None`` to disable validation tracking.\n"
     ]
    },
    {
     "name": "stderr",
     "output_type": "stream",
     "text": [
      "2016-04-06 19:02:59,033 [ERROR] graphlab.toolkits._main, 66: Toolkit error: Feature 'event_published' is not of type (numeric, string, array, or dictionary).\n",
      "\n",
      "2016-04-06 19:02:59,081 [ERROR] graphlab.toolkits._main, 66: Toolkit error: Feature 'event_start' is not of type (numeric, string, array, or dictionary).\n",
      "\n"
     ]
    },
    {
     "name": "stdout",
     "output_type": "stream",
     "text": [
      "\n",
      "PROGRESS: Creating a validation set from 5 percent of training data. This may take a while.\n",
      "          You can set ``validation_set=None`` to disable validation tracking.\n",
      "\n",
      "PROGRESS: Creating a validation set from 5 percent of training data. This may take a while.\n",
      "          You can set ``validation_set=None`` to disable validation tracking.\n"
     ]
    },
    {
     "data": {
      "text/html": [
       "<pre>Random forest classifier:</pre>"
      ],
      "text/plain": [
       "Random forest classifier:"
      ]
     },
     "metadata": {},
     "output_type": "display_data"
    },
    {
     "data": {
      "text/html": [
       "<pre>--------------------------------------------------------</pre>"
      ],
      "text/plain": [
       "--------------------------------------------------------"
      ]
     },
     "metadata": {},
     "output_type": "display_data"
    },
    {
     "data": {
      "text/html": [
       "<pre>Number of examples          : 10864</pre>"
      ],
      "text/plain": [
       "Number of examples          : 10864"
      ]
     },
     "metadata": {},
     "output_type": "display_data"
    },
    {
     "data": {
      "text/html": [
       "<pre>Number of classes           : 2</pre>"
      ],
      "text/plain": [
       "Number of classes           : 2"
      ]
     },
     "metadata": {},
     "output_type": "display_data"
    },
    {
     "data": {
      "text/html": [
       "<pre>Number of feature columns   : 1</pre>"
      ],
      "text/plain": [
       "Number of feature columns   : 1"
      ]
     },
     "metadata": {},
     "output_type": "display_data"
    },
    {
     "data": {
      "text/html": [
       "<pre>Number of unpacked features : 1</pre>"
      ],
      "text/plain": [
       "Number of unpacked features : 1"
      ]
     },
     "metadata": {},
     "output_type": "display_data"
    },
    {
     "data": {
      "text/html": [
       "<pre>+-----------+--------------+-------------------+-------------------+---------------------+---------------------+</pre>"
      ],
      "text/plain": [
       "+-----------+--------------+-------------------+-------------------+---------------------+---------------------+"
      ]
     },
     "metadata": {},
     "output_type": "display_data"
    },
    {
     "data": {
      "text/html": [
       "<pre>| Iteration | Elapsed Time | Training-accuracy | Training-log_loss | Validation-accuracy | Validation-log_loss |</pre>"
      ],
      "text/plain": [
       "| Iteration | Elapsed Time | Training-accuracy | Training-log_loss | Validation-accuracy | Validation-log_loss |"
      ]
     },
     "metadata": {},
     "output_type": "display_data"
    },
    {
     "data": {
      "text/html": [
       "<pre>+-----------+--------------+-------------------+-------------------+---------------------+---------------------+</pre>"
      ],
      "text/plain": [
       "+-----------+--------------+-------------------+-------------------+---------------------+---------------------+"
      ]
     },
     "metadata": {},
     "output_type": "display_data"
    },
    {
     "data": {
      "text/html": [
       "<pre>| 1         | 0.005708     | 0.865335          | 0.404473          | 0.861436            | 0.409700            |</pre>"
      ],
      "text/plain": [
       "| 1         | 0.005708     | 0.865335          | 0.404473          | 0.861436            | 0.409700            |"
      ]
     },
     "metadata": {},
     "output_type": "display_data"
    },
    {
     "data": {
      "text/html": [
       "<pre>| 2         | 0.011049     | 0.865335          | 0.404373          | 0.861436            | 0.409600            |</pre>"
      ],
      "text/plain": [
       "| 2         | 0.011049     | 0.865335          | 0.404373          | 0.861436            | 0.409600            |"
      ]
     },
     "metadata": {},
     "output_type": "display_data"
    },
    {
     "data": {
      "text/html": [
       "<pre>| 3         | 0.016225     | 0.865335          | 0.404459          | 0.861436            | 0.409667            |</pre>"
      ],
      "text/plain": [
       "| 3         | 0.016225     | 0.865335          | 0.404459          | 0.861436            | 0.409667            |"
      ]
     },
     "metadata": {},
     "output_type": "display_data"
    },
    {
     "data": {
      "text/html": [
       "<pre>| 4         | 0.021196     | 0.865335          | 0.404430          | 0.861436            | 0.409638            |</pre>"
      ],
      "text/plain": [
       "| 4         | 0.021196     | 0.865335          | 0.404430          | 0.861436            | 0.409638            |"
      ]
     },
     "metadata": {},
     "output_type": "display_data"
    },
    {
     "data": {
      "text/html": [
       "<pre>| 5         | 0.025601     | 0.865335          | 0.404491          | 0.861436            | 0.409696            |</pre>"
      ],
      "text/plain": [
       "| 5         | 0.025601     | 0.865335          | 0.404491          | 0.861436            | 0.409696            |"
      ]
     },
     "metadata": {},
     "output_type": "display_data"
    },
    {
     "data": {
      "text/html": [
       "<pre>| 6         | 0.030301     | 0.865335          | 0.404492          | 0.861436            | 0.409696            |</pre>"
      ],
      "text/plain": [
       "| 6         | 0.030301     | 0.865335          | 0.404492          | 0.861436            | 0.409696            |"
      ]
     },
     "metadata": {},
     "output_type": "display_data"
    },
    {
     "data": {
      "text/html": [
       "<pre>| 11        | 0.056108     | 0.865335          | 0.404486          | 0.861436            | 0.409697            |</pre>"
      ],
      "text/plain": [
       "| 11        | 0.056108     | 0.865335          | 0.404486          | 0.861436            | 0.409697            |"
      ]
     },
     "metadata": {},
     "output_type": "display_data"
    },
    {
     "data": {
      "text/html": [
       "<pre>| 51        | 0.239832     | 0.865335          | 0.404353          | 0.861436            | 0.409583            |</pre>"
      ],
      "text/plain": [
       "| 51        | 0.239832     | 0.865335          | 0.404353          | 0.861436            | 0.409583            |"
      ]
     },
     "metadata": {},
     "output_type": "display_data"
    },
    {
     "data": {
      "text/html": [
       "<pre>+-----------+--------------+-------------------+-------------------+---------------------+---------------------+</pre>"
      ],
      "text/plain": [
       "+-----------+--------------+-------------------+-------------------+---------------------+---------------------+"
      ]
     },
     "metadata": {},
     "output_type": "display_data"
    },
    {
     "name": "stdout",
     "output_type": "stream",
     "text": [
      "\n",
      "PROGRESS: Creating a validation set from 5 percent of training data. This may take a while.\n",
      "          You can set ``validation_set=None`` to disable validation tracking.\n"
     ]
    },
    {
     "data": {
      "text/html": [
       "<pre>Random forest classifier:</pre>"
      ],
      "text/plain": [
       "Random forest classifier:"
      ]
     },
     "metadata": {},
     "output_type": "display_data"
    },
    {
     "data": {
      "text/html": [
       "<pre>--------------------------------------------------------</pre>"
      ],
      "text/plain": [
       "--------------------------------------------------------"
      ]
     },
     "metadata": {},
     "output_type": "display_data"
    },
    {
     "data": {
      "text/html": [
       "<pre>Number of examples          : 10875</pre>"
      ],
      "text/plain": [
       "Number of examples          : 10875"
      ]
     },
     "metadata": {},
     "output_type": "display_data"
    },
    {
     "data": {
      "text/html": [
       "<pre>Number of classes           : 2</pre>"
      ],
      "text/plain": [
       "Number of classes           : 2"
      ]
     },
     "metadata": {},
     "output_type": "display_data"
    },
    {
     "data": {
      "text/html": [
       "<pre>Number of feature columns   : 1</pre>"
      ],
      "text/plain": [
       "Number of feature columns   : 1"
      ]
     },
     "metadata": {},
     "output_type": "display_data"
    },
    {
     "data": {
      "text/html": [
       "<pre>Number of unpacked features : 1</pre>"
      ],
      "text/plain": [
       "Number of unpacked features : 1"
      ]
     },
     "metadata": {},
     "output_type": "display_data"
    },
    {
     "data": {
      "text/html": [
       "<pre>+-----------+--------------+-------------------+-------------------+---------------------+---------------------+</pre>"
      ],
      "text/plain": [
       "+-----------+--------------+-------------------+-------------------+---------------------+---------------------+"
      ]
     },
     "metadata": {},
     "output_type": "display_data"
    },
    {
     "data": {
      "text/html": [
       "<pre>| Iteration | Elapsed Time | Training-accuracy | Training-log_loss | Validation-accuracy | Validation-log_loss |</pre>"
      ],
      "text/plain": [
       "| Iteration | Elapsed Time | Training-accuracy | Training-log_loss | Validation-accuracy | Validation-log_loss |"
      ]
     },
     "metadata": {},
     "output_type": "display_data"
    },
    {
     "data": {
      "text/html": [
       "<pre>+-----------+--------------+-------------------+-------------------+---------------------+---------------------+</pre>"
      ],
      "text/plain": [
       "+-----------+--------------+-------------------+-------------------+---------------------+---------------------+"
      ]
     },
     "metadata": {},
     "output_type": "display_data"
    },
    {
     "data": {
      "text/html": [
       "<pre>| 1         | 0.009485     | 0.887908          | 0.364324          | 0.908163            | 0.331905            |</pre>"
      ],
      "text/plain": [
       "| 1         | 0.009485     | 0.887908          | 0.364324          | 0.908163            | 0.331905            |"
      ]
     },
     "metadata": {},
     "output_type": "display_data"
    },
    {
     "data": {
      "text/html": [
       "<pre>| 2         | 0.018207     | 0.887816          | 0.364039          | 0.908163            | 0.334243            |</pre>"
      ],
      "text/plain": [
       "| 2         | 0.018207     | 0.887816          | 0.364039          | 0.908163            | 0.334243            |"
      ]
     },
     "metadata": {},
     "output_type": "display_data"
    },
    {
     "data": {
      "text/html": [
       "<pre>| 3         | 0.027138     | 0.887816          | 0.364329          | 0.908163            | 0.334318            |</pre>"
      ],
      "text/plain": [
       "| 3         | 0.027138     | 0.887816          | 0.364329          | 0.908163            | 0.334318            |"
      ]
     },
     "metadata": {},
     "output_type": "display_data"
    },
    {
     "data": {
      "text/html": [
       "<pre>| 4         | 0.035511     | 0.887816          | 0.364237          | 0.908163            | 0.333989            |</pre>"
      ],
      "text/plain": [
       "| 4         | 0.035511     | 0.887816          | 0.364237          | 0.908163            | 0.333989            |"
      ]
     },
     "metadata": {},
     "output_type": "display_data"
    },
    {
     "data": {
      "text/html": [
       "<pre>| 5         | 0.043653     | 0.887816          | 0.363967          | 0.908163            | 0.333699            |</pre>"
      ],
      "text/plain": [
       "| 5         | 0.043653     | 0.887816          | 0.363967          | 0.908163            | 0.333699            |"
      ]
     },
     "metadata": {},
     "output_type": "display_data"
    },
    {
     "data": {
      "text/html": [
       "<pre>| 6         | 0.050209     | 0.887816          | 0.364233          | 0.908163            | 0.333889            |</pre>"
      ],
      "text/plain": [
       "| 6         | 0.050209     | 0.887816          | 0.364233          | 0.908163            | 0.333889            |"
      ]
     },
     "metadata": {},
     "output_type": "display_data"
    },
    {
     "data": {
      "text/html": [
       "<pre>| 11        | 0.085732     | 0.887816          | 0.364388          | 0.908163            | 0.333813            |</pre>"
      ],
      "text/plain": [
       "| 11        | 0.085732     | 0.887816          | 0.364388          | 0.908163            | 0.333813            |"
      ]
     },
     "metadata": {},
     "output_type": "display_data"
    },
    {
     "data": {
      "text/html": [
       "<pre>| 51        | 0.389757     | 0.887816          | 0.364325          | 0.908163            | 0.333691            |</pre>"
      ],
      "text/plain": [
       "| 51        | 0.389757     | 0.887816          | 0.364325          | 0.908163            | 0.333691            |"
      ]
     },
     "metadata": {},
     "output_type": "display_data"
    },
    {
     "data": {
      "text/html": [
       "<pre>+-----------+--------------+-------------------+-------------------+---------------------+---------------------+</pre>"
      ],
      "text/plain": [
       "+-----------+--------------+-------------------+-------------------+---------------------+---------------------+"
      ]
     },
     "metadata": {},
     "output_type": "display_data"
    },
    {
     "name": "stdout",
     "output_type": "stream",
     "text": [
      "\n",
      "PROGRESS: Creating a validation set from 5 percent of training data. This may take a while.\n",
      "          You can set ``validation_set=None`` to disable validation tracking.\n"
     ]
    },
    {
     "data": {
      "text/html": [
       "<pre>Random forest classifier:</pre>"
      ],
      "text/plain": [
       "Random forest classifier:"
      ]
     },
     "metadata": {},
     "output_type": "display_data"
    },
    {
     "data": {
      "text/html": [
       "<pre>--------------------------------------------------------</pre>"
      ],
      "text/plain": [
       "--------------------------------------------------------"
      ]
     },
     "metadata": {},
     "output_type": "display_data"
    },
    {
     "data": {
      "text/html": [
       "<pre>Number of examples          : 10873</pre>"
      ],
      "text/plain": [
       "Number of examples          : 10873"
      ]
     },
     "metadata": {},
     "output_type": "display_data"
    },
    {
     "data": {
      "text/html": [
       "<pre>Number of classes           : 2</pre>"
      ],
      "text/plain": [
       "Number of classes           : 2"
      ]
     },
     "metadata": {},
     "output_type": "display_data"
    },
    {
     "data": {
      "text/html": [
       "<pre>Number of feature columns   : 1</pre>"
      ],
      "text/plain": [
       "Number of feature columns   : 1"
      ]
     },
     "metadata": {},
     "output_type": "display_data"
    },
    {
     "data": {
      "text/html": [
       "<pre>Number of unpacked features : 1</pre>"
      ],
      "text/plain": [
       "Number of unpacked features : 1"
      ]
     },
     "metadata": {},
     "output_type": "display_data"
    },
    {
     "data": {
      "text/html": [
       "<pre>+-----------+--------------+-------------------+-------------------+---------------------+---------------------+</pre>"
      ],
      "text/plain": [
       "+-----------+--------------+-------------------+-------------------+---------------------+---------------------+"
      ]
     },
     "metadata": {},
     "output_type": "display_data"
    },
    {
     "data": {
      "text/html": [
       "<pre>| Iteration | Elapsed Time | Training-accuracy | Training-log_loss | Validation-accuracy | Validation-log_loss |</pre>"
      ],
      "text/plain": [
       "| Iteration | Elapsed Time | Training-accuracy | Training-log_loss | Validation-accuracy | Validation-log_loss |"
      ]
     },
     "metadata": {},
     "output_type": "display_data"
    },
    {
     "data": {
      "text/html": [
       "<pre>+-----------+--------------+-------------------+-------------------+---------------------+---------------------+</pre>"
      ],
      "text/plain": [
       "+-----------+--------------+-------------------+-------------------+---------------------+---------------------+"
      ]
     },
     "metadata": {},
     "output_type": "display_data"
    },
    {
     "data": {
      "text/html": [
       "<pre>| 1         | 0.006773     | 0.864619          | 0.404939          | 0.874576            | 0.390521            |</pre>"
      ],
      "text/plain": [
       "| 1         | 0.006773     | 0.864619          | 0.404939          | 0.874576            | 0.390521            |"
      ]
     },
     "metadata": {},
     "output_type": "display_data"
    },
    {
     "data": {
      "text/html": [
       "<pre>| 2         | 0.012673     | 0.864619          | 0.404488          | 0.874576            | 0.389991            |</pre>"
      ],
      "text/plain": [
       "| 2         | 0.012673     | 0.864619          | 0.404488          | 0.874576            | 0.389991            |"
      ]
     },
     "metadata": {},
     "output_type": "display_data"
    },
    {
     "data": {
      "text/html": [
       "<pre>| 3         | 0.018219     | 0.864619          | 0.404403          | 0.874576            | 0.389902            |</pre>"
      ],
      "text/plain": [
       "| 3         | 0.018219     | 0.864619          | 0.404403          | 0.874576            | 0.389902            |"
      ]
     },
     "metadata": {},
     "output_type": "display_data"
    },
    {
     "data": {
      "text/html": [
       "<pre>| 4         | 0.023870     | 0.864619          | 0.404284          | 0.874576            | 0.389764            |</pre>"
      ],
      "text/plain": [
       "| 4         | 0.023870     | 0.864619          | 0.404284          | 0.874576            | 0.389764            |"
      ]
     },
     "metadata": {},
     "output_type": "display_data"
    },
    {
     "data": {
      "text/html": [
       "<pre>| 5         | 0.029530     | 0.864619          | 0.404352          | 0.874576            | 0.389843            |</pre>"
      ],
      "text/plain": [
       "| 5         | 0.029530     | 0.864619          | 0.404352          | 0.874576            | 0.389843            |"
      ]
     },
     "metadata": {},
     "output_type": "display_data"
    },
    {
     "data": {
      "text/html": [
       "<pre>| 6         | 0.035150     | 0.864619          | 0.404367          | 0.874576            | 0.389861            |</pre>"
      ],
      "text/plain": [
       "| 6         | 0.035150     | 0.864619          | 0.404367          | 0.874576            | 0.389861            |"
      ]
     },
     "metadata": {},
     "output_type": "display_data"
    },
    {
     "data": {
      "text/html": [
       "<pre>| 11        | 0.060936     | 0.864619          | 0.404186          | 0.874576            | 0.389649            |</pre>"
      ],
      "text/plain": [
       "| 11        | 0.060936     | 0.864619          | 0.404186          | 0.874576            | 0.389649            |"
      ]
     },
     "metadata": {},
     "output_type": "display_data"
    },
    {
     "data": {
      "text/html": [
       "<pre>| 51        | 0.293705     | 0.864619          | 0.404188          | 0.874576            | 0.389650            |</pre>"
      ],
      "text/plain": [
       "| 51        | 0.293705     | 0.864619          | 0.404188          | 0.874576            | 0.389650            |"
      ]
     },
     "metadata": {},
     "output_type": "display_data"
    },
    {
     "data": {
      "text/html": [
       "<pre>+-----------+--------------+-------------------+-------------------+---------------------+---------------------+</pre>"
      ],
      "text/plain": [
       "+-----------+--------------+-------------------+-------------------+---------------------+---------------------+"
      ]
     },
     "metadata": {},
     "output_type": "display_data"
    },
    {
     "name": "stdout",
     "output_type": "stream",
     "text": [
      "\n",
      "PROGRESS: Creating a validation set from 5 percent of training data. This may take a while.\n",
      "          You can set ``validation_set=None`` to disable validation tracking.\n"
     ]
    },
    {
     "data": {
      "text/html": [
       "<pre>Random forest classifier:</pre>"
      ],
      "text/plain": [
       "Random forest classifier:"
      ]
     },
     "metadata": {},
     "output_type": "display_data"
    },
    {
     "data": {
      "text/html": [
       "<pre>--------------------------------------------------------</pre>"
      ],
      "text/plain": [
       "--------------------------------------------------------"
      ]
     },
     "metadata": {},
     "output_type": "display_data"
    },
    {
     "data": {
      "text/html": [
       "<pre>Number of examples          : 10918</pre>"
      ],
      "text/plain": [
       "Number of examples          : 10918"
      ]
     },
     "metadata": {},
     "output_type": "display_data"
    },
    {
     "data": {
      "text/html": [
       "<pre>Number of classes           : 2</pre>"
      ],
      "text/plain": [
       "Number of classes           : 2"
      ]
     },
     "metadata": {},
     "output_type": "display_data"
    },
    {
     "data": {
      "text/html": [
       "<pre>Number of feature columns   : 1</pre>"
      ],
      "text/plain": [
       "Number of feature columns   : 1"
      ]
     },
     "metadata": {},
     "output_type": "display_data"
    },
    {
     "data": {
      "text/html": [
       "<pre>Number of unpacked features : 1</pre>"
      ],
      "text/plain": [
       "Number of unpacked features : 1"
      ]
     },
     "metadata": {},
     "output_type": "display_data"
    },
    {
     "data": {
      "text/html": [
       "<pre>+-----------+--------------+-------------------+-------------------+---------------------+---------------------+</pre>"
      ],
      "text/plain": [
       "+-----------+--------------+-------------------+-------------------+---------------------+---------------------+"
      ]
     },
     "metadata": {},
     "output_type": "display_data"
    },
    {
     "data": {
      "text/html": [
       "<pre>| Iteration | Elapsed Time | Training-accuracy | Training-log_loss | Validation-accuracy | Validation-log_loss |</pre>"
      ],
      "text/plain": [
       "| Iteration | Elapsed Time | Training-accuracy | Training-log_loss | Validation-accuracy | Validation-log_loss |"
      ]
     },
     "metadata": {},
     "output_type": "display_data"
    },
    {
     "data": {
      "text/html": [
       "<pre>+-----------+--------------+-------------------+-------------------+---------------------+---------------------+</pre>"
      ],
      "text/plain": [
       "+-----------+--------------+-------------------+-------------------+---------------------+---------------------+"
      ]
     },
     "metadata": {},
     "output_type": "display_data"
    },
    {
     "data": {
      "text/html": [
       "<pre>| 1         | 0.007105     | 0.865635          | 0.400327          | 0.855046            | 0.412182            |</pre>"
      ],
      "text/plain": [
       "| 1         | 0.007105     | 0.865635          | 0.400327          | 0.855046            | 0.412182            |"
      ]
     },
     "metadata": {},
     "output_type": "display_data"
    },
    {
     "data": {
      "text/html": [
       "<pre>| 2         | 0.013291     | 0.865635          | 0.400722          | 0.855046            | 0.412638            |</pre>"
      ],
      "text/plain": [
       "| 2         | 0.013291     | 0.865635          | 0.400722          | 0.855046            | 0.412638            |"
      ]
     },
     "metadata": {},
     "output_type": "display_data"
    },
    {
     "data": {
      "text/html": [
       "<pre>| 3         | 0.019642     | 0.865635          | 0.400626          | 0.855046            | 0.412540            |</pre>"
      ],
      "text/plain": [
       "| 3         | 0.019642     | 0.865635          | 0.400626          | 0.855046            | 0.412540            |"
      ]
     },
     "metadata": {},
     "output_type": "display_data"
    },
    {
     "data": {
      "text/html": [
       "<pre>| 4         | 0.026267     | 0.865635          | 0.400556          | 0.855046            | 0.412533            |</pre>"
      ],
      "text/plain": [
       "| 4         | 0.026267     | 0.865635          | 0.400556          | 0.855046            | 0.412533            |"
      ]
     },
     "metadata": {},
     "output_type": "display_data"
    },
    {
     "data": {
      "text/html": [
       "<pre>| 5         | 0.032382     | 0.865635          | 0.400688          | 0.855046            | 0.412661            |</pre>"
      ],
      "text/plain": [
       "| 5         | 0.032382     | 0.865635          | 0.400688          | 0.855046            | 0.412661            |"
      ]
     },
     "metadata": {},
     "output_type": "display_data"
    },
    {
     "data": {
      "text/html": [
       "<pre>| 6         | 0.038104     | 0.865635          | 0.400654          | 0.855046            | 0.412675            |</pre>"
      ],
      "text/plain": [
       "| 6         | 0.038104     | 0.865635          | 0.400654          | 0.855046            | 0.412675            |"
      ]
     },
     "metadata": {},
     "output_type": "display_data"
    },
    {
     "data": {
      "text/html": [
       "<pre>| 11        | 0.068418     | 0.865635          | 0.400723          | 0.855046            | 0.412745            |</pre>"
      ],
      "text/plain": [
       "| 11        | 0.068418     | 0.865635          | 0.400723          | 0.855046            | 0.412745            |"
      ]
     },
     "metadata": {},
     "output_type": "display_data"
    },
    {
     "data": {
      "text/html": [
       "<pre>| 51        | 0.309881     | 0.865635          | 0.400728          | 0.855046            | 0.412722            |</pre>"
      ],
      "text/plain": [
       "| 51        | 0.309881     | 0.865635          | 0.400728          | 0.855046            | 0.412722            |"
      ]
     },
     "metadata": {},
     "output_type": "display_data"
    },
    {
     "data": {
      "text/html": [
       "<pre>+-----------+--------------+-------------------+-------------------+---------------------+---------------------+</pre>"
      ],
      "text/plain": [
       "+-----------+--------------+-------------------+-------------------+---------------------+---------------------+"
      ]
     },
     "metadata": {},
     "output_type": "display_data"
    },
    {
     "name": "stdout",
     "output_type": "stream",
     "text": [
      "\n",
      "PROGRESS: Creating a validation set from 5 percent of training data. This may take a while.\n",
      "          You can set ``validation_set=None`` to disable validation tracking.\n"
     ]
    },
    {
     "data": {
      "text/html": [
       "<pre>Random forest classifier:</pre>"
      ],
      "text/plain": [
       "Random forest classifier:"
      ]
     },
     "metadata": {},
     "output_type": "display_data"
    },
    {
     "data": {
      "text/html": [
       "<pre>--------------------------------------------------------</pre>"
      ],
      "text/plain": [
       "--------------------------------------------------------"
      ]
     },
     "metadata": {},
     "output_type": "display_data"
    },
    {
     "data": {
      "text/html": [
       "<pre>Number of examples          : 10899</pre>"
      ],
      "text/plain": [
       "Number of examples          : 10899"
      ]
     },
     "metadata": {},
     "output_type": "display_data"
    },
    {
     "data": {
      "text/html": [
       "<pre>Number of classes           : 2</pre>"
      ],
      "text/plain": [
       "Number of classes           : 2"
      ]
     },
     "metadata": {},
     "output_type": "display_data"
    },
    {
     "data": {
      "text/html": [
       "<pre>Number of feature columns   : 1</pre>"
      ],
      "text/plain": [
       "Number of feature columns   : 1"
      ]
     },
     "metadata": {},
     "output_type": "display_data"
    },
    {
     "data": {
      "text/html": [
       "<pre>Number of unpacked features : 1</pre>"
      ],
      "text/plain": [
       "Number of unpacked features : 1"
      ]
     },
     "metadata": {},
     "output_type": "display_data"
    },
    {
     "data": {
      "text/html": [
       "<pre>+-----------+--------------+-------------------+-------------------+---------------------+---------------------+</pre>"
      ],
      "text/plain": [
       "+-----------+--------------+-------------------+-------------------+---------------------+---------------------+"
      ]
     },
     "metadata": {},
     "output_type": "display_data"
    },
    {
     "data": {
      "text/html": [
       "<pre>| Iteration | Elapsed Time | Training-accuracy | Training-log_loss | Validation-accuracy | Validation-log_loss |</pre>"
      ],
      "text/plain": [
       "| Iteration | Elapsed Time | Training-accuracy | Training-log_loss | Validation-accuracy | Validation-log_loss |"
      ]
     },
     "metadata": {},
     "output_type": "display_data"
    },
    {
     "data": {
      "text/html": [
       "<pre>+-----------+--------------+-------------------+-------------------+---------------------+---------------------+</pre>"
      ],
      "text/plain": [
       "+-----------+--------------+-------------------+-------------------+---------------------+---------------------+"
      ]
     },
     "metadata": {},
     "output_type": "display_data"
    },
    {
     "data": {
      "text/html": [
       "<pre>| 1         | 0.005025     | 0.864666          | 0.401611          | 0.874113            | 0.384003            |</pre>"
      ],
      "text/plain": [
       "| 1         | 0.005025     | 0.864666          | 0.401611          | 0.874113            | 0.384003            |"
      ]
     },
     "metadata": {},
     "output_type": "display_data"
    },
    {
     "data": {
      "text/html": [
       "<pre>| 2         | 0.011255     | 0.864666          | 0.401983          | 0.874113            | 0.384554            |</pre>"
      ],
      "text/plain": [
       "| 2         | 0.011255     | 0.864666          | 0.401983          | 0.874113            | 0.384554            |"
      ]
     },
     "metadata": {},
     "output_type": "display_data"
    },
    {
     "data": {
      "text/html": [
       "<pre>| 3         | 0.016492     | 0.864666          | 0.401669          | 0.874113            | 0.384159            |</pre>"
      ],
      "text/plain": [
       "| 3         | 0.016492     | 0.864666          | 0.401669          | 0.874113            | 0.384159            |"
      ]
     },
     "metadata": {},
     "output_type": "display_data"
    },
    {
     "data": {
      "text/html": [
       "<pre>| 4         | 0.021988     | 0.864666          | 0.401546          | 0.874113            | 0.384054            |</pre>"
      ],
      "text/plain": [
       "| 4         | 0.021988     | 0.864666          | 0.401546          | 0.874113            | 0.384054            |"
      ]
     },
     "metadata": {},
     "output_type": "display_data"
    },
    {
     "data": {
      "text/html": [
       "<pre>| 5         | 0.028009     | 0.864666          | 0.401357          | 0.874113            | 0.383825            |</pre>"
      ],
      "text/plain": [
       "| 5         | 0.028009     | 0.864666          | 0.401357          | 0.874113            | 0.383825            |"
      ]
     },
     "metadata": {},
     "output_type": "display_data"
    },
    {
     "data": {
      "text/html": [
       "<pre>| 6         | 0.033454     | 0.864666          | 0.401153          | 0.874113            | 0.383566            |</pre>"
      ],
      "text/plain": [
       "| 6         | 0.033454     | 0.864666          | 0.401153          | 0.874113            | 0.383566            |"
      ]
     },
     "metadata": {},
     "output_type": "display_data"
    },
    {
     "data": {
      "text/html": [
       "<pre>| 11        | 0.061335     | 0.864666          | 0.401053          | 0.874113            | 0.383449            |</pre>"
      ],
      "text/plain": [
       "| 11        | 0.061335     | 0.864666          | 0.401053          | 0.874113            | 0.383449            |"
      ]
     },
     "metadata": {},
     "output_type": "display_data"
    },
    {
     "data": {
      "text/html": [
       "<pre>| 51        | 0.283284     | 0.864666          | 0.401164          | 0.874113            | 0.383613            |</pre>"
      ],
      "text/plain": [
       "| 51        | 0.283284     | 0.864666          | 0.401164          | 0.874113            | 0.383613            |"
      ]
     },
     "metadata": {},
     "output_type": "display_data"
    },
    {
     "data": {
      "text/html": [
       "<pre>+-----------+--------------+-------------------+-------------------+---------------------+---------------------+</pre>"
      ],
      "text/plain": [
       "+-----------+--------------+-------------------+-------------------+---------------------+---------------------+"
      ]
     },
     "metadata": {},
     "output_type": "display_data"
    },
    {
     "name": "stdout",
     "output_type": "stream",
     "text": [
      "\n",
      "PROGRESS: Creating a validation set from 5 percent of training data. This may take a while.\n",
      "          You can set ``validation_set=None`` to disable validation tracking.\n"
     ]
    },
    {
     "data": {
      "text/html": [
       "<pre>Random forest classifier:</pre>"
      ],
      "text/plain": [
       "Random forest classifier:"
      ]
     },
     "metadata": {},
     "output_type": "display_data"
    },
    {
     "data": {
      "text/html": [
       "<pre>--------------------------------------------------------</pre>"
      ],
      "text/plain": [
       "--------------------------------------------------------"
      ]
     },
     "metadata": {},
     "output_type": "display_data"
    },
    {
     "data": {
      "text/html": [
       "<pre>Number of examples          : 10849</pre>"
      ],
      "text/plain": [
       "Number of examples          : 10849"
      ]
     },
     "metadata": {},
     "output_type": "display_data"
    },
    {
     "data": {
      "text/html": [
       "<pre>Number of classes           : 2</pre>"
      ],
      "text/plain": [
       "Number of classes           : 2"
      ]
     },
     "metadata": {},
     "output_type": "display_data"
    },
    {
     "data": {
      "text/html": [
       "<pre>Number of feature columns   : 1</pre>"
      ],
      "text/plain": [
       "Number of feature columns   : 1"
      ]
     },
     "metadata": {},
     "output_type": "display_data"
    },
    {
     "data": {
      "text/html": [
       "<pre>Number of unpacked features : 1</pre>"
      ],
      "text/plain": [
       "Number of unpacked features : 1"
      ]
     },
     "metadata": {},
     "output_type": "display_data"
    },
    {
     "data": {
      "text/html": [
       "<pre>+-----------+--------------+-------------------+-------------------+---------------------+---------------------+</pre>"
      ],
      "text/plain": [
       "+-----------+--------------+-------------------+-------------------+---------------------+---------------------+"
      ]
     },
     "metadata": {},
     "output_type": "display_data"
    },
    {
     "data": {
      "text/html": [
       "<pre>| Iteration | Elapsed Time | Training-accuracy | Training-log_loss | Validation-accuracy | Validation-log_loss |</pre>"
      ],
      "text/plain": [
       "| Iteration | Elapsed Time | Training-accuracy | Training-log_loss | Validation-accuracy | Validation-log_loss |"
      ]
     },
     "metadata": {},
     "output_type": "display_data"
    },
    {
     "data": {
      "text/html": [
       "<pre>+-----------+--------------+-------------------+-------------------+---------------------+---------------------+</pre>"
      ],
      "text/plain": [
       "+-----------+--------------+-------------------+-------------------+---------------------+---------------------+"
      ]
     },
     "metadata": {},
     "output_type": "display_data"
    },
    {
     "data": {
      "text/html": [
       "<pre>| 1         | 0.005798     | 0.865425          | 0.404836          | 0.859935            | 0.412901            |</pre>"
      ],
      "text/plain": [
       "| 1         | 0.005798     | 0.865425          | 0.404836          | 0.859935            | 0.412901            |"
      ]
     },
     "metadata": {},
     "output_type": "display_data"
    },
    {
     "data": {
      "text/html": [
       "<pre>| 2         | 0.010663     | 0.865425          | 0.404978          | 0.859935            | 0.413028            |</pre>"
      ],
      "text/plain": [
       "| 2         | 0.010663     | 0.865425          | 0.404978          | 0.859935            | 0.413028            |"
      ]
     },
     "metadata": {},
     "output_type": "display_data"
    },
    {
     "data": {
      "text/html": [
       "<pre>| 3         | 0.015425     | 0.865425          | 0.405256          | 0.859935            | 0.413278            |</pre>"
      ],
      "text/plain": [
       "| 3         | 0.015425     | 0.865425          | 0.405256          | 0.859935            | 0.413278            |"
      ]
     },
     "metadata": {},
     "output_type": "display_data"
    },
    {
     "data": {
      "text/html": [
       "<pre>| 4         | 0.020537     | 0.865425          | 0.405374          | 0.859935            | 0.413384            |</pre>"
      ],
      "text/plain": [
       "| 4         | 0.020537     | 0.865425          | 0.405374          | 0.859935            | 0.413384            |"
      ]
     },
     "metadata": {},
     "output_type": "display_data"
    },
    {
     "data": {
      "text/html": [
       "<pre>| 5         | 0.025534     | 0.865425          | 0.405283          | 0.859935            | 0.413302            |</pre>"
      ],
      "text/plain": [
       "| 5         | 0.025534     | 0.865425          | 0.405283          | 0.859935            | 0.413302            |"
      ]
     },
     "metadata": {},
     "output_type": "display_data"
    },
    {
     "data": {
      "text/html": [
       "<pre>| 6         | 0.030611     | 0.865425          | 0.405198          | 0.859935            | 0.413226            |</pre>"
      ],
      "text/plain": [
       "| 6         | 0.030611     | 0.865425          | 0.405198          | 0.859935            | 0.413226            |"
      ]
     },
     "metadata": {},
     "output_type": "display_data"
    },
    {
     "data": {
      "text/html": [
       "<pre>| 11        | 0.054361     | 0.865425          | 0.405156          | 0.859935            | 0.413188            |</pre>"
      ],
      "text/plain": [
       "| 11        | 0.054361     | 0.865425          | 0.405156          | 0.859935            | 0.413188            |"
      ]
     },
     "metadata": {},
     "output_type": "display_data"
    },
    {
     "data": {
      "text/html": [
       "<pre>| 51        | 0.250975     | 0.865425          | 0.405220          | 0.859935            | 0.413246            |</pre>"
      ],
      "text/plain": [
       "| 51        | 0.250975     | 0.865425          | 0.405220          | 0.859935            | 0.413246            |"
      ]
     },
     "metadata": {},
     "output_type": "display_data"
    },
    {
     "data": {
      "text/html": [
       "<pre>+-----------+--------------+-------------------+-------------------+---------------------+---------------------+</pre>"
      ],
      "text/plain": [
       "+-----------+--------------+-------------------+-------------------+---------------------+---------------------+"
      ]
     },
     "metadata": {},
     "output_type": "display_data"
    },
    {
     "name": "stdout",
     "output_type": "stream",
     "text": [
      "\n",
      "PROGRESS: Creating a validation set from 5 percent of training data. This may take a while.\n",
      "          You can set ``validation_set=None`` to disable validation tracking.\n"
     ]
    },
    {
     "data": {
      "text/html": [
       "<pre>Random forest classifier:</pre>"
      ],
      "text/plain": [
       "Random forest classifier:"
      ]
     },
     "metadata": {},
     "output_type": "display_data"
    },
    {
     "data": {
      "text/html": [
       "<pre>--------------------------------------------------------</pre>"
      ],
      "text/plain": [
       "--------------------------------------------------------"
      ]
     },
     "metadata": {},
     "output_type": "display_data"
    },
    {
     "data": {
      "text/html": [
       "<pre>Number of examples          : 10857</pre>"
      ],
      "text/plain": [
       "Number of examples          : 10857"
      ]
     },
     "metadata": {},
     "output_type": "display_data"
    },
    {
     "data": {
      "text/html": [
       "<pre>Number of classes           : 2</pre>"
      ],
      "text/plain": [
       "Number of classes           : 2"
      ]
     },
     "metadata": {},
     "output_type": "display_data"
    },
    {
     "data": {
      "text/html": [
       "<pre>Number of feature columns   : 1</pre>"
      ],
      "text/plain": [
       "Number of feature columns   : 1"
      ]
     },
     "metadata": {},
     "output_type": "display_data"
    },
    {
     "data": {
      "text/html": [
       "<pre>Number of unpacked features : 1</pre>"
      ],
      "text/plain": [
       "Number of unpacked features : 1"
      ]
     },
     "metadata": {},
     "output_type": "display_data"
    },
    {
     "data": {
      "text/html": [
       "<pre>+-----------+--------------+-------------------+-------------------+---------------------+---------------------+</pre>"
      ],
      "text/plain": [
       "+-----------+--------------+-------------------+-------------------+---------------------+---------------------+"
      ]
     },
     "metadata": {},
     "output_type": "display_data"
    },
    {
     "data": {
      "text/html": [
       "<pre>| Iteration | Elapsed Time | Training-accuracy | Training-log_loss | Validation-accuracy | Validation-log_loss |</pre>"
      ],
      "text/plain": [
       "| Iteration | Elapsed Time | Training-accuracy | Training-log_loss | Validation-accuracy | Validation-log_loss |"
      ]
     },
     "metadata": {},
     "output_type": "display_data"
    },
    {
     "data": {
      "text/html": [
       "<pre>+-----------+--------------+-------------------+-------------------+---------------------+---------------------+</pre>"
      ],
      "text/plain": [
       "+-----------+--------------+-------------------+-------------------+---------------------+---------------------+"
      ]
     },
     "metadata": {},
     "output_type": "display_data"
    },
    {
     "data": {
      "text/html": [
       "<pre>| 1         | 0.009300     | 0.872985          | 0.384229          | 0.831683            | 0.444945            |</pre>"
      ],
      "text/plain": [
       "| 1         | 0.009300     | 0.872985          | 0.384229          | 0.831683            | 0.444945            |"
      ]
     },
     "metadata": {},
     "output_type": "display_data"
    },
    {
     "data": {
      "text/html": [
       "<pre>| 2         | 0.017887     | 0.872985          | 0.384280          | 0.834983            | 0.444015            |</pre>"
      ],
      "text/plain": [
       "| 2         | 0.017887     | 0.872985          | 0.384280          | 0.834983            | 0.444015            |"
      ]
     },
     "metadata": {},
     "output_type": "display_data"
    },
    {
     "data": {
      "text/html": [
       "<pre>| 3         | 0.027153     | 0.873077          | 0.384247          | 0.834983            | 0.443747            |</pre>"
      ],
      "text/plain": [
       "| 3         | 0.027153     | 0.873077          | 0.384247          | 0.834983            | 0.443747            |"
      ]
     },
     "metadata": {},
     "output_type": "display_data"
    },
    {
     "data": {
      "text/html": [
       "<pre>| 4         | 0.035682     | 0.873169          | 0.384257          | 0.834983            | 0.443162            |</pre>"
      ],
      "text/plain": [
       "| 4         | 0.035682     | 0.873169          | 0.384257          | 0.834983            | 0.443162            |"
      ]
     },
     "metadata": {},
     "output_type": "display_data"
    },
    {
     "data": {
      "text/html": [
       "<pre>| 5         | 0.043624     | 0.873169          | 0.384233          | 0.834983            | 0.443125            |</pre>"
      ],
      "text/plain": [
       "| 5         | 0.043624     | 0.873169          | 0.384233          | 0.834983            | 0.443125            |"
      ]
     },
     "metadata": {},
     "output_type": "display_data"
    },
    {
     "data": {
      "text/html": [
       "<pre>| 6         | 0.052396     | 0.873169          | 0.384183          | 0.834983            | 0.443359            |</pre>"
      ],
      "text/plain": [
       "| 6         | 0.052396     | 0.873169          | 0.384183          | 0.834983            | 0.443359            |"
      ]
     },
     "metadata": {},
     "output_type": "display_data"
    },
    {
     "data": {
      "text/html": [
       "<pre>| 11        | 0.093412     | 0.873169          | 0.384220          | 0.834983            | 0.443628            |</pre>"
      ],
      "text/plain": [
       "| 11        | 0.093412     | 0.873169          | 0.384220          | 0.834983            | 0.443628            |"
      ]
     },
     "metadata": {},
     "output_type": "display_data"
    },
    {
     "data": {
      "text/html": [
       "<pre>| 51        | 0.425503     | 0.873262          | 0.384068          | 0.834983            | 0.443485            |</pre>"
      ],
      "text/plain": [
       "| 51        | 0.425503     | 0.873262          | 0.384068          | 0.834983            | 0.443485            |"
      ]
     },
     "metadata": {},
     "output_type": "display_data"
    },
    {
     "data": {
      "text/html": [
       "<pre>+-----------+--------------+-------------------+-------------------+---------------------+---------------------+</pre>"
      ],
      "text/plain": [
       "+-----------+--------------+-------------------+-------------------+---------------------+---------------------+"
      ]
     },
     "metadata": {},
     "output_type": "display_data"
    },
    {
     "name": "stdout",
     "output_type": "stream",
     "text": [
      "\n",
      "PROGRESS: Creating a validation set from 5 percent of training data. This may take a while.\n",
      "          You can set ``validation_set=None`` to disable validation tracking.\n"
     ]
    },
    {
     "data": {
      "text/html": [
       "<pre>Random forest classifier:</pre>"
      ],
      "text/plain": [
       "Random forest classifier:"
      ]
     },
     "metadata": {},
     "output_type": "display_data"
    },
    {
     "data": {
      "text/html": [
       "<pre>--------------------------------------------------------</pre>"
      ],
      "text/plain": [
       "--------------------------------------------------------"
      ]
     },
     "metadata": {},
     "output_type": "display_data"
    },
    {
     "data": {
      "text/html": [
       "<pre>Number of examples          : 10948</pre>"
      ],
      "text/plain": [
       "Number of examples          : 10948"
      ]
     },
     "metadata": {},
     "output_type": "display_data"
    },
    {
     "data": {
      "text/html": [
       "<pre>Number of classes           : 2</pre>"
      ],
      "text/plain": [
       "Number of classes           : 2"
      ]
     },
     "metadata": {},
     "output_type": "display_data"
    },
    {
     "data": {
      "text/html": [
       "<pre>Number of feature columns   : 1</pre>"
      ],
      "text/plain": [
       "Number of feature columns   : 1"
      ]
     },
     "metadata": {},
     "output_type": "display_data"
    },
    {
     "data": {
      "text/html": [
       "<pre>Number of unpacked features : 1</pre>"
      ],
      "text/plain": [
       "Number of unpacked features : 1"
      ]
     },
     "metadata": {},
     "output_type": "display_data"
    },
    {
     "data": {
      "text/html": [
       "<pre>+-----------+--------------+-------------------+-------------------+---------------------+---------------------+</pre>"
      ],
      "text/plain": [
       "+-----------+--------------+-------------------+-------------------+---------------------+---------------------+"
      ]
     },
     "metadata": {},
     "output_type": "display_data"
    },
    {
     "data": {
      "text/html": [
       "<pre>| Iteration | Elapsed Time | Training-accuracy | Training-log_loss | Validation-accuracy | Validation-log_loss |</pre>"
      ],
      "text/plain": [
       "| Iteration | Elapsed Time | Training-accuracy | Training-log_loss | Validation-accuracy | Validation-log_loss |"
      ]
     },
     "metadata": {},
     "output_type": "display_data"
    },
    {
     "data": {
      "text/html": [
       "<pre>+-----------+--------------+-------------------+-------------------+---------------------+---------------------+</pre>"
      ],
      "text/plain": [
       "+-----------+--------------+-------------------+-------------------+---------------------+---------------------+"
      ]
     },
     "metadata": {},
     "output_type": "display_data"
    },
    {
     "data": {
      "text/html": [
       "<pre>| 1         | 0.007764     | 0.888655          | 0.357914          | 0.893204            | 0.349583            |</pre>"
      ],
      "text/plain": [
       "| 1         | 0.007764     | 0.888655          | 0.357914          | 0.893204            | 0.349583            |"
      ]
     },
     "metadata": {},
     "output_type": "display_data"
    },
    {
     "data": {
      "text/html": [
       "<pre>| 2         | 0.014807     | 0.888655          | 0.358229          | 0.893204            | 0.349506            |</pre>"
      ],
      "text/plain": [
       "| 2         | 0.014807     | 0.888655          | 0.358229          | 0.893204            | 0.349506            |"
      ]
     },
     "metadata": {},
     "output_type": "display_data"
    },
    {
     "data": {
      "text/html": [
       "<pre>| 3         | 0.023175     | 0.888655          | 0.357985          | 0.893204            | 0.349434            |</pre>"
      ],
      "text/plain": [
       "| 3         | 0.023175     | 0.888655          | 0.357985          | 0.893204            | 0.349434            |"
      ]
     },
     "metadata": {},
     "output_type": "display_data"
    },
    {
     "data": {
      "text/html": [
       "<pre>| 4         | 0.030618     | 0.888655          | 0.357863          | 0.893204            | 0.349219            |</pre>"
      ],
      "text/plain": [
       "| 4         | 0.030618     | 0.888655          | 0.357863          | 0.893204            | 0.349219            |"
      ]
     },
     "metadata": {},
     "output_type": "display_data"
    },
    {
     "data": {
      "text/html": [
       "<pre>| 5         | 0.037695     | 0.888655          | 0.357942          | 0.893204            | 0.349292            |</pre>"
      ],
      "text/plain": [
       "| 5         | 0.037695     | 0.888655          | 0.357942          | 0.893204            | 0.349292            |"
      ]
     },
     "metadata": {},
     "output_type": "display_data"
    },
    {
     "data": {
      "text/html": [
       "<pre>| 6         | 0.044560     | 0.888655          | 0.358001          | 0.893204            | 0.349307            |</pre>"
      ],
      "text/plain": [
       "| 6         | 0.044560     | 0.888655          | 0.358001          | 0.893204            | 0.349307            |"
      ]
     },
     "metadata": {},
     "output_type": "display_data"
    },
    {
     "data": {
      "text/html": [
       "<pre>| 11        | 0.081284     | 0.888655          | 0.357939          | 0.893204            | 0.349336            |</pre>"
      ],
      "text/plain": [
       "| 11        | 0.081284     | 0.888655          | 0.357939          | 0.893204            | 0.349336            |"
      ]
     },
     "metadata": {},
     "output_type": "display_data"
    },
    {
     "data": {
      "text/html": [
       "<pre>| 51        | 0.361297     | 0.888655          | 0.358006          | 0.893204            | 0.349556            |</pre>"
      ],
      "text/plain": [
       "| 51        | 0.361297     | 0.888655          | 0.358006          | 0.893204            | 0.349556            |"
      ]
     },
     "metadata": {},
     "output_type": "display_data"
    },
    {
     "data": {
      "text/html": [
       "<pre>+-----------+--------------+-------------------+-------------------+---------------------+---------------------+</pre>"
      ],
      "text/plain": [
       "+-----------+--------------+-------------------+-------------------+---------------------+---------------------+"
      ]
     },
     "metadata": {},
     "output_type": "display_data"
    },
    {
     "name": "stdout",
     "output_type": "stream",
     "text": [
      "\n",
      "PROGRESS: Creating a validation set from 5 percent of training data. This may take a while.\n",
      "          You can set ``validation_set=None`` to disable validation tracking.\n"
     ]
    },
    {
     "data": {
      "text/html": [
       "<pre>Random forest classifier:</pre>"
      ],
      "text/plain": [
       "Random forest classifier:"
      ]
     },
     "metadata": {},
     "output_type": "display_data"
    },
    {
     "data": {
      "text/html": [
       "<pre>--------------------------------------------------------</pre>"
      ],
      "text/plain": [
       "--------------------------------------------------------"
      ]
     },
     "metadata": {},
     "output_type": "display_data"
    },
    {
     "data": {
      "text/html": [
       "<pre>Number of examples          : 10946</pre>"
      ],
      "text/plain": [
       "Number of examples          : 10946"
      ]
     },
     "metadata": {},
     "output_type": "display_data"
    },
    {
     "data": {
      "text/html": [
       "<pre>Number of classes           : 2</pre>"
      ],
      "text/plain": [
       "Number of classes           : 2"
      ]
     },
     "metadata": {},
     "output_type": "display_data"
    },
    {
     "data": {
      "text/html": [
       "<pre>Number of feature columns   : 1</pre>"
      ],
      "text/plain": [
       "Number of feature columns   : 1"
      ]
     },
     "metadata": {},
     "output_type": "display_data"
    },
    {
     "data": {
      "text/html": [
       "<pre>Number of unpacked features : 1</pre>"
      ],
      "text/plain": [
       "Number of unpacked features : 1"
      ]
     },
     "metadata": {},
     "output_type": "display_data"
    },
    {
     "data": {
      "text/html": [
       "<pre>+-----------+--------------+-------------------+-------------------+---------------------+---------------------+</pre>"
      ],
      "text/plain": [
       "+-----------+--------------+-------------------+-------------------+---------------------+---------------------+"
      ]
     },
     "metadata": {},
     "output_type": "display_data"
    },
    {
     "data": {
      "text/html": [
       "<pre>| Iteration | Elapsed Time | Training-accuracy | Training-log_loss | Validation-accuracy | Validation-log_loss |</pre>"
      ],
      "text/plain": [
       "| Iteration | Elapsed Time | Training-accuracy | Training-log_loss | Validation-accuracy | Validation-log_loss |"
      ]
     },
     "metadata": {},
     "output_type": "display_data"
    },
    {
     "data": {
      "text/html": [
       "<pre>+-----------+--------------+-------------------+-------------------+---------------------+---------------------+</pre>"
      ],
      "text/plain": [
       "+-----------+--------------+-------------------+-------------------+---------------------+---------------------+"
      ]
     },
     "metadata": {},
     "output_type": "display_data"
    },
    {
     "data": {
      "text/html": [
       "<pre>| 1         | 0.006351     | 0.864791          | 0.387847          | 0.872340            | 0.380944            |</pre>"
      ],
      "text/plain": [
       "| 1         | 0.006351     | 0.864791          | 0.387847          | 0.872340            | 0.380944            |"
      ]
     },
     "metadata": {},
     "output_type": "display_data"
    },
    {
     "data": {
      "text/html": [
       "<pre>| 2         | 0.012111     | 0.864791          | 0.388108          | 0.872340            | 0.381158            |</pre>"
      ],
      "text/plain": [
       "| 2         | 0.012111     | 0.864791          | 0.388108          | 0.872340            | 0.381158            |"
      ]
     },
     "metadata": {},
     "output_type": "display_data"
    },
    {
     "data": {
      "text/html": [
       "<pre>| 3         | 0.017487     | 0.864791          | 0.387985          | 0.872340            | 0.381041            |</pre>"
      ],
      "text/plain": [
       "| 3         | 0.017487     | 0.864791          | 0.387985          | 0.872340            | 0.381041            |"
      ]
     },
     "metadata": {},
     "output_type": "display_data"
    },
    {
     "data": {
      "text/html": [
       "<pre>| 4         | 0.022875     | 0.864791          | 0.387792          | 0.872340            | 0.380865            |</pre>"
      ],
      "text/plain": [
       "| 4         | 0.022875     | 0.864791          | 0.387792          | 0.872340            | 0.380865            |"
      ]
     },
     "metadata": {},
     "output_type": "display_data"
    },
    {
     "data": {
      "text/html": [
       "<pre>| 5         | 0.028547     | 0.864791          | 0.387774          | 0.872340            | 0.380826            |</pre>"
      ],
      "text/plain": [
       "| 5         | 0.028547     | 0.864791          | 0.387774          | 0.872340            | 0.380826            |"
      ]
     },
     "metadata": {},
     "output_type": "display_data"
    },
    {
     "data": {
      "text/html": [
       "<pre>| 6         | 0.034547     | 0.864791          | 0.387886          | 0.872340            | 0.380939            |</pre>"
      ],
      "text/plain": [
       "| 6         | 0.034547     | 0.864791          | 0.387886          | 0.872340            | 0.380939            |"
      ]
     },
     "metadata": {},
     "output_type": "display_data"
    },
    {
     "data": {
      "text/html": [
       "<pre>| 11        | 0.061993     | 0.864791          | 0.387959          | 0.872340            | 0.381046            |</pre>"
      ],
      "text/plain": [
       "| 11        | 0.061993     | 0.864791          | 0.387959          | 0.872340            | 0.381046            |"
      ]
     },
     "metadata": {},
     "output_type": "display_data"
    },
    {
     "data": {
      "text/html": [
       "<pre>| 51        | 0.287416     | 0.864791          | 0.387946          | 0.872340            | 0.381046            |</pre>"
      ],
      "text/plain": [
       "| 51        | 0.287416     | 0.864791          | 0.387946          | 0.872340            | 0.381046            |"
      ]
     },
     "metadata": {},
     "output_type": "display_data"
    },
    {
     "data": {
      "text/html": [
       "<pre>+-----------+--------------+-------------------+-------------------+---------------------+---------------------+</pre>"
      ],
      "text/plain": [
       "+-----------+--------------+-------------------+-------------------+---------------------+---------------------+"
      ]
     },
     "metadata": {},
     "output_type": "display_data"
    },
    {
     "name": "stdout",
     "output_type": "stream",
     "text": [
      "\n",
      "PROGRESS: Creating a validation set from 5 percent of training data. This may take a while.\n",
      "          You can set ``validation_set=None`` to disable validation tracking.\n"
     ]
    },
    {
     "data": {
      "text/html": [
       "<pre>Random forest classifier:</pre>"
      ],
      "text/plain": [
       "Random forest classifier:"
      ]
     },
     "metadata": {},
     "output_type": "display_data"
    },
    {
     "data": {
      "text/html": [
       "<pre>--------------------------------------------------------</pre>"
      ],
      "text/plain": [
       "--------------------------------------------------------"
      ]
     },
     "metadata": {},
     "output_type": "display_data"
    },
    {
     "data": {
      "text/html": [
       "<pre>Number of examples          : 10939</pre>"
      ],
      "text/plain": [
       "Number of examples          : 10939"
      ]
     },
     "metadata": {},
     "output_type": "display_data"
    },
    {
     "data": {
      "text/html": [
       "<pre>Number of classes           : 2</pre>"
      ],
      "text/plain": [
       "Number of classes           : 2"
      ]
     },
     "metadata": {},
     "output_type": "display_data"
    },
    {
     "data": {
      "text/html": [
       "<pre>Number of feature columns   : 1</pre>"
      ],
      "text/plain": [
       "Number of feature columns   : 1"
      ]
     },
     "metadata": {},
     "output_type": "display_data"
    },
    {
     "data": {
      "text/html": [
       "<pre>Number of unpacked features : 1</pre>"
      ],
      "text/plain": [
       "Number of unpacked features : 1"
      ]
     },
     "metadata": {},
     "output_type": "display_data"
    },
    {
     "data": {
      "text/html": [
       "<pre>+-----------+--------------+-------------------+-------------------+---------------------+---------------------+</pre>"
      ],
      "text/plain": [
       "+-----------+--------------+-------------------+-------------------+---------------------+---------------------+"
      ]
     },
     "metadata": {},
     "output_type": "display_data"
    },
    {
     "data": {
      "text/html": [
       "<pre>| Iteration | Elapsed Time | Training-accuracy | Training-log_loss | Validation-accuracy | Validation-log_loss |</pre>"
      ],
      "text/plain": [
       "| Iteration | Elapsed Time | Training-accuracy | Training-log_loss | Validation-accuracy | Validation-log_loss |"
      ]
     },
     "metadata": {},
     "output_type": "display_data"
    },
    {
     "data": {
      "text/html": [
       "<pre>+-----------+--------------+-------------------+-------------------+---------------------+---------------------+</pre>"
      ],
      "text/plain": [
       "+-----------+--------------+-------------------+-------------------+---------------------+---------------------+"
      ]
     },
     "metadata": {},
     "output_type": "display_data"
    },
    {
     "data": {
      "text/html": [
       "<pre>| 1         | 0.009091     | 0.871012          | 0.390361          | 0.868321            | 0.394558            |</pre>"
      ],
      "text/plain": [
       "| 1         | 0.009091     | 0.871012          | 0.390361          | 0.868321            | 0.394558            |"
      ]
     },
     "metadata": {},
     "output_type": "display_data"
    },
    {
     "data": {
      "text/html": [
       "<pre>| 2         | 0.017704     | 0.871560          | 0.388626          | 0.870229            | 0.390523            |</pre>"
      ],
      "text/plain": [
       "| 2         | 0.017704     | 0.871560          | 0.388626          | 0.870229            | 0.390523            |"
      ]
     },
     "metadata": {},
     "output_type": "display_data"
    },
    {
     "data": {
      "text/html": [
       "<pre>| 3         | 0.026868     | 0.871652          | 0.388720          | 0.870229            | 0.388387            |</pre>"
      ],
      "text/plain": [
       "| 3         | 0.026868     | 0.871652          | 0.388720          | 0.870229            | 0.388387            |"
      ]
     },
     "metadata": {},
     "output_type": "display_data"
    },
    {
     "data": {
      "text/html": [
       "<pre>| 4         | 0.035807     | 0.871560          | 0.388830          | 0.870229            | 0.389251            |</pre>"
      ],
      "text/plain": [
       "| 4         | 0.035807     | 0.871560          | 0.388830          | 0.870229            | 0.389251            |"
      ]
     },
     "metadata": {},
     "output_type": "display_data"
    },
    {
     "data": {
      "text/html": [
       "<pre>| 5         | 0.043649     | 0.871652          | 0.388310          | 0.870229            | 0.389224            |</pre>"
      ],
      "text/plain": [
       "| 5         | 0.043649     | 0.871652          | 0.388310          | 0.870229            | 0.389224            |"
      ]
     },
     "metadata": {},
     "output_type": "display_data"
    },
    {
     "data": {
      "text/html": [
       "<pre>| 6         | 0.051184     | 0.871926          | 0.388126          | 0.872137            | 0.388226            |</pre>"
      ],
      "text/plain": [
       "| 6         | 0.051184     | 0.871926          | 0.388126          | 0.872137            | 0.388226            |"
      ]
     },
     "metadata": {},
     "output_type": "display_data"
    },
    {
     "data": {
      "text/html": [
       "<pre>| 11        | 0.091820     | 0.871012          | 0.388359          | 0.875954            | 0.387116            |</pre>"
      ],
      "text/plain": [
       "| 11        | 0.091820     | 0.871012          | 0.388359          | 0.875954            | 0.387116            |"
      ]
     },
     "metadata": {},
     "output_type": "display_data"
    },
    {
     "data": {
      "text/html": [
       "<pre>| 51        | 0.419741     | 0.871469          | 0.388021          | 0.875954            | 0.386177            |</pre>"
      ],
      "text/plain": [
       "| 51        | 0.419741     | 0.871469          | 0.388021          | 0.875954            | 0.386177            |"
      ]
     },
     "metadata": {},
     "output_type": "display_data"
    },
    {
     "data": {
      "text/html": [
       "<pre>+-----------+--------------+-------------------+-------------------+---------------------+---------------------+</pre>"
      ],
      "text/plain": [
       "+-----------+--------------+-------------------+-------------------+---------------------+---------------------+"
      ]
     },
     "metadata": {},
     "output_type": "display_data"
    },
    {
     "name": "stdout",
     "output_type": "stream",
     "text": [
      "\n",
      "PROGRESS: Creating a validation set from 5 percent of training data. This may take a while.\n",
      "          You can set ``validation_set=None`` to disable validation tracking.\n"
     ]
    },
    {
     "data": {
      "text/html": [
       "<pre>Random forest classifier:</pre>"
      ],
      "text/plain": [
       "Random forest classifier:"
      ]
     },
     "metadata": {},
     "output_type": "display_data"
    },
    {
     "data": {
      "text/html": [
       "<pre>--------------------------------------------------------</pre>"
      ],
      "text/plain": [
       "--------------------------------------------------------"
      ]
     },
     "metadata": {},
     "output_type": "display_data"
    },
    {
     "data": {
      "text/html": [
       "<pre>Number of examples          : 10916</pre>"
      ],
      "text/plain": [
       "Number of examples          : 10916"
      ]
     },
     "metadata": {},
     "output_type": "display_data"
    },
    {
     "data": {
      "text/html": [
       "<pre>Number of classes           : 2</pre>"
      ],
      "text/plain": [
       "Number of classes           : 2"
      ]
     },
     "metadata": {},
     "output_type": "display_data"
    },
    {
     "data": {
      "text/html": [
       "<pre>Number of feature columns   : 1</pre>"
      ],
      "text/plain": [
       "Number of feature columns   : 1"
      ]
     },
     "metadata": {},
     "output_type": "display_data"
    },
    {
     "data": {
      "text/html": [
       "<pre>Number of unpacked features : 1</pre>"
      ],
      "text/plain": [
       "Number of unpacked features : 1"
      ]
     },
     "metadata": {},
     "output_type": "display_data"
    },
    {
     "data": {
      "text/html": [
       "<pre>+-----------+--------------+-------------------+-------------------+---------------------+---------------------+</pre>"
      ],
      "text/plain": [
       "+-----------+--------------+-------------------+-------------------+---------------------+---------------------+"
      ]
     },
     "metadata": {},
     "output_type": "display_data"
    },
    {
     "data": {
      "text/html": [
       "<pre>| Iteration | Elapsed Time | Training-accuracy | Training-log_loss | Validation-accuracy | Validation-log_loss |</pre>"
      ],
      "text/plain": [
       "| Iteration | Elapsed Time | Training-accuracy | Training-log_loss | Validation-accuracy | Validation-log_loss |"
      ]
     },
     "metadata": {},
     "output_type": "display_data"
    },
    {
     "data": {
      "text/html": [
       "<pre>+-----------+--------------+-------------------+-------------------+---------------------+---------------------+</pre>"
      ],
      "text/plain": [
       "+-----------+--------------+-------------------+-------------------+---------------------+---------------------+"
      ]
     },
     "metadata": {},
     "output_type": "display_data"
    },
    {
     "data": {
      "text/html": [
       "<pre>| 1         | 0.007030     | 0.869000          | 0.391642          | 0.868373            | 0.384426            |</pre>"
      ],
      "text/plain": [
       "| 1         | 0.007030     | 0.869000          | 0.391642          | 0.868373            | 0.384426            |"
      ]
     },
     "metadata": {},
     "output_type": "display_data"
    },
    {
     "data": {
      "text/html": [
       "<pre>| 2         | 0.013208     | 0.869000          | 0.391739          | 0.868373            | 0.384569            |</pre>"
      ],
      "text/plain": [
       "| 2         | 0.013208     | 0.869000          | 0.391739          | 0.868373            | 0.384569            |"
      ]
     },
     "metadata": {},
     "output_type": "display_data"
    },
    {
     "data": {
      "text/html": [
       "<pre>| 3         | 0.019735     | 0.869000          | 0.391775          | 0.868373            | 0.384642            |</pre>"
      ],
      "text/plain": [
       "| 3         | 0.019735     | 0.869000          | 0.391775          | 0.868373            | 0.384642            |"
      ]
     },
     "metadata": {},
     "output_type": "display_data"
    },
    {
     "data": {
      "text/html": [
       "<pre>| 4         | 0.026104     | 0.869000          | 0.391717          | 0.868373            | 0.384654            |</pre>"
      ],
      "text/plain": [
       "| 4         | 0.026104     | 0.869000          | 0.391717          | 0.868373            | 0.384654            |"
      ]
     },
     "metadata": {},
     "output_type": "display_data"
    },
    {
     "data": {
      "text/html": [
       "<pre>| 5         | 0.032608     | 0.869000          | 0.391639          | 0.868373            | 0.384592            |</pre>"
      ],
      "text/plain": [
       "| 5         | 0.032608     | 0.869000          | 0.391639          | 0.868373            | 0.384592            |"
      ]
     },
     "metadata": {},
     "output_type": "display_data"
    },
    {
     "data": {
      "text/html": [
       "<pre>| 6         | 0.039054     | 0.869000          | 0.391676          | 0.868373            | 0.384627            |</pre>"
      ],
      "text/plain": [
       "| 6         | 0.039054     | 0.869000          | 0.391676          | 0.868373            | 0.384627            |"
      ]
     },
     "metadata": {},
     "output_type": "display_data"
    },
    {
     "data": {
      "text/html": [
       "<pre>| 11        | 0.069698     | 0.869000          | 0.391704          | 0.868373            | 0.384630            |</pre>"
      ],
      "text/plain": [
       "| 11        | 0.069698     | 0.869000          | 0.391704          | 0.868373            | 0.384630            |"
      ]
     },
     "metadata": {},
     "output_type": "display_data"
    },
    {
     "data": {
      "text/html": [
       "<pre>| 51        | 0.319011     | 0.869000          | 0.391561          | 0.868373            | 0.384506            |</pre>"
      ],
      "text/plain": [
       "| 51        | 0.319011     | 0.869000          | 0.391561          | 0.868373            | 0.384506            |"
      ]
     },
     "metadata": {},
     "output_type": "display_data"
    },
    {
     "data": {
      "text/html": [
       "<pre>+-----------+--------------+-------------------+-------------------+---------------------+---------------------+</pre>"
      ],
      "text/plain": [
       "+-----------+--------------+-------------------+-------------------+---------------------+---------------------+"
      ]
     },
     "metadata": {},
     "output_type": "display_data"
    },
    {
     "name": "stdout",
     "output_type": "stream",
     "text": [
      "\n",
      "PROGRESS: Creating a validation set from 5 percent of training data. This may take a while.\n",
      "          You can set ``validation_set=None`` to disable validation tracking.\n"
     ]
    },
    {
     "data": {
      "text/html": [
       "<pre>Random forest classifier:</pre>"
      ],
      "text/plain": [
       "Random forest classifier:"
      ]
     },
     "metadata": {},
     "output_type": "display_data"
    },
    {
     "data": {
      "text/html": [
       "<pre>--------------------------------------------------------</pre>"
      ],
      "text/plain": [
       "--------------------------------------------------------"
      ]
     },
     "metadata": {},
     "output_type": "display_data"
    },
    {
     "data": {
      "text/html": [
       "<pre>Number of examples          : 10905</pre>"
      ],
      "text/plain": [
       "Number of examples          : 10905"
      ]
     },
     "metadata": {},
     "output_type": "display_data"
    },
    {
     "data": {
      "text/html": [
       "<pre>Number of classes           : 2</pre>"
      ],
      "text/plain": [
       "Number of classes           : 2"
      ]
     },
     "metadata": {},
     "output_type": "display_data"
    },
    {
     "data": {
      "text/html": [
       "<pre>Number of feature columns   : 1</pre>"
      ],
      "text/plain": [
       "Number of feature columns   : 1"
      ]
     },
     "metadata": {},
     "output_type": "display_data"
    },
    {
     "data": {
      "text/html": [
       "<pre>Number of unpacked features : 1</pre>"
      ],
      "text/plain": [
       "Number of unpacked features : 1"
      ]
     },
     "metadata": {},
     "output_type": "display_data"
    },
    {
     "data": {
      "text/html": [
       "<pre>+-----------+--------------+-------------------+-------------------+---------------------+---------------------+</pre>"
      ],
      "text/plain": [
       "+-----------+--------------+-------------------+-------------------+---------------------+---------------------+"
      ]
     },
     "metadata": {},
     "output_type": "display_data"
    },
    {
     "data": {
      "text/html": [
       "<pre>| Iteration | Elapsed Time | Training-accuracy | Training-log_loss | Validation-accuracy | Validation-log_loss |</pre>"
      ],
      "text/plain": [
       "| Iteration | Elapsed Time | Training-accuracy | Training-log_loss | Validation-accuracy | Validation-log_loss |"
      ]
     },
     "metadata": {},
     "output_type": "display_data"
    },
    {
     "data": {
      "text/html": [
       "<pre>+-----------+--------------+-------------------+-------------------+---------------------+---------------------+</pre>"
      ],
      "text/plain": [
       "+-----------+--------------+-------------------+-------------------+---------------------+---------------------+"
      ]
     },
     "metadata": {},
     "output_type": "display_data"
    },
    {
     "data": {
      "text/html": [
       "<pre>| 1         | 0.006980     | 0.868409          | 0.392703          | 0.879928            | 0.375509            |</pre>"
      ],
      "text/plain": [
       "| 1         | 0.006980     | 0.868409          | 0.392703          | 0.879928            | 0.375509            |"
      ]
     },
     "metadata": {},
     "output_type": "display_data"
    },
    {
     "data": {
      "text/html": [
       "<pre>| 2         | 0.013015     | 0.868409          | 0.392424          | 0.879928            | 0.375173            |</pre>"
      ],
      "text/plain": [
       "| 2         | 0.013015     | 0.868409          | 0.392424          | 0.879928            | 0.375173            |"
      ]
     },
     "metadata": {},
     "output_type": "display_data"
    },
    {
     "data": {
      "text/html": [
       "<pre>| 3         | 0.018178     | 0.868409          | 0.392744          | 0.879928            | 0.375524            |</pre>"
      ],
      "text/plain": [
       "| 3         | 0.018178     | 0.868409          | 0.392744          | 0.879928            | 0.375524            |"
      ]
     },
     "metadata": {},
     "output_type": "display_data"
    },
    {
     "data": {
      "text/html": [
       "<pre>| 4         | 0.025311     | 0.868409          | 0.392840          | 0.879928            | 0.375628            |</pre>"
      ],
      "text/plain": [
       "| 4         | 0.025311     | 0.868409          | 0.392840          | 0.879928            | 0.375628            |"
      ]
     },
     "metadata": {},
     "output_type": "display_data"
    },
    {
     "data": {
      "text/html": [
       "<pre>| 5         | 0.031705     | 0.868409          | 0.392918          | 0.879928            | 0.375724            |</pre>"
      ],
      "text/plain": [
       "| 5         | 0.031705     | 0.868409          | 0.392918          | 0.879928            | 0.375724            |"
      ]
     },
     "metadata": {},
     "output_type": "display_data"
    },
    {
     "data": {
      "text/html": [
       "<pre>| 6         | 0.038583     | 0.868409          | 0.392894          | 0.879928            | 0.375839            |</pre>"
      ],
      "text/plain": [
       "| 6         | 0.038583     | 0.868409          | 0.392894          | 0.879928            | 0.375839            |"
      ]
     },
     "metadata": {},
     "output_type": "display_data"
    },
    {
     "data": {
      "text/html": [
       "<pre>| 11        | 0.067535     | 0.868409          | 0.392718          | 0.879928            | 0.375614            |</pre>"
      ],
      "text/plain": [
       "| 11        | 0.067535     | 0.868409          | 0.392718          | 0.879928            | 0.375614            |"
      ]
     },
     "metadata": {},
     "output_type": "display_data"
    },
    {
     "data": {
      "text/html": [
       "<pre>| 51        | 0.323630     | 0.868409          | 0.392748          | 0.879928            | 0.375582            |</pre>"
      ],
      "text/plain": [
       "| 51        | 0.323630     | 0.868409          | 0.392748          | 0.879928            | 0.375582            |"
      ]
     },
     "metadata": {},
     "output_type": "display_data"
    },
    {
     "data": {
      "text/html": [
       "<pre>+-----------+--------------+-------------------+-------------------+---------------------+---------------------+</pre>"
      ],
      "text/plain": [
       "+-----------+--------------+-------------------+-------------------+---------------------+---------------------+"
      ]
     },
     "metadata": {},
     "output_type": "display_data"
    },
    {
     "name": "stdout",
     "output_type": "stream",
     "text": [
      "\n",
      "PROGRESS: Creating a validation set from 5 percent of training data. This may take a while.\n",
      "          You can set ``validation_set=None`` to disable validation tracking.\n"
     ]
    },
    {
     "data": {
      "text/html": [
       "<pre>Random forest classifier:</pre>"
      ],
      "text/plain": [
       "Random forest classifier:"
      ]
     },
     "metadata": {},
     "output_type": "display_data"
    },
    {
     "data": {
      "text/html": [
       "<pre>--------------------------------------------------------</pre>"
      ],
      "text/plain": [
       "--------------------------------------------------------"
      ]
     },
     "metadata": {},
     "output_type": "display_data"
    },
    {
     "data": {
      "text/html": [
       "<pre>Number of examples          : 10880</pre>"
      ],
      "text/plain": [
       "Number of examples          : 10880"
      ]
     },
     "metadata": {},
     "output_type": "display_data"
    },
    {
     "data": {
      "text/html": [
       "<pre>Number of classes           : 2</pre>"
      ],
      "text/plain": [
       "Number of classes           : 2"
      ]
     },
     "metadata": {},
     "output_type": "display_data"
    },
    {
     "data": {
      "text/html": [
       "<pre>Number of feature columns   : 1</pre>"
      ],
      "text/plain": [
       "Number of feature columns   : 1"
      ]
     },
     "metadata": {},
     "output_type": "display_data"
    },
    {
     "data": {
      "text/html": [
       "<pre>Number of unpacked features : 1</pre>"
      ],
      "text/plain": [
       "Number of unpacked features : 1"
      ]
     },
     "metadata": {},
     "output_type": "display_data"
    },
    {
     "data": {
      "text/html": [
       "<pre>+-----------+--------------+-------------------+-------------------+---------------------+---------------------+</pre>"
      ],
      "text/plain": [
       "+-----------+--------------+-------------------+-------------------+---------------------+---------------------+"
      ]
     },
     "metadata": {},
     "output_type": "display_data"
    },
    {
     "data": {
      "text/html": [
       "<pre>| Iteration | Elapsed Time | Training-accuracy | Training-log_loss | Validation-accuracy | Validation-log_loss |</pre>"
      ],
      "text/plain": [
       "| Iteration | Elapsed Time | Training-accuracy | Training-log_loss | Validation-accuracy | Validation-log_loss |"
      ]
     },
     "metadata": {},
     "output_type": "display_data"
    },
    {
     "data": {
      "text/html": [
       "<pre>+-----------+--------------+-------------------+-------------------+---------------------+---------------------+</pre>"
      ],
      "text/plain": [
       "+-----------+--------------+-------------------+-------------------+---------------------+---------------------+"
      ]
     },
     "metadata": {},
     "output_type": "display_data"
    },
    {
     "data": {
      "text/html": [
       "<pre>| 1         | 0.008868     | 0.878217          | 0.341171          | 0.876501            | 0.346663            |</pre>"
      ],
      "text/plain": [
       "| 1         | 0.008868     | 0.878217          | 0.341171          | 0.876501            | 0.346663            |"
      ]
     },
     "metadata": {},
     "output_type": "display_data"
    },
    {
     "data": {
      "text/html": [
       "<pre>| 2         | 0.016260     | 0.878217          | 0.342057          | 0.876501            | 0.347482            |</pre>"
      ],
      "text/plain": [
       "| 2         | 0.016260     | 0.878217          | 0.342057          | 0.876501            | 0.347482            |"
      ]
     },
     "metadata": {},
     "output_type": "display_data"
    },
    {
     "data": {
      "text/html": [
       "<pre>| 3         | 0.023832     | 0.878125          | 0.341895          | 0.876501            | 0.347351            |</pre>"
      ],
      "text/plain": [
       "| 3         | 0.023832     | 0.878125          | 0.341895          | 0.876501            | 0.347351            |"
      ]
     },
     "metadata": {},
     "output_type": "display_data"
    },
    {
     "data": {
      "text/html": [
       "<pre>| 4         | 0.032097     | 0.878033          | 0.341782          | 0.876501            | 0.347184            |</pre>"
      ],
      "text/plain": [
       "| 4         | 0.032097     | 0.878033          | 0.341782          | 0.876501            | 0.347184            |"
      ]
     },
     "metadata": {},
     "output_type": "display_data"
    },
    {
     "data": {
      "text/html": [
       "<pre>| 5         | 0.040050     | 0.878033          | 0.341605          | 0.876501            | 0.347242            |</pre>"
      ],
      "text/plain": [
       "| 5         | 0.040050     | 0.878033          | 0.341605          | 0.876501            | 0.347242            |"
      ]
     },
     "metadata": {},
     "output_type": "display_data"
    },
    {
     "data": {
      "text/html": [
       "<pre>| 6         | 0.047809     | 0.878493          | 0.341649          | 0.873070            | 0.347178            |</pre>"
      ],
      "text/plain": [
       "| 6         | 0.047809     | 0.878493          | 0.341649          | 0.873070            | 0.347178            |"
      ]
     },
     "metadata": {},
     "output_type": "display_data"
    },
    {
     "data": {
      "text/html": [
       "<pre>| 11        | 0.087817     | 0.878493          | 0.341632          | 0.873070            | 0.347201            |</pre>"
      ],
      "text/plain": [
       "| 11        | 0.087817     | 0.878493          | 0.341632          | 0.873070            | 0.347201            |"
      ]
     },
     "metadata": {},
     "output_type": "display_data"
    },
    {
     "data": {
      "text/html": [
       "<pre>| 51        | 0.393427     | 0.878401          | 0.341658          | 0.873070            | 0.347348            |</pre>"
      ],
      "text/plain": [
       "| 51        | 0.393427     | 0.878401          | 0.341658          | 0.873070            | 0.347348            |"
      ]
     },
     "metadata": {},
     "output_type": "display_data"
    },
    {
     "data": {
      "text/html": [
       "<pre>+-----------+--------------+-------------------+-------------------+---------------------+---------------------+</pre>"
      ],
      "text/plain": [
       "+-----------+--------------+-------------------+-------------------+---------------------+---------------------+"
      ]
     },
     "metadata": {},
     "output_type": "display_data"
    },
    {
     "name": "stdout",
     "output_type": "stream",
     "text": [
      "\n",
      "PROGRESS: Creating a validation set from 5 percent of training data. This may take a while.\n",
      "          You can set ``validation_set=None`` to disable validation tracking.\n"
     ]
    },
    {
     "data": {
      "text/html": [
       "<pre>Random forest classifier:</pre>"
      ],
      "text/plain": [
       "Random forest classifier:"
      ]
     },
     "metadata": {},
     "output_type": "display_data"
    },
    {
     "data": {
      "text/html": [
       "<pre>--------------------------------------------------------</pre>"
      ],
      "text/plain": [
       "--------------------------------------------------------"
      ]
     },
     "metadata": {},
     "output_type": "display_data"
    },
    {
     "data": {
      "text/html": [
       "<pre>Number of examples          : 10880</pre>"
      ],
      "text/plain": [
       "Number of examples          : 10880"
      ]
     },
     "metadata": {},
     "output_type": "display_data"
    },
    {
     "data": {
      "text/html": [
       "<pre>Number of classes           : 2</pre>"
      ],
      "text/plain": [
       "Number of classes           : 2"
      ]
     },
     "metadata": {},
     "output_type": "display_data"
    },
    {
     "data": {
      "text/html": [
       "<pre>Number of feature columns   : 1</pre>"
      ],
      "text/plain": [
       "Number of feature columns   : 1"
      ]
     },
     "metadata": {},
     "output_type": "display_data"
    },
    {
     "data": {
      "text/html": [
       "<pre>Number of unpacked features : 1</pre>"
      ],
      "text/plain": [
       "Number of unpacked features : 1"
      ]
     },
     "metadata": {},
     "output_type": "display_data"
    },
    {
     "data": {
      "text/html": [
       "<pre>+-----------+--------------+-------------------+-------------------+---------------------+---------------------+</pre>"
      ],
      "text/plain": [
       "+-----------+--------------+-------------------+-------------------+---------------------+---------------------+"
      ]
     },
     "metadata": {},
     "output_type": "display_data"
    },
    {
     "data": {
      "text/html": [
       "<pre>| Iteration | Elapsed Time | Training-accuracy | Training-log_loss | Validation-accuracy | Validation-log_loss |</pre>"
      ],
      "text/plain": [
       "| Iteration | Elapsed Time | Training-accuracy | Training-log_loss | Validation-accuracy | Validation-log_loss |"
      ]
     },
     "metadata": {},
     "output_type": "display_data"
    },
    {
     "data": {
      "text/html": [
       "<pre>+-----------+--------------+-------------------+-------------------+---------------------+---------------------+</pre>"
      ],
      "text/plain": [
       "+-----------+--------------+-------------------+-------------------+---------------------+---------------------+"
      ]
     },
     "metadata": {},
     "output_type": "display_data"
    },
    {
     "data": {
      "text/html": [
       "<pre>| 1         | 0.009064     | 0.877206          | 0.341581          | 0.859348            | 0.367257            |</pre>"
      ],
      "text/plain": [
       "| 1         | 0.009064     | 0.877206          | 0.341581          | 0.859348            | 0.367257            |"
      ]
     },
     "metadata": {},
     "output_type": "display_data"
    },
    {
     "data": {
      "text/html": [
       "<pre>| 2         | 0.016477     | 0.878585          | 0.341221          | 0.862779            | 0.367363            |</pre>"
      ],
      "text/plain": [
       "| 2         | 0.016477     | 0.878585          | 0.341221          | 0.862779            | 0.367363            |"
      ]
     },
     "metadata": {},
     "output_type": "display_data"
    },
    {
     "data": {
      "text/html": [
       "<pre>| 3         | 0.023378     | 0.878401          | 0.341469          | 0.862779            | 0.367433            |</pre>"
      ],
      "text/plain": [
       "| 3         | 0.023378     | 0.878401          | 0.341469          | 0.862779            | 0.367433            |"
      ]
     },
     "metadata": {},
     "output_type": "display_data"
    },
    {
     "data": {
      "text/html": [
       "<pre>| 4         | 0.030355     | 0.878585          | 0.341435          | 0.862779            | 0.366939            |</pre>"
      ],
      "text/plain": [
       "| 4         | 0.030355     | 0.878585          | 0.341435          | 0.862779            | 0.366939            |"
      ]
     },
     "metadata": {},
     "output_type": "display_data"
    },
    {
     "data": {
      "text/html": [
       "<pre>| 5         | 0.037732     | 0.878401          | 0.341374          | 0.864494            | 0.366705            |</pre>"
      ],
      "text/plain": [
       "| 5         | 0.037732     | 0.878401          | 0.341374          | 0.864494            | 0.366705            |"
      ]
     },
     "metadata": {},
     "output_type": "display_data"
    },
    {
     "data": {
      "text/html": [
       "<pre>| 6         | 0.046327     | 0.878401          | 0.341307          | 0.864494            | 0.366494            |</pre>"
      ],
      "text/plain": [
       "| 6         | 0.046327     | 0.878401          | 0.341307          | 0.864494            | 0.366494            |"
      ]
     },
     "metadata": {},
     "output_type": "display_data"
    },
    {
     "data": {
      "text/html": [
       "<pre>| 11        | 0.086444     | 0.878401          | 0.341301          | 0.864494            | 0.366429            |</pre>"
      ],
      "text/plain": [
       "| 11        | 0.086444     | 0.878401          | 0.341301          | 0.864494            | 0.366429            |"
      ]
     },
     "metadata": {},
     "output_type": "display_data"
    },
    {
     "data": {
      "text/html": [
       "<pre>| 51        | 0.389607     | 0.878401          | 0.341251          | 0.864494            | 0.366325            |</pre>"
      ],
      "text/plain": [
       "| 51        | 0.389607     | 0.878401          | 0.341251          | 0.864494            | 0.366325            |"
      ]
     },
     "metadata": {},
     "output_type": "display_data"
    },
    {
     "data": {
      "text/html": [
       "<pre>+-----------+--------------+-------------------+-------------------+---------------------+---------------------+</pre>"
      ],
      "text/plain": [
       "+-----------+--------------+-------------------+-------------------+---------------------+---------------------+"
      ]
     },
     "metadata": {},
     "output_type": "display_data"
    },
    {
     "name": "stdout",
     "output_type": "stream",
     "text": [
      "\n",
      "PROGRESS: Creating a validation set from 5 percent of training data. This may take a while.\n",
      "          You can set ``validation_set=None`` to disable validation tracking.\n"
     ]
    },
    {
     "data": {
      "text/html": [
       "<pre>Random forest classifier:</pre>"
      ],
      "text/plain": [
       "Random forest classifier:"
      ]
     },
     "metadata": {},
     "output_type": "display_data"
    },
    {
     "data": {
      "text/html": [
       "<pre>--------------------------------------------------------</pre>"
      ],
      "text/plain": [
       "--------------------------------------------------------"
      ]
     },
     "metadata": {},
     "output_type": "display_data"
    },
    {
     "data": {
      "text/html": [
       "<pre>Number of examples          : 10847</pre>"
      ],
      "text/plain": [
       "Number of examples          : 10847"
      ]
     },
     "metadata": {},
     "output_type": "display_data"
    },
    {
     "data": {
      "text/html": [
       "<pre>Number of classes           : 2</pre>"
      ],
      "text/plain": [
       "Number of classes           : 2"
      ]
     },
     "metadata": {},
     "output_type": "display_data"
    },
    {
     "data": {
      "text/html": [
       "<pre>Number of feature columns   : 1</pre>"
      ],
      "text/plain": [
       "Number of feature columns   : 1"
      ]
     },
     "metadata": {},
     "output_type": "display_data"
    },
    {
     "data": {
      "text/html": [
       "<pre>Number of unpacked features : 1</pre>"
      ],
      "text/plain": [
       "Number of unpacked features : 1"
      ]
     },
     "metadata": {},
     "output_type": "display_data"
    },
    {
     "data": {
      "text/html": [
       "<pre>+-----------+--------------+-------------------+-------------------+---------------------+---------------------+</pre>"
      ],
      "text/plain": [
       "+-----------+--------------+-------------------+-------------------+---------------------+---------------------+"
      ]
     },
     "metadata": {},
     "output_type": "display_data"
    },
    {
     "data": {
      "text/html": [
       "<pre>| Iteration | Elapsed Time | Training-accuracy | Training-log_loss | Validation-accuracy | Validation-log_loss |</pre>"
      ],
      "text/plain": [
       "| Iteration | Elapsed Time | Training-accuracy | Training-log_loss | Validation-accuracy | Validation-log_loss |"
      ]
     },
     "metadata": {},
     "output_type": "display_data"
    },
    {
     "data": {
      "text/html": [
       "<pre>+-----------+--------------+-------------------+-------------------+---------------------+---------------------+</pre>"
      ],
      "text/plain": [
       "+-----------+--------------+-------------------+-------------------+---------------------+---------------------+"
      ]
     },
     "metadata": {},
     "output_type": "display_data"
    },
    {
     "data": {
      "text/html": [
       "<pre>| 1         | 0.006192     | 0.865308          | 0.405320          | 0.862013            | 0.411290            |</pre>"
      ],
      "text/plain": [
       "| 1         | 0.006192     | 0.865308          | 0.405320          | 0.862013            | 0.411290            |"
      ]
     },
     "metadata": {},
     "output_type": "display_data"
    },
    {
     "data": {
      "text/html": [
       "<pre>| 2         | 0.011593     | 0.865308          | 0.404932          | 0.862013            | 0.410991            |</pre>"
      ],
      "text/plain": [
       "| 2         | 0.011593     | 0.865308          | 0.404932          | 0.862013            | 0.410991            |"
      ]
     },
     "metadata": {},
     "output_type": "display_data"
    },
    {
     "data": {
      "text/html": [
       "<pre>| 3         | 0.017000     | 0.865308          | 0.404879          | 0.862013            | 0.410949            |</pre>"
      ],
      "text/plain": [
       "| 3         | 0.017000     | 0.865308          | 0.404879          | 0.862013            | 0.410949            |"
      ]
     },
     "metadata": {},
     "output_type": "display_data"
    },
    {
     "data": {
      "text/html": [
       "<pre>| 4         | 0.022598     | 0.865308          | 0.404761          | 0.862013            | 0.410840            |</pre>"
      ],
      "text/plain": [
       "| 4         | 0.022598     | 0.865308          | 0.404761          | 0.862013            | 0.410840            |"
      ]
     },
     "metadata": {},
     "output_type": "display_data"
    },
    {
     "data": {
      "text/html": [
       "<pre>| 5         | 0.028131     | 0.865308          | 0.404784          | 0.862013            | 0.410842            |</pre>"
      ],
      "text/plain": [
       "| 5         | 0.028131     | 0.865308          | 0.404784          | 0.862013            | 0.410842            |"
      ]
     },
     "metadata": {},
     "output_type": "display_data"
    },
    {
     "data": {
      "text/html": [
       "<pre>| 6         | 0.033434     | 0.865308          | 0.404723          | 0.862013            | 0.410773            |</pre>"
      ],
      "text/plain": [
       "| 6         | 0.033434     | 0.865308          | 0.404723          | 0.862013            | 0.410773            |"
      ]
     },
     "metadata": {},
     "output_type": "display_data"
    },
    {
     "data": {
      "text/html": [
       "<pre>| 11        | 0.059264     | 0.865308          | 0.404657          | 0.862013            | 0.410690            |</pre>"
      ],
      "text/plain": [
       "| 11        | 0.059264     | 0.865308          | 0.404657          | 0.862013            | 0.410690            |"
      ]
     },
     "metadata": {},
     "output_type": "display_data"
    },
    {
     "data": {
      "text/html": [
       "<pre>| 51        | 0.289560     | 0.865308          | 0.404708          | 0.862013            | 0.410759            |</pre>"
      ],
      "text/plain": [
       "| 51        | 0.289560     | 0.865308          | 0.404708          | 0.862013            | 0.410759            |"
      ]
     },
     "metadata": {},
     "output_type": "display_data"
    },
    {
     "data": {
      "text/html": [
       "<pre>+-----------+--------------+-------------------+-------------------+---------------------+---------------------+</pre>"
      ],
      "text/plain": [
       "+-----------+--------------+-------------------+-------------------+---------------------+---------------------+"
      ]
     },
     "metadata": {},
     "output_type": "display_data"
    },
    {
     "name": "stdout",
     "output_type": "stream",
     "text": [
      "\n",
      "PROGRESS: Creating a validation set from 5 percent of training data. This may take a while.\n",
      "          You can set ``validation_set=None`` to disable validation tracking.\n"
     ]
    },
    {
     "data": {
      "text/html": [
       "<pre>Random forest classifier:</pre>"
      ],
      "text/plain": [
       "Random forest classifier:"
      ]
     },
     "metadata": {},
     "output_type": "display_data"
    },
    {
     "data": {
      "text/html": [
       "<pre>--------------------------------------------------------</pre>"
      ],
      "text/plain": [
       "--------------------------------------------------------"
      ]
     },
     "metadata": {},
     "output_type": "display_data"
    },
    {
     "data": {
      "text/html": [
       "<pre>Number of examples          : 10895</pre>"
      ],
      "text/plain": [
       "Number of examples          : 10895"
      ]
     },
     "metadata": {},
     "output_type": "display_data"
    },
    {
     "data": {
      "text/html": [
       "<pre>Number of classes           : 2</pre>"
      ],
      "text/plain": [
       "Number of classes           : 2"
      ]
     },
     "metadata": {},
     "output_type": "display_data"
    },
    {
     "data": {
      "text/html": [
       "<pre>Number of feature columns   : 1</pre>"
      ],
      "text/plain": [
       "Number of feature columns   : 1"
      ]
     },
     "metadata": {},
     "output_type": "display_data"
    },
    {
     "data": {
      "text/html": [
       "<pre>Number of unpacked features : 1</pre>"
      ],
      "text/plain": [
       "Number of unpacked features : 1"
      ]
     },
     "metadata": {},
     "output_type": "display_data"
    },
    {
     "data": {
      "text/html": [
       "<pre>+-----------+--------------+-------------------+-------------------+---------------------+---------------------+</pre>"
      ],
      "text/plain": [
       "+-----------+--------------+-------------------+-------------------+---------------------+---------------------+"
      ]
     },
     "metadata": {},
     "output_type": "display_data"
    },
    {
     "data": {
      "text/html": [
       "<pre>| Iteration | Elapsed Time | Training-accuracy | Training-log_loss | Validation-accuracy | Validation-log_loss |</pre>"
      ],
      "text/plain": [
       "| Iteration | Elapsed Time | Training-accuracy | Training-log_loss | Validation-accuracy | Validation-log_loss |"
      ]
     },
     "metadata": {},
     "output_type": "display_data"
    },
    {
     "data": {
      "text/html": [
       "<pre>+-----------+--------------+-------------------+-------------------+---------------------+---------------------+</pre>"
      ],
      "text/plain": [
       "+-----------+--------------+-------------------+-------------------+---------------------+---------------------+"
      ]
     },
     "metadata": {},
     "output_type": "display_data"
    },
    {
     "data": {
      "text/html": [
       "<pre>| 1         | 0.010655     | 0.866728          | 0.381593          | 0.860915            | 0.394171            |</pre>"
      ],
      "text/plain": [
       "| 1         | 0.010655     | 0.866728          | 0.381593          | 0.860915            | 0.394171            |"
      ]
     },
     "metadata": {},
     "output_type": "display_data"
    },
    {
     "data": {
      "text/html": [
       "<pre>| 2         | 0.018605     | 0.866820          | 0.381210          | 0.860915            | 0.394480            |</pre>"
      ],
      "text/plain": [
       "| 2         | 0.018605     | 0.866820          | 0.381210          | 0.860915            | 0.394480            |"
      ]
     },
     "metadata": {},
     "output_type": "display_data"
    },
    {
     "data": {
      "text/html": [
       "<pre>| 3         | 0.026697     | 0.866636          | 0.380963          | 0.860915            | 0.394850            |</pre>"
      ],
      "text/plain": [
       "| 3         | 0.026697     | 0.866636          | 0.380963          | 0.860915            | 0.394850            |"
      ]
     },
     "metadata": {},
     "output_type": "display_data"
    },
    {
     "data": {
      "text/html": [
       "<pre>| 4         | 0.034486     | 0.866820          | 0.381020          | 0.860915            | 0.394777            |</pre>"
      ],
      "text/plain": [
       "| 4         | 0.034486     | 0.866820          | 0.381020          | 0.860915            | 0.394777            |"
      ]
     },
     "metadata": {},
     "output_type": "display_data"
    },
    {
     "data": {
      "text/html": [
       "<pre>| 5         | 0.042178     | 0.866728          | 0.380949          | 0.860915            | 0.394014            |</pre>"
      ],
      "text/plain": [
       "| 5         | 0.042178     | 0.866728          | 0.380949          | 0.860915            | 0.394014            |"
      ]
     },
     "metadata": {},
     "output_type": "display_data"
    },
    {
     "data": {
      "text/html": [
       "<pre>| 6         | 0.050380     | 0.866820          | 0.381056          | 0.860915            | 0.394241            |</pre>"
      ],
      "text/plain": [
       "| 6         | 0.050380     | 0.866820          | 0.381056          | 0.860915            | 0.394241            |"
      ]
     },
     "metadata": {},
     "output_type": "display_data"
    },
    {
     "data": {
      "text/html": [
       "<pre>| 11        | 0.092156     | 0.866728          | 0.381190          | 0.860915            | 0.394204            |</pre>"
      ],
      "text/plain": [
       "| 11        | 0.092156     | 0.866728          | 0.381190          | 0.860915            | 0.394204            |"
      ]
     },
     "metadata": {},
     "output_type": "display_data"
    },
    {
     "data": {
      "text/html": [
       "<pre>| 51        | 0.420052     | 0.866820          | 0.381080          | 0.860915            | 0.394077            |</pre>"
      ],
      "text/plain": [
       "| 51        | 0.420052     | 0.866820          | 0.381080          | 0.860915            | 0.394077            |"
      ]
     },
     "metadata": {},
     "output_type": "display_data"
    },
    {
     "data": {
      "text/html": [
       "<pre>+-----------+--------------+-------------------+-------------------+---------------------+---------------------+</pre>"
      ],
      "text/plain": [
       "+-----------+--------------+-------------------+-------------------+---------------------+---------------------+"
      ]
     },
     "metadata": {},
     "output_type": "display_data"
    },
    {
     "name": "stdout",
     "output_type": "stream",
     "text": [
      "\n",
      "PROGRESS: Creating a validation set from 5 percent of training data. This may take a while.\n",
      "          You can set ``validation_set=None`` to disable validation tracking.\n"
     ]
    },
    {
     "name": "stderr",
     "output_type": "stream",
     "text": [
      "2016-04-06 19:03:10,886 [ERROR] graphlab.toolkits._main, 66: Toolkit error: Feature 'user_created' is not of type (numeric, string, array, or dictionary).\n",
      "\n"
     ]
    },
    {
     "data": {
      "text/html": [
       "<pre>Random forest classifier:</pre>"
      ],
      "text/plain": [
       "Random forest classifier:"
      ]
     },
     "metadata": {},
     "output_type": "display_data"
    },
    {
     "data": {
      "text/html": [
       "<pre>--------------------------------------------------------</pre>"
      ],
      "text/plain": [
       "--------------------------------------------------------"
      ]
     },
     "metadata": {},
     "output_type": "display_data"
    },
    {
     "data": {
      "text/html": [
       "<pre>Number of examples          : 10948</pre>"
      ],
      "text/plain": [
       "Number of examples          : 10948"
      ]
     },
     "metadata": {},
     "output_type": "display_data"
    },
    {
     "data": {
      "text/html": [
       "<pre>Number of classes           : 2</pre>"
      ],
      "text/plain": [
       "Number of classes           : 2"
      ]
     },
     "metadata": {},
     "output_type": "display_data"
    },
    {
     "data": {
      "text/html": [
       "<pre>Number of feature columns   : 1</pre>"
      ],
      "text/plain": [
       "Number of feature columns   : 1"
      ]
     },
     "metadata": {},
     "output_type": "display_data"
    },
    {
     "data": {
      "text/html": [
       "<pre>Number of unpacked features : 1</pre>"
      ],
      "text/plain": [
       "Number of unpacked features : 1"
      ]
     },
     "metadata": {},
     "output_type": "display_data"
    },
    {
     "data": {
      "text/html": [
       "<pre>+-----------+--------------+-------------------+-------------------+---------------------+---------------------+</pre>"
      ],
      "text/plain": [
       "+-----------+--------------+-------------------+-------------------+---------------------+---------------------+"
      ]
     },
     "metadata": {},
     "output_type": "display_data"
    },
    {
     "data": {
      "text/html": [
       "<pre>| Iteration | Elapsed Time | Training-accuracy | Training-log_loss | Validation-accuracy | Validation-log_loss |</pre>"
      ],
      "text/plain": [
       "| Iteration | Elapsed Time | Training-accuracy | Training-log_loss | Validation-accuracy | Validation-log_loss |"
      ]
     },
     "metadata": {},
     "output_type": "display_data"
    },
    {
     "data": {
      "text/html": [
       "<pre>+-----------+--------------+-------------------+-------------------+---------------------+---------------------+</pre>"
      ],
      "text/plain": [
       "+-----------+--------------+-------------------+-------------------+---------------------+---------------------+"
      ]
     },
     "metadata": {},
     "output_type": "display_data"
    },
    {
     "data": {
      "text/html": [
       "<pre>| 1         | 0.006783     | 0.864815          | 0.386492          | 0.873786            | 0.374869            |</pre>"
      ],
      "text/plain": [
       "| 1         | 0.006783     | 0.864815          | 0.386492          | 0.873786            | 0.374869            |"
      ]
     },
     "metadata": {},
     "output_type": "display_data"
    },
    {
     "data": {
      "text/html": [
       "<pre>| 2         | 0.013030     | 0.864815          | 0.386473          | 0.873786            | 0.374803            |</pre>"
      ],
      "text/plain": [
       "| 2         | 0.013030     | 0.864815          | 0.386473          | 0.873786            | 0.374803            |"
      ]
     },
     "metadata": {},
     "output_type": "display_data"
    },
    {
     "data": {
      "text/html": [
       "<pre>| 3         | 0.018905     | 0.864815          | 0.386266          | 0.873786            | 0.374599            |</pre>"
      ],
      "text/plain": [
       "| 3         | 0.018905     | 0.864815          | 0.386266          | 0.873786            | 0.374599            |"
      ]
     },
     "metadata": {},
     "output_type": "display_data"
    },
    {
     "data": {
      "text/html": [
       "<pre>| 4         | 0.025469     | 0.864724          | 0.386400          | 0.873786            | 0.374749            |</pre>"
      ],
      "text/plain": [
       "| 4         | 0.025469     | 0.864724          | 0.386400          | 0.873786            | 0.374749            |"
      ]
     },
     "metadata": {},
     "output_type": "display_data"
    },
    {
     "data": {
      "text/html": [
       "<pre>| 5         | 0.031853     | 0.864815          | 0.386435          | 0.873786            | 0.374796            |</pre>"
      ],
      "text/plain": [
       "| 5         | 0.031853     | 0.864815          | 0.386435          | 0.873786            | 0.374796            |"
      ]
     },
     "metadata": {},
     "output_type": "display_data"
    },
    {
     "data": {
      "text/html": [
       "<pre>| 6         | 0.038301     | 0.864815          | 0.386434          | 0.873786            | 0.374794            |</pre>"
      ],
      "text/plain": [
       "| 6         | 0.038301     | 0.864815          | 0.386434          | 0.873786            | 0.374794            |"
      ]
     },
     "metadata": {},
     "output_type": "display_data"
    },
    {
     "data": {
      "text/html": [
       "<pre>| 11        | 0.068012     | 0.864724          | 0.386427          | 0.873786            | 0.374778            |</pre>"
      ],
      "text/plain": [
       "| 11        | 0.068012     | 0.864724          | 0.386427          | 0.873786            | 0.374778            |"
      ]
     },
     "metadata": {},
     "output_type": "display_data"
    },
    {
     "data": {
      "text/html": [
       "<pre>| 51        | 0.321190     | 0.864815          | 0.386350          | 0.873786            | 0.374700            |</pre>"
      ],
      "text/plain": [
       "| 51        | 0.321190     | 0.864815          | 0.386350          | 0.873786            | 0.374700            |"
      ]
     },
     "metadata": {},
     "output_type": "display_data"
    },
    {
     "data": {
      "text/html": [
       "<pre>+-----------+--------------+-------------------+-------------------+---------------------+---------------------+</pre>"
      ],
      "text/plain": [
       "+-----------+--------------+-------------------+-------------------+---------------------+---------------------+"
      ]
     },
     "metadata": {},
     "output_type": "display_data"
    },
    {
     "name": "stdout",
     "output_type": "stream",
     "text": [
      "\n",
      "PROGRESS: Creating a validation set from 5 percent of training data. This may take a while.\n",
      "          You can set ``validation_set=None`` to disable validation tracking.\n",
      "\n",
      "PROGRESS: Creating a validation set from 5 percent of training data. This may take a while.\n",
      "          You can set ``validation_set=None`` to disable validation tracking.\n"
     ]
    },
    {
     "data": {
      "text/html": [
       "<pre>Random forest classifier:</pre>"
      ],
      "text/plain": [
       "Random forest classifier:"
      ]
     },
     "metadata": {},
     "output_type": "display_data"
    },
    {
     "data": {
      "text/html": [
       "<pre>--------------------------------------------------------</pre>"
      ],
      "text/plain": [
       "--------------------------------------------------------"
      ]
     },
     "metadata": {},
     "output_type": "display_data"
    },
    {
     "data": {
      "text/html": [
       "<pre>Number of examples          : 10936</pre>"
      ],
      "text/plain": [
       "Number of examples          : 10936"
      ]
     },
     "metadata": {},
     "output_type": "display_data"
    },
    {
     "data": {
      "text/html": [
       "<pre>Number of classes           : 2</pre>"
      ],
      "text/plain": [
       "Number of classes           : 2"
      ]
     },
     "metadata": {},
     "output_type": "display_data"
    },
    {
     "data": {
      "text/html": [
       "<pre>Number of feature columns   : 1</pre>"
      ],
      "text/plain": [
       "Number of feature columns   : 1"
      ]
     },
     "metadata": {},
     "output_type": "display_data"
    },
    {
     "data": {
      "text/html": [
       "<pre>Number of unpacked features : 1</pre>"
      ],
      "text/plain": [
       "Number of unpacked features : 1"
      ]
     },
     "metadata": {},
     "output_type": "display_data"
    },
    {
     "data": {
      "text/html": [
       "<pre>+-----------+--------------+-------------------+-------------------+---------------------+---------------------+</pre>"
      ],
      "text/plain": [
       "+-----------+--------------+-------------------+-------------------+---------------------+---------------------+"
      ]
     },
     "metadata": {},
     "output_type": "display_data"
    },
    {
     "data": {
      "text/html": [
       "<pre>| Iteration | Elapsed Time | Training-accuracy | Training-log_loss | Validation-accuracy | Validation-log_loss |</pre>"
      ],
      "text/plain": [
       "| Iteration | Elapsed Time | Training-accuracy | Training-log_loss | Validation-accuracy | Validation-log_loss |"
      ]
     },
     "metadata": {},
     "output_type": "display_data"
    },
    {
     "data": {
      "text/html": [
       "<pre>+-----------+--------------+-------------------+-------------------+---------------------+---------------------+</pre>"
      ],
      "text/plain": [
       "+-----------+--------------+-------------------+-------------------+---------------------+---------------------+"
      ]
     },
     "metadata": {},
     "output_type": "display_data"
    },
    {
     "data": {
      "text/html": [
       "<pre>| 1         | 0.009707     | 0.868691          | 0.380989          | 0.865275            | 0.387855            |</pre>"
      ],
      "text/plain": [
       "| 1         | 0.009707     | 0.868691          | 0.380989          | 0.865275            | 0.387855            |"
      ]
     },
     "metadata": {},
     "output_type": "display_data"
    },
    {
     "data": {
      "text/html": [
       "<pre>| 2         | 0.018818     | 0.868050          | 0.380118          | 0.867173            | 0.386665            |</pre>"
      ],
      "text/plain": [
       "| 2         | 0.018818     | 0.868050          | 0.380118          | 0.867173            | 0.386665            |"
      ]
     },
     "metadata": {},
     "output_type": "display_data"
    },
    {
     "data": {
      "text/html": [
       "<pre>| 3         | 0.027364     | 0.869422          | 0.378276          | 0.869070            | 0.385622            |</pre>"
      ],
      "text/plain": [
       "| 3         | 0.027364     | 0.869422          | 0.378276          | 0.869070            | 0.385622            |"
      ]
     },
     "metadata": {},
     "output_type": "display_data"
    },
    {
     "data": {
      "text/html": [
       "<pre>| 4         | 0.035357     | 0.868233          | 0.378402          | 0.869070            | 0.384693            |</pre>"
      ],
      "text/plain": [
       "| 4         | 0.035357     | 0.868233          | 0.378402          | 0.869070            | 0.384693            |"
      ]
     },
     "metadata": {},
     "output_type": "display_data"
    },
    {
     "data": {
      "text/html": [
       "<pre>| 5         | 0.045210     | 0.868142          | 0.378419          | 0.869070            | 0.383375            |</pre>"
      ],
      "text/plain": [
       "| 5         | 0.045210     | 0.868142          | 0.378419          | 0.869070            | 0.383375            |"
      ]
     },
     "metadata": {},
     "output_type": "display_data"
    },
    {
     "data": {
      "text/html": [
       "<pre>| 6         | 0.055230     | 0.868233          | 0.378474          | 0.869070            | 0.382213            |</pre>"
      ],
      "text/plain": [
       "| 6         | 0.055230     | 0.868233          | 0.378474          | 0.869070            | 0.382213            |"
      ]
     },
     "metadata": {},
     "output_type": "display_data"
    },
    {
     "data": {
      "text/html": [
       "<pre>| 11        | 0.092695     | 0.867685          | 0.378226          | 0.865275            | 0.382778            |</pre>"
      ],
      "text/plain": [
       "| 11        | 0.092695     | 0.867685          | 0.378226          | 0.865275            | 0.382778            |"
      ]
     },
     "metadata": {},
     "output_type": "display_data"
    },
    {
     "data": {
      "text/html": [
       "<pre>| 51        | 0.399516     | 0.867410          | 0.377537          | 0.865275            | 0.383347            |</pre>"
      ],
      "text/plain": [
       "| 51        | 0.399516     | 0.867410          | 0.377537          | 0.865275            | 0.383347            |"
      ]
     },
     "metadata": {},
     "output_type": "display_data"
    },
    {
     "data": {
      "text/html": [
       "<pre>+-----------+--------------+-------------------+-------------------+---------------------+---------------------+</pre>"
      ],
      "text/plain": [
       "+-----------+--------------+-------------------+-------------------+---------------------+---------------------+"
      ]
     },
     "metadata": {},
     "output_type": "display_data"
    },
    {
     "name": "stdout",
     "output_type": "stream",
     "text": [
      "\n",
      "PROGRESS: Creating a validation set from 5 percent of training data. This may take a while.\n",
      "          You can set ``validation_set=None`` to disable validation tracking.\n"
     ]
    },
    {
     "data": {
      "text/html": [
       "<pre>Random forest classifier:</pre>"
      ],
      "text/plain": [
       "Random forest classifier:"
      ]
     },
     "metadata": {},
     "output_type": "display_data"
    },
    {
     "data": {
      "text/html": [
       "<pre>--------------------------------------------------------</pre>"
      ],
      "text/plain": [
       "--------------------------------------------------------"
      ]
     },
     "metadata": {},
     "output_type": "display_data"
    },
    {
     "data": {
      "text/html": [
       "<pre>Number of examples          : 10897</pre>"
      ],
      "text/plain": [
       "Number of examples          : 10897"
      ]
     },
     "metadata": {},
     "output_type": "display_data"
    },
    {
     "data": {
      "text/html": [
       "<pre>Number of classes           : 2</pre>"
      ],
      "text/plain": [
       "Number of classes           : 2"
      ]
     },
     "metadata": {},
     "output_type": "display_data"
    },
    {
     "data": {
      "text/html": [
       "<pre>Number of feature columns   : 1</pre>"
      ],
      "text/plain": [
       "Number of feature columns   : 1"
      ]
     },
     "metadata": {},
     "output_type": "display_data"
    },
    {
     "data": {
      "text/html": [
       "<pre>Number of unpacked features : 1</pre>"
      ],
      "text/plain": [
       "Number of unpacked features : 1"
      ]
     },
     "metadata": {},
     "output_type": "display_data"
    },
    {
     "data": {
      "text/html": [
       "<pre>+-----------+--------------+-------------------+-------------------+---------------------+---------------------+</pre>"
      ],
      "text/plain": [
       "+-----------+--------------+-------------------+-------------------+---------------------+---------------------+"
      ]
     },
     "metadata": {},
     "output_type": "display_data"
    },
    {
     "data": {
      "text/html": [
       "<pre>| Iteration | Elapsed Time | Training-accuracy | Training-log_loss | Validation-accuracy | Validation-log_loss |</pre>"
      ],
      "text/plain": [
       "| Iteration | Elapsed Time | Training-accuracy | Training-log_loss | Validation-accuracy | Validation-log_loss |"
      ]
     },
     "metadata": {},
     "output_type": "display_data"
    },
    {
     "data": {
      "text/html": [
       "<pre>+-----------+--------------+-------------------+-------------------+---------------------+---------------------+</pre>"
      ],
      "text/plain": [
       "+-----------+--------------+-------------------+-------------------+---------------------+---------------------+"
      ]
     },
     "metadata": {},
     "output_type": "display_data"
    },
    {
     "data": {
      "text/html": [
       "<pre>| 1         | 0.009375     | 0.868404          | 0.381551          | 0.888693            | 0.359973            |</pre>"
      ],
      "text/plain": [
       "| 1         | 0.009375     | 0.868404          | 0.381551          | 0.888693            | 0.359973            |"
      ]
     },
     "metadata": {},
     "output_type": "display_data"
    },
    {
     "data": {
      "text/html": [
       "<pre>| 2         | 0.017546     | 0.869047          | 0.380348          | 0.886926            | 0.355835            |</pre>"
      ],
      "text/plain": [
       "| 2         | 0.017546     | 0.869047          | 0.380348          | 0.886926            | 0.355835            |"
      ]
     },
     "metadata": {},
     "output_type": "display_data"
    },
    {
     "data": {
      "text/html": [
       "<pre>| 3         | 0.024996     | 0.868588          | 0.380094          | 0.888693            | 0.355442            |</pre>"
      ],
      "text/plain": [
       "| 3         | 0.024996     | 0.868588          | 0.380094          | 0.888693            | 0.355442            |"
      ]
     },
     "metadata": {},
     "output_type": "display_data"
    },
    {
     "data": {
      "text/html": [
       "<pre>| 4         | 0.032785     | 0.868037          | 0.379877          | 0.888693            | 0.354236            |</pre>"
      ],
      "text/plain": [
       "| 4         | 0.032785     | 0.868037          | 0.379877          | 0.888693            | 0.354236            |"
      ]
     },
     "metadata": {},
     "output_type": "display_data"
    },
    {
     "data": {
      "text/html": [
       "<pre>| 5         | 0.041444     | 0.868037          | 0.380129          | 0.888693            | 0.354588            |</pre>"
      ],
      "text/plain": [
       "| 5         | 0.041444     | 0.868037          | 0.380129          | 0.888693            | 0.354588            |"
      ]
     },
     "metadata": {},
     "output_type": "display_data"
    },
    {
     "data": {
      "text/html": [
       "<pre>| 6         | 0.050016     | 0.868221          | 0.380317          | 0.888693            | 0.355036            |</pre>"
      ],
      "text/plain": [
       "| 6         | 0.050016     | 0.868221          | 0.380317          | 0.888693            | 0.355036            |"
      ]
     },
     "metadata": {},
     "output_type": "display_data"
    },
    {
     "data": {
      "text/html": [
       "<pre>| 11        | 0.092600     | 0.867762          | 0.380246          | 0.888693            | 0.354841            |</pre>"
      ],
      "text/plain": [
       "| 11        | 0.092600     | 0.867762          | 0.380246          | 0.888693            | 0.354841            |"
      ]
     },
     "metadata": {},
     "output_type": "display_data"
    },
    {
     "data": {
      "text/html": [
       "<pre>| 51        | 0.421746     | 0.867762          | 0.379744          | 0.888693            | 0.353803            |</pre>"
      ],
      "text/plain": [
       "| 51        | 0.421746     | 0.867762          | 0.379744          | 0.888693            | 0.353803            |"
      ]
     },
     "metadata": {},
     "output_type": "display_data"
    },
    {
     "data": {
      "text/html": [
       "<pre>+-----------+--------------+-------------------+-------------------+---------------------+---------------------+</pre>"
      ],
      "text/plain": [
       "+-----------+--------------+-------------------+-------------------+---------------------+---------------------+"
      ]
     },
     "metadata": {},
     "output_type": "display_data"
    },
    {
     "name": "stdout",
     "output_type": "stream",
     "text": [
      "\n",
      "PROGRESS: Creating a validation set from 5 percent of training data. This may take a while.\n",
      "          You can set ``validation_set=None`` to disable validation tracking.\n"
     ]
    },
    {
     "data": {
      "text/html": [
       "<pre>Random forest classifier:</pre>"
      ],
      "text/plain": [
       "Random forest classifier:"
      ]
     },
     "metadata": {},
     "output_type": "display_data"
    },
    {
     "data": {
      "text/html": [
       "<pre>--------------------------------------------------------</pre>"
      ],
      "text/plain": [
       "--------------------------------------------------------"
      ]
     },
     "metadata": {},
     "output_type": "display_data"
    },
    {
     "data": {
      "text/html": [
       "<pre>Number of examples          : 10921</pre>"
      ],
      "text/plain": [
       "Number of examples          : 10921"
      ]
     },
     "metadata": {},
     "output_type": "display_data"
    },
    {
     "data": {
      "text/html": [
       "<pre>Number of classes           : 2</pre>"
      ],
      "text/plain": [
       "Number of classes           : 2"
      ]
     },
     "metadata": {},
     "output_type": "display_data"
    },
    {
     "data": {
      "text/html": [
       "<pre>Number of feature columns   : 1</pre>"
      ],
      "text/plain": [
       "Number of feature columns   : 1"
      ]
     },
     "metadata": {},
     "output_type": "display_data"
    },
    {
     "data": {
      "text/html": [
       "<pre>Number of unpacked features : 1</pre>"
      ],
      "text/plain": [
       "Number of unpacked features : 1"
      ]
     },
     "metadata": {},
     "output_type": "display_data"
    },
    {
     "data": {
      "text/html": [
       "<pre>+-----------+--------------+-------------------+-------------------+---------------------+---------------------+</pre>"
      ],
      "text/plain": [
       "+-----------+--------------+-------------------+-------------------+---------------------+---------------------+"
      ]
     },
     "metadata": {},
     "output_type": "display_data"
    },
    {
     "data": {
      "text/html": [
       "<pre>| Iteration | Elapsed Time | Training-accuracy | Training-log_loss | Validation-accuracy | Validation-log_loss |</pre>"
      ],
      "text/plain": [
       "| Iteration | Elapsed Time | Training-accuracy | Training-log_loss | Validation-accuracy | Validation-log_loss |"
      ]
     },
     "metadata": {},
     "output_type": "display_data"
    },
    {
     "data": {
      "text/html": [
       "<pre>+-----------+--------------+-------------------+-------------------+---------------------+---------------------+</pre>"
      ],
      "text/plain": [
       "+-----------+--------------+-------------------+-------------------+---------------------+---------------------+"
      ]
     },
     "metadata": {},
     "output_type": "display_data"
    },
    {
     "data": {
      "text/html": [
       "<pre>| 1         | 0.010536     | 0.870342          | 0.371142          | 0.892989            | 0.338596            |</pre>"
      ],
      "text/plain": [
       "| 1         | 0.010536     | 0.870342          | 0.371142          | 0.892989            | 0.338596            |"
      ]
     },
     "metadata": {},
     "output_type": "display_data"
    },
    {
     "data": {
      "text/html": [
       "<pre>| 2         | 0.018983     | 0.870342          | 0.371187          | 0.892989            | 0.338253            |</pre>"
      ],
      "text/plain": [
       "| 2         | 0.018983     | 0.870342          | 0.371187          | 0.892989            | 0.338253            |"
      ]
     },
     "metadata": {},
     "output_type": "display_data"
    },
    {
     "data": {
      "text/html": [
       "<pre>| 3         | 0.027159     | 0.870342          | 0.371393          | 0.892989            | 0.338904            |</pre>"
      ],
      "text/plain": [
       "| 3         | 0.027159     | 0.870342          | 0.371393          | 0.892989            | 0.338904            |"
      ]
     },
     "metadata": {},
     "output_type": "display_data"
    },
    {
     "data": {
      "text/html": [
       "<pre>| 4         | 0.036099     | 0.870342          | 0.371409          | 0.892989            | 0.338909            |</pre>"
      ],
      "text/plain": [
       "| 4         | 0.036099     | 0.870342          | 0.371409          | 0.892989            | 0.338909            |"
      ]
     },
     "metadata": {},
     "output_type": "display_data"
    },
    {
     "data": {
      "text/html": [
       "<pre>| 5         | 0.044227     | 0.870342          | 0.371381          | 0.892989            | 0.338691            |</pre>"
      ],
      "text/plain": [
       "| 5         | 0.044227     | 0.870342          | 0.371381          | 0.892989            | 0.338691            |"
      ]
     },
     "metadata": {},
     "output_type": "display_data"
    },
    {
     "data": {
      "text/html": [
       "<pre>| 6         | 0.052411     | 0.870342          | 0.371484          | 0.892989            | 0.338740            |</pre>"
      ],
      "text/plain": [
       "| 6         | 0.052411     | 0.870342          | 0.371484          | 0.892989            | 0.338740            |"
      ]
     },
     "metadata": {},
     "output_type": "display_data"
    },
    {
     "data": {
      "text/html": [
       "<pre>| 11        | 0.090391     | 0.870342          | 0.371263          | 0.892989            | 0.338509            |</pre>"
      ],
      "text/plain": [
       "| 11        | 0.090391     | 0.870342          | 0.371263          | 0.892989            | 0.338509            |"
      ]
     },
     "metadata": {},
     "output_type": "display_data"
    },
    {
     "data": {
      "text/html": [
       "<pre>| 51        | 0.402975     | 0.870342          | 0.371632          | 0.892989            | 0.339245            |</pre>"
      ],
      "text/plain": [
       "| 51        | 0.402975     | 0.870342          | 0.371632          | 0.892989            | 0.339245            |"
      ]
     },
     "metadata": {},
     "output_type": "display_data"
    },
    {
     "data": {
      "text/html": [
       "<pre>+-----------+--------------+-------------------+-------------------+---------------------+---------------------+</pre>"
      ],
      "text/plain": [
       "+-----------+--------------+-------------------+-------------------+---------------------+---------------------+"
      ]
     },
     "metadata": {},
     "output_type": "display_data"
    },
    {
     "name": "stdout",
     "output_type": "stream",
     "text": [
      "\n",
      "PROGRESS: Creating a validation set from 5 percent of training data. This may take a while.\n",
      "          You can set ``validation_set=None`` to disable validation tracking.\n"
     ]
    },
    {
     "data": {
      "text/html": [
       "<pre>WARNING: Detected extremely low variance for feature(s) 'email_domain_morethan20' because all entries are nearly the same.\n",
       "Proceeding with model training using all features. If the model does not provide results of adequate quality, exclude the above mentioned feature(s) from the input dataset.</pre>"
      ],
      "text/plain": [
       "WARNING: Detected extremely low variance for feature(s) 'email_domain_morethan20' because all entries are nearly the same.\n",
       "Proceeding with model training using all features. If the model does not provide results of adequate quality, exclude the above mentioned feature(s) from the input dataset."
      ]
     },
     "metadata": {},
     "output_type": "display_data"
    },
    {
     "data": {
      "text/html": [
       "<pre>Random forest classifier:</pre>"
      ],
      "text/plain": [
       "Random forest classifier:"
      ]
     },
     "metadata": {},
     "output_type": "display_data"
    },
    {
     "data": {
      "text/html": [
       "<pre>--------------------------------------------------------</pre>"
      ],
      "text/plain": [
       "--------------------------------------------------------"
      ]
     },
     "metadata": {},
     "output_type": "display_data"
    },
    {
     "data": {
      "text/html": [
       "<pre>Number of examples          : 10880</pre>"
      ],
      "text/plain": [
       "Number of examples          : 10880"
      ]
     },
     "metadata": {},
     "output_type": "display_data"
    },
    {
     "data": {
      "text/html": [
       "<pre>Number of classes           : 2</pre>"
      ],
      "text/plain": [
       "Number of classes           : 2"
      ]
     },
     "metadata": {},
     "output_type": "display_data"
    },
    {
     "data": {
      "text/html": [
       "<pre>Number of feature columns   : 1</pre>"
      ],
      "text/plain": [
       "Number of feature columns   : 1"
      ]
     },
     "metadata": {},
     "output_type": "display_data"
    },
    {
     "data": {
      "text/html": [
       "<pre>Number of unpacked features : 1</pre>"
      ],
      "text/plain": [
       "Number of unpacked features : 1"
      ]
     },
     "metadata": {},
     "output_type": "display_data"
    },
    {
     "data": {
      "text/html": [
       "<pre>+-----------+--------------+-------------------+-------------------+---------------------+---------------------+</pre>"
      ],
      "text/plain": [
       "+-----------+--------------+-------------------+-------------------+---------------------+---------------------+"
      ]
     },
     "metadata": {},
     "output_type": "display_data"
    },
    {
     "data": {
      "text/html": [
       "<pre>| Iteration | Elapsed Time | Training-accuracy | Training-log_loss | Validation-accuracy | Validation-log_loss |</pre>"
      ],
      "text/plain": [
       "| Iteration | Elapsed Time | Training-accuracy | Training-log_loss | Validation-accuracy | Validation-log_loss |"
      ]
     },
     "metadata": {},
     "output_type": "display_data"
    },
    {
     "data": {
      "text/html": [
       "<pre>+-----------+--------------+-------------------+-------------------+---------------------+---------------------+</pre>"
      ],
      "text/plain": [
       "+-----------+--------------+-------------------+-------------------+---------------------+---------------------+"
      ]
     },
     "metadata": {},
     "output_type": "display_data"
    },
    {
     "data": {
      "text/html": [
       "<pre>| 1         | 0.005541     | 0.864890          | 0.405945          | 0.869640            | 0.398997            |</pre>"
      ],
      "text/plain": [
       "| 1         | 0.005541     | 0.864890          | 0.405945          | 0.869640            | 0.398997            |"
      ]
     },
     "metadata": {},
     "output_type": "display_data"
    },
    {
     "data": {
      "text/html": [
       "<pre>| 2         | 0.010340     | 0.864890          | 0.406016          | 0.869640            | 0.399075            |</pre>"
      ],
      "text/plain": [
       "| 2         | 0.010340     | 0.864890          | 0.406016          | 0.869640            | 0.399075            |"
      ]
     },
     "metadata": {},
     "output_type": "display_data"
    },
    {
     "data": {
      "text/html": [
       "<pre>| 3         | 0.015168     | 0.864890          | 0.405867          | 0.869640            | 0.398911            |</pre>"
      ],
      "text/plain": [
       "| 3         | 0.015168     | 0.864890          | 0.405867          | 0.869640            | 0.398911            |"
      ]
     },
     "metadata": {},
     "output_type": "display_data"
    },
    {
     "data": {
      "text/html": [
       "<pre>| 4         | 0.019544     | 0.864890          | 0.406006          | 0.869640            | 0.399063            |</pre>"
      ],
      "text/plain": [
       "| 4         | 0.019544     | 0.864890          | 0.406006          | 0.869640            | 0.399063            |"
      ]
     },
     "metadata": {},
     "output_type": "display_data"
    },
    {
     "data": {
      "text/html": [
       "<pre>| 5         | 0.025028     | 0.864890          | 0.406002          | 0.869640            | 0.399059            |</pre>"
      ],
      "text/plain": [
       "| 5         | 0.025028     | 0.864890          | 0.406002          | 0.869640            | 0.399059            |"
      ]
     },
     "metadata": {},
     "output_type": "display_data"
    },
    {
     "data": {
      "text/html": [
       "<pre>| 6         | 0.030158     | 0.864890          | 0.406135          | 0.869640            | 0.399203            |</pre>"
      ],
      "text/plain": [
       "| 6         | 0.030158     | 0.864890          | 0.406135          | 0.869640            | 0.399203            |"
      ]
     },
     "metadata": {},
     "output_type": "display_data"
    },
    {
     "data": {
      "text/html": [
       "<pre>| 11        | 0.054935     | 0.864890          | 0.406180          | 0.869640            | 0.399253            |</pre>"
      ],
      "text/plain": [
       "| 11        | 0.054935     | 0.864890          | 0.406180          | 0.869640            | 0.399253            |"
      ]
     },
     "metadata": {},
     "output_type": "display_data"
    },
    {
     "data": {
      "text/html": [
       "<pre>| 51        | 0.250696     | 0.864890          | 0.406185          | 0.869640            | 0.399258            |</pre>"
      ],
      "text/plain": [
       "| 51        | 0.250696     | 0.864890          | 0.406185          | 0.869640            | 0.399258            |"
      ]
     },
     "metadata": {},
     "output_type": "display_data"
    },
    {
     "data": {
      "text/html": [
       "<pre>+-----------+--------------+-------------------+-------------------+---------------------+---------------------+</pre>"
      ],
      "text/plain": [
       "+-----------+--------------+-------------------+-------------------+---------------------+---------------------+"
      ]
     },
     "metadata": {},
     "output_type": "display_data"
    },
    {
     "name": "stdout",
     "output_type": "stream",
     "text": [
      "\n",
      "PROGRESS: Creating a validation set from 5 percent of training data. This may take a while.\n",
      "          You can set ``validation_set=None`` to disable validation tracking.\n"
     ]
    },
    {
     "data": {
      "text/html": [
       "<pre>Random forest classifier:</pre>"
      ],
      "text/plain": [
       "Random forest classifier:"
      ]
     },
     "metadata": {},
     "output_type": "display_data"
    },
    {
     "data": {
      "text/html": [
       "<pre>--------------------------------------------------------</pre>"
      ],
      "text/plain": [
       "--------------------------------------------------------"
      ]
     },
     "metadata": {},
     "output_type": "display_data"
    },
    {
     "data": {
      "text/html": [
       "<pre>Number of examples          : 10899</pre>"
      ],
      "text/plain": [
       "Number of examples          : 10899"
      ]
     },
     "metadata": {},
     "output_type": "display_data"
    },
    {
     "data": {
      "text/html": [
       "<pre>Number of classes           : 2</pre>"
      ],
      "text/plain": [
       "Number of classes           : 2"
      ]
     },
     "metadata": {},
     "output_type": "display_data"
    },
    {
     "data": {
      "text/html": [
       "<pre>Number of feature columns   : 1</pre>"
      ],
      "text/plain": [
       "Number of feature columns   : 1"
      ]
     },
     "metadata": {},
     "output_type": "display_data"
    },
    {
     "data": {
      "text/html": [
       "<pre>Number of unpacked features : 1</pre>"
      ],
      "text/plain": [
       "Number of unpacked features : 1"
      ]
     },
     "metadata": {},
     "output_type": "display_data"
    },
    {
     "data": {
      "text/html": [
       "<pre>+-----------+--------------+-------------------+-------------------+---------------------+---------------------+</pre>"
      ],
      "text/plain": [
       "+-----------+--------------+-------------------+-------------------+---------------------+---------------------+"
      ]
     },
     "metadata": {},
     "output_type": "display_data"
    },
    {
     "data": {
      "text/html": [
       "<pre>| Iteration | Elapsed Time | Training-accuracy | Training-log_loss | Validation-accuracy | Validation-log_loss |</pre>"
      ],
      "text/plain": [
       "| Iteration | Elapsed Time | Training-accuracy | Training-log_loss | Validation-accuracy | Validation-log_loss |"
      ]
     },
     "metadata": {},
     "output_type": "display_data"
    },
    {
     "data": {
      "text/html": [
       "<pre>+-----------+--------------+-------------------+-------------------+---------------------+---------------------+</pre>"
      ],
      "text/plain": [
       "+-----------+--------------+-------------------+-------------------+---------------------+---------------------+"
      ]
     },
     "metadata": {},
     "output_type": "display_data"
    },
    {
     "data": {
      "text/html": [
       "<pre>| 1         | 0.009177     | 0.931829          | 0.276657          | 0.932624            | 0.273812            |</pre>"
      ],
      "text/plain": [
       "| 1         | 0.009177     | 0.931829          | 0.276657          | 0.932624            | 0.273812            |"
      ]
     },
     "metadata": {},
     "output_type": "display_data"
    },
    {
     "data": {
      "text/html": [
       "<pre>| 2         | 0.017795     | 0.931829          | 0.276345          | 0.932624            | 0.276713            |</pre>"
      ],
      "text/plain": [
       "| 2         | 0.017795     | 0.931829          | 0.276345          | 0.932624            | 0.276713            |"
      ]
     },
     "metadata": {},
     "output_type": "display_data"
    },
    {
     "data": {
      "text/html": [
       "<pre>| 3         | 0.026233     | 0.931829          | 0.276348          | 0.932624            | 0.275508            |</pre>"
      ],
      "text/plain": [
       "| 3         | 0.026233     | 0.931829          | 0.276348          | 0.932624            | 0.275508            |"
      ]
     },
     "metadata": {},
     "output_type": "display_data"
    },
    {
     "data": {
      "text/html": [
       "<pre>| 4         | 0.034947     | 0.931829          | 0.276423          | 0.932624            | 0.276382            |</pre>"
      ],
      "text/plain": [
       "| 4         | 0.034947     | 0.931829          | 0.276423          | 0.932624            | 0.276382            |"
      ]
     },
     "metadata": {},
     "output_type": "display_data"
    },
    {
     "data": {
      "text/html": [
       "<pre>| 5         | 0.043393     | 0.931829          | 0.276303          | 0.932624            | 0.275677            |</pre>"
      ],
      "text/plain": [
       "| 5         | 0.043393     | 0.931829          | 0.276303          | 0.932624            | 0.275677            |"
      ]
     },
     "metadata": {},
     "output_type": "display_data"
    },
    {
     "data": {
      "text/html": [
       "<pre>| 6         | 0.051801     | 0.931829          | 0.276209          | 0.932624            | 0.275086            |</pre>"
      ],
      "text/plain": [
       "| 6         | 0.051801     | 0.931829          | 0.276209          | 0.932624            | 0.275086            |"
      ]
     },
     "metadata": {},
     "output_type": "display_data"
    },
    {
     "data": {
      "text/html": [
       "<pre>| 11        | 0.094298     | 0.931829          | 0.276070          | 0.932624            | 0.274959            |</pre>"
      ],
      "text/plain": [
       "| 11        | 0.094298     | 0.931829          | 0.276070          | 0.932624            | 0.274959            |"
      ]
     },
     "metadata": {},
     "output_type": "display_data"
    },
    {
     "data": {
      "text/html": [
       "<pre>| 51        | 0.413020     | 0.931829          | 0.276168          | 0.932624            | 0.275043            |</pre>"
      ],
      "text/plain": [
       "| 51        | 0.413020     | 0.931829          | 0.276168          | 0.932624            | 0.275043            |"
      ]
     },
     "metadata": {},
     "output_type": "display_data"
    },
    {
     "data": {
      "text/html": [
       "<pre>+-----------+--------------+-------------------+-------------------+---------------------+---------------------+</pre>"
      ],
      "text/plain": [
       "+-----------+--------------+-------------------+-------------------+---------------------+---------------------+"
      ]
     },
     "metadata": {},
     "output_type": "display_data"
    },
    {
     "name": "stdout",
     "output_type": "stream",
     "text": [
      "\n",
      "PROGRESS: Creating a validation set from 5 percent of training data. This may take a while.\n",
      "          You can set ``validation_set=None`` to disable validation tracking.\n"
     ]
    },
    {
     "data": {
      "text/html": [
       "<pre>Random forest classifier:</pre>"
      ],
      "text/plain": [
       "Random forest classifier:"
      ]
     },
     "metadata": {},
     "output_type": "display_data"
    },
    {
     "data": {
      "text/html": [
       "<pre>--------------------------------------------------------</pre>"
      ],
      "text/plain": [
       "--------------------------------------------------------"
      ]
     },
     "metadata": {},
     "output_type": "display_data"
    },
    {
     "data": {
      "text/html": [
       "<pre>Number of examples          : 10861</pre>"
      ],
      "text/plain": [
       "Number of examples          : 10861"
      ]
     },
     "metadata": {},
     "output_type": "display_data"
    },
    {
     "data": {
      "text/html": [
       "<pre>Number of classes           : 2</pre>"
      ],
      "text/plain": [
       "Number of classes           : 2"
      ]
     },
     "metadata": {},
     "output_type": "display_data"
    },
    {
     "data": {
      "text/html": [
       "<pre>Number of feature columns   : 1</pre>"
      ],
      "text/plain": [
       "Number of feature columns   : 1"
      ]
     },
     "metadata": {},
     "output_type": "display_data"
    },
    {
     "data": {
      "text/html": [
       "<pre>Number of unpacked features : 1</pre>"
      ],
      "text/plain": [
       "Number of unpacked features : 1"
      ]
     },
     "metadata": {},
     "output_type": "display_data"
    },
    {
     "data": {
      "text/html": [
       "<pre>+-----------+--------------+-------------------+-------------------+---------------------+---------------------+</pre>"
      ],
      "text/plain": [
       "+-----------+--------------+-------------------+-------------------+---------------------+---------------------+"
      ]
     },
     "metadata": {},
     "output_type": "display_data"
    },
    {
     "data": {
      "text/html": [
       "<pre>| Iteration | Elapsed Time | Training-accuracy | Training-log_loss | Validation-accuracy | Validation-log_loss |</pre>"
      ],
      "text/plain": [
       "| Iteration | Elapsed Time | Training-accuracy | Training-log_loss | Validation-accuracy | Validation-log_loss |"
      ]
     },
     "metadata": {},
     "output_type": "display_data"
    },
    {
     "data": {
      "text/html": [
       "<pre>+-----------+--------------+-------------------+-------------------+---------------------+---------------------+</pre>"
      ],
      "text/plain": [
       "+-----------+--------------+-------------------+-------------------+---------------------+---------------------+"
      ]
     },
     "metadata": {},
     "output_type": "display_data"
    },
    {
     "data": {
      "text/html": [
       "<pre>| 1         | 0.009362     | 0.932787          | 0.279595          | 0.938538            | 0.270326            |</pre>"
      ],
      "text/plain": [
       "| 1         | 0.009362     | 0.932787          | 0.279595          | 0.938538            | 0.270326            |"
      ]
     },
     "metadata": {},
     "output_type": "display_data"
    },
    {
     "data": {
      "text/html": [
       "<pre>| 2         | 0.017177     | 0.931406          | 0.280212          | 0.938538            | 0.270087            |</pre>"
      ],
      "text/plain": [
       "| 2         | 0.017177     | 0.931406          | 0.280212          | 0.938538            | 0.270087            |"
      ]
     },
     "metadata": {},
     "output_type": "display_data"
    },
    {
     "data": {
      "text/html": [
       "<pre>| 3         | 0.022965     | 0.931406          | 0.280743          | 0.938538            | 0.269959            |</pre>"
      ],
      "text/plain": [
       "| 3         | 0.022965     | 0.931406          | 0.280743          | 0.938538            | 0.269959            |"
      ]
     },
     "metadata": {},
     "output_type": "display_data"
    },
    {
     "data": {
      "text/html": [
       "<pre>| 4         | 0.028974     | 0.931406          | 0.280889          | 0.938538            | 0.269786            |</pre>"
      ],
      "text/plain": [
       "| 4         | 0.028974     | 0.931406          | 0.280889          | 0.938538            | 0.269786            |"
      ]
     },
     "metadata": {},
     "output_type": "display_data"
    },
    {
     "data": {
      "text/html": [
       "<pre>| 5         | 0.036970     | 0.931406          | 0.280446          | 0.938538            | 0.269726            |</pre>"
      ],
      "text/plain": [
       "| 5         | 0.036970     | 0.931406          | 0.280446          | 0.938538            | 0.269726            |"
      ]
     },
     "metadata": {},
     "output_type": "display_data"
    },
    {
     "data": {
      "text/html": [
       "<pre>| 6         | 0.045033     | 0.931406          | 0.280145          | 0.938538            | 0.269661            |</pre>"
      ],
      "text/plain": [
       "| 6         | 0.045033     | 0.931406          | 0.280145          | 0.938538            | 0.269661            |"
      ]
     },
     "metadata": {},
     "output_type": "display_data"
    },
    {
     "data": {
      "text/html": [
       "<pre>| 11        | 0.082832     | 0.931498          | 0.280199          | 0.938538            | 0.269566            |</pre>"
      ],
      "text/plain": [
       "| 11        | 0.082832     | 0.931498          | 0.280199          | 0.938538            | 0.269566            |"
      ]
     },
     "metadata": {},
     "output_type": "display_data"
    },
    {
     "data": {
      "text/html": [
       "<pre>| 51        | 0.391180     | 0.931498          | 0.279871          | 0.938538            | 0.269543            |</pre>"
      ],
      "text/plain": [
       "| 51        | 0.391180     | 0.931498          | 0.279871          | 0.938538            | 0.269543            |"
      ]
     },
     "metadata": {},
     "output_type": "display_data"
    },
    {
     "data": {
      "text/html": [
       "<pre>+-----------+--------------+-------------------+-------------------+---------------------+---------------------+</pre>"
      ],
      "text/plain": [
       "+-----------+--------------+-------------------+-------------------+---------------------+---------------------+"
      ]
     },
     "metadata": {},
     "output_type": "display_data"
    },
    {
     "name": "stdout",
     "output_type": "stream",
     "text": [
      "\n",
      "PROGRESS: Creating a validation set from 5 percent of training data. This may take a while.\n",
      "          You can set ``validation_set=None`` to disable validation tracking.\n",
      "**OUTPUT MUTED**"
     ]
    }
   ],
   "source": [
    "bad_cols = []\n",
    "in_forests = {}\n",
    "cols = [c for c in sf_train.column_names() if c[:5] != 'tfidf']\n",
    "for c in cols:\n",
    "    try:\n",
    "        rfc = gl.random_forest_classifier.create(sf_train[[c, 'fraud']], 'fraud',\n",
    "                                                num_trees=100)\n",
    "        in_forests[c] = rfc\n",
    "    except:\n",
    "        bad_cols.append(c)\n",
    "        \n",
    "good_cols = in_forests.keys()"
   ]
  },
  {
   "cell_type": "code",
   "execution_count": 6,
   "metadata": {
    "ExecuteTime": {
     "end_time": "2016-04-06T19:03:25.674880",
     "start_time": "2016-04-06T19:03:25.639075"
    },
    "collapsed": false
   },
   "outputs": [],
   "source": [
    "def get_scores(forests):\n",
    "    scores = {c: rfc.evaluate(sf_test) for c, rfc in forests.items()}\n",
    "    auc_scores = {c: ev['auc'] for c, ev in scores.items()}\n",
    "    accuracy_scores = {c: ev['accuracy'] for c, ev in scores.items()}\n",
    "    scoresf = gl.SFrame(auc_scores.keys())\n",
    "    get_auc_score = lambda x: auc_scores[x]\n",
    "    get_accuracy_score = lambda x: accuracy_scores[x]\n",
    "    scoresf['auc_score'] = scoresf['X1'].apply(get_auc_score)\n",
    "    scoresf['accuracy_score'] = scoresf['X1'].apply(get_accuracy_score)\n",
    "    return scoresf.sort('auc_score', ascending=False)"
   ]
  },
  {
   "cell_type": "code",
   "execution_count": 7,
   "metadata": {
    "ExecuteTime": {
     "end_time": "2016-04-06T19:03:25.713309",
     "start_time": "2016-04-06T19:03:25.676081"
    },
    "collapsed": false
   },
   "outputs": [
    {
     "data": {
      "text/plain": [
       "'approx_payout_date, event_created, event_end, event_published, event_start, user_created, previous_payouts_earliest, fraud'"
      ]
     },
     "execution_count": 7,
     "metadata": {},
     "output_type": "execute_result"
    }
   ],
   "source": [
    "', '.join(bad_cols)"
   ]
  },
  {
   "cell_type": "code",
   "execution_count": 22,
   "metadata": {
    "ExecuteTime": {
     "end_time": "2016-04-06T19:19:23.454676",
     "start_time": "2016-04-06T19:17:10.973948"
    },
    "collapsed": false
   },
   "outputs": [
    {
     "data": {
      "text/html": [
       "<pre>WARNING: Detected extremely low variance for feature(s) 'email_domain_morethan20' because all entries are nearly the same.\n",
       "Proceeding with model training using all features. If the model does not provide results of adequate quality, exclude the above mentioned feature(s) from the input dataset.</pre>"
      ],
      "text/plain": [
       "WARNING: Detected extremely low variance for feature(s) 'email_domain_morethan20' because all entries are nearly the same.\n",
       "Proceeding with model training using all features. If the model does not provide results of adequate quality, exclude the above mentioned feature(s) from the input dataset."
      ]
     },
     "metadata": {},
     "output_type": "display_data"
    },
    {
     "data": {
      "text/html": [
       "<pre>Random forest classifier:</pre>"
      ],
      "text/plain": [
       "Random forest classifier:"
      ]
     },
     "metadata": {},
     "output_type": "display_data"
    },
    {
     "data": {
      "text/html": [
       "<pre>--------------------------------------------------------</pre>"
      ],
      "text/plain": [
       "--------------------------------------------------------"
      ]
     },
     "metadata": {},
     "output_type": "display_data"
    },
    {
     "data": {
      "text/html": [
       "<pre>Number of examples          : 10818</pre>"
      ],
      "text/plain": [
       "Number of examples          : 10818"
      ]
     },
     "metadata": {},
     "output_type": "display_data"
    },
    {
     "data": {
      "text/html": [
       "<pre>Number of classes           : 2</pre>"
      ],
      "text/plain": [
       "Number of classes           : 2"
      ]
     },
     "metadata": {},
     "output_type": "display_data"
    },
    {
     "data": {
      "text/html": [
       "<pre>Number of feature columns   : 34</pre>"
      ],
      "text/plain": [
       "Number of feature columns   : 34"
      ]
     },
     "metadata": {},
     "output_type": "display_data"
    },
    {
     "data": {
      "text/html": [
       "<pre>Number of unpacked features : 34</pre>"
      ],
      "text/plain": [
       "Number of unpacked features : 34"
      ]
     },
     "metadata": {},
     "output_type": "display_data"
    },
    {
     "data": {
      "text/html": [
       "<pre>+-----------+--------------+-------------------+-------------------+---------------------+---------------------+</pre>"
      ],
      "text/plain": [
       "+-----------+--------------+-------------------+-------------------+---------------------+---------------------+"
      ]
     },
     "metadata": {},
     "output_type": "display_data"
    },
    {
     "data": {
      "text/html": [
       "<pre>| Iteration | Elapsed Time | Training-accuracy | Training-log_loss | Validation-accuracy | Validation-log_loss |</pre>"
      ],
      "text/plain": [
       "| Iteration | Elapsed Time | Training-accuracy | Training-log_loss | Validation-accuracy | Validation-log_loss |"
      ]
     },
     "metadata": {},
     "output_type": "display_data"
    },
    {
     "data": {
      "text/html": [
       "<pre>+-----------+--------------+-------------------+-------------------+---------------------+---------------------+</pre>"
      ],
      "text/plain": [
       "+-----------+--------------+-------------------+-------------------+---------------------+---------------------+"
      ]
     },
     "metadata": {},
     "output_type": "display_data"
    },
    {
     "data": {
      "text/html": [
       "<pre>| 1         | 0.017864     | 0.942411          | 0.253647          | 0.925581            | 0.280483            |</pre>"
      ],
      "text/plain": [
       "| 1         | 0.017864     | 0.942411          | 0.253647          | 0.925581            | 0.280483            |"
      ]
     },
     "metadata": {},
     "output_type": "display_data"
    },
    {
     "data": {
      "text/html": [
       "<pre>| 2         | 0.035748     | 0.943613          | 0.250118          | 0.931783            | 0.270792            |</pre>"
      ],
      "text/plain": [
       "| 2         | 0.035748     | 0.943613          | 0.250118          | 0.931783            | 0.270792            |"
      ]
     },
     "metadata": {},
     "output_type": "display_data"
    },
    {
     "data": {
      "text/html": [
       "<pre>| 3         | 0.052048     | 0.944167          | 0.250532          | 0.931783            | 0.271315            |</pre>"
      ],
      "text/plain": [
       "| 3         | 0.052048     | 0.944167          | 0.250532          | 0.931783            | 0.271315            |"
      ]
     },
     "metadata": {},
     "output_type": "display_data"
    },
    {
     "data": {
      "text/html": [
       "<pre>| 4         | 0.068483     | 0.943982          | 0.250224          | 0.930233            | 0.269411            |</pre>"
      ],
      "text/plain": [
       "| 4         | 0.068483     | 0.943982          | 0.250224          | 0.930233            | 0.269411            |"
      ]
     },
     "metadata": {},
     "output_type": "display_data"
    },
    {
     "data": {
      "text/html": [
       "<pre>| 5         | 0.086878     | 0.944260          | 0.250345          | 0.931783            | 0.269914            |</pre>"
      ],
      "text/plain": [
       "| 5         | 0.086878     | 0.944260          | 0.250345          | 0.931783            | 0.269914            |"
      ]
     },
     "metadata": {},
     "output_type": "display_data"
    },
    {
     "data": {
      "text/html": [
       "<pre>| 6         | 0.104844     | 0.943243          | 0.250334          | 0.930233            | 0.270544            |</pre>"
      ],
      "text/plain": [
       "| 6         | 0.104844     | 0.943243          | 0.250334          | 0.930233            | 0.270544            |"
      ]
     },
     "metadata": {},
     "output_type": "display_data"
    },
    {
     "data": {
      "text/html": [
       "<pre>| 11        | 0.189921     | 0.943613          | 0.249126          | 0.931783            | 0.270145            |</pre>"
      ],
      "text/plain": [
       "| 11        | 0.189921     | 0.943613          | 0.249126          | 0.931783            | 0.270145            |"
      ]
     },
     "metadata": {},
     "output_type": "display_data"
    },
    {
     "data": {
      "text/html": [
       "<pre>| 51        | 0.734022     | 0.943335          | 0.248943          | 0.931783            | 0.270248            |</pre>"
      ],
      "text/plain": [
       "| 51        | 0.734022     | 0.943335          | 0.248943          | 0.931783            | 0.270248            |"
      ]
     },
     "metadata": {},
     "output_type": "display_data"
    },
    {
     "data": {
      "text/html": [
       "<pre>| 100       | 1.409890     | 0.943613          | 0.248957          | 0.930233            | 0.270676            |</pre>"
      ],
      "text/plain": [
       "| 100       | 1.409890     | 0.943613          | 0.248957          | 0.930233            | 0.270676            |"
      ]
     },
     "metadata": {},
     "output_type": "display_data"
    },
    {
     "data": {
      "text/html": [
       "<pre>+-----------+--------------+-------------------+-------------------+---------------------+---------------------+</pre>"
      ],
      "text/plain": [
       "+-----------+--------------+-------------------+-------------------+---------------------+---------------------+"
      ]
     },
     "metadata": {},
     "output_type": "display_data"
    },
    {
     "name": "stdout",
     "output_type": "stream",
     "text": [
      "PROGRESS: Creating a validation set from 5 percent of training data. This may take a while.\n",
      "          You can set ``validation_set=None`` to disable validation tracking.\n",
      "\n",
      "PROGRESS: Creating a validation set from 5 percent of training data. This may take a while.\n",
      "          You can set ``validation_set=None`` to disable validation tracking.\n"
     ]
    },
    {
     "data": {
      "text/html": [
       "<pre>WARNING: Detected extremely low variance for feature(s) 'email_domain_morethan20' because all entries are nearly the same.\n",
       "Proceeding with model training using all features. If the model does not provide results of adequate quality, exclude the above mentioned feature(s) from the input dataset.</pre>"
      ],
      "text/plain": [
       "WARNING: Detected extremely low variance for feature(s) 'email_domain_morethan20' because all entries are nearly the same.\n",
       "Proceeding with model training using all features. If the model does not provide results of adequate quality, exclude the above mentioned feature(s) from the input dataset."
      ]
     },
     "metadata": {},
     "output_type": "display_data"
    },
    {
     "data": {
      "text/html": [
       "<pre>Boosted trees classifier:</pre>"
      ],
      "text/plain": [
       "Boosted trees classifier:"
      ]
     },
     "metadata": {},
     "output_type": "display_data"
    },
    {
     "data": {
      "text/html": [
       "<pre>--------------------------------------------------------</pre>"
      ],
      "text/plain": [
       "--------------------------------------------------------"
      ]
     },
     "metadata": {},
     "output_type": "display_data"
    },
    {
     "data": {
      "text/html": [
       "<pre>Number of examples          : 10940</pre>"
      ],
      "text/plain": [
       "Number of examples          : 10940"
      ]
     },
     "metadata": {},
     "output_type": "display_data"
    },
    {
     "data": {
      "text/html": [
       "<pre>Number of classes           : 2</pre>"
      ],
      "text/plain": [
       "Number of classes           : 2"
      ]
     },
     "metadata": {},
     "output_type": "display_data"
    },
    {
     "data": {
      "text/html": [
       "<pre>Number of feature columns   : 34</pre>"
      ],
      "text/plain": [
       "Number of feature columns   : 34"
      ]
     },
     "metadata": {},
     "output_type": "display_data"
    },
    {
     "data": {
      "text/html": [
       "<pre>Number of unpacked features : 34</pre>"
      ],
      "text/plain": [
       "Number of unpacked features : 34"
      ]
     },
     "metadata": {},
     "output_type": "display_data"
    },
    {
     "data": {
      "text/html": [
       "<pre>+-----------+--------------+-------------------+-------------------+---------------------+---------------------+</pre>"
      ],
      "text/plain": [
       "+-----------+--------------+-------------------+-------------------+---------------------+---------------------+"
      ]
     },
     "metadata": {},
     "output_type": "display_data"
    },
    {
     "data": {
      "text/html": [
       "<pre>| Iteration | Elapsed Time | Training-accuracy | Training-log_loss | Validation-accuracy | Validation-log_loss |</pre>"
      ],
      "text/plain": [
       "| Iteration | Elapsed Time | Training-accuracy | Training-log_loss | Validation-accuracy | Validation-log_loss |"
      ]
     },
     "metadata": {},
     "output_type": "display_data"
    },
    {
     "data": {
      "text/html": [
       "<pre>+-----------+--------------+-------------------+-------------------+---------------------+---------------------+</pre>"
      ],
      "text/plain": [
       "+-----------+--------------+-------------------+-------------------+---------------------+---------------------+"
      ]
     },
     "metadata": {},
     "output_type": "display_data"
    },
    {
     "data": {
      "text/html": [
       "<pre>| 1         | 0.017944     | 0.944790          | 0.490098          | 0.919694            | 0.503976            |</pre>"
      ],
      "text/plain": [
       "| 1         | 0.017944     | 0.944790          | 0.490098          | 0.919694            | 0.503976            |"
      ]
     },
     "metadata": {},
     "output_type": "display_data"
    },
    {
     "data": {
      "text/html": [
       "<pre>| 2         | 0.037461     | 0.946892          | 0.377470          | 0.919694            | 0.401141            |</pre>"
      ],
      "text/plain": [
       "| 2         | 0.037461     | 0.946892          | 0.377470          | 0.919694            | 0.401141            |"
      ]
     },
     "metadata": {},
     "output_type": "display_data"
    },
    {
     "data": {
      "text/html": [
       "<pre>| 3         | 0.054734     | 0.948080          | 0.308878          | 0.919694            | 0.343119            |</pre>"
      ],
      "text/plain": [
       "| 3         | 0.054734     | 0.948080          | 0.308878          | 0.919694            | 0.343119            |"
      ]
     },
     "metadata": {},
     "output_type": "display_data"
    },
    {
     "data": {
      "text/html": [
       "<pre>| 4         | 0.073727     | 0.948080          | 0.264178          | 0.917782            | 0.307411            |</pre>"
      ],
      "text/plain": [
       "| 4         | 0.073727     | 0.948080          | 0.264178          | 0.917782            | 0.307411            |"
      ]
     },
     "metadata": {},
     "output_type": "display_data"
    },
    {
     "data": {
      "text/html": [
       "<pre>| 5         | 0.092614     | 0.949360          | 0.232532          | 0.925430            | 0.284134            |</pre>"
      ],
      "text/plain": [
       "| 5         | 0.092614     | 0.949360          | 0.232532          | 0.925430            | 0.284134            |"
      ]
     },
     "metadata": {},
     "output_type": "display_data"
    },
    {
     "data": {
      "text/html": [
       "<pre>| 6         | 0.113634     | 0.949543          | 0.211136          | 0.923518            | 0.270198            |</pre>"
      ],
      "text/plain": [
       "| 6         | 0.113634     | 0.949543          | 0.211136          | 0.923518            | 0.270198            |"
      ]
     },
     "metadata": {},
     "output_type": "display_data"
    },
    {
     "data": {
      "text/html": [
       "<pre>| 11        | 0.213858     | 0.951097          | 0.157333          | 0.923518            | 0.240643            |</pre>"
      ],
      "text/plain": [
       "| 11        | 0.213858     | 0.951097          | 0.157333          | 0.923518            | 0.240643            |"
      ]
     },
     "metadata": {},
     "output_type": "display_data"
    },
    {
     "data": {
      "text/html": [
       "<pre>| 51        | 0.878987     | 0.985466          | 0.052136          | 0.934990            | 0.206164            |</pre>"
      ],
      "text/plain": [
       "| 51        | 0.878987     | 0.985466          | 0.052136          | 0.934990            | 0.206164            |"
      ]
     },
     "metadata": {},
     "output_type": "display_data"
    },
    {
     "data": {
      "text/html": [
       "<pre>| 100       | 1.689581     | 1.000000          | 0.013452          | 0.942639            | 0.225089            |</pre>"
      ],
      "text/plain": [
       "| 100       | 1.689581     | 1.000000          | 0.013452          | 0.942639            | 0.225089            |"
      ]
     },
     "metadata": {},
     "output_type": "display_data"
    },
    {
     "data": {
      "text/html": [
       "<pre>+-----------+--------------+-------------------+-------------------+---------------------+---------------------+</pre>"
      ],
      "text/plain": [
       "+-----------+--------------+-------------------+-------------------+---------------------+---------------------+"
      ]
     },
     "metadata": {},
     "output_type": "display_data"
    },
    {
     "name": "stdout",
     "output_type": "stream",
     "text": [
      "\n",
      "PROGRESS: Creating a validation set from 5 percent of training data. This may take a while.\n",
      "          You can set ``validation_set=None`` to disable validation tracking.\n"
     ]
    },
    {
     "data": {
      "text/html": [
       "<pre>WARNING: Detected extremely low variance for feature(s) 'email_domain_morethan20' because all entries are nearly the same.\n",
       "Proceeding with model training using all features. If the model does not provide results of adequate quality, exclude the above mentioned feature(s) from the input dataset.</pre>"
      ],
      "text/plain": [
       "WARNING: Detected extremely low variance for feature(s) 'email_domain_morethan20' because all entries are nearly the same.\n",
       "Proceeding with model training using all features. If the model does not provide results of adequate quality, exclude the above mentioned feature(s) from the input dataset."
      ]
     },
     "metadata": {},
     "output_type": "display_data"
    },
    {
     "data": {
      "text/html": [
       "<pre>Random forest classifier:</pre>"
      ],
      "text/plain": [
       "Random forest classifier:"
      ]
     },
     "metadata": {},
     "output_type": "display_data"
    },
    {
     "data": {
      "text/html": [
       "<pre>--------------------------------------------------------</pre>"
      ],
      "text/plain": [
       "--------------------------------------------------------"
      ]
     },
     "metadata": {},
     "output_type": "display_data"
    },
    {
     "data": {
      "text/html": [
       "<pre>Number of examples          : 10930</pre>"
      ],
      "text/plain": [
       "Number of examples          : 10930"
      ]
     },
     "metadata": {},
     "output_type": "display_data"
    },
    {
     "data": {
      "text/html": [
       "<pre>Number of classes           : 2</pre>"
      ],
      "text/plain": [
       "Number of classes           : 2"
      ]
     },
     "metadata": {},
     "output_type": "display_data"
    },
    {
     "data": {
      "text/html": [
       "<pre>Number of feature columns   : 34</pre>"
      ],
      "text/plain": [
       "Number of feature columns   : 34"
      ]
     },
     "metadata": {},
     "output_type": "display_data"
    },
    {
     "data": {
      "text/html": [
       "<pre>Number of unpacked features : 34</pre>"
      ],
      "text/plain": [
       "Number of unpacked features : 34"
      ]
     },
     "metadata": {},
     "output_type": "display_data"
    },
    {
     "data": {
      "text/html": [
       "<pre>+-----------+--------------+-------------------+-------------------+---------------------+---------------------+</pre>"
      ],
      "text/plain": [
       "+-----------+--------------+-------------------+-------------------+---------------------+---------------------+"
      ]
     },
     "metadata": {},
     "output_type": "display_data"
    },
    {
     "data": {
      "text/html": [
       "<pre>| Iteration | Elapsed Time | Training-accuracy | Training-log_loss | Validation-accuracy | Validation-log_loss |</pre>"
      ],
      "text/plain": [
       "| Iteration | Elapsed Time | Training-accuracy | Training-log_loss | Validation-accuracy | Validation-log_loss |"
      ]
     },
     "metadata": {},
     "output_type": "display_data"
    },
    {
     "data": {
      "text/html": [
       "<pre>+-----------+--------------+-------------------+-------------------+---------------------+---------------------+</pre>"
      ],
      "text/plain": [
       "+-----------+--------------+-------------------+-------------------+---------------------+---------------------+"
      ]
     },
     "metadata": {},
     "output_type": "display_data"
    },
    {
     "data": {
      "text/html": [
       "<pre>| 1         | 0.019415     | 0.943641          | 0.252324          | 0.923077            | 0.288967            |</pre>"
      ],
      "text/plain": [
       "| 1         | 0.019415     | 0.943641          | 0.252324          | 0.923077            | 0.288967            |"
      ]
     },
     "metadata": {},
     "output_type": "display_data"
    },
    {
     "data": {
      "text/html": [
       "<pre>| 2         | 0.036161     | 0.941263          | 0.254695          | 0.921201            | 0.288211            |</pre>"
      ],
      "text/plain": [
       "| 2         | 0.036161     | 0.941263          | 0.254695          | 0.921201            | 0.288211            |"
      ]
     },
     "metadata": {},
     "output_type": "display_data"
    },
    {
     "data": {
      "text/html": [
       "<pre>| 3         | 0.052337     | 0.941903          | 0.253251          | 0.921201            | 0.284756            |</pre>"
      ],
      "text/plain": [
       "| 3         | 0.052337     | 0.941903          | 0.253251          | 0.921201            | 0.284756            |"
      ]
     },
     "metadata": {},
     "output_type": "display_data"
    },
    {
     "data": {
      "text/html": [
       "<pre>| 4         | 0.068391     | 0.943641          | 0.251787          | 0.926829            | 0.283947            |</pre>"
      ],
      "text/plain": [
       "| 4         | 0.068391     | 0.943641          | 0.251787          | 0.926829            | 0.283947            |"
      ]
     },
     "metadata": {},
     "output_type": "display_data"
    },
    {
     "data": {
      "text/html": [
       "<pre>| 5         | 0.086960     | 0.943367          | 0.251073          | 0.924953            | 0.284302            |</pre>"
      ],
      "text/plain": [
       "| 5         | 0.086960     | 0.943367          | 0.251073          | 0.924953            | 0.284302            |"
      ]
     },
     "metadata": {},
     "output_type": "display_data"
    },
    {
     "data": {
      "text/html": [
       "<pre>| 6         | 0.104878     | 0.943550          | 0.251016          | 0.926829            | 0.283827            |</pre>"
      ],
      "text/plain": [
       "| 6         | 0.104878     | 0.943550          | 0.251016          | 0.926829            | 0.283827            |"
      ]
     },
     "metadata": {},
     "output_type": "display_data"
    },
    {
     "data": {
      "text/html": [
       "<pre>| 11        | 0.193907     | 0.943550          | 0.250232          | 0.926829            | 0.283124            |</pre>"
      ],
      "text/plain": [
       "| 11        | 0.193907     | 0.943550          | 0.250232          | 0.926829            | 0.283124            |"
      ]
     },
     "metadata": {},
     "output_type": "display_data"
    },
    {
     "data": {
      "text/html": [
       "<pre>| 51        | 0.789090     | 0.943550          | 0.249119          | 0.926829            | 0.282881            |</pre>"
      ],
      "text/plain": [
       "| 51        | 0.789090     | 0.943550          | 0.249119          | 0.926829            | 0.282881            |"
      ]
     },
     "metadata": {},
     "output_type": "display_data"
    },
    {
     "data": {
      "text/html": [
       "<pre>| 100       | 1.515099     | 0.943275          | 0.249107          | 0.924953            | 0.282674            |</pre>"
      ],
      "text/plain": [
       "| 100       | 1.515099     | 0.943275          | 0.249107          | 0.924953            | 0.282674            |"
      ]
     },
     "metadata": {},
     "output_type": "display_data"
    },
    {
     "data": {
      "text/html": [
       "<pre>+-----------+--------------+-------------------+-------------------+---------------------+---------------------+</pre>"
      ],
      "text/plain": [
       "+-----------+--------------+-------------------+-------------------+---------------------+---------------------+"
      ]
     },
     "metadata": {},
     "output_type": "display_data"
    },
    {
     "name": "stdout",
     "output_type": "stream",
     "text": [
      "\n",
      "PROGRESS: Creating a validation set from 5 percent of training data. This may take a while.\n",
      "          You can set ``validation_set=None`` to disable validation tracking.\n"
     ]
    },
    {
     "data": {
      "text/html": [
       "<pre>WARNING: Detected extremely low variance for feature(s) 'email_domain_morethan20' because all entries are nearly the same.\n",
       "Proceeding with model training using all features. If the model does not provide results of adequate quality, exclude the above mentioned feature(s) from the input dataset.</pre>"
      ],
      "text/plain": [
       "WARNING: Detected extremely low variance for feature(s) 'email_domain_morethan20' because all entries are nearly the same.\n",
       "Proceeding with model training using all features. If the model does not provide results of adequate quality, exclude the above mentioned feature(s) from the input dataset."
      ]
     },
     "metadata": {},
     "output_type": "display_data"
    },
    {
     "data": {
      "text/html": [
       "<pre>Boosted trees classifier:</pre>"
      ],
      "text/plain": [
       "Boosted trees classifier:"
      ]
     },
     "metadata": {},
     "output_type": "display_data"
    },
    {
     "data": {
      "text/html": [
       "<pre>--------------------------------------------------------</pre>"
      ],
      "text/plain": [
       "--------------------------------------------------------"
      ]
     },
     "metadata": {},
     "output_type": "display_data"
    },
    {
     "data": {
      "text/html": [
       "<pre>Number of examples          : 10899</pre>"
      ],
      "text/plain": [
       "Number of examples          : 10899"
      ]
     },
     "metadata": {},
     "output_type": "display_data"
    },
    {
     "data": {
      "text/html": [
       "<pre>Number of classes           : 2</pre>"
      ],
      "text/plain": [
       "Number of classes           : 2"
      ]
     },
     "metadata": {},
     "output_type": "display_data"
    },
    {
     "data": {
      "text/html": [
       "<pre>Number of feature columns   : 34</pre>"
      ],
      "text/plain": [
       "Number of feature columns   : 34"
      ]
     },
     "metadata": {},
     "output_type": "display_data"
    },
    {
     "data": {
      "text/html": [
       "<pre>Number of unpacked features : 34</pre>"
      ],
      "text/plain": [
       "Number of unpacked features : 34"
      ]
     },
     "metadata": {},
     "output_type": "display_data"
    },
    {
     "data": {
      "text/html": [
       "<pre>+-----------+--------------+-------------------+-------------------+---------------------+---------------------+</pre>"
      ],
      "text/plain": [
       "+-----------+--------------+-------------------+-------------------+---------------------+---------------------+"
      ]
     },
     "metadata": {},
     "output_type": "display_data"
    },
    {
     "data": {
      "text/html": [
       "<pre>| Iteration | Elapsed Time | Training-accuracy | Training-log_loss | Validation-accuracy | Validation-log_loss |</pre>"
      ],
      "text/plain": [
       "| Iteration | Elapsed Time | Training-accuracy | Training-log_loss | Validation-accuracy | Validation-log_loss |"
      ]
     },
     "metadata": {},
     "output_type": "display_data"
    },
    {
     "data": {
      "text/html": [
       "<pre>+-----------+--------------+-------------------+-------------------+---------------------+---------------------+</pre>"
      ],
      "text/plain": [
       "+-----------+--------------+-------------------+-------------------+---------------------+---------------------+"
      ]
     },
     "metadata": {},
     "output_type": "display_data"
    },
    {
     "data": {
      "text/html": [
       "<pre>| 1         | 0.020452     | 0.941554          | 0.492676          | 0.948582            | 0.488335            |</pre>"
      ],
      "text/plain": [
       "| 1         | 0.020452     | 0.941554          | 0.492676          | 0.948582            | 0.488335            |"
      ]
     },
     "metadata": {},
     "output_type": "display_data"
    },
    {
     "data": {
      "text/html": [
       "<pre>| 2         | 0.041525     | 0.942013          | 0.382126          | 0.950355            | 0.376986            |</pre>"
      ],
      "text/plain": [
       "| 2         | 0.041525     | 0.942013          | 0.382126          | 0.950355            | 0.376986            |"
      ]
     },
     "metadata": {},
     "output_type": "display_data"
    },
    {
     "data": {
      "text/html": [
       "<pre>| 3         | 0.060697     | 0.945408          | 0.313345          | 0.946809            | 0.306044            |</pre>"
      ],
      "text/plain": [
       "| 3         | 0.060697     | 0.945408          | 0.313345          | 0.946809            | 0.306044            |"
      ]
     },
     "metadata": {},
     "output_type": "display_data"
    },
    {
     "data": {
      "text/html": [
       "<pre>| 4         | 0.082977     | 0.946325          | 0.268984          | 0.952128            | 0.259687            |</pre>"
      ],
      "text/plain": [
       "| 4         | 0.082977     | 0.946325          | 0.268984          | 0.952128            | 0.259687            |"
      ]
     },
     "metadata": {},
     "output_type": "display_data"
    },
    {
     "data": {
      "text/html": [
       "<pre>| 5         | 0.104665     | 0.947610          | 0.238077          | 0.957447            | 0.226390            |</pre>"
      ],
      "text/plain": [
       "| 5         | 0.104665     | 0.947610          | 0.238077          | 0.957447            | 0.226390            |"
      ]
     },
     "metadata": {},
     "output_type": "display_data"
    },
    {
     "data": {
      "text/html": [
       "<pre>| 6         | 0.126485     | 0.946784          | 0.217150          | 0.955674            | 0.205978            |</pre>"
      ],
      "text/plain": [
       "| 6         | 0.126485     | 0.946784          | 0.217150          | 0.955674            | 0.205978            |"
      ]
     },
     "metadata": {},
     "output_type": "display_data"
    },
    {
     "data": {
      "text/html": [
       "<pre>| 11        | 0.220114     | 0.950271          | 0.164193          | 0.955674            | 0.163688            |</pre>"
      ],
      "text/plain": [
       "| 11        | 0.220114     | 0.950271          | 0.164193          | 0.955674            | 0.163688            |"
      ]
     },
     "metadata": {},
     "output_type": "display_data"
    },
    {
     "data": {
      "text/html": [
       "<pre>| 50        | 0.811102     | 0.982475          | 0.057592          | 0.960993            | 0.128632            |</pre>"
      ],
      "text/plain": [
       "| 50        | 0.811102     | 0.982475          | 0.057592          | 0.960993            | 0.128632            |"
      ]
     },
     "metadata": {},
     "output_type": "display_data"
    },
    {
     "data": {
      "text/html": [
       "<pre>| 51        | 0.830414     | 0.983393          | 0.055664          | 0.960993            | 0.127489            |</pre>"
      ],
      "text/plain": [
       "| 51        | 0.830414     | 0.983393          | 0.055664          | 0.960993            | 0.127489            |"
      ]
     },
     "metadata": {},
     "output_type": "display_data"
    },
    {
     "data": {
      "text/html": [
       "<pre>| 100       | 1.694350     | 0.999633          | 0.016984          | 0.968085            | 0.121260            |</pre>"
      ],
      "text/plain": [
       "| 100       | 1.694350     | 0.999633          | 0.016984          | 0.968085            | 0.121260            |"
      ]
     },
     "metadata": {},
     "output_type": "display_data"
    },
    {
     "data": {
      "text/html": [
       "<pre>+-----------+--------------+-------------------+-------------------+---------------------+---------------------+</pre>"
      ],
      "text/plain": [
       "+-----------+--------------+-------------------+-------------------+---------------------+---------------------+"
      ]
     },
     "metadata": {},
     "output_type": "display_data"
    },
    {
     "name": "stdout",
     "output_type": "stream",
     "text": [
      "\n",
      "PROGRESS: Creating a validation set from 5 percent of training data. This may take a while.\n",
      "          You can set ``validation_set=None`` to disable validation tracking.\n"
     ]
    },
    {
     "data": {
      "text/html": [
       "<pre>WARNING: Detected extremely low variance for feature(s) 'email_domain_morethan20' because all entries are nearly the same.\n",
       "Proceeding with model training using all features. If the model does not provide results of adequate quality, exclude the above mentioned feature(s) from the input dataset.</pre>"
      ],
      "text/plain": [
       "WARNING: Detected extremely low variance for feature(s) 'email_domain_morethan20' because all entries are nearly the same.\n",
       "Proceeding with model training using all features. If the model does not provide results of adequate quality, exclude the above mentioned feature(s) from the input dataset."
      ]
     },
     "metadata": {},
     "output_type": "display_data"
    },
    {
     "data": {
      "text/html": [
       "<pre>Random forest classifier:</pre>"
      ],
      "text/plain": [
       "Random forest classifier:"
      ]
     },
     "metadata": {},
     "output_type": "display_data"
    },
    {
     "data": {
      "text/html": [
       "<pre>--------------------------------------------------------</pre>"
      ],
      "text/plain": [
       "--------------------------------------------------------"
      ]
     },
     "metadata": {},
     "output_type": "display_data"
    },
    {
     "data": {
      "text/html": [
       "<pre>Number of examples          : 10881</pre>"
      ],
      "text/plain": [
       "Number of examples          : 10881"
      ]
     },
     "metadata": {},
     "output_type": "display_data"
    },
    {
     "data": {
      "text/html": [
       "<pre>Number of classes           : 2</pre>"
      ],
      "text/plain": [
       "Number of classes           : 2"
      ]
     },
     "metadata": {},
     "output_type": "display_data"
    },
    {
     "data": {
      "text/html": [
       "<pre>Number of feature columns   : 34</pre>"
      ],
      "text/plain": [
       "Number of feature columns   : 34"
      ]
     },
     "metadata": {},
     "output_type": "display_data"
    },
    {
     "data": {
      "text/html": [
       "<pre>Number of unpacked features : 34</pre>"
      ],
      "text/plain": [
       "Number of unpacked features : 34"
      ]
     },
     "metadata": {},
     "output_type": "display_data"
    },
    {
     "data": {
      "text/html": [
       "<pre>+-----------+--------------+-------------------+-------------------+---------------------+---------------------+</pre>"
      ],
      "text/plain": [
       "+-----------+--------------+-------------------+-------------------+---------------------+---------------------+"
      ]
     },
     "metadata": {},
     "output_type": "display_data"
    },
    {
     "data": {
      "text/html": [
       "<pre>| Iteration | Elapsed Time | Training-accuracy | Training-log_loss | Validation-accuracy | Validation-log_loss |</pre>"
      ],
      "text/plain": [
       "| Iteration | Elapsed Time | Training-accuracy | Training-log_loss | Validation-accuracy | Validation-log_loss |"
      ]
     },
     "metadata": {},
     "output_type": "display_data"
    },
    {
     "data": {
      "text/html": [
       "<pre>+-----------+--------------+-------------------+-------------------+---------------------+---------------------+</pre>"
      ],
      "text/plain": [
       "+-----------+--------------+-------------------+-------------------+---------------------+---------------------+"
      ]
     },
     "metadata": {},
     "output_type": "display_data"
    },
    {
     "data": {
      "text/html": [
       "<pre>| 1         | 0.016711     | 0.941458          | 0.256360          | 0.936426            | 0.261461            |</pre>"
      ],
      "text/plain": [
       "| 1         | 0.016711     | 0.941458          | 0.256360          | 0.936426            | 0.261461            |"
      ]
     },
     "metadata": {},
     "output_type": "display_data"
    },
    {
     "data": {
      "text/html": [
       "<pre>| 2         | 0.032942     | 0.943479          | 0.253074          | 0.939863            | 0.255830            |</pre>"
      ],
      "text/plain": [
       "| 2         | 0.032942     | 0.943479          | 0.253074          | 0.939863            | 0.255830            |"
      ]
     },
     "metadata": {},
     "output_type": "display_data"
    },
    {
     "data": {
      "text/html": [
       "<pre>| 3         | 0.050440     | 0.943388          | 0.252409          | 0.941581            | 0.252375            |</pre>"
      ],
      "text/plain": [
       "| 3         | 0.050440     | 0.943388          | 0.252409          | 0.941581            | 0.252375            |"
      ]
     },
     "metadata": {},
     "output_type": "display_data"
    },
    {
     "data": {
      "text/html": [
       "<pre>| 4         | 0.066713     | 0.944123          | 0.252303          | 0.939863            | 0.252802            |</pre>"
      ],
      "text/plain": [
       "| 4         | 0.066713     | 0.944123          | 0.252303          | 0.939863            | 0.252802            |"
      ]
     },
     "metadata": {},
     "output_type": "display_data"
    },
    {
     "data": {
      "text/html": [
       "<pre>| 5         | 0.083432     | 0.943847          | 0.252222          | 0.939863            | 0.251956            |</pre>"
      ],
      "text/plain": [
       "| 5         | 0.083432     | 0.943847          | 0.252222          | 0.939863            | 0.251956            |"
      ]
     },
     "metadata": {},
     "output_type": "display_data"
    },
    {
     "data": {
      "text/html": [
       "<pre>| 6         | 0.099700     | 0.942836          | 0.252466          | 0.941581            | 0.251230            |</pre>"
      ],
      "text/plain": [
       "| 6         | 0.099700     | 0.942836          | 0.252466          | 0.941581            | 0.251230            |"
      ]
     },
     "metadata": {},
     "output_type": "display_data"
    },
    {
     "data": {
      "text/html": [
       "<pre>| 11        | 0.175708     | 0.942285          | 0.252538          | 0.941581            | 0.250575            |</pre>"
      ],
      "text/plain": [
       "| 11        | 0.175708     | 0.942285          | 0.252538          | 0.941581            | 0.250575            |"
      ]
     },
     "metadata": {},
     "output_type": "display_data"
    },
    {
     "data": {
      "text/html": [
       "<pre>| 51        | 0.769372     | 0.943388          | 0.251236          | 0.941581            | 0.249494            |</pre>"
      ],
      "text/plain": [
       "| 51        | 0.769372     | 0.943388          | 0.251236          | 0.941581            | 0.249494            |"
      ]
     },
     "metadata": {},
     "output_type": "display_data"
    },
    {
     "data": {
      "text/html": [
       "<pre>| 100       | 1.426848     | 0.943388          | 0.250984          | 0.941581            | 0.249118            |</pre>"
      ],
      "text/plain": [
       "| 100       | 1.426848     | 0.943388          | 0.250984          | 0.941581            | 0.249118            |"
      ]
     },
     "metadata": {},
     "output_type": "display_data"
    },
    {
     "data": {
      "text/html": [
       "<pre>+-----------+--------------+-------------------+-------------------+---------------------+---------------------+</pre>"
      ],
      "text/plain": [
       "+-----------+--------------+-------------------+-------------------+---------------------+---------------------+"
      ]
     },
     "metadata": {},
     "output_type": "display_data"
    },
    {
     "name": "stdout",
     "output_type": "stream",
     "text": [
      "\n",
      "PROGRESS: Creating a validation set from 5 percent of training data. This may take a while.\n",
      "          You can set ``validation_set=None`` to disable validation tracking.\n"
     ]
    },
    {
     "data": {
      "text/html": [
       "<pre>WARNING: Detected extremely low variance for feature(s) 'email_domain_morethan20' because all entries are nearly the same.\n",
       "Proceeding with model training using all features. If the model does not provide results of adequate quality, exclude the above mentioned feature(s) from the input dataset.</pre>"
      ],
      "text/plain": [
       "WARNING: Detected extremely low variance for feature(s) 'email_domain_morethan20' because all entries are nearly the same.\n",
       "Proceeding with model training using all features. If the model does not provide results of adequate quality, exclude the above mentioned feature(s) from the input dataset."
      ]
     },
     "metadata": {},
     "output_type": "display_data"
    },
    {
     "data": {
      "text/html": [
       "<pre>Boosted trees classifier:</pre>"
      ],
      "text/plain": [
       "Boosted trees classifier:"
      ]
     },
     "metadata": {},
     "output_type": "display_data"
    },
    {
     "data": {
      "text/html": [
       "<pre>--------------------------------------------------------</pre>"
      ],
      "text/plain": [
       "--------------------------------------------------------"
      ]
     },
     "metadata": {},
     "output_type": "display_data"
    },
    {
     "data": {
      "text/html": [
       "<pre>Number of examples          : 10845</pre>"
      ],
      "text/plain": [
       "Number of examples          : 10845"
      ]
     },
     "metadata": {},
     "output_type": "display_data"
    },
    {
     "data": {
      "text/html": [
       "<pre>Number of classes           : 2</pre>"
      ],
      "text/plain": [
       "Number of classes           : 2"
      ]
     },
     "metadata": {},
     "output_type": "display_data"
    },
    {
     "data": {
      "text/html": [
       "<pre>Number of feature columns   : 34</pre>"
      ],
      "text/plain": [
       "Number of feature columns   : 34"
      ]
     },
     "metadata": {},
     "output_type": "display_data"
    },
    {
     "data": {
      "text/html": [
       "<pre>Number of unpacked features : 34</pre>"
      ],
      "text/plain": [
       "Number of unpacked features : 34"
      ]
     },
     "metadata": {},
     "output_type": "display_data"
    },
    {
     "data": {
      "text/html": [
       "<pre>+-----------+--------------+-------------------+-------------------+---------------------+---------------------+</pre>"
      ],
      "text/plain": [
       "+-----------+--------------+-------------------+-------------------+---------------------+---------------------+"
      ]
     },
     "metadata": {},
     "output_type": "display_data"
    },
    {
     "data": {
      "text/html": [
       "<pre>| Iteration | Elapsed Time | Training-accuracy | Training-log_loss | Validation-accuracy | Validation-log_loss |</pre>"
      ],
      "text/plain": [
       "| Iteration | Elapsed Time | Training-accuracy | Training-log_loss | Validation-accuracy | Validation-log_loss |"
      ]
     },
     "metadata": {},
     "output_type": "display_data"
    },
    {
     "data": {
      "text/html": [
       "<pre>+-----------+--------------+-------------------+-------------------+---------------------+---------------------+</pre>"
      ],
      "text/plain": [
       "+-----------+--------------+-------------------+-------------------+---------------------+---------------------+"
      ]
     },
     "metadata": {},
     "output_type": "display_data"
    },
    {
     "data": {
      "text/html": [
       "<pre>| 1         | 0.020303     | 0.944675          | 0.490583          | 0.923948            | 0.501088            |</pre>"
      ],
      "text/plain": [
       "| 1         | 0.020303     | 0.944675          | 0.490583          | 0.923948            | 0.501088            |"
      ]
     },
     "metadata": {},
     "output_type": "display_data"
    },
    {
     "data": {
      "text/html": [
       "<pre>| 2         | 0.039020     | 0.945781          | 0.379040          | 0.928803            | 0.394688            |</pre>"
      ],
      "text/plain": [
       "| 2         | 0.039020     | 0.945781          | 0.379040          | 0.928803            | 0.394688            |"
      ]
     },
     "metadata": {},
     "output_type": "display_data"
    },
    {
     "data": {
      "text/html": [
       "<pre>| 3         | 0.057154     | 0.946150          | 0.311353          | 0.927184            | 0.332177            |</pre>"
      ],
      "text/plain": [
       "| 3         | 0.057154     | 0.946150          | 0.311353          | 0.927184            | 0.332177            |"
      ]
     },
     "metadata": {},
     "output_type": "display_data"
    },
    {
     "data": {
      "text/html": [
       "<pre>| 4         | 0.076284     | 0.946888          | 0.266492          | 0.933657            | 0.291216            |</pre>"
      ],
      "text/plain": [
       "| 4         | 0.076284     | 0.946888          | 0.266492          | 0.933657            | 0.291216            |"
      ]
     },
     "metadata": {},
     "output_type": "display_data"
    },
    {
     "data": {
      "text/html": [
       "<pre>| 5         | 0.095990     | 0.947626          | 0.234703          | 0.935275            | 0.264467            |</pre>"
      ],
      "text/plain": [
       "| 5         | 0.095990     | 0.947626          | 0.234703          | 0.935275            | 0.264467            |"
      ]
     },
     "metadata": {},
     "output_type": "display_data"
    },
    {
     "data": {
      "text/html": [
       "<pre>| 6         | 0.115502     | 0.948456          | 0.212914          | 0.935275            | 0.248504            |</pre>"
      ],
      "text/plain": [
       "| 6         | 0.115502     | 0.948456          | 0.212914          | 0.935275            | 0.248504            |"
      ]
     },
     "metadata": {},
     "output_type": "display_data"
    },
    {
     "data": {
      "text/html": [
       "<pre>| 11        | 0.199815     | 0.952882          | 0.159724          | 0.936893            | 0.218949            |</pre>"
      ],
      "text/plain": [
       "| 11        | 0.199815     | 0.952882          | 0.159724          | 0.936893            | 0.218949            |"
      ]
     },
     "metadata": {},
     "output_type": "display_data"
    },
    {
     "data": {
      "text/html": [
       "<pre>| 51        | 0.796149     | 0.986261          | 0.050779          | 0.940129            | 0.187610            |</pre>"
      ],
      "text/plain": [
       "| 51        | 0.796149     | 0.986261          | 0.050779          | 0.940129            | 0.187610            |"
      ]
     },
     "metadata": {},
     "output_type": "display_data"
    },
    {
     "data": {
      "text/html": [
       "<pre>| 100       | 1.557164     | 0.999908          | 0.016083          | 0.943366            | 0.200388            |</pre>"
      ],
      "text/plain": [
       "| 100       | 1.557164     | 0.999908          | 0.016083          | 0.943366            | 0.200388            |"
      ]
     },
     "metadata": {},
     "output_type": "display_data"
    },
    {
     "data": {
      "text/html": [
       "<pre>+-----------+--------------+-------------------+-------------------+---------------------+---------------------+</pre>"
      ],
      "text/plain": [
       "+-----------+--------------+-------------------+-------------------+---------------------+---------------------+"
      ]
     },
     "metadata": {},
     "output_type": "display_data"
    },
    {
     "name": "stdout",
     "output_type": "stream",
     "text": [
      "\n",
      "PROGRESS: Creating a validation set from 5 percent of training data. This may take a while.\n",
      "          You can set ``validation_set=None`` to disable validation tracking.\n"
     ]
    },
    {
     "data": {
      "text/html": [
       "<pre>WARNING: Detected extremely low variance for feature(s) 'email_domain_morethan20' because all entries are nearly the same.\n",
       "Proceeding with model training using all features. If the model does not provide results of adequate quality, exclude the above mentioned feature(s) from the input dataset.</pre>"
      ],
      "text/plain": [
       "WARNING: Detected extremely low variance for feature(s) 'email_domain_morethan20' because all entries are nearly the same.\n",
       "Proceeding with model training using all features. If the model does not provide results of adequate quality, exclude the above mentioned feature(s) from the input dataset."
      ]
     },
     "metadata": {},
     "output_type": "display_data"
    },
    {
     "data": {
      "text/html": [
       "<pre>Random forest classifier:</pre>"
      ],
      "text/plain": [
       "Random forest classifier:"
      ]
     },
     "metadata": {},
     "output_type": "display_data"
    },
    {
     "data": {
      "text/html": [
       "<pre>--------------------------------------------------------</pre>"
      ],
      "text/plain": [
       "--------------------------------------------------------"
      ]
     },
     "metadata": {},
     "output_type": "display_data"
    },
    {
     "data": {
      "text/html": [
       "<pre>Number of examples          : 10859</pre>"
      ],
      "text/plain": [
       "Number of examples          : 10859"
      ]
     },
     "metadata": {},
     "output_type": "display_data"
    },
    {
     "data": {
      "text/html": [
       "<pre>Number of classes           : 2</pre>"
      ],
      "text/plain": [
       "Number of classes           : 2"
      ]
     },
     "metadata": {},
     "output_type": "display_data"
    },
    {
     "data": {
      "text/html": [
       "<pre>Number of feature columns   : 34</pre>"
      ],
      "text/plain": [
       "Number of feature columns   : 34"
      ]
     },
     "metadata": {},
     "output_type": "display_data"
    },
    {
     "data": {
      "text/html": [
       "<pre>Number of unpacked features : 34</pre>"
      ],
      "text/plain": [
       "Number of unpacked features : 34"
      ]
     },
     "metadata": {},
     "output_type": "display_data"
    },
    {
     "data": {
      "text/html": [
       "<pre>+-----------+--------------+-------------------+-------------------+---------------------+---------------------+</pre>"
      ],
      "text/plain": [
       "+-----------+--------------+-------------------+-------------------+---------------------+---------------------+"
      ]
     },
     "metadata": {},
     "output_type": "display_data"
    },
    {
     "data": {
      "text/html": [
       "<pre>| Iteration | Elapsed Time | Training-accuracy | Training-log_loss | Validation-accuracy | Validation-log_loss |</pre>"
      ],
      "text/plain": [
       "| Iteration | Elapsed Time | Training-accuracy | Training-log_loss | Validation-accuracy | Validation-log_loss |"
      ]
     },
     "metadata": {},
     "output_type": "display_data"
    },
    {
     "data": {
      "text/html": [
       "<pre>+-----------+--------------+-------------------+-------------------+---------------------+---------------------+</pre>"
      ],
      "text/plain": [
       "+-----------+--------------+-------------------+-------------------+---------------------+---------------------+"
      ]
     },
     "metadata": {},
     "output_type": "display_data"
    },
    {
     "data": {
      "text/html": [
       "<pre>| 1         | 0.015615     | 0.941063          | 0.255340          | 0.938742            | 0.257697            |</pre>"
      ],
      "text/plain": [
       "| 1         | 0.015615     | 0.941063          | 0.255340          | 0.938742            | 0.257697            |"
      ]
     },
     "metadata": {},
     "output_type": "display_data"
    },
    {
     "data": {
      "text/html": [
       "<pre>| 2         | 0.029901     | 0.941984          | 0.251727          | 0.938742            | 0.253722            |</pre>"
      ],
      "text/plain": [
       "| 2         | 0.029901     | 0.941984          | 0.251727          | 0.938742            | 0.253722            |"
      ]
     },
     "metadata": {},
     "output_type": "display_data"
    },
    {
     "data": {
      "text/html": [
       "<pre>| 3         | 0.043907     | 0.943457          | 0.251423          | 0.940397            | 0.253541            |</pre>"
      ],
      "text/plain": [
       "| 3         | 0.043907     | 0.943457          | 0.251423          | 0.940397            | 0.253541            |"
      ]
     },
     "metadata": {},
     "output_type": "display_data"
    },
    {
     "data": {
      "text/html": [
       "<pre>| 4         | 0.058795     | 0.942720          | 0.251530          | 0.940397            | 0.250782            |</pre>"
      ],
      "text/plain": [
       "| 4         | 0.058795     | 0.942720          | 0.251530          | 0.940397            | 0.250782            |"
      ]
     },
     "metadata": {},
     "output_type": "display_data"
    },
    {
     "data": {
      "text/html": [
       "<pre>| 5         | 0.073291     | 0.943641          | 0.251519          | 0.943709            | 0.250894            |</pre>"
      ],
      "text/plain": [
       "| 5         | 0.073291     | 0.943641          | 0.251519          | 0.943709            | 0.250894            |"
      ]
     },
     "metadata": {},
     "output_type": "display_data"
    },
    {
     "data": {
      "text/html": [
       "<pre>| 6         | 0.087414     | 0.942904          | 0.251167          | 0.942053            | 0.252726            |</pre>"
      ],
      "text/plain": [
       "| 6         | 0.087414     | 0.942904          | 0.251167          | 0.942053            | 0.252726            |"
      ]
     },
     "metadata": {},
     "output_type": "display_data"
    },
    {
     "data": {
      "text/html": [
       "<pre>| 11        | 0.163230     | 0.943273          | 0.250597          | 0.943709            | 0.252468            |</pre>"
      ],
      "text/plain": [
       "| 11        | 0.163230     | 0.943273          | 0.250597          | 0.943709            | 0.252468            |"
      ]
     },
     "metadata": {},
     "output_type": "display_data"
    },
    {
     "data": {
      "text/html": [
       "<pre>| 51        | 0.767319     | 0.942812          | 0.250369          | 0.942053            | 0.252201            |</pre>"
      ],
      "text/plain": [
       "| 51        | 0.767319     | 0.942812          | 0.250369          | 0.942053            | 0.252201            |"
      ]
     },
     "metadata": {},
     "output_type": "display_data"
    },
    {
     "data": {
      "text/html": [
       "<pre>| 100       | 1.468059     | 0.943089          | 0.250284          | 0.942053            | 0.252275            |</pre>"
      ],
      "text/plain": [
       "| 100       | 1.468059     | 0.943089          | 0.250284          | 0.942053            | 0.252275            |"
      ]
     },
     "metadata": {},
     "output_type": "display_data"
    },
    {
     "data": {
      "text/html": [
       "<pre>+-----------+--------------+-------------------+-------------------+---------------------+---------------------+</pre>"
      ],
      "text/plain": [
       "+-----------+--------------+-------------------+-------------------+---------------------+---------------------+"
      ]
     },
     "metadata": {},
     "output_type": "display_data"
    },
    {
     "name": "stdout",
     "output_type": "stream",
     "text": [
      "\n",
      "PROGRESS: Creating a validation set from 5 percent of training data. This may take a while.\n",
      "          You can set ``validation_set=None`` to disable validation tracking.\n"
     ]
    },
    {
     "data": {
      "text/html": [
       "<pre>WARNING: Detected extremely low variance for feature(s) 'email_domain_morethan20' because all entries are nearly the same.\n",
       "Proceeding with model training using all features. If the model does not provide results of adequate quality, exclude the above mentioned feature(s) from the input dataset.</pre>"
      ],
      "text/plain": [
       "WARNING: Detected extremely low variance for feature(s) 'email_domain_morethan20' because all entries are nearly the same.\n",
       "Proceeding with model training using all features. If the model does not provide results of adequate quality, exclude the above mentioned feature(s) from the input dataset."
      ]
     },
     "metadata": {},
     "output_type": "display_data"
    },
    {
     "data": {
      "text/html": [
       "<pre>Boosted trees classifier:</pre>"
      ],
      "text/plain": [
       "Boosted trees classifier:"
      ]
     },
     "metadata": {},
     "output_type": "display_data"
    },
    {
     "data": {
      "text/html": [
       "<pre>--------------------------------------------------------</pre>"
      ],
      "text/plain": [
       "--------------------------------------------------------"
      ]
     },
     "metadata": {},
     "output_type": "display_data"
    },
    {
     "data": {
      "text/html": [
       "<pre>Number of examples          : 10923</pre>"
      ],
      "text/plain": [
       "Number of examples          : 10923"
      ]
     },
     "metadata": {},
     "output_type": "display_data"
    },
    {
     "data": {
      "text/html": [
       "<pre>Number of classes           : 2</pre>"
      ],
      "text/plain": [
       "Number of classes           : 2"
      ]
     },
     "metadata": {},
     "output_type": "display_data"
    },
    {
     "data": {
      "text/html": [
       "<pre>Number of feature columns   : 34</pre>"
      ],
      "text/plain": [
       "Number of feature columns   : 34"
      ]
     },
     "metadata": {},
     "output_type": "display_data"
    },
    {
     "data": {
      "text/html": [
       "<pre>Number of unpacked features : 34</pre>"
      ],
      "text/plain": [
       "Number of unpacked features : 34"
      ]
     },
     "metadata": {},
     "output_type": "display_data"
    },
    {
     "data": {
      "text/html": [
       "<pre>+-----------+--------------+-------------------+-------------------+---------------------+---------------------+</pre>"
      ],
      "text/plain": [
       "+-----------+--------------+-------------------+-------------------+---------------------+---------------------+"
      ]
     },
     "metadata": {},
     "output_type": "display_data"
    },
    {
     "data": {
      "text/html": [
       "<pre>| Iteration | Elapsed Time | Training-accuracy | Training-log_loss | Validation-accuracy | Validation-log_loss |</pre>"
      ],
      "text/plain": [
       "| Iteration | Elapsed Time | Training-accuracy | Training-log_loss | Validation-accuracy | Validation-log_loss |"
      ]
     },
     "metadata": {},
     "output_type": "display_data"
    },
    {
     "data": {
      "text/html": [
       "<pre>+-----------+--------------+-------------------+-------------------+---------------------+---------------------+</pre>"
      ],
      "text/plain": [
       "+-----------+--------------+-------------------+-------------------+---------------------+---------------------+"
      ]
     },
     "metadata": {},
     "output_type": "display_data"
    },
    {
     "data": {
      "text/html": [
       "<pre>| 1         | 0.018950     | 0.943422          | 0.491350          | 0.935185            | 0.494438            |</pre>"
      ],
      "text/plain": [
       "| 1         | 0.018950     | 0.943422          | 0.491350          | 0.935185            | 0.494438            |"
      ]
     },
     "metadata": {},
     "output_type": "display_data"
    },
    {
     "data": {
      "text/html": [
       "<pre>| 2         | 0.036294     | 0.943514          | 0.380610          | 0.937037            | 0.384699            |</pre>"
      ],
      "text/plain": [
       "| 2         | 0.036294     | 0.943514          | 0.380610          | 0.937037            | 0.384699            |"
      ]
     },
     "metadata": {},
     "output_type": "display_data"
    },
    {
     "data": {
      "text/html": [
       "<pre>| 3         | 0.056039     | 0.944704          | 0.312831          | 0.942593            | 0.317235            |</pre>"
      ],
      "text/plain": [
       "| 3         | 0.056039     | 0.944704          | 0.312831          | 0.942593            | 0.317235            |"
      ]
     },
     "metadata": {},
     "output_type": "display_data"
    },
    {
     "data": {
      "text/html": [
       "<pre>| 4         | 0.075595     | 0.945802          | 0.268505          | 0.940741            | 0.276230            |</pre>"
      ],
      "text/plain": [
       "| 4         | 0.075595     | 0.945802          | 0.268505          | 0.940741            | 0.276230            |"
      ]
     },
     "metadata": {},
     "output_type": "display_data"
    },
    {
     "data": {
      "text/html": [
       "<pre>| 5         | 0.094840     | 0.945345          | 0.237357          | 0.938889            | 0.246848            |</pre>"
      ],
      "text/plain": [
       "| 5         | 0.094840     | 0.945345          | 0.237357          | 0.938889            | 0.246848            |"
      ]
     },
     "metadata": {},
     "output_type": "display_data"
    },
    {
     "data": {
      "text/html": [
       "<pre>| 6         | 0.115720     | 0.947542          | 0.215501          | 0.938889            | 0.228826            |</pre>"
      ],
      "text/plain": [
       "| 6         | 0.115720     | 0.947542          | 0.215501          | 0.938889            | 0.228826            |"
      ]
     },
     "metadata": {},
     "output_type": "display_data"
    },
    {
     "data": {
      "text/html": [
       "<pre>| 11        | 0.194024     | 0.951753          | 0.163072          | 0.944444            | 0.183803            |</pre>"
      ],
      "text/plain": [
       "| 11        | 0.194024     | 0.951753          | 0.163072          | 0.944444            | 0.183803            |"
      ]
     },
     "metadata": {},
     "output_type": "display_data"
    },
    {
     "data": {
      "text/html": [
       "<pre>| 51        | 0.835948     | 0.985077          | 0.052510          | 0.951852            | 0.140794            |</pre>"
      ],
      "text/plain": [
       "| 51        | 0.835948     | 0.985077          | 0.052510          | 0.951852            | 0.140794            |"
      ]
     },
     "metadata": {},
     "output_type": "display_data"
    },
    {
     "data": {
      "text/html": [
       "<pre>| 100       | 1.551107     | 0.999634          | 0.016845          | 0.957407            | 0.139203            |</pre>"
      ],
      "text/plain": [
       "| 100       | 1.551107     | 0.999634          | 0.016845          | 0.957407            | 0.139203            |"
      ]
     },
     "metadata": {},
     "output_type": "display_data"
    },
    {
     "data": {
      "text/html": [
       "<pre>+-----------+--------------+-------------------+-------------------+---------------------+---------------------+</pre>"
      ],
      "text/plain": [
       "+-----------+--------------+-------------------+-------------------+---------------------+---------------------+"
      ]
     },
     "metadata": {},
     "output_type": "display_data"
    },
    {
     "name": "stdout",
     "output_type": "stream",
     "text": [
      "\n",
      "PROGRESS: Creating a validation set from 5 percent of training data. This may take a while.\n",
      "          You can set ``validation_set=None`` to disable validation tracking.\n"
     ]
    },
    {
     "data": {
      "text/html": [
       "<pre>WARNING: Detected extremely low variance for feature(s) 'email_domain_morethan20' because all entries are nearly the same.\n",
       "Proceeding with model training using all features. If the model does not provide results of adequate quality, exclude the above mentioned feature(s) from the input dataset.</pre>"
      ],
      "text/plain": [
       "WARNING: Detected extremely low variance for feature(s) 'email_domain_morethan20' because all entries are nearly the same.\n",
       "Proceeding with model training using all features. If the model does not provide results of adequate quality, exclude the above mentioned feature(s) from the input dataset."
      ]
     },
     "metadata": {},
     "output_type": "display_data"
    },
    {
     "data": {
      "text/html": [
       "<pre>Random forest classifier:</pre>"
      ],
      "text/plain": [
       "Random forest classifier:"
      ]
     },
     "metadata": {},
     "output_type": "display_data"
    },
    {
     "data": {
      "text/html": [
       "<pre>--------------------------------------------------------</pre>"
      ],
      "text/plain": [
       "--------------------------------------------------------"
      ]
     },
     "metadata": {},
     "output_type": "display_data"
    },
    {
     "data": {
      "text/html": [
       "<pre>Number of examples          : 10894</pre>"
      ],
      "text/plain": [
       "Number of examples          : 10894"
      ]
     },
     "metadata": {},
     "output_type": "display_data"
    },
    {
     "data": {
      "text/html": [
       "<pre>Number of classes           : 2</pre>"
      ],
      "text/plain": [
       "Number of classes           : 2"
      ]
     },
     "metadata": {},
     "output_type": "display_data"
    },
    {
     "data": {
      "text/html": [
       "<pre>Number of feature columns   : 34</pre>"
      ],
      "text/plain": [
       "Number of feature columns   : 34"
      ]
     },
     "metadata": {},
     "output_type": "display_data"
    },
    {
     "data": {
      "text/html": [
       "<pre>Number of unpacked features : 34</pre>"
      ],
      "text/plain": [
       "Number of unpacked features : 34"
      ]
     },
     "metadata": {},
     "output_type": "display_data"
    },
    {
     "data": {
      "text/html": [
       "<pre>+-----------+--------------+-------------------+-------------------+---------------------+---------------------+</pre>"
      ],
      "text/plain": [
       "+-----------+--------------+-------------------+-------------------+---------------------+---------------------+"
      ]
     },
     "metadata": {},
     "output_type": "display_data"
    },
    {
     "data": {
      "text/html": [
       "<pre>| Iteration | Elapsed Time | Training-accuracy | Training-log_loss | Validation-accuracy | Validation-log_loss |</pre>"
      ],
      "text/plain": [
       "| Iteration | Elapsed Time | Training-accuracy | Training-log_loss | Validation-accuracy | Validation-log_loss |"
      ]
     },
     "metadata": {},
     "output_type": "display_data"
    },
    {
     "data": {
      "text/html": [
       "<pre>+-----------+--------------+-------------------+-------------------+---------------------+---------------------+</pre>"
      ],
      "text/plain": [
       "+-----------+--------------+-------------------+-------------------+---------------------+---------------------+"
      ]
     },
     "metadata": {},
     "output_type": "display_data"
    },
    {
     "data": {
      "text/html": [
       "<pre>| 1         | 0.017922     | 0.941068          | 0.256975          | 0.945518            | 0.249255            |</pre>"
      ],
      "text/plain": [
       "| 1         | 0.017922     | 0.941068          | 0.256975          | 0.945518            | 0.249255            |"
      ]
     },
     "metadata": {},
     "output_type": "display_data"
    },
    {
     "data": {
      "text/html": [
       "<pre>| 2         | 0.033420     | 0.941711          | 0.252819          | 0.945518            | 0.244952            |</pre>"
      ],
      "text/plain": [
       "| 2         | 0.033420     | 0.941711          | 0.252819          | 0.945518            | 0.244952            |"
      ]
     },
     "metadata": {},
     "output_type": "display_data"
    },
    {
     "data": {
      "text/html": [
       "<pre>| 3         | 0.051585     | 0.943914          | 0.251436          | 0.945518            | 0.246950            |</pre>"
      ],
      "text/plain": [
       "| 3         | 0.051585     | 0.943914          | 0.251436          | 0.945518            | 0.246950            |"
      ]
     },
     "metadata": {},
     "output_type": "display_data"
    },
    {
     "data": {
      "text/html": [
       "<pre>| 4         | 0.068828     | 0.944098          | 0.251321          | 0.945518            | 0.246407            |</pre>"
      ],
      "text/plain": [
       "| 4         | 0.068828     | 0.944098          | 0.251321          | 0.945518            | 0.246407            |"
      ]
     },
     "metadata": {},
     "output_type": "display_data"
    },
    {
     "data": {
      "text/html": [
       "<pre>| 5         | 0.085980     | 0.943547          | 0.251644          | 0.942003            | 0.247111            |</pre>"
      ],
      "text/plain": [
       "| 5         | 0.085980     | 0.943547          | 0.251644          | 0.942003            | 0.247111            |"
      ]
     },
     "metadata": {},
     "output_type": "display_data"
    },
    {
     "data": {
      "text/html": [
       "<pre>| 6         | 0.101951     | 0.944189          | 0.251511          | 0.945518            | 0.247100            |</pre>"
      ],
      "text/plain": [
       "| 6         | 0.101951     | 0.944189          | 0.251511          | 0.945518            | 0.247100            |"
      ]
     },
     "metadata": {},
     "output_type": "display_data"
    },
    {
     "data": {
      "text/html": [
       "<pre>| 11        | 0.173728     | 0.944465          | 0.251547          | 0.947276            | 0.246435            |</pre>"
      ],
      "text/plain": [
       "| 11        | 0.173728     | 0.944465          | 0.251547          | 0.947276            | 0.246435            |"
      ]
     },
     "metadata": {},
     "output_type": "display_data"
    },
    {
     "data": {
      "text/html": [
       "<pre>| 51        | 0.780538     | 0.943730          | 0.251183          | 0.949033            | 0.245279            |</pre>"
      ],
      "text/plain": [
       "| 51        | 0.780538     | 0.943730          | 0.251183          | 0.949033            | 0.245279            |"
      ]
     },
     "metadata": {},
     "output_type": "display_data"
    },
    {
     "data": {
      "text/html": [
       "<pre>| 100       | 1.439078     | 0.944098          | 0.251102          | 0.949033            | 0.244156            |</pre>"
      ],
      "text/plain": [
       "| 100       | 1.439078     | 0.944098          | 0.251102          | 0.949033            | 0.244156            |"
      ]
     },
     "metadata": {},
     "output_type": "display_data"
    },
    {
     "data": {
      "text/html": [
       "<pre>+-----------+--------------+-------------------+-------------------+---------------------+---------------------+</pre>"
      ],
      "text/plain": [
       "+-----------+--------------+-------------------+-------------------+---------------------+---------------------+"
      ]
     },
     "metadata": {},
     "output_type": "display_data"
    },
    {
     "name": "stdout",
     "output_type": "stream",
     "text": [
      "\n",
      "PROGRESS: Creating a validation set from 5 percent of training data. This may take a while.\n",
      "          You can set ``validation_set=None`` to disable validation tracking.\n"
     ]
    },
    {
     "data": {
      "text/html": [
       "<pre>WARNING: Detected extremely low variance for feature(s) 'email_domain_morethan20' because all entries are nearly the same.\n",
       "Proceeding with model training using all features. If the model does not provide results of adequate quality, exclude the above mentioned feature(s) from the input dataset.</pre>"
      ],
      "text/plain": [
       "WARNING: Detected extremely low variance for feature(s) 'email_domain_morethan20' because all entries are nearly the same.\n",
       "Proceeding with model training using all features. If the model does not provide results of adequate quality, exclude the above mentioned feature(s) from the input dataset."
      ]
     },
     "metadata": {},
     "output_type": "display_data"
    },
    {
     "data": {
      "text/html": [
       "<pre>Boosted trees classifier:</pre>"
      ],
      "text/plain": [
       "Boosted trees classifier:"
      ]
     },
     "metadata": {},
     "output_type": "display_data"
    },
    {
     "data": {
      "text/html": [
       "<pre>--------------------------------------------------------</pre>"
      ],
      "text/plain": [
       "--------------------------------------------------------"
      ]
     },
     "metadata": {},
     "output_type": "display_data"
    },
    {
     "data": {
      "text/html": [
       "<pre>Number of examples          : 10866</pre>"
      ],
      "text/plain": [
       "Number of examples          : 10866"
      ]
     },
     "metadata": {},
     "output_type": "display_data"
    },
    {
     "data": {
      "text/html": [
       "<pre>Number of classes           : 2</pre>"
      ],
      "text/plain": [
       "Number of classes           : 2"
      ]
     },
     "metadata": {},
     "output_type": "display_data"
    },
    {
     "data": {
      "text/html": [
       "<pre>Number of feature columns   : 34</pre>"
      ],
      "text/plain": [
       "Number of feature columns   : 34"
      ]
     },
     "metadata": {},
     "output_type": "display_data"
    },
    {
     "data": {
      "text/html": [
       "<pre>Number of unpacked features : 34</pre>"
      ],
      "text/plain": [
       "Number of unpacked features : 34"
      ]
     },
     "metadata": {},
     "output_type": "display_data"
    },
    {
     "data": {
      "text/html": [
       "<pre>+-----------+--------------+-------------------+-------------------+---------------------+---------------------+</pre>"
      ],
      "text/plain": [
       "+-----------+--------------+-------------------+-------------------+---------------------+---------------------+"
      ]
     },
     "metadata": {},
     "output_type": "display_data"
    },
    {
     "data": {
      "text/html": [
       "<pre>| Iteration | Elapsed Time | Training-accuracy | Training-log_loss | Validation-accuracy | Validation-log_loss |</pre>"
      ],
      "text/plain": [
       "| Iteration | Elapsed Time | Training-accuracy | Training-log_loss | Validation-accuracy | Validation-log_loss |"
      ]
     },
     "metadata": {},
     "output_type": "display_data"
    },
    {
     "data": {
      "text/html": [
       "<pre>+-----------+--------------+-------------------+-------------------+---------------------+---------------------+</pre>"
      ],
      "text/plain": [
       "+-----------+--------------+-------------------+-------------------+---------------------+---------------------+"
      ]
     },
     "metadata": {},
     "output_type": "display_data"
    },
    {
     "data": {
      "text/html": [
       "<pre>| 1         | 0.019845     | 0.943954          | 0.490981          | 0.932998            | 0.497526            |</pre>"
      ],
      "text/plain": [
       "| 1         | 0.019845     | 0.943954          | 0.490981          | 0.932998            | 0.497526            |"
      ]
     },
     "metadata": {},
     "output_type": "display_data"
    },
    {
     "data": {
      "text/html": [
       "<pre>| 2         | 0.036762     | 0.945610          | 0.378787          | 0.932998            | 0.393463            |</pre>"
      ],
      "text/plain": [
       "| 2         | 0.036762     | 0.945610          | 0.378787          | 0.932998            | 0.393463            |"
      ]
     },
     "metadata": {},
     "output_type": "display_data"
    },
    {
     "data": {
      "text/html": [
       "<pre>| 3         | 0.054035     | 0.945610          | 0.310450          | 0.938023            | 0.328045            |</pre>"
      ],
      "text/plain": [
       "| 3         | 0.054035     | 0.945610          | 0.310450          | 0.938023            | 0.328045            |"
      ]
     },
     "metadata": {},
     "output_type": "display_data"
    },
    {
     "data": {
      "text/html": [
       "<pre>| 4         | 0.072897     | 0.946530          | 0.266400          | 0.939699            | 0.289370            |</pre>"
      ],
      "text/plain": [
       "| 4         | 0.072897     | 0.946530          | 0.266400          | 0.939699            | 0.289370            |"
      ]
     },
     "metadata": {},
     "output_type": "display_data"
    },
    {
     "data": {
      "text/html": [
       "<pre>| 5         | 0.091371     | 0.947267          | 0.234864          | 0.939699            | 0.263047            |</pre>"
      ],
      "text/plain": [
       "| 5         | 0.091371     | 0.947267          | 0.234864          | 0.939699            | 0.263047            |"
      ]
     },
     "metadata": {},
     "output_type": "display_data"
    },
    {
     "data": {
      "text/html": [
       "<pre>| 6         | 0.109405     | 0.948831          | 0.212995          | 0.939699            | 0.245099            |</pre>"
      ],
      "text/plain": [
       "| 6         | 0.109405     | 0.948831          | 0.212995          | 0.939699            | 0.245099            |"
      ]
     },
     "metadata": {},
     "output_type": "display_data"
    },
    {
     "data": {
      "text/html": [
       "<pre>| 11        | 0.198690     | 0.951592          | 0.161338          | 0.936348            | 0.212156            |</pre>"
      ],
      "text/plain": [
       "| 11        | 0.198690     | 0.951592          | 0.161338          | 0.936348            | 0.212156            |"
      ]
     },
     "metadata": {},
     "output_type": "display_data"
    },
    {
     "data": {
      "text/html": [
       "<pre>| 51        | 0.784186     | 0.984355          | 0.054546          | 0.946399            | 0.196152            |</pre>"
      ],
      "text/plain": [
       "| 51        | 0.784186     | 0.984355          | 0.054546          | 0.946399            | 0.196152            |"
      ]
     },
     "metadata": {},
     "output_type": "display_data"
    },
    {
     "data": {
      "text/html": [
       "<pre>| 100       | 1.506608     | 0.999908          | 0.015105          | 0.951424            | 0.211204            |</pre>"
      ],
      "text/plain": [
       "| 100       | 1.506608     | 0.999908          | 0.015105          | 0.951424            | 0.211204            |"
      ]
     },
     "metadata": {},
     "output_type": "display_data"
    },
    {
     "data": {
      "text/html": [
       "<pre>+-----------+--------------+-------------------+-------------------+---------------------+---------------------+</pre>"
      ],
      "text/plain": [
       "+-----------+--------------+-------------------+-------------------+---------------------+---------------------+"
      ]
     },
     "metadata": {},
     "output_type": "display_data"
    },
    {
     "name": "stdout",
     "output_type": "stream",
     "text": [
      "\n",
      "PROGRESS: Creating a validation set from 5 percent of training data. This may take a while.\n",
      "          You can set ``validation_set=None`` to disable validation tracking.\n"
     ]
    },
    {
     "data": {
      "text/html": [
       "<pre>WARNING: Detected extremely low variance for feature(s) 'email_domain_morethan20' because all entries are nearly the same.\n",
       "Proceeding with model training using all features. If the model does not provide results of adequate quality, exclude the above mentioned feature(s) from the input dataset.</pre>"
      ],
      "text/plain": [
       "WARNING: Detected extremely low variance for feature(s) 'email_domain_morethan20' because all entries are nearly the same.\n",
       "Proceeding with model training using all features. If the model does not provide results of adequate quality, exclude the above mentioned feature(s) from the input dataset."
      ]
     },
     "metadata": {},
     "output_type": "display_data"
    },
    {
     "data": {
      "text/html": [
       "<pre>Random forest classifier:</pre>"
      ],
      "text/plain": [
       "Random forest classifier:"
      ]
     },
     "metadata": {},
     "output_type": "display_data"
    },
    {
     "data": {
      "text/html": [
       "<pre>--------------------------------------------------------</pre>"
      ],
      "text/plain": [
       "--------------------------------------------------------"
      ]
     },
     "metadata": {},
     "output_type": "display_data"
    },
    {
     "data": {
      "text/html": [
       "<pre>Number of examples          : 10883</pre>"
      ],
      "text/plain": [
       "Number of examples          : 10883"
      ]
     },
     "metadata": {},
     "output_type": "display_data"
    },
    {
     "data": {
      "text/html": [
       "<pre>Number of classes           : 2</pre>"
      ],
      "text/plain": [
       "Number of classes           : 2"
      ]
     },
     "metadata": {},
     "output_type": "display_data"
    },
    {
     "data": {
      "text/html": [
       "<pre>Number of feature columns   : 34</pre>"
      ],
      "text/plain": [
       "Number of feature columns   : 34"
      ]
     },
     "metadata": {},
     "output_type": "display_data"
    },
    {
     "data": {
      "text/html": [
       "<pre>Number of unpacked features : 34</pre>"
      ],
      "text/plain": [
       "Number of unpacked features : 34"
      ]
     },
     "metadata": {},
     "output_type": "display_data"
    },
    {
     "data": {
      "text/html": [
       "<pre>+-----------+--------------+-------------------+-------------------+---------------------+---------------------+</pre>"
      ],
      "text/plain": [
       "+-----------+--------------+-------------------+-------------------+---------------------+---------------------+"
      ]
     },
     "metadata": {},
     "output_type": "display_data"
    },
    {
     "data": {
      "text/html": [
       "<pre>| Iteration | Elapsed Time | Training-accuracy | Training-log_loss | Validation-accuracy | Validation-log_loss |</pre>"
      ],
      "text/plain": [
       "| Iteration | Elapsed Time | Training-accuracy | Training-log_loss | Validation-accuracy | Validation-log_loss |"
      ]
     },
     "metadata": {},
     "output_type": "display_data"
    },
    {
     "data": {
      "text/html": [
       "<pre>+-----------+--------------+-------------------+-------------------+---------------------+---------------------+</pre>"
      ],
      "text/plain": [
       "+-----------+--------------+-------------------+-------------------+---------------------+---------------------+"
      ]
     },
     "metadata": {},
     "output_type": "display_data"
    },
    {
     "data": {
      "text/html": [
       "<pre>| 1         | 0.015606     | 0.942020          | 0.256144          | 0.941379            | 0.258028            |</pre>"
      ],
      "text/plain": [
       "| 1         | 0.015606     | 0.942020          | 0.256144          | 0.941379            | 0.258028            |"
      ]
     },
     "metadata": {},
     "output_type": "display_data"
    },
    {
     "data": {
      "text/html": [
       "<pre>| 2         | 0.031206     | 0.941285          | 0.253074          | 0.941379            | 0.256144            |</pre>"
      ],
      "text/plain": [
       "| 2         | 0.031206     | 0.941285          | 0.253074          | 0.941379            | 0.256144            |"
      ]
     },
     "metadata": {},
     "output_type": "display_data"
    },
    {
     "data": {
      "text/html": [
       "<pre>| 3         | 0.045922     | 0.943949          | 0.252600          | 0.943103            | 0.254663            |</pre>"
      ],
      "text/plain": [
       "| 3         | 0.045922     | 0.943949          | 0.252600          | 0.943103            | 0.254663            |"
      ]
     },
     "metadata": {},
     "output_type": "display_data"
    },
    {
     "data": {
      "text/html": [
       "<pre>| 4         | 0.063703     | 0.943398          | 0.252554          | 0.946552            | 0.253772            |</pre>"
      ],
      "text/plain": [
       "| 4         | 0.063703     | 0.943398          | 0.252554          | 0.946552            | 0.253772            |"
      ]
     },
     "metadata": {},
     "output_type": "display_data"
    },
    {
     "data": {
      "text/html": [
       "<pre>| 5         | 0.080613     | 0.943030          | 0.251587          | 0.943103            | 0.254854            |</pre>"
      ],
      "text/plain": [
       "| 5         | 0.080613     | 0.943030          | 0.251587          | 0.943103            | 0.254854            |"
      ]
     },
     "metadata": {},
     "output_type": "display_data"
    },
    {
     "data": {
      "text/html": [
       "<pre>| 6         | 0.097552     | 0.943122          | 0.251730          | 0.946552            | 0.254694            |</pre>"
      ],
      "text/plain": [
       "| 6         | 0.097552     | 0.943122          | 0.251730          | 0.946552            | 0.254694            |"
      ]
     },
     "metadata": {},
     "output_type": "display_data"
    },
    {
     "data": {
      "text/html": [
       "<pre>| 11        | 0.168358     | 0.943214          | 0.251554          | 0.944828            | 0.253548            |</pre>"
      ],
      "text/plain": [
       "| 11        | 0.168358     | 0.943214          | 0.251554          | 0.944828            | 0.253548            |"
      ]
     },
     "metadata": {},
     "output_type": "display_data"
    },
    {
     "data": {
      "text/html": [
       "<pre>| 51        | 0.707127     | 0.943306          | 0.250529          | 0.943103            | 0.253714            |</pre>"
      ],
      "text/plain": [
       "| 51        | 0.707127     | 0.943306          | 0.250529          | 0.943103            | 0.253714            |"
      ]
     },
     "metadata": {},
     "output_type": "display_data"
    },
    {
     "data": {
      "text/html": [
       "<pre>| 100       | 1.358591     | 0.943398          | 0.250494          | 0.944828            | 0.253235            |</pre>"
      ],
      "text/plain": [
       "| 100       | 1.358591     | 0.943398          | 0.250494          | 0.944828            | 0.253235            |"
      ]
     },
     "metadata": {},
     "output_type": "display_data"
    },
    {
     "data": {
      "text/html": [
       "<pre>+-----------+--------------+-------------------+-------------------+---------------------+---------------------+</pre>"
      ],
      "text/plain": [
       "+-----------+--------------+-------------------+-------------------+---------------------+---------------------+"
      ]
     },
     "metadata": {},
     "output_type": "display_data"
    },
    {
     "name": "stdout",
     "output_type": "stream",
     "text": [
      "\n",
      "PROGRESS: Creating a validation set from 5 percent of training data. This may take a while.\n",
      "          You can set ``validation_set=None`` to disable validation tracking.\n"
     ]
    },
    {
     "data": {
      "text/html": [
       "<pre>WARNING: Detected extremely low variance for feature(s) 'email_domain_morethan20' because all entries are nearly the same.\n",
       "Proceeding with model training using all features. If the model does not provide results of adequate quality, exclude the above mentioned feature(s) from the input dataset.</pre>"
      ],
      "text/plain": [
       "WARNING: Detected extremely low variance for feature(s) 'email_domain_morethan20' because all entries are nearly the same.\n",
       "Proceeding with model training using all features. If the model does not provide results of adequate quality, exclude the above mentioned feature(s) from the input dataset."
      ]
     },
     "metadata": {},
     "output_type": "display_data"
    },
    {
     "data": {
      "text/html": [
       "<pre>Boosted trees classifier:</pre>"
      ],
      "text/plain": [
       "Boosted trees classifier:"
      ]
     },
     "metadata": {},
     "output_type": "display_data"
    },
    {
     "data": {
      "text/html": [
       "<pre>--------------------------------------------------------</pre>"
      ],
      "text/plain": [
       "--------------------------------------------------------"
      ]
     },
     "metadata": {},
     "output_type": "display_data"
    },
    {
     "data": {
      "text/html": [
       "<pre>Number of examples          : 10881</pre>"
      ],
      "text/plain": [
       "Number of examples          : 10881"
      ]
     },
     "metadata": {},
     "output_type": "display_data"
    },
    {
     "data": {
      "text/html": [
       "<pre>Number of classes           : 2</pre>"
      ],
      "text/plain": [
       "Number of classes           : 2"
      ]
     },
     "metadata": {},
     "output_type": "display_data"
    },
    {
     "data": {
      "text/html": [
       "<pre>Number of feature columns   : 34</pre>"
      ],
      "text/plain": [
       "Number of feature columns   : 34"
      ]
     },
     "metadata": {},
     "output_type": "display_data"
    },
    {
     "data": {
      "text/html": [
       "<pre>Number of unpacked features : 34</pre>"
      ],
      "text/plain": [
       "Number of unpacked features : 34"
      ]
     },
     "metadata": {},
     "output_type": "display_data"
    },
    {
     "data": {
      "text/html": [
       "<pre>+-----------+--------------+-------------------+-------------------+---------------------+---------------------+</pre>"
      ],
      "text/plain": [
       "+-----------+--------------+-------------------+-------------------+---------------------+---------------------+"
      ]
     },
     "metadata": {},
     "output_type": "display_data"
    },
    {
     "data": {
      "text/html": [
       "<pre>| Iteration | Elapsed Time | Training-accuracy | Training-log_loss | Validation-accuracy | Validation-log_loss |</pre>"
      ],
      "text/plain": [
       "| Iteration | Elapsed Time | Training-accuracy | Training-log_loss | Validation-accuracy | Validation-log_loss |"
      ]
     },
     "metadata": {},
     "output_type": "display_data"
    },
    {
     "data": {
      "text/html": [
       "<pre>+-----------+--------------+-------------------+-------------------+---------------------+---------------------+</pre>"
      ],
      "text/plain": [
       "+-----------+--------------+-------------------+-------------------+---------------------+---------------------+"
      ]
     },
     "metadata": {},
     "output_type": "display_data"
    },
    {
     "data": {
      "text/html": [
       "<pre>| 1         | 0.018963     | 0.943388          | 0.491161          | 0.938144            | 0.492630            |</pre>"
      ],
      "text/plain": [
       "| 1         | 0.018963     | 0.943388          | 0.491161          | 0.938144            | 0.492630            |"
      ]
     },
     "metadata": {},
     "output_type": "display_data"
    },
    {
     "data": {
      "text/html": [
       "<pre>| 2         | 0.035531     | 0.943388          | 0.380019          | 0.945017            | 0.384693            |</pre>"
      ],
      "text/plain": [
       "| 2         | 0.035531     | 0.943388          | 0.380019          | 0.945017            | 0.384693            |"
      ]
     },
     "metadata": {},
     "output_type": "display_data"
    },
    {
     "data": {
      "text/html": [
       "<pre>| 3         | 0.054417     | 0.943204          | 0.312061          | 0.939863            | 0.319913            |</pre>"
      ],
      "text/plain": [
       "| 3         | 0.054417     | 0.943204          | 0.312061          | 0.939863            | 0.319913            |"
      ]
     },
     "metadata": {},
     "output_type": "display_data"
    },
    {
     "data": {
      "text/html": [
       "<pre>| 4         | 0.074289     | 0.944215          | 0.267884          | 0.939863            | 0.277332            |</pre>"
      ],
      "text/plain": [
       "| 4         | 0.074289     | 0.944215          | 0.267884          | 0.939863            | 0.277332            |"
      ]
     },
     "metadata": {},
     "output_type": "display_data"
    },
    {
     "data": {
      "text/html": [
       "<pre>| 5         | 0.094258     | 0.945318          | 0.236896          | 0.938144            | 0.252420            |</pre>"
      ],
      "text/plain": [
       "| 5         | 0.094258     | 0.945318          | 0.236896          | 0.938144            | 0.252420            |"
      ]
     },
     "metadata": {},
     "output_type": "display_data"
    },
    {
     "data": {
      "text/html": [
       "<pre>| 6         | 0.114023     | 0.945501          | 0.215194          | 0.936426            | 0.235413            |</pre>"
      ],
      "text/plain": [
       "| 6         | 0.114023     | 0.945501          | 0.215194          | 0.936426            | 0.235413            |"
      ]
     },
     "metadata": {},
     "output_type": "display_data"
    },
    {
     "data": {
      "text/html": [
       "<pre>| 11        | 0.195293     | 0.950924          | 0.158494          | 0.941581            | 0.194474            |</pre>"
      ],
      "text/plain": [
       "| 11        | 0.195293     | 0.950924          | 0.158494          | 0.941581            | 0.194474            |"
      ]
     },
     "metadata": {},
     "output_type": "display_data"
    },
    {
     "data": {
      "text/html": [
       "<pre>| 51        | 0.776593     | 0.983457          | 0.054028          | 0.950172            | 0.173429            |</pre>"
      ],
      "text/plain": [
       "| 51        | 0.776593     | 0.983457          | 0.054028          | 0.950172            | 0.173429            |"
      ]
     },
     "metadata": {},
     "output_type": "display_data"
    },
    {
     "data": {
      "text/html": [
       "<pre>| 100       | 1.572842     | 1.000000          | 0.014888          | 0.948454            | 0.180986            |</pre>"
      ],
      "text/plain": [
       "| 100       | 1.572842     | 1.000000          | 0.014888          | 0.948454            | 0.180986            |"
      ]
     },
     "metadata": {},
     "output_type": "display_data"
    },
    {
     "data": {
      "text/html": [
       "<pre>+-----------+--------------+-------------------+-------------------+---------------------+---------------------+</pre>"
      ],
      "text/plain": [
       "+-----------+--------------+-------------------+-------------------+---------------------+---------------------+"
      ]
     },
     "metadata": {},
     "output_type": "display_data"
    },
    {
     "name": "stdout",
     "output_type": "stream",
     "text": [
      "\n",
      "PROGRESS: Creating a validation set from 5 percent of training data. This may take a while.\n",
      "          You can set ``validation_set=None`` to disable validation tracking.\n"
     ]
    },
    {
     "data": {
      "text/html": [
       "<pre>WARNING: Detected extremely low variance for feature(s) 'email_domain_morethan20' because all entries are nearly the same.\n",
       "Proceeding with model training using all features. If the model does not provide results of adequate quality, exclude the above mentioned feature(s) from the input dataset.</pre>"
      ],
      "text/plain": [
       "WARNING: Detected extremely low variance for feature(s) 'email_domain_morethan20' because all entries are nearly the same.\n",
       "Proceeding with model training using all features. If the model does not provide results of adequate quality, exclude the above mentioned feature(s) from the input dataset."
      ]
     },
     "metadata": {},
     "output_type": "display_data"
    },
    {
     "data": {
      "text/html": [
       "<pre>Random forest classifier:</pre>"
      ],
      "text/plain": [
       "Random forest classifier:"
      ]
     },
     "metadata": {},
     "output_type": "display_data"
    },
    {
     "data": {
      "text/html": [
       "<pre>--------------------------------------------------------</pre>"
      ],
      "text/plain": [
       "--------------------------------------------------------"
      ]
     },
     "metadata": {},
     "output_type": "display_data"
    },
    {
     "data": {
      "text/html": [
       "<pre>Number of examples          : 10922</pre>"
      ],
      "text/plain": [
       "Number of examples          : 10922"
      ]
     },
     "metadata": {},
     "output_type": "display_data"
    },
    {
     "data": {
      "text/html": [
       "<pre>Number of classes           : 2</pre>"
      ],
      "text/plain": [
       "Number of classes           : 2"
      ]
     },
     "metadata": {},
     "output_type": "display_data"
    },
    {
     "data": {
      "text/html": [
       "<pre>Number of feature columns   : 34</pre>"
      ],
      "text/plain": [
       "Number of feature columns   : 34"
      ]
     },
     "metadata": {},
     "output_type": "display_data"
    },
    {
     "data": {
      "text/html": [
       "<pre>Number of unpacked features : 34</pre>"
      ],
      "text/plain": [
       "Number of unpacked features : 34"
      ]
     },
     "metadata": {},
     "output_type": "display_data"
    },
    {
     "data": {
      "text/html": [
       "<pre>+-----------+--------------+-------------------+-------------------+---------------------+---------------------+</pre>"
      ],
      "text/plain": [
       "+-----------+--------------+-------------------+-------------------+---------------------+---------------------+"
      ]
     },
     "metadata": {},
     "output_type": "display_data"
    },
    {
     "data": {
      "text/html": [
       "<pre>| Iteration | Elapsed Time | Training-accuracy | Training-log_loss | Validation-accuracy | Validation-log_loss |</pre>"
      ],
      "text/plain": [
       "| Iteration | Elapsed Time | Training-accuracy | Training-log_loss | Validation-accuracy | Validation-log_loss |"
      ]
     },
     "metadata": {},
     "output_type": "display_data"
    },
    {
     "data": {
      "text/html": [
       "<pre>+-----------+--------------+-------------------+-------------------+---------------------+---------------------+</pre>"
      ],
      "text/plain": [
       "+-----------+--------------+-------------------+-------------------+---------------------+---------------------+"
      ]
     },
     "metadata": {},
     "output_type": "display_data"
    },
    {
     "data": {
      "text/html": [
       "<pre>| 1         | 0.018523     | 0.944058          | 0.252042          | 0.907579            | 0.315143            |</pre>"
      ],
      "text/plain": [
       "| 1         | 0.018523     | 0.944058          | 0.252042          | 0.907579            | 0.315143            |"
      ]
     },
     "metadata": {},
     "output_type": "display_data"
    },
    {
     "data": {
      "text/html": [
       "<pre>| 2         | 0.035068     | 0.944790          | 0.248981          | 0.909427            | 0.310689            |</pre>"
      ],
      "text/plain": [
       "| 2         | 0.035068     | 0.944790          | 0.248981          | 0.909427            | 0.310689            |"
      ]
     },
     "metadata": {},
     "output_type": "display_data"
    },
    {
     "data": {
      "text/html": [
       "<pre>| 3         | 0.052233     | 0.945706          | 0.248902          | 0.914972            | 0.306695            |</pre>"
      ],
      "text/plain": [
       "| 3         | 0.052233     | 0.945706          | 0.248902          | 0.914972            | 0.306695            |"
      ]
     },
     "metadata": {},
     "output_type": "display_data"
    },
    {
     "data": {
      "text/html": [
       "<pre>| 4         | 0.069587     | 0.945614          | 0.248540          | 0.913124            | 0.307257            |</pre>"
      ],
      "text/plain": [
       "| 4         | 0.069587     | 0.945614          | 0.248540          | 0.913124            | 0.307257            |"
      ]
     },
     "metadata": {},
     "output_type": "display_data"
    },
    {
     "data": {
      "text/html": [
       "<pre>| 5         | 0.087621     | 0.945523          | 0.247994          | 0.913124            | 0.309131            |</pre>"
      ],
      "text/plain": [
       "| 5         | 0.087621     | 0.945523          | 0.247994          | 0.913124            | 0.309131            |"
      ]
     },
     "metadata": {},
     "output_type": "display_data"
    },
    {
     "data": {
      "text/html": [
       "<pre>| 6         | 0.104939     | 0.945157          | 0.247945          | 0.911275            | 0.308205            |</pre>"
      ],
      "text/plain": [
       "| 6         | 0.104939     | 0.945157          | 0.247945          | 0.911275            | 0.308205            |"
      ]
     },
     "metadata": {},
     "output_type": "display_data"
    },
    {
     "data": {
      "text/html": [
       "<pre>| 11        | 0.179302     | 0.946347          | 0.248001          | 0.909427            | 0.310122            |</pre>"
      ],
      "text/plain": [
       "| 11        | 0.179302     | 0.946347          | 0.248001          | 0.909427            | 0.310122            |"
      ]
     },
     "metadata": {},
     "output_type": "display_data"
    },
    {
     "data": {
      "text/html": [
       "<pre>| 51        | 0.778338     | 0.945614          | 0.247860          | 0.911275            | 0.310041            |</pre>"
      ],
      "text/plain": [
       "| 51        | 0.778338     | 0.945614          | 0.247860          | 0.911275            | 0.310041            |"
      ]
     },
     "metadata": {},
     "output_type": "display_data"
    },
    {
     "data": {
      "text/html": [
       "<pre>| 100       | 1.493623     | 0.945523          | 0.247908          | 0.909427            | 0.309324            |</pre>"
      ],
      "text/plain": [
       "| 100       | 1.493623     | 0.945523          | 0.247908          | 0.909427            | 0.309324            |"
      ]
     },
     "metadata": {},
     "output_type": "display_data"
    },
    {
     "data": {
      "text/html": [
       "<pre>+-----------+--------------+-------------------+-------------------+---------------------+---------------------+</pre>"
      ],
      "text/plain": [
       "+-----------+--------------+-------------------+-------------------+---------------------+---------------------+"
      ]
     },
     "metadata": {},
     "output_type": "display_data"
    },
    {
     "name": "stdout",
     "output_type": "stream",
     "text": [
      "\n",
      "PROGRESS: Creating a validation set from 5 percent of training data. This may take a while.\n",
      "          You can set ``validation_set=None`` to disable validation tracking.\n"
     ]
    },
    {
     "data": {
      "text/html": [
       "<pre>WARNING: Detected extremely low variance for feature(s) 'email_domain_morethan20' because all entries are nearly the same.\n",
       "Proceeding with model training using all features. If the model does not provide results of adequate quality, exclude the above mentioned feature(s) from the input dataset.</pre>"
      ],
      "text/plain": [
       "WARNING: Detected extremely low variance for feature(s) 'email_domain_morethan20' because all entries are nearly the same.\n",
       "Proceeding with model training using all features. If the model does not provide results of adequate quality, exclude the above mentioned feature(s) from the input dataset."
      ]
     },
     "metadata": {},
     "output_type": "display_data"
    },
    {
     "data": {
      "text/html": [
       "<pre>Boosted trees classifier:</pre>"
      ],
      "text/plain": [
       "Boosted trees classifier:"
      ]
     },
     "metadata": {},
     "output_type": "display_data"
    },
    {
     "data": {
      "text/html": [
       "<pre>--------------------------------------------------------</pre>"
      ],
      "text/plain": [
       "--------------------------------------------------------"
      ]
     },
     "metadata": {},
     "output_type": "display_data"
    },
    {
     "data": {
      "text/html": [
       "<pre>Number of examples          : 10910</pre>"
      ],
      "text/plain": [
       "Number of examples          : 10910"
      ]
     },
     "metadata": {},
     "output_type": "display_data"
    },
    {
     "data": {
      "text/html": [
       "<pre>Number of classes           : 2</pre>"
      ],
      "text/plain": [
       "Number of classes           : 2"
      ]
     },
     "metadata": {},
     "output_type": "display_data"
    },
    {
     "data": {
      "text/html": [
       "<pre>Number of feature columns   : 34</pre>"
      ],
      "text/plain": [
       "Number of feature columns   : 34"
      ]
     },
     "metadata": {},
     "output_type": "display_data"
    },
    {
     "data": {
      "text/html": [
       "<pre>Number of unpacked features : 34</pre>"
      ],
      "text/plain": [
       "Number of unpacked features : 34"
      ]
     },
     "metadata": {},
     "output_type": "display_data"
    },
    {
     "data": {
      "text/html": [
       "<pre>+-----------+--------------+-------------------+-------------------+---------------------+---------------------+</pre>"
      ],
      "text/plain": [
       "+-----------+--------------+-------------------+-------------------+---------------------+---------------------+"
      ]
     },
     "metadata": {},
     "output_type": "display_data"
    },
    {
     "data": {
      "text/html": [
       "<pre>| Iteration | Elapsed Time | Training-accuracy | Training-log_loss | Validation-accuracy | Validation-log_loss |</pre>"
      ],
      "text/plain": [
       "| Iteration | Elapsed Time | Training-accuracy | Training-log_loss | Validation-accuracy | Validation-log_loss |"
      ]
     },
     "metadata": {},
     "output_type": "display_data"
    },
    {
     "data": {
      "text/html": [
       "<pre>+-----------+--------------+-------------------+-------------------+---------------------+---------------------+</pre>"
      ],
      "text/plain": [
       "+-----------+--------------+-------------------+-------------------+---------------------+---------------------+"
      ]
     },
     "metadata": {},
     "output_type": "display_data"
    },
    {
     "data": {
      "text/html": [
       "<pre>| 1         | 0.019525     | 0.943355          | 0.491287          | 0.938517            | 0.492786            |</pre>"
      ],
      "text/plain": [
       "| 1         | 0.019525     | 0.943355          | 0.491287          | 0.938517            | 0.492786            |"
      ]
     },
     "metadata": {},
     "output_type": "display_data"
    },
    {
     "data": {
      "text/html": [
       "<pre>| 2         | 0.036297     | 0.942438          | 0.380568          | 0.940325            | 0.384068            |</pre>"
      ],
      "text/plain": [
       "| 2         | 0.036297     | 0.942438          | 0.380568          | 0.940325            | 0.384068            |"
      ]
     },
     "metadata": {},
     "output_type": "display_data"
    },
    {
     "data": {
      "text/html": [
       "<pre>| 3         | 0.055699     | 0.946288          | 0.311946          | 0.936709            | 0.318931            |</pre>"
      ],
      "text/plain": [
       "| 3         | 0.055699     | 0.946288          | 0.311946          | 0.936709            | 0.318931            |"
      ]
     },
     "metadata": {},
     "output_type": "display_data"
    },
    {
     "data": {
      "text/html": [
       "<pre>| 4         | 0.075335     | 0.947571          | 0.267638          | 0.942134            | 0.278050            |</pre>"
      ],
      "text/plain": [
       "| 4         | 0.075335     | 0.947571          | 0.267638          | 0.942134            | 0.278050            |"
      ]
     },
     "metadata": {},
     "output_type": "display_data"
    },
    {
     "data": {
      "text/html": [
       "<pre>| 5         | 0.096268     | 0.946746          | 0.237105          | 0.940325            | 0.251455            |</pre>"
      ],
      "text/plain": [
       "| 5         | 0.096268     | 0.946746          | 0.237105          | 0.940325            | 0.251455            |"
      ]
     },
     "metadata": {},
     "output_type": "display_data"
    },
    {
     "data": {
      "text/html": [
       "<pre>| 6         | 0.116169     | 0.948488          | 0.215614          | 0.938517            | 0.234342            |</pre>"
      ],
      "text/plain": [
       "| 6         | 0.116169     | 0.948488          | 0.215614          | 0.938517            | 0.234342            |"
      ]
     },
     "metadata": {},
     "output_type": "display_data"
    },
    {
     "data": {
      "text/html": [
       "<pre>| 11        | 0.206728     | 0.951512          | 0.163983          | 0.940325            | 0.194265            |</pre>"
      ],
      "text/plain": [
       "| 11        | 0.206728     | 0.951512          | 0.163983          | 0.940325            | 0.194265            |"
      ]
     },
     "metadata": {},
     "output_type": "display_data"
    },
    {
     "data": {
      "text/html": [
       "<pre>| 51        | 0.821542     | 0.984693          | 0.053009          | 0.945750            | 0.152785            |</pre>"
      ],
      "text/plain": [
       "| 51        | 0.821542     | 0.984693          | 0.053009          | 0.945750            | 0.152785            |"
      ]
     },
     "metadata": {},
     "output_type": "display_data"
    },
    {
     "data": {
      "text/html": [
       "<pre>| 100       | 1.570559     | 0.999817          | 0.016000          | 0.952984            | 0.158254            |</pre>"
      ],
      "text/plain": [
       "| 100       | 1.570559     | 0.999817          | 0.016000          | 0.952984            | 0.158254            |"
      ]
     },
     "metadata": {},
     "output_type": "display_data"
    },
    {
     "data": {
      "text/html": [
       "<pre>+-----------+--------------+-------------------+-------------------+---------------------+---------------------+</pre>"
      ],
      "text/plain": [
       "+-----------+--------------+-------------------+-------------------+---------------------+---------------------+"
      ]
     },
     "metadata": {},
     "output_type": "display_data"
    },
    {
     "name": "stdout",
     "output_type": "stream",
     "text": [
      "\n",
      "PROGRESS: Creating a validation set from 5 percent of training data. This may take a while.\n",
      "          You can set ``validation_set=None`` to disable validation tracking.\n"
     ]
    },
    {
     "data": {
      "text/html": [
       "<pre>WARNING: Detected extremely low variance for feature(s) 'email_domain_morethan20' because all entries are nearly the same.\n",
       "Proceeding with model training using all features. If the model does not provide results of adequate quality, exclude the above mentioned feature(s) from the input dataset.</pre>"
      ],
      "text/plain": [
       "WARNING: Detected extremely low variance for feature(s) 'email_domain_morethan20' because all entries are nearly the same.\n",
       "Proceeding with model training using all features. If the model does not provide results of adequate quality, exclude the above mentioned feature(s) from the input dataset."
      ]
     },
     "metadata": {},
     "output_type": "display_data"
    },
    {
     "data": {
      "text/html": [
       "<pre>Random forest classifier:</pre>"
      ],
      "text/plain": [
       "Random forest classifier:"
      ]
     },
     "metadata": {},
     "output_type": "display_data"
    },
    {
     "data": {
      "text/html": [
       "<pre>--------------------------------------------------------</pre>"
      ],
      "text/plain": [
       "--------------------------------------------------------"
      ]
     },
     "metadata": {},
     "output_type": "display_data"
    },
    {
     "data": {
      "text/html": [
       "<pre>Number of examples          : 10859</pre>"
      ],
      "text/plain": [
       "Number of examples          : 10859"
      ]
     },
     "metadata": {},
     "output_type": "display_data"
    },
    {
     "data": {
      "text/html": [
       "<pre>Number of classes           : 2</pre>"
      ],
      "text/plain": [
       "Number of classes           : 2"
      ]
     },
     "metadata": {},
     "output_type": "display_data"
    },
    {
     "data": {
      "text/html": [
       "<pre>Number of feature columns   : 34</pre>"
      ],
      "text/plain": [
       "Number of feature columns   : 34"
      ]
     },
     "metadata": {},
     "output_type": "display_data"
    },
    {
     "data": {
      "text/html": [
       "<pre>Number of unpacked features : 34</pre>"
      ],
      "text/plain": [
       "Number of unpacked features : 34"
      ]
     },
     "metadata": {},
     "output_type": "display_data"
    },
    {
     "data": {
      "text/html": [
       "<pre>+-----------+--------------+-------------------+-------------------+---------------------+---------------------+</pre>"
      ],
      "text/plain": [
       "+-----------+--------------+-------------------+-------------------+---------------------+---------------------+"
      ]
     },
     "metadata": {},
     "output_type": "display_data"
    },
    {
     "data": {
      "text/html": [
       "<pre>| Iteration | Elapsed Time | Training-accuracy | Training-log_loss | Validation-accuracy | Validation-log_loss |</pre>"
      ],
      "text/plain": [
       "| Iteration | Elapsed Time | Training-accuracy | Training-log_loss | Validation-accuracy | Validation-log_loss |"
      ]
     },
     "metadata": {},
     "output_type": "display_data"
    },
    {
     "data": {
      "text/html": [
       "<pre>+-----------+--------------+-------------------+-------------------+---------------------+---------------------+</pre>"
      ],
      "text/plain": [
       "+-----------+--------------+-------------------+-------------------+---------------------+---------------------+"
      ]
     },
     "metadata": {},
     "output_type": "display_data"
    },
    {
     "data": {
      "text/html": [
       "<pre>| 1         | 0.018280     | 0.942076          | 0.254338          | 0.935430            | 0.268246            |</pre>"
      ],
      "text/plain": [
       "| 1         | 0.018280     | 0.942076          | 0.254338          | 0.935430            | 0.268246            |"
      ]
     },
     "metadata": {},
     "output_type": "display_data"
    },
    {
     "data": {
      "text/html": [
       "<pre>| 2         | 0.034057     | 0.942628          | 0.253293          | 0.938742            | 0.264907            |</pre>"
      ],
      "text/plain": [
       "| 2         | 0.034057     | 0.942628          | 0.253293          | 0.938742            | 0.264907            |"
      ]
     },
     "metadata": {},
     "output_type": "display_data"
    },
    {
     "data": {
      "text/html": [
       "<pre>| 3         | 0.051442     | 0.943273          | 0.251246          | 0.937086            | 0.264551            |</pre>"
      ],
      "text/plain": [
       "| 3         | 0.051442     | 0.943273          | 0.251246          | 0.937086            | 0.264551            |"
      ]
     },
     "metadata": {},
     "output_type": "display_data"
    },
    {
     "data": {
      "text/html": [
       "<pre>| 4         | 0.067691     | 0.943918          | 0.250758          | 0.938742            | 0.262160            |</pre>"
      ],
      "text/plain": [
       "| 4         | 0.067691     | 0.943918          | 0.250758          | 0.938742            | 0.262160            |"
      ]
     },
     "metadata": {},
     "output_type": "display_data"
    },
    {
     "data": {
      "text/html": [
       "<pre>| 5         | 0.085027     | 0.944286          | 0.249992          | 0.938742            | 0.263422            |</pre>"
      ],
      "text/plain": [
       "| 5         | 0.085027     | 0.944286          | 0.249992          | 0.938742            | 0.263422            |"
      ]
     },
     "metadata": {},
     "output_type": "display_data"
    },
    {
     "data": {
      "text/html": [
       "<pre>| 6         | 0.101164     | 0.944470          | 0.250053          | 0.937086            | 0.263894            |</pre>"
      ],
      "text/plain": [
       "| 6         | 0.101164     | 0.944470          | 0.250053          | 0.937086            | 0.263894            |"
      ]
     },
     "metadata": {},
     "output_type": "display_data"
    },
    {
     "data": {
      "text/html": [
       "<pre>| 11        | 0.178887     | 0.945023          | 0.249483          | 0.937086            | 0.263157            |</pre>"
      ],
      "text/plain": [
       "| 11        | 0.178887     | 0.945023          | 0.249483          | 0.937086            | 0.263157            |"
      ]
     },
     "metadata": {},
     "output_type": "display_data"
    },
    {
     "data": {
      "text/html": [
       "<pre>| 51        | 0.714751     | 0.944010          | 0.249931          | 0.940397            | 0.261825            |</pre>"
      ],
      "text/plain": [
       "| 51        | 0.714751     | 0.944010          | 0.249931          | 0.940397            | 0.261825            |"
      ]
     },
     "metadata": {},
     "output_type": "display_data"
    },
    {
     "data": {
      "text/html": [
       "<pre>| 100       | 1.366417     | 0.944102          | 0.249636          | 0.938742            | 0.261885            |</pre>"
      ],
      "text/plain": [
       "| 100       | 1.366417     | 0.944102          | 0.249636          | 0.938742            | 0.261885            |"
      ]
     },
     "metadata": {},
     "output_type": "display_data"
    },
    {
     "data": {
      "text/html": [
       "<pre>+-----------+--------------+-------------------+-------------------+---------------------+---------------------+</pre>"
      ],
      "text/plain": [
       "+-----------+--------------+-------------------+-------------------+---------------------+---------------------+"
      ]
     },
     "metadata": {},
     "output_type": "display_data"
    },
    {
     "name": "stdout",
     "output_type": "stream",
     "text": [
      "\n",
      "PROGRESS: Creating a validation set from 5 percent of training data. This may take a while.\n",
      "          You can set ``validation_set=None`` to disable validation tracking.\n"
     ]
    },
    {
     "data": {
      "text/html": [
       "<pre>WARNING: Detected extremely low variance for feature(s) 'email_domain_morethan20' because all entries are nearly the same.\n",
       "Proceeding with model training using all features. If the model does not provide results of adequate quality, exclude the above mentioned feature(s) from the input dataset.</pre>"
      ],
      "text/plain": [
       "WARNING: Detected extremely low variance for feature(s) 'email_domain_morethan20' because all entries are nearly the same.\n",
       "Proceeding with model training using all features. If the model does not provide results of adequate quality, exclude the above mentioned feature(s) from the input dataset."
      ]
     },
     "metadata": {},
     "output_type": "display_data"
    },
    {
     "data": {
      "text/html": [
       "<pre>Boosted trees classifier:</pre>"
      ],
      "text/plain": [
       "Boosted trees classifier:"
      ]
     },
     "metadata": {},
     "output_type": "display_data"
    },
    {
     "data": {
      "text/html": [
       "<pre>--------------------------------------------------------</pre>"
      ],
      "text/plain": [
       "--------------------------------------------------------"
      ]
     },
     "metadata": {},
     "output_type": "display_data"
    },
    {
     "data": {
      "text/html": [
       "<pre>Number of examples          : 10941</pre>"
      ],
      "text/plain": [
       "Number of examples          : 10941"
      ]
     },
     "metadata": {},
     "output_type": "display_data"
    },
    {
     "data": {
      "text/html": [
       "<pre>Number of classes           : 2</pre>"
      ],
      "text/plain": [
       "Number of classes           : 2"
      ]
     },
     "metadata": {},
     "output_type": "display_data"
    },
    {
     "data": {
      "text/html": [
       "<pre>Number of feature columns   : 34</pre>"
      ],
      "text/plain": [
       "Number of feature columns   : 34"
      ]
     },
     "metadata": {},
     "output_type": "display_data"
    },
    {
     "data": {
      "text/html": [
       "<pre>Number of unpacked features : 34</pre>"
      ],
      "text/plain": [
       "Number of unpacked features : 34"
      ]
     },
     "metadata": {},
     "output_type": "display_data"
    },
    {
     "data": {
      "text/html": [
       "<pre>+-----------+--------------+-------------------+-------------------+---------------------+---------------------+</pre>"
      ],
      "text/plain": [
       "+-----------+--------------+-------------------+-------------------+---------------------+---------------------+"
      ]
     },
     "metadata": {},
     "output_type": "display_data"
    },
    {
     "data": {
      "text/html": [
       "<pre>| Iteration | Elapsed Time | Training-accuracy | Training-log_loss | Validation-accuracy | Validation-log_loss |</pre>"
      ],
      "text/plain": [
       "| Iteration | Elapsed Time | Training-accuracy | Training-log_loss | Validation-accuracy | Validation-log_loss |"
      ]
     },
     "metadata": {},
     "output_type": "display_data"
    },
    {
     "data": {
      "text/html": [
       "<pre>+-----------+--------------+-------------------+-------------------+---------------------+---------------------+</pre>"
      ],
      "text/plain": [
       "+-----------+--------------+-------------------+-------------------+---------------------+---------------------+"
      ]
     },
     "metadata": {},
     "output_type": "display_data"
    },
    {
     "data": {
      "text/html": [
       "<pre>| 1         | 0.020320     | 0.943607          | 0.490729          | 0.934866            | 0.495418            |</pre>"
      ],
      "text/plain": [
       "| 1         | 0.020320     | 0.943607          | 0.490729          | 0.934866            | 0.495418            |"
      ]
     },
     "metadata": {},
     "output_type": "display_data"
    },
    {
     "data": {
      "text/html": [
       "<pre>| 2         | 0.038654     | 0.943332          | 0.379612          | 0.938697            | 0.386829            |</pre>"
      ],
      "text/plain": [
       "| 2         | 0.038654     | 0.943332          | 0.379612          | 0.938697            | 0.386829            |"
      ]
     },
     "metadata": {},
     "output_type": "display_data"
    },
    {
     "data": {
      "text/html": [
       "<pre>| 3         | 0.058755     | 0.946440          | 0.311154          | 0.936782            | 0.322623            |</pre>"
      ],
      "text/plain": [
       "| 3         | 0.058755     | 0.946440          | 0.311154          | 0.936782            | 0.322623            |"
      ]
     },
     "metadata": {},
     "output_type": "display_data"
    },
    {
     "data": {
      "text/html": [
       "<pre>| 4         | 0.080038     | 0.947080          | 0.266766          | 0.940613            | 0.280893            |</pre>"
      ],
      "text/plain": [
       "| 4         | 0.080038     | 0.947080          | 0.266766          | 0.940613            | 0.280893            |"
      ]
     },
     "metadata": {},
     "output_type": "display_data"
    },
    {
     "data": {
      "text/html": [
       "<pre>| 5         | 0.099702     | 0.946623          | 0.235964          | 0.938697            | 0.252667            |</pre>"
      ],
      "text/plain": [
       "| 5         | 0.099702     | 0.946623          | 0.235964          | 0.938697            | 0.252667            |"
      ]
     },
     "metadata": {},
     "output_type": "display_data"
    },
    {
     "data": {
      "text/html": [
       "<pre>| 6         | 0.118284     | 0.948268          | 0.214680          | 0.944444            | 0.235198            |</pre>"
      ],
      "text/plain": [
       "| 6         | 0.118284     | 0.948268          | 0.214680          | 0.944444            | 0.235198            |"
      ]
     },
     "metadata": {},
     "output_type": "display_data"
    },
    {
     "data": {
      "text/html": [
       "<pre>| 11        | 0.200316     | 0.950919          | 0.158954          | 0.944444            | 0.199224            |</pre>"
      ],
      "text/plain": [
       "| 11        | 0.200316     | 0.950919          | 0.158954          | 0.944444            | 0.199224            |"
      ]
     },
     "metadata": {},
     "output_type": "display_data"
    },
    {
     "data": {
      "text/html": [
       "<pre>| 51        | 0.793233     | 0.984919          | 0.055002          | 0.950192            | 0.174109            |</pre>"
      ],
      "text/plain": [
       "| 51        | 0.793233     | 0.984919          | 0.055002          | 0.950192            | 0.174109            |"
      ]
     },
     "metadata": {},
     "output_type": "display_data"
    },
    {
     "data": {
      "text/html": [
       "<pre>| 100       | 1.551706     | 0.999817          | 0.016516          | 0.952107            | 0.178414            |</pre>"
      ],
      "text/plain": [
       "| 100       | 1.551706     | 0.999817          | 0.016516          | 0.952107            | 0.178414            |"
      ]
     },
     "metadata": {},
     "output_type": "display_data"
    },
    {
     "data": {
      "text/html": [
       "<pre>+-----------+--------------+-------------------+-------------------+---------------------+---------------------+</pre>"
      ],
      "text/plain": [
       "+-----------+--------------+-------------------+-------------------+---------------------+---------------------+"
      ]
     },
     "metadata": {},
     "output_type": "display_data"
    },
    {
     "name": "stdout",
     "output_type": "stream",
     "text": [
      "\n",
      "PROGRESS: Creating a validation set from 5 percent of training data. This may take a while.\n",
      "          You can set ``validation_set=None`` to disable validation tracking.\n"
     ]
    },
    {
     "data": {
      "text/html": [
       "<pre>WARNING: Detected extremely low variance for feature(s) 'email_domain_morethan20' because all entries are nearly the same.\n",
       "Proceeding with model training using all features. If the model does not provide results of adequate quality, exclude the above mentioned feature(s) from the input dataset.</pre>"
      ],
      "text/plain": [
       "WARNING: Detected extremely low variance for feature(s) 'email_domain_morethan20' because all entries are nearly the same.\n",
       "Proceeding with model training using all features. If the model does not provide results of adequate quality, exclude the above mentioned feature(s) from the input dataset."
      ]
     },
     "metadata": {},
     "output_type": "display_data"
    },
    {
     "data": {
      "text/html": [
       "<pre>Random forest classifier:</pre>"
      ],
      "text/plain": [
       "Random forest classifier:"
      ]
     },
     "metadata": {},
     "output_type": "display_data"
    },
    {
     "data": {
      "text/html": [
       "<pre>--------------------------------------------------------</pre>"
      ],
      "text/plain": [
       "--------------------------------------------------------"
      ]
     },
     "metadata": {},
     "output_type": "display_data"
    },
    {
     "data": {
      "text/html": [
       "<pre>Number of examples          : 10899</pre>"
      ],
      "text/plain": [
       "Number of examples          : 10899"
      ]
     },
     "metadata": {},
     "output_type": "display_data"
    },
    {
     "data": {
      "text/html": [
       "<pre>Number of classes           : 2</pre>"
      ],
      "text/plain": [
       "Number of classes           : 2"
      ]
     },
     "metadata": {},
     "output_type": "display_data"
    },
    {
     "data": {
      "text/html": [
       "<pre>Number of feature columns   : 34</pre>"
      ],
      "text/plain": [
       "Number of feature columns   : 34"
      ]
     },
     "metadata": {},
     "output_type": "display_data"
    },
    {
     "data": {
      "text/html": [
       "<pre>Number of unpacked features : 34</pre>"
      ],
      "text/plain": [
       "Number of unpacked features : 34"
      ]
     },
     "metadata": {},
     "output_type": "display_data"
    },
    {
     "data": {
      "text/html": [
       "<pre>+-----------+--------------+-------------------+-------------------+---------------------+---------------------+</pre>"
      ],
      "text/plain": [
       "+-----------+--------------+-------------------+-------------------+---------------------+---------------------+"
      ]
     },
     "metadata": {},
     "output_type": "display_data"
    },
    {
     "data": {
      "text/html": [
       "<pre>| Iteration | Elapsed Time | Training-accuracy | Training-log_loss | Validation-accuracy | Validation-log_loss |</pre>"
      ],
      "text/plain": [
       "| Iteration | Elapsed Time | Training-accuracy | Training-log_loss | Validation-accuracy | Validation-log_loss |"
      ]
     },
     "metadata": {},
     "output_type": "display_data"
    },
    {
     "data": {
      "text/html": [
       "<pre>+-----------+--------------+-------------------+-------------------+---------------------+---------------------+</pre>"
      ],
      "text/plain": [
       "+-----------+--------------+-------------------+-------------------+---------------------+---------------------+"
      ]
     },
     "metadata": {},
     "output_type": "display_data"
    },
    {
     "data": {
      "text/html": [
       "<pre>| 1         | 0.017878     | 0.943389          | 0.253188          | 0.936170            | 0.258857            |</pre>"
      ],
      "text/plain": [
       "| 1         | 0.017878     | 0.943389          | 0.253188          | 0.936170            | 0.258857            |"
      ]
     },
     "metadata": {},
     "output_type": "display_data"
    },
    {
     "data": {
      "text/html": [
       "<pre>| 2         | 0.033354     | 0.943848          | 0.251836          | 0.939716            | 0.257837            |</pre>"
      ],
      "text/plain": [
       "| 2         | 0.033354     | 0.943848          | 0.251836          | 0.939716            | 0.257837            |"
      ]
     },
     "metadata": {},
     "output_type": "display_data"
    },
    {
     "data": {
      "text/html": [
       "<pre>| 3         | 0.052098     | 0.944674          | 0.251675          | 0.945035            | 0.254568            |</pre>"
      ],
      "text/plain": [
       "| 3         | 0.052098     | 0.944674          | 0.251675          | 0.945035            | 0.254568            |"
      ]
     },
     "metadata": {},
     "output_type": "display_data"
    },
    {
     "data": {
      "text/html": [
       "<pre>| 4         | 0.067444     | 0.944123          | 0.252279          | 0.943262            | 0.253380            |</pre>"
      ],
      "text/plain": [
       "| 4         | 0.067444     | 0.944123          | 0.252279          | 0.943262            | 0.253380            |"
      ]
     },
     "metadata": {},
     "output_type": "display_data"
    },
    {
     "data": {
      "text/html": [
       "<pre>| 5         | 0.083139     | 0.944032          | 0.252203          | 0.943262            | 0.251498            |</pre>"
      ],
      "text/plain": [
       "| 5         | 0.083139     | 0.944032          | 0.252203          | 0.943262            | 0.251498            |"
      ]
     },
     "metadata": {},
     "output_type": "display_data"
    },
    {
     "data": {
      "text/html": [
       "<pre>| 6         | 0.101010     | 0.943665          | 0.250705          | 0.943262            | 0.249779            |</pre>"
      ],
      "text/plain": [
       "| 6         | 0.101010     | 0.943665          | 0.250705          | 0.943262            | 0.249779            |"
      ]
     },
     "metadata": {},
     "output_type": "display_data"
    },
    {
     "data": {
      "text/html": [
       "<pre>| 11        | 0.174553     | 0.943665          | 0.251148          | 0.945035            | 0.249211            |</pre>"
      ],
      "text/plain": [
       "| 11        | 0.174553     | 0.943665          | 0.251148          | 0.945035            | 0.249211            |"
      ]
     },
     "metadata": {},
     "output_type": "display_data"
    },
    {
     "data": {
      "text/html": [
       "<pre>| 51        | 0.745574     | 0.943389          | 0.250755          | 0.945035            | 0.248036            |</pre>"
      ],
      "text/plain": [
       "| 51        | 0.745574     | 0.943389          | 0.250755          | 0.945035            | 0.248036            |"
      ]
     },
     "metadata": {},
     "output_type": "display_data"
    },
    {
     "data": {
      "text/html": [
       "<pre>| 100       | 1.390159     | 0.943022          | 0.250682          | 0.945035            | 0.248381            |</pre>"
      ],
      "text/plain": [
       "| 100       | 1.390159     | 0.943022          | 0.250682          | 0.945035            | 0.248381            |"
      ]
     },
     "metadata": {},
     "output_type": "display_data"
    },
    {
     "data": {
      "text/html": [
       "<pre>+-----------+--------------+-------------------+-------------------+---------------------+---------------------+</pre>"
      ],
      "text/plain": [
       "+-----------+--------------+-------------------+-------------------+---------------------+---------------------+"
      ]
     },
     "metadata": {},
     "output_type": "display_data"
    },
    {
     "name": "stdout",
     "output_type": "stream",
     "text": [
      "\n",
      "PROGRESS: Creating a validation set from 5 percent of training data. This may take a while.\n",
      "          You can set ``validation_set=None`` to disable validation tracking.\n"
     ]
    },
    {
     "data": {
      "text/html": [
       "<pre>WARNING: Detected extremely low variance for feature(s) 'email_domain_morethan20' because all entries are nearly the same.\n",
       "Proceeding with model training using all features. If the model does not provide results of adequate quality, exclude the above mentioned feature(s) from the input dataset.</pre>"
      ],
      "text/plain": [
       "WARNING: Detected extremely low variance for feature(s) 'email_domain_morethan20' because all entries are nearly the same.\n",
       "Proceeding with model training using all features. If the model does not provide results of adequate quality, exclude the above mentioned feature(s) from the input dataset."
      ]
     },
     "metadata": {},
     "output_type": "display_data"
    },
    {
     "data": {
      "text/html": [
       "<pre>Boosted trees classifier:</pre>"
      ],
      "text/plain": [
       "Boosted trees classifier:"
      ]
     },
     "metadata": {},
     "output_type": "display_data"
    },
    {
     "data": {
      "text/html": [
       "<pre>--------------------------------------------------------</pre>"
      ],
      "text/plain": [
       "--------------------------------------------------------"
      ]
     },
     "metadata": {},
     "output_type": "display_data"
    },
    {
     "data": {
      "text/html": [
       "<pre>Number of examples          : 10927</pre>"
      ],
      "text/plain": [
       "Number of examples          : 10927"
      ]
     },
     "metadata": {},
     "output_type": "display_data"
    },
    {
     "data": {
      "text/html": [
       "<pre>Number of classes           : 2</pre>"
      ],
      "text/plain": [
       "Number of classes           : 2"
      ]
     },
     "metadata": {},
     "output_type": "display_data"
    },
    {
     "data": {
      "text/html": [
       "<pre>Number of feature columns   : 34</pre>"
      ],
      "text/plain": [
       "Number of feature columns   : 34"
      ]
     },
     "metadata": {},
     "output_type": "display_data"
    },
    {
     "data": {
      "text/html": [
       "<pre>Number of unpacked features : 34</pre>"
      ],
      "text/plain": [
       "Number of unpacked features : 34"
      ]
     },
     "metadata": {},
     "output_type": "display_data"
    },
    {
     "data": {
      "text/html": [
       "<pre>+-----------+--------------+-------------------+-------------------+---------------------+---------------------+</pre>"
      ],
      "text/plain": [
       "+-----------+--------------+-------------------+-------------------+---------------------+---------------------+"
      ]
     },
     "metadata": {},
     "output_type": "display_data"
    },
    {
     "data": {
      "text/html": [
       "<pre>| Iteration | Elapsed Time | Training-accuracy | Training-log_loss | Validation-accuracy | Validation-log_loss |</pre>"
      ],
      "text/plain": [
       "| Iteration | Elapsed Time | Training-accuracy | Training-log_loss | Validation-accuracy | Validation-log_loss |"
      ]
     },
     "metadata": {},
     "output_type": "display_data"
    },
    {
     "data": {
      "text/html": [
       "<pre>+-----------+--------------+-------------------+-------------------+---------------------+---------------------+</pre>"
      ],
      "text/plain": [
       "+-----------+--------------+-------------------+-------------------+---------------------+---------------------+"
      ]
     },
     "metadata": {},
     "output_type": "display_data"
    },
    {
     "data": {
      "text/html": [
       "<pre>| 1         | 0.019906     | 0.943443          | 0.491505          | 0.951493            | 0.486651            |</pre>"
      ],
      "text/plain": [
       "| 1         | 0.019906     | 0.943443          | 0.491505          | 0.951493            | 0.486651            |"
      ]
     },
     "metadata": {},
     "output_type": "display_data"
    },
    {
     "data": {
      "text/html": [
       "<pre>| 2         | 0.036613     | 0.942345          | 0.381407          | 0.955224            | 0.373172            |</pre>"
      ],
      "text/plain": [
       "| 2         | 0.036613     | 0.942345          | 0.381407          | 0.955224            | 0.373172            |"
      ]
     },
     "metadata": {},
     "output_type": "display_data"
    },
    {
     "data": {
      "text/html": [
       "<pre>| 3         | 0.055305     | 0.942619          | 0.313862          | 0.953358            | 0.305304            |</pre>"
      ],
      "text/plain": [
       "| 3         | 0.055305     | 0.942619          | 0.313862          | 0.953358            | 0.305304            |"
      ]
     },
     "metadata": {},
     "output_type": "display_data"
    },
    {
     "data": {
      "text/html": [
       "<pre>| 4         | 0.074477     | 0.946188          | 0.268919          | 0.953358            | 0.261997            |</pre>"
      ],
      "text/plain": [
       "| 4         | 0.074477     | 0.946188          | 0.268919          | 0.953358            | 0.261997            |"
      ]
     },
     "metadata": {},
     "output_type": "display_data"
    },
    {
     "data": {
      "text/html": [
       "<pre>| 5         | 0.093141     | 0.946188          | 0.237951          | 0.955224            | 0.232695            |</pre>"
      ],
      "text/plain": [
       "| 5         | 0.093141     | 0.946188          | 0.237951          | 0.955224            | 0.232695            |"
      ]
     },
     "metadata": {},
     "output_type": "display_data"
    },
    {
     "data": {
      "text/html": [
       "<pre>| 6         | 0.112233     | 0.946188          | 0.215240          | 0.955224            | 0.213403            |</pre>"
      ],
      "text/plain": [
       "| 6         | 0.112233     | 0.946188          | 0.215240          | 0.955224            | 0.213403            |"
      ]
     },
     "metadata": {},
     "output_type": "display_data"
    },
    {
     "data": {
      "text/html": [
       "<pre>| 11        | 0.192790     | 0.951313          | 0.160919          | 0.955224            | 0.173543            |</pre>"
      ],
      "text/plain": [
       "| 11        | 0.192790     | 0.951313          | 0.160919          | 0.955224            | 0.173543            |"
      ]
     },
     "metadata": {},
     "output_type": "display_data"
    },
    {
     "data": {
      "text/html": [
       "<pre>| 51        | 0.783953     | 0.984076          | 0.054068          | 0.962687            | 0.138703            |</pre>"
      ],
      "text/plain": [
       "| 51        | 0.783953     | 0.984076          | 0.054068          | 0.962687            | 0.138703            |"
      ]
     },
     "metadata": {},
     "output_type": "display_data"
    },
    {
     "data": {
      "text/html": [
       "<pre>| 100       | 1.525569     | 0.999909          | 0.014945          | 0.966418            | 0.138135            |</pre>"
      ],
      "text/plain": [
       "| 100       | 1.525569     | 0.999909          | 0.014945          | 0.966418            | 0.138135            |"
      ]
     },
     "metadata": {},
     "output_type": "display_data"
    },
    {
     "data": {
      "text/html": [
       "<pre>+-----------+--------------+-------------------+-------------------+---------------------+---------------------+</pre>"
      ],
      "text/plain": [
       "+-----------+--------------+-------------------+-------------------+---------------------+---------------------+"
      ]
     },
     "metadata": {},
     "output_type": "display_data"
    },
    {
     "name": "stdout",
     "output_type": "stream",
     "text": [
      "\n",
      "PROGRESS: Creating a validation set from 5 percent of training data. This may take a while.\n",
      "          You can set ``validation_set=None`` to disable validation tracking.\n"
     ]
    },
    {
     "data": {
      "text/html": [
       "<pre>WARNING: Detected extremely low variance for feature(s) 'email_domain_morethan20' because all entries are nearly the same.\n",
       "Proceeding with model training using all features. If the model does not provide results of adequate quality, exclude the above mentioned feature(s) from the input dataset.</pre>"
      ],
      "text/plain": [
       "WARNING: Detected extremely low variance for feature(s) 'email_domain_morethan20' because all entries are nearly the same.\n",
       "Proceeding with model training using all features. If the model does not provide results of adequate quality, exclude the above mentioned feature(s) from the input dataset."
      ]
     },
     "metadata": {},
     "output_type": "display_data"
    },
    {
     "data": {
      "text/html": [
       "<pre>Random forest classifier:</pre>"
      ],
      "text/plain": [
       "Random forest classifier:"
      ]
     },
     "metadata": {},
     "output_type": "display_data"
    },
    {
     "data": {
      "text/html": [
       "<pre>--------------------------------------------------------</pre>"
      ],
      "text/plain": [
       "--------------------------------------------------------"
      ]
     },
     "metadata": {},
     "output_type": "display_data"
    },
    {
     "data": {
      "text/html": [
       "<pre>Number of examples          : 10893</pre>"
      ],
      "text/plain": [
       "Number of examples          : 10893"
      ]
     },
     "metadata": {},
     "output_type": "display_data"
    },
    {
     "data": {
      "text/html": [
       "<pre>Number of classes           : 2</pre>"
      ],
      "text/plain": [
       "Number of classes           : 2"
      ]
     },
     "metadata": {},
     "output_type": "display_data"
    },
    {
     "data": {
      "text/html": [
       "<pre>Number of feature columns   : 34</pre>"
      ],
      "text/plain": [
       "Number of feature columns   : 34"
      ]
     },
     "metadata": {},
     "output_type": "display_data"
    },
    {
     "data": {
      "text/html": [
       "<pre>Number of unpacked features : 34</pre>"
      ],
      "text/plain": [
       "Number of unpacked features : 34"
      ]
     },
     "metadata": {},
     "output_type": "display_data"
    },
    {
     "data": {
      "text/html": [
       "<pre>+-----------+--------------+-------------------+-------------------+---------------------+---------------------+</pre>"
      ],
      "text/plain": [
       "+-----------+--------------+-------------------+-------------------+---------------------+---------------------+"
      ]
     },
     "metadata": {},
     "output_type": "display_data"
    },
    {
     "data": {
      "text/html": [
       "<pre>| Iteration | Elapsed Time | Training-accuracy | Training-log_loss | Validation-accuracy | Validation-log_loss |</pre>"
      ],
      "text/plain": [
       "| Iteration | Elapsed Time | Training-accuracy | Training-log_loss | Validation-accuracy | Validation-log_loss |"
      ]
     },
     "metadata": {},
     "output_type": "display_data"
    },
    {
     "data": {
      "text/html": [
       "<pre>+-----------+--------------+-------------------+-------------------+---------------------+---------------------+</pre>"
      ],
      "text/plain": [
       "+-----------+--------------+-------------------+-------------------+---------------------+---------------------+"
      ]
     },
     "metadata": {},
     "output_type": "display_data"
    },
    {
     "data": {
      "text/html": [
       "<pre>| 1         | 0.017697     | 0.942440          | 0.254721          | 0.924561            | 0.274173            |</pre>"
      ],
      "text/plain": [
       "| 1         | 0.017697     | 0.942440          | 0.254721          | 0.924561            | 0.274173            |"
      ]
     },
     "metadata": {},
     "output_type": "display_data"
    },
    {
     "data": {
      "text/html": [
       "<pre>| 2         | 0.034121     | 0.941430          | 0.254164          | 0.931579            | 0.271373            |</pre>"
      ],
      "text/plain": [
       "| 2         | 0.034121     | 0.941430          | 0.254164          | 0.931579            | 0.271373            |"
      ]
     },
     "metadata": {},
     "output_type": "display_data"
    },
    {
     "data": {
      "text/html": [
       "<pre>| 3         | 0.049963     | 0.942440          | 0.253735          | 0.928070            | 0.271480            |</pre>"
      ],
      "text/plain": [
       "| 3         | 0.049963     | 0.942440          | 0.253735          | 0.928070            | 0.271480            |"
      ]
     },
     "metadata": {},
     "output_type": "display_data"
    },
    {
     "data": {
      "text/html": [
       "<pre>| 4         | 0.065742     | 0.940604          | 0.255832          | 0.929825            | 0.272498            |</pre>"
      ],
      "text/plain": [
       "| 4         | 0.065742     | 0.940604          | 0.255832          | 0.929825            | 0.272498            |"
      ]
     },
     "metadata": {},
     "output_type": "display_data"
    },
    {
     "data": {
      "text/html": [
       "<pre>| 5         | 0.082407     | 0.941155          | 0.254980          | 0.931579            | 0.271143            |</pre>"
      ],
      "text/plain": [
       "| 5         | 0.082407     | 0.941155          | 0.254980          | 0.931579            | 0.271143            |"
      ]
     },
     "metadata": {},
     "output_type": "display_data"
    },
    {
     "data": {
      "text/html": [
       "<pre>| 6         | 0.099372     | 0.941522          | 0.254002          | 0.929825            | 0.271924            |</pre>"
      ],
      "text/plain": [
       "| 6         | 0.099372     | 0.941522          | 0.254002          | 0.929825            | 0.271924            |"
      ]
     },
     "metadata": {},
     "output_type": "display_data"
    },
    {
     "data": {
      "text/html": [
       "<pre>| 11        | 0.173500     | 0.942257          | 0.253468          | 0.929825            | 0.270856            |</pre>"
      ],
      "text/plain": [
       "| 11        | 0.173500     | 0.942257          | 0.253468          | 0.929825            | 0.270856            |"
      ]
     },
     "metadata": {},
     "output_type": "display_data"
    },
    {
     "data": {
      "text/html": [
       "<pre>| 51        | 0.706952     | 0.942991          | 0.252459          | 0.929825            | 0.268927            |</pre>"
      ],
      "text/plain": [
       "| 51        | 0.706952     | 0.942991          | 0.252459          | 0.929825            | 0.268927            |"
      ]
     },
     "metadata": {},
     "output_type": "display_data"
    },
    {
     "data": {
      "text/html": [
       "<pre>| 100       | 1.394749     | 0.943175          | 0.252402          | 0.931579            | 0.268999            |</pre>"
      ],
      "text/plain": [
       "| 100       | 1.394749     | 0.943175          | 0.252402          | 0.931579            | 0.268999            |"
      ]
     },
     "metadata": {},
     "output_type": "display_data"
    },
    {
     "data": {
      "text/html": [
       "<pre>+-----------+--------------+-------------------+-------------------+---------------------+---------------------+</pre>"
      ],
      "text/plain": [
       "+-----------+--------------+-------------------+-------------------+---------------------+---------------------+"
      ]
     },
     "metadata": {},
     "output_type": "display_data"
    },
    {
     "name": "stdout",
     "output_type": "stream",
     "text": [
      "\n",
      "PROGRESS: Creating a validation set from 5 percent of training data. This may take a while.\n",
      "          You can set ``validation_set=None`` to disable validation tracking.\n"
     ]
    },
    {
     "data": {
      "text/html": [
       "<pre>WARNING: Detected extremely low variance for feature(s) 'email_domain_morethan20' because all entries are nearly the same.\n",
       "Proceeding with model training using all features. If the model does not provide results of adequate quality, exclude the above mentioned feature(s) from the input dataset.</pre>"
      ],
      "text/plain": [
       "WARNING: Detected extremely low variance for feature(s) 'email_domain_morethan20' because all entries are nearly the same.\n",
       "Proceeding with model training using all features. If the model does not provide results of adequate quality, exclude the above mentioned feature(s) from the input dataset."
      ]
     },
     "metadata": {},
     "output_type": "display_data"
    },
    {
     "data": {
      "text/html": [
       "<pre>Boosted trees classifier:</pre>"
      ],
      "text/plain": [
       "Boosted trees classifier:"
      ]
     },
     "metadata": {},
     "output_type": "display_data"
    },
    {
     "data": {
      "text/html": [
       "<pre>--------------------------------------------------------</pre>"
      ],
      "text/plain": [
       "--------------------------------------------------------"
      ]
     },
     "metadata": {},
     "output_type": "display_data"
    },
    {
     "data": {
      "text/html": [
       "<pre>Number of examples          : 10878</pre>"
      ],
      "text/plain": [
       "Number of examples          : 10878"
      ]
     },
     "metadata": {},
     "output_type": "display_data"
    },
    {
     "data": {
      "text/html": [
       "<pre>Number of classes           : 2</pre>"
      ],
      "text/plain": [
       "Number of classes           : 2"
      ]
     },
     "metadata": {},
     "output_type": "display_data"
    },
    {
     "data": {
      "text/html": [
       "<pre>Number of feature columns   : 34</pre>"
      ],
      "text/plain": [
       "Number of feature columns   : 34"
      ]
     },
     "metadata": {},
     "output_type": "display_data"
    },
    {
     "data": {
      "text/html": [
       "<pre>Number of unpacked features : 34</pre>"
      ],
      "text/plain": [
       "Number of unpacked features : 34"
      ]
     },
     "metadata": {},
     "output_type": "display_data"
    },
    {
     "data": {
      "text/html": [
       "<pre>+-----------+--------------+-------------------+-------------------+---------------------+---------------------+</pre>"
      ],
      "text/plain": [
       "+-----------+--------------+-------------------+-------------------+---------------------+---------------------+"
      ]
     },
     "metadata": {},
     "output_type": "display_data"
    },
    {
     "data": {
      "text/html": [
       "<pre>| Iteration | Elapsed Time | Training-accuracy | Training-log_loss | Validation-accuracy | Validation-log_loss |</pre>"
      ],
      "text/plain": [
       "| Iteration | Elapsed Time | Training-accuracy | Training-log_loss | Validation-accuracy | Validation-log_loss |"
      ]
     },
     "metadata": {},
     "output_type": "display_data"
    },
    {
     "data": {
      "text/html": [
       "<pre>+-----------+--------------+-------------------+-------------------+---------------------+---------------------+</pre>"
      ],
      "text/plain": [
       "+-----------+--------------+-------------------+-------------------+---------------------+---------------------+"
      ]
     },
     "metadata": {},
     "output_type": "display_data"
    },
    {
     "data": {
      "text/html": [
       "<pre>| 1         | 0.019391     | 0.942912          | 0.491591          | 0.940171            | 0.493396            |</pre>"
      ],
      "text/plain": [
       "| 1         | 0.019391     | 0.942912          | 0.491591          | 0.940171            | 0.493396            |"
      ]
     },
     "metadata": {},
     "output_type": "display_data"
    },
    {
     "data": {
      "text/html": [
       "<pre>| 2         | 0.039047     | 0.944107          | 0.381221          | 0.947009            | 0.382274            |</pre>"
      ],
      "text/plain": [
       "| 2         | 0.039047     | 0.944107          | 0.381221          | 0.947009            | 0.382274            |"
      ]
     },
     "metadata": {},
     "output_type": "display_data"
    },
    {
     "data": {
      "text/html": [
       "<pre>| 3         | 0.059551     | 0.943556          | 0.313395          | 0.945299            | 0.313554            |</pre>"
      ],
      "text/plain": [
       "| 3         | 0.059551     | 0.943556          | 0.313395          | 0.945299            | 0.313554            |"
      ]
     },
     "metadata": {},
     "output_type": "display_data"
    },
    {
     "data": {
      "text/html": [
       "<pre>| 4         | 0.080280     | 0.948060          | 0.267597          | 0.948718            | 0.269609            |</pre>"
      ],
      "text/plain": [
       "| 4         | 0.080280     | 0.948060          | 0.267597          | 0.948718            | 0.269609            |"
      ]
     },
     "metadata": {},
     "output_type": "display_data"
    },
    {
     "data": {
      "text/html": [
       "<pre>| 5         | 0.099845     | 0.948060          | 0.236010          | 0.947009            | 0.240140            |</pre>"
      ],
      "text/plain": [
       "| 5         | 0.099845     | 0.948060          | 0.236010          | 0.947009            | 0.240140            |"
      ]
     },
     "metadata": {},
     "output_type": "display_data"
    },
    {
     "data": {
      "text/html": [
       "<pre>| 6         | 0.119838     | 0.948060          | 0.214370          | 0.948718            | 0.219792            |</pre>"
      ],
      "text/plain": [
       "| 6         | 0.119838     | 0.948060          | 0.214370          | 0.948718            | 0.219792            |"
      ]
     },
     "metadata": {},
     "output_type": "display_data"
    },
    {
     "data": {
      "text/html": [
       "<pre>| 11        | 0.207969     | 0.950542          | 0.162288          | 0.947009            | 0.180284            |</pre>"
      ],
      "text/plain": [
       "| 11        | 0.207969     | 0.950542          | 0.162288          | 0.947009            | 0.180284            |"
      ]
     },
     "metadata": {},
     "output_type": "display_data"
    },
    {
     "data": {
      "text/html": [
       "<pre>| 50        | 0.796141     | 0.984372          | 0.053706          | 0.957265            | 0.160305            |</pre>"
      ],
      "text/plain": [
       "| 50        | 0.796141     | 0.984372          | 0.053706          | 0.957265            | 0.160305            |"
      ]
     },
     "metadata": {},
     "output_type": "display_data"
    },
    {
     "data": {
      "text/html": [
       "<pre>| 51        | 0.814070     | 0.984740          | 0.052495          | 0.957265            | 0.160158            |</pre>"
      ],
      "text/plain": [
       "| 51        | 0.814070     | 0.984740          | 0.052495          | 0.957265            | 0.160158            |"
      ]
     },
     "metadata": {},
     "output_type": "display_data"
    },
    {
     "data": {
      "text/html": [
       "<pre>| 100       | 1.582851     | 0.999908          | 0.013664          | 0.955556            | 0.175475            |</pre>"
      ],
      "text/plain": [
       "| 100       | 1.582851     | 0.999908          | 0.013664          | 0.955556            | 0.175475            |"
      ]
     },
     "metadata": {},
     "output_type": "display_data"
    },
    {
     "data": {
      "text/html": [
       "<pre>+-----------+--------------+-------------------+-------------------+---------------------+---------------------+</pre>"
      ],
      "text/plain": [
       "+-----------+--------------+-------------------+-------------------+---------------------+---------------------+"
      ]
     },
     "metadata": {},
     "output_type": "display_data"
    },
    {
     "name": "stdout",
     "output_type": "stream",
     "text": [
      "\n",
      "PROGRESS: Creating a validation set from 5 percent of training data. This may take a while.\n",
      "          You can set ``validation_set=None`` to disable validation tracking.\n"
     ]
    },
    {
     "data": {
      "text/html": [
       "<pre>WARNING: Detected extremely low variance for feature(s) 'email_domain_morethan20' because all entries are nearly the same.\n",
       "Proceeding with model training using all features. If the model does not provide results of adequate quality, exclude the above mentioned feature(s) from the input dataset.</pre>"
      ],
      "text/plain": [
       "WARNING: Detected extremely low variance for feature(s) 'email_domain_morethan20' because all entries are nearly the same.\n",
       "Proceeding with model training using all features. If the model does not provide results of adequate quality, exclude the above mentioned feature(s) from the input dataset."
      ]
     },
     "metadata": {},
     "output_type": "display_data"
    },
    {
     "data": {
      "text/html": [
       "<pre>Random forest classifier:</pre>"
      ],
      "text/plain": [
       "Random forest classifier:"
      ]
     },
     "metadata": {},
     "output_type": "display_data"
    },
    {
     "data": {
      "text/html": [
       "<pre>--------------------------------------------------------</pre>"
      ],
      "text/plain": [
       "--------------------------------------------------------"
      ]
     },
     "metadata": {},
     "output_type": "display_data"
    },
    {
     "data": {
      "text/html": [
       "<pre>Number of examples          : 10853</pre>"
      ],
      "text/plain": [
       "Number of examples          : 10853"
      ]
     },
     "metadata": {},
     "output_type": "display_data"
    },
    {
     "data": {
      "text/html": [
       "<pre>Number of classes           : 2</pre>"
      ],
      "text/plain": [
       "Number of classes           : 2"
      ]
     },
     "metadata": {},
     "output_type": "display_data"
    },
    {
     "data": {
      "text/html": [
       "<pre>Number of feature columns   : 34</pre>"
      ],
      "text/plain": [
       "Number of feature columns   : 34"
      ]
     },
     "metadata": {},
     "output_type": "display_data"
    },
    {
     "data": {
      "text/html": [
       "<pre>Number of unpacked features : 34</pre>"
      ],
      "text/plain": [
       "Number of unpacked features : 34"
      ]
     },
     "metadata": {},
     "output_type": "display_data"
    },
    {
     "data": {
      "text/html": [
       "<pre>+-----------+--------------+-------------------+-------------------+---------------------+---------------------+</pre>"
      ],
      "text/plain": [
       "+-----------+--------------+-------------------+-------------------+---------------------+---------------------+"
      ]
     },
     "metadata": {},
     "output_type": "display_data"
    },
    {
     "data": {
      "text/html": [
       "<pre>| Iteration | Elapsed Time | Training-accuracy | Training-log_loss | Validation-accuracy | Validation-log_loss |</pre>"
      ],
      "text/plain": [
       "| Iteration | Elapsed Time | Training-accuracy | Training-log_loss | Validation-accuracy | Validation-log_loss |"
      ]
     },
     "metadata": {},
     "output_type": "display_data"
    },
    {
     "data": {
      "text/html": [
       "<pre>+-----------+--------------+-------------------+-------------------+---------------------+---------------------+</pre>"
      ],
      "text/plain": [
       "+-----------+--------------+-------------------+-------------------+---------------------+---------------------+"
      ]
     },
     "metadata": {},
     "output_type": "display_data"
    },
    {
     "data": {
      "text/html": [
       "<pre>| 1         | 0.018037     | 0.942596          | 0.255886          | 0.934426            | 0.265177            |</pre>"
      ],
      "text/plain": [
       "| 1         | 0.018037     | 0.942596          | 0.255886          | 0.934426            | 0.265177            |"
      ]
     },
     "metadata": {},
     "output_type": "display_data"
    },
    {
     "data": {
      "text/html": [
       "<pre>| 2         | 0.035019     | 0.943149          | 0.251952          | 0.937705            | 0.260897            |</pre>"
      ],
      "text/plain": [
       "| 2         | 0.035019     | 0.943149          | 0.251952          | 0.937705            | 0.260897            |"
      ]
     },
     "metadata": {},
     "output_type": "display_data"
    },
    {
     "data": {
      "text/html": [
       "<pre>| 3         | 0.050744     | 0.943334          | 0.251996          | 0.937705            | 0.259084            |</pre>"
      ],
      "text/plain": [
       "| 3         | 0.050744     | 0.943334          | 0.251996          | 0.937705            | 0.259084            |"
      ]
     },
     "metadata": {},
     "output_type": "display_data"
    },
    {
     "data": {
      "text/html": [
       "<pre>| 4         | 0.066774     | 0.944531          | 0.251891          | 0.939344            | 0.259229            |</pre>"
      ],
      "text/plain": [
       "| 4         | 0.066774     | 0.944531          | 0.251891          | 0.939344            | 0.259229            |"
      ]
     },
     "metadata": {},
     "output_type": "display_data"
    },
    {
     "data": {
      "text/html": [
       "<pre>| 5         | 0.084165     | 0.944163          | 0.251356          | 0.939344            | 0.259193            |</pre>"
      ],
      "text/plain": [
       "| 5         | 0.084165     | 0.944163          | 0.251356          | 0.939344            | 0.259193            |"
      ]
     },
     "metadata": {},
     "output_type": "display_data"
    },
    {
     "data": {
      "text/html": [
       "<pre>| 6         | 0.101455     | 0.944071          | 0.251169          | 0.939344            | 0.258292            |</pre>"
      ],
      "text/plain": [
       "| 6         | 0.101455     | 0.944071          | 0.251169          | 0.939344            | 0.258292            |"
      ]
     },
     "metadata": {},
     "output_type": "display_data"
    },
    {
     "data": {
      "text/html": [
       "<pre>| 11        | 0.175994     | 0.944347          | 0.250442          | 0.939344            | 0.258183            |</pre>"
      ],
      "text/plain": [
       "| 11        | 0.175994     | 0.944347          | 0.250442          | 0.939344            | 0.258183            |"
      ]
     },
     "metadata": {},
     "output_type": "display_data"
    },
    {
     "data": {
      "text/html": [
       "<pre>| 51        | 0.727684     | 0.944439          | 0.250129          | 0.940984            | 0.256931            |</pre>"
      ],
      "text/plain": [
       "| 51        | 0.727684     | 0.944439          | 0.250129          | 0.940984            | 0.256931            |"
      ]
     },
     "metadata": {},
     "output_type": "display_data"
    },
    {
     "data": {
      "text/html": [
       "<pre>| 100       | 1.419422     | 0.944439          | 0.249934          | 0.940984            | 0.256996            |</pre>"
      ],
      "text/plain": [
       "| 100       | 1.419422     | 0.944439          | 0.249934          | 0.940984            | 0.256996            |"
      ]
     },
     "metadata": {},
     "output_type": "display_data"
    },
    {
     "data": {
      "text/html": [
       "<pre>+-----------+--------------+-------------------+-------------------+---------------------+---------------------+</pre>"
      ],
      "text/plain": [
       "+-----------+--------------+-------------------+-------------------+---------------------+---------------------+"
      ]
     },
     "metadata": {},
     "output_type": "display_data"
    },
    {
     "name": "stdout",
     "output_type": "stream",
     "text": [
      "\n",
      "PROGRESS: Creating a validation set from 5 percent of training data. This may take a while.\n",
      "          You can set ``validation_set=None`` to disable validation tracking.\n"
     ]
    },
    {
     "data": {
      "text/html": [
       "<pre>WARNING: Detected extremely low variance for feature(s) 'email_domain_morethan20' because all entries are nearly the same.\n",
       "Proceeding with model training using all features. If the model does not provide results of adequate quality, exclude the above mentioned feature(s) from the input dataset.</pre>"
      ],
      "text/plain": [
       "WARNING: Detected extremely low variance for feature(s) 'email_domain_morethan20' because all entries are nearly the same.\n",
       "Proceeding with model training using all features. If the model does not provide results of adequate quality, exclude the above mentioned feature(s) from the input dataset."
      ]
     },
     "metadata": {},
     "output_type": "display_data"
    },
    {
     "data": {
      "text/html": [
       "<pre>Boosted trees classifier:</pre>"
      ],
      "text/plain": [
       "Boosted trees classifier:"
      ]
     },
     "metadata": {},
     "output_type": "display_data"
    },
    {
     "data": {
      "text/html": [
       "<pre>--------------------------------------------------------</pre>"
      ],
      "text/plain": [
       "--------------------------------------------------------"
      ]
     },
     "metadata": {},
     "output_type": "display_data"
    },
    {
     "data": {
      "text/html": [
       "<pre>Number of examples          : 10848</pre>"
      ],
      "text/plain": [
       "Number of examples          : 10848"
      ]
     },
     "metadata": {},
     "output_type": "display_data"
    },
    {
     "data": {
      "text/html": [
       "<pre>Number of classes           : 2</pre>"
      ],
      "text/plain": [
       "Number of classes           : 2"
      ]
     },
     "metadata": {},
     "output_type": "display_data"
    },
    {
     "data": {
      "text/html": [
       "<pre>Number of feature columns   : 34</pre>"
      ],
      "text/plain": [
       "Number of feature columns   : 34"
      ]
     },
     "metadata": {},
     "output_type": "display_data"
    },
    {
     "data": {
      "text/html": [
       "<pre>Number of unpacked features : 34</pre>"
      ],
      "text/plain": [
       "Number of unpacked features : 34"
      ]
     },
     "metadata": {},
     "output_type": "display_data"
    },
    {
     "data": {
      "text/html": [
       "<pre>+-----------+--------------+-------------------+-------------------+---------------------+---------------------+</pre>"
      ],
      "text/plain": [
       "+-----------+--------------+-------------------+-------------------+---------------------+---------------------+"
      ]
     },
     "metadata": {},
     "output_type": "display_data"
    },
    {
     "data": {
      "text/html": [
       "<pre>| Iteration | Elapsed Time | Training-accuracy | Training-log_loss | Validation-accuracy | Validation-log_loss |</pre>"
      ],
      "text/plain": [
       "| Iteration | Elapsed Time | Training-accuracy | Training-log_loss | Validation-accuracy | Validation-log_loss |"
      ]
     },
     "metadata": {},
     "output_type": "display_data"
    },
    {
     "data": {
      "text/html": [
       "<pre>+-----------+--------------+-------------------+-------------------+---------------------+---------------------+</pre>"
      ],
      "text/plain": [
       "+-----------+--------------+-------------------+-------------------+---------------------+---------------------+"
      ]
     },
     "metadata": {},
     "output_type": "display_data"
    },
    {
     "data": {
      "text/html": [
       "<pre>| 1         | 0.018777     | 0.944598          | 0.490961          | 0.939837            | 0.493166            |</pre>"
      ],
      "text/plain": [
       "| 1         | 0.018777     | 0.944598          | 0.490961          | 0.939837            | 0.493166            |"
      ]
     },
     "metadata": {},
     "output_type": "display_data"
    },
    {
     "data": {
      "text/html": [
       "<pre>| 2         | 0.037594     | 0.945151          | 0.379659          | 0.941463            | 0.386239            |</pre>"
      ],
      "text/plain": [
       "| 2         | 0.037594     | 0.945151          | 0.379659          | 0.941463            | 0.386239            |"
      ]
     },
     "metadata": {},
     "output_type": "display_data"
    },
    {
     "data": {
      "text/html": [
       "<pre>| 3         | 0.055128     | 0.944137          | 0.312282          | 0.936585            | 0.321136            |</pre>"
      ],
      "text/plain": [
       "| 3         | 0.055128     | 0.944137          | 0.312282          | 0.936585            | 0.321136            |"
      ]
     },
     "metadata": {},
     "output_type": "display_data"
    },
    {
     "data": {
      "text/html": [
       "<pre>| 4         | 0.074242     | 0.945520          | 0.267729          | 0.938211            | 0.279273            |</pre>"
      ],
      "text/plain": [
       "| 4         | 0.074242     | 0.945520          | 0.267729          | 0.938211            | 0.279273            |"
      ]
     },
     "metadata": {},
     "output_type": "display_data"
    },
    {
     "data": {
      "text/html": [
       "<pre>| 5         | 0.094699     | 0.946534          | 0.236647          | 0.939837            | 0.249491            |</pre>"
      ],
      "text/plain": [
       "| 5         | 0.094699     | 0.946534          | 0.236647          | 0.939837            | 0.249491            |"
      ]
     },
     "metadata": {},
     "output_type": "display_data"
    },
    {
     "data": {
      "text/html": [
       "<pre>| 6         | 0.114031     | 0.946995          | 0.215497          | 0.941463            | 0.231023            |</pre>"
      ],
      "text/plain": [
       "| 6         | 0.114031     | 0.946995          | 0.215497          | 0.941463            | 0.231023            |"
      ]
     },
     "metadata": {},
     "output_type": "display_data"
    },
    {
     "data": {
      "text/html": [
       "<pre>| 11        | 0.200441     | 0.951051          | 0.163081          | 0.941463            | 0.195502            |</pre>"
      ],
      "text/plain": [
       "| 11        | 0.200441     | 0.951051          | 0.163081          | 0.941463            | 0.195502            |"
      ]
     },
     "metadata": {},
     "output_type": "display_data"
    },
    {
     "data": {
      "text/html": [
       "<pre>| 51        | 0.796923     | 0.984052          | 0.052912          | 0.951219            | 0.171561            |</pre>"
      ],
      "text/plain": [
       "| 51        | 0.796923     | 0.984052          | 0.052912          | 0.951219            | 0.171561            |"
      ]
     },
     "metadata": {},
     "output_type": "display_data"
    },
    {
     "data": {
      "text/html": [
       "<pre>| 100       | 1.544338     | 0.999908          | 0.015616          | 0.952846            | 0.177699            |</pre>"
      ],
      "text/plain": [
       "| 100       | 1.544338     | 0.999908          | 0.015616          | 0.952846            | 0.177699            |"
      ]
     },
     "metadata": {},
     "output_type": "display_data"
    },
    {
     "data": {
      "text/html": [
       "<pre>+-----------+--------------+-------------------+-------------------+---------------------+---------------------+</pre>"
      ],
      "text/plain": [
       "+-----------+--------------+-------------------+-------------------+---------------------+---------------------+"
      ]
     },
     "metadata": {},
     "output_type": "display_data"
    },
    {
     "name": "stdout",
     "output_type": "stream",
     "text": [
      "\n",
      "PROGRESS: Creating a validation set from 5 percent of training data. This may take a while.\n",
      "          You can set ``validation_set=None`` to disable validation tracking.\n"
     ]
    },
    {
     "data": {
      "text/html": [
       "<pre>WARNING: Detected extremely low variance for feature(s) 'email_domain_morethan20' because all entries are nearly the same.\n",
       "Proceeding with model training using all features. If the model does not provide results of adequate quality, exclude the above mentioned feature(s) from the input dataset.</pre>"
      ],
      "text/plain": [
       "WARNING: Detected extremely low variance for feature(s) 'email_domain_morethan20' because all entries are nearly the same.\n",
       "Proceeding with model training using all features. If the model does not provide results of adequate quality, exclude the above mentioned feature(s) from the input dataset."
      ]
     },
     "metadata": {},
     "output_type": "display_data"
    },
    {
     "data": {
      "text/html": [
       "<pre>Random forest classifier:</pre>"
      ],
      "text/plain": [
       "Random forest classifier:"
      ]
     },
     "metadata": {},
     "output_type": "display_data"
    },
    {
     "data": {
      "text/html": [
       "<pre>--------------------------------------------------------</pre>"
      ],
      "text/plain": [
       "--------------------------------------------------------"
      ]
     },
     "metadata": {},
     "output_type": "display_data"
    },
    {
     "data": {
      "text/html": [
       "<pre>Number of examples          : 10900</pre>"
      ],
      "text/plain": [
       "Number of examples          : 10900"
      ]
     },
     "metadata": {},
     "output_type": "display_data"
    },
    {
     "data": {
      "text/html": [
       "<pre>Number of classes           : 2</pre>"
      ],
      "text/plain": [
       "Number of classes           : 2"
      ]
     },
     "metadata": {},
     "output_type": "display_data"
    },
    {
     "data": {
      "text/html": [
       "<pre>Number of feature columns   : 34</pre>"
      ],
      "text/plain": [
       "Number of feature columns   : 34"
      ]
     },
     "metadata": {},
     "output_type": "display_data"
    },
    {
     "data": {
      "text/html": [
       "<pre>Number of unpacked features : 34</pre>"
      ],
      "text/plain": [
       "Number of unpacked features : 34"
      ]
     },
     "metadata": {},
     "output_type": "display_data"
    },
    {
     "data": {
      "text/html": [
       "<pre>+-----------+--------------+-------------------+-------------------+---------------------+---------------------+</pre>"
      ],
      "text/plain": [
       "+-----------+--------------+-------------------+-------------------+---------------------+---------------------+"
      ]
     },
     "metadata": {},
     "output_type": "display_data"
    },
    {
     "data": {
      "text/html": [
       "<pre>| Iteration | Elapsed Time | Training-accuracy | Training-log_loss | Validation-accuracy | Validation-log_loss |</pre>"
      ],
      "text/plain": [
       "| Iteration | Elapsed Time | Training-accuracy | Training-log_loss | Validation-accuracy | Validation-log_loss |"
      ]
     },
     "metadata": {},
     "output_type": "display_data"
    },
    {
     "data": {
      "text/html": [
       "<pre>+-----------+--------------+-------------------+-------------------+---------------------+---------------------+</pre>"
      ],
      "text/plain": [
       "+-----------+--------------+-------------------+-------------------+---------------------+---------------------+"
      ]
     },
     "metadata": {},
     "output_type": "display_data"
    },
    {
     "data": {
      "text/html": [
       "<pre>| 1         | 0.018067     | 0.939450          | 0.255329          | 0.934281            | 0.258330            |</pre>"
      ],
      "text/plain": [
       "| 1         | 0.018067     | 0.939450          | 0.255329          | 0.934281            | 0.258330            |"
      ]
     },
     "metadata": {},
     "output_type": "display_data"
    },
    {
     "data": {
      "text/html": [
       "<pre>| 2         | 0.034354     | 0.941009          | 0.251269          | 0.944938            | 0.249190            |</pre>"
      ],
      "text/plain": [
       "| 2         | 0.034354     | 0.941009          | 0.251269          | 0.944938            | 0.249190            |"
      ]
     },
     "metadata": {},
     "output_type": "display_data"
    },
    {
     "data": {
      "text/html": [
       "<pre>| 3         | 0.049975     | 0.941284          | 0.252189          | 0.943162            | 0.250234            |</pre>"
      ],
      "text/plain": [
       "| 3         | 0.049975     | 0.941284          | 0.252189          | 0.943162            | 0.250234            |"
      ]
     },
     "metadata": {},
     "output_type": "display_data"
    },
    {
     "data": {
      "text/html": [
       "<pre>| 4         | 0.066725     | 0.942385          | 0.251969          | 0.944938            | 0.249278            |</pre>"
      ],
      "text/plain": [
       "| 4         | 0.066725     | 0.942385          | 0.251969          | 0.944938            | 0.249278            |"
      ]
     },
     "metadata": {},
     "output_type": "display_data"
    },
    {
     "data": {
      "text/html": [
       "<pre>| 5         | 0.082104     | 0.942018          | 0.252328          | 0.944938            | 0.249120            |</pre>"
      ],
      "text/plain": [
       "| 5         | 0.082104     | 0.942018          | 0.252328          | 0.944938            | 0.249120            |"
      ]
     },
     "metadata": {},
     "output_type": "display_data"
    },
    {
     "data": {
      "text/html": [
       "<pre>| 6         | 0.101062     | 0.942294          | 0.252174          | 0.944938            | 0.248615            |</pre>"
      ],
      "text/plain": [
       "| 6         | 0.101062     | 0.942294          | 0.252174          | 0.944938            | 0.248615            |"
      ]
     },
     "metadata": {},
     "output_type": "display_data"
    },
    {
     "data": {
      "text/html": [
       "<pre>| 11        | 0.173873     | 0.943211          | 0.251703          | 0.946714            | 0.246882            |</pre>"
      ],
      "text/plain": [
       "| 11        | 0.173873     | 0.943211          | 0.251703          | 0.946714            | 0.246882            |"
      ]
     },
     "metadata": {},
     "output_type": "display_data"
    },
    {
     "data": {
      "text/html": [
       "<pre>| 51        | 0.702067     | 0.943211          | 0.251414          | 0.946714            | 0.247668            |</pre>"
      ],
      "text/plain": [
       "| 51        | 0.702067     | 0.943211          | 0.251414          | 0.946714            | 0.247668            |"
      ]
     },
     "metadata": {},
     "output_type": "display_data"
    },
    {
     "data": {
      "text/html": [
       "<pre>| 100       | 1.389678     | 0.943670          | 0.251358          | 0.946714            | 0.247731            |</pre>"
      ],
      "text/plain": [
       "| 100       | 1.389678     | 0.943670          | 0.251358          | 0.946714            | 0.247731            |"
      ]
     },
     "metadata": {},
     "output_type": "display_data"
    },
    {
     "data": {
      "text/html": [
       "<pre>+-----------+--------------+-------------------+-------------------+---------------------+---------------------+</pre>"
      ],
      "text/plain": [
       "+-----------+--------------+-------------------+-------------------+---------------------+---------------------+"
      ]
     },
     "metadata": {},
     "output_type": "display_data"
    },
    {
     "name": "stdout",
     "output_type": "stream",
     "text": [
      "\n",
      "PROGRESS: Creating a validation set from 5 percent of training data. This may take a while.\n",
      "          You can set ``validation_set=None`` to disable validation tracking.\n"
     ]
    },
    {
     "data": {
      "text/html": [
       "<pre>WARNING: Detected extremely low variance for feature(s) 'email_domain_morethan20' because all entries are nearly the same.\n",
       "Proceeding with model training using all features. If the model does not provide results of adequate quality, exclude the above mentioned feature(s) from the input dataset.</pre>"
      ],
      "text/plain": [
       "WARNING: Detected extremely low variance for feature(s) 'email_domain_morethan20' because all entries are nearly the same.\n",
       "Proceeding with model training using all features. If the model does not provide results of adequate quality, exclude the above mentioned feature(s) from the input dataset."
      ]
     },
     "metadata": {},
     "output_type": "display_data"
    },
    {
     "data": {
      "text/html": [
       "<pre>Boosted trees classifier:</pre>"
      ],
      "text/plain": [
       "Boosted trees classifier:"
      ]
     },
     "metadata": {},
     "output_type": "display_data"
    },
    {
     "data": {
      "text/html": [
       "<pre>--------------------------------------------------------</pre>"
      ],
      "text/plain": [
       "--------------------------------------------------------"
      ]
     },
     "metadata": {},
     "output_type": "display_data"
    },
    {
     "data": {
      "text/html": [
       "<pre>Number of examples          : 10879</pre>"
      ],
      "text/plain": [
       "Number of examples          : 10879"
      ]
     },
     "metadata": {},
     "output_type": "display_data"
    },
    {
     "data": {
      "text/html": [
       "<pre>Number of classes           : 2</pre>"
      ],
      "text/plain": [
       "Number of classes           : 2"
      ]
     },
     "metadata": {},
     "output_type": "display_data"
    },
    {
     "data": {
      "text/html": [
       "<pre>Number of feature columns   : 34</pre>"
      ],
      "text/plain": [
       "Number of feature columns   : 34"
      ]
     },
     "metadata": {},
     "output_type": "display_data"
    },
    {
     "data": {
      "text/html": [
       "<pre>Number of unpacked features : 34</pre>"
      ],
      "text/plain": [
       "Number of unpacked features : 34"
      ]
     },
     "metadata": {},
     "output_type": "display_data"
    },
    {
     "data": {
      "text/html": [
       "<pre>+-----------+--------------+-------------------+-------------------+---------------------+---------------------+</pre>"
      ],
      "text/plain": [
       "+-----------+--------------+-------------------+-------------------+---------------------+---------------------+"
      ]
     },
     "metadata": {},
     "output_type": "display_data"
    },
    {
     "data": {
      "text/html": [
       "<pre>| Iteration | Elapsed Time | Training-accuracy | Training-log_loss | Validation-accuracy | Validation-log_loss |</pre>"
      ],
      "text/plain": [
       "| Iteration | Elapsed Time | Training-accuracy | Training-log_loss | Validation-accuracy | Validation-log_loss |"
      ]
     },
     "metadata": {},
     "output_type": "display_data"
    },
    {
     "data": {
      "text/html": [
       "<pre>+-----------+--------------+-------------------+-------------------+---------------------+---------------------+</pre>"
      ],
      "text/plain": [
       "+-----------+--------------+-------------------+-------------------+---------------------+---------------------+"
      ]
     },
     "metadata": {},
     "output_type": "display_data"
    },
    {
     "data": {
      "text/html": [
       "<pre>| 1         | 0.019441     | 0.944572          | 0.490647          | 0.914384            | 0.505519            |</pre>"
      ],
      "text/plain": [
       "| 1         | 0.019441     | 0.944572          | 0.490647          | 0.914384            | 0.505519            |"
      ]
     },
     "metadata": {},
     "output_type": "display_data"
    },
    {
     "data": {
      "text/html": [
       "<pre>| 2         | 0.037848     | 0.944940          | 0.379089          | 0.916096            | 0.404599            |</pre>"
      ],
      "text/plain": [
       "| 2         | 0.037848     | 0.944940          | 0.379089          | 0.916096            | 0.404599            |"
      ]
     },
     "metadata": {},
     "output_type": "display_data"
    },
    {
     "data": {
      "text/html": [
       "<pre>| 3         | 0.056161     | 0.948249          | 0.309829          | 0.922945            | 0.343656            |</pre>"
      ],
      "text/plain": [
       "| 3         | 0.056161     | 0.948249          | 0.309829          | 0.922945            | 0.343656            |"
      ]
     },
     "metadata": {},
     "output_type": "display_data"
    },
    {
     "data": {
      "text/html": [
       "<pre>| 4         | 0.074405     | 0.948617          | 0.265520          | 0.922945            | 0.307147            |</pre>"
      ],
      "text/plain": [
       "| 4         | 0.074405     | 0.948617          | 0.265520          | 0.922945            | 0.307147            |"
      ]
     },
     "metadata": {},
     "output_type": "display_data"
    },
    {
     "data": {
      "text/html": [
       "<pre>| 5         | 0.094822     | 0.948525          | 0.234457          | 0.924658            | 0.283263            |</pre>"
      ],
      "text/plain": [
       "| 5         | 0.094822     | 0.948525          | 0.234457          | 0.924658            | 0.283263            |"
      ]
     },
     "metadata": {},
     "output_type": "display_data"
    },
    {
     "data": {
      "text/html": [
       "<pre>| 6         | 0.114484     | 0.948617          | 0.212167          | 0.924658            | 0.265861            |</pre>"
      ],
      "text/plain": [
       "| 6         | 0.114484     | 0.948617          | 0.212167          | 0.924658            | 0.265861            |"
      ]
     },
     "metadata": {},
     "output_type": "display_data"
    },
    {
     "data": {
      "text/html": [
       "<pre>| 11        | 0.194461     | 0.952661          | 0.160023          | 0.921233            | 0.239460            |</pre>"
      ],
      "text/plain": [
       "| 11        | 0.194461     | 0.952661          | 0.160023          | 0.921233            | 0.239460            |"
      ]
     },
     "metadata": {},
     "output_type": "display_data"
    },
    {
     "data": {
      "text/html": [
       "<pre>| 51        | 0.773109     | 0.979042          | 0.063799          | 0.940068            | 0.206711            |</pre>"
      ],
      "text/plain": [
       "| 51        | 0.773109     | 0.979042          | 0.063799          | 0.940068            | 0.206711            |"
      ]
     },
     "metadata": {},
     "output_type": "display_data"
    },
    {
     "data": {
      "text/html": [
       "<pre>| 100       | 1.501744     | 0.999908          | 0.017397          | 0.943493            | 0.219453            |</pre>"
      ],
      "text/plain": [
       "| 100       | 1.501744     | 0.999908          | 0.017397          | 0.943493            | 0.219453            |"
      ]
     },
     "metadata": {},
     "output_type": "display_data"
    },
    {
     "data": {
      "text/html": [
       "<pre>+-----------+--------------+-------------------+-------------------+---------------------+---------------------+</pre>"
      ],
      "text/plain": [
       "+-----------+--------------+-------------------+-------------------+---------------------+---------------------+"
      ]
     },
     "metadata": {},
     "output_type": "display_data"
    },
    {
     "name": "stdout",
     "output_type": "stream",
     "text": [
      "\n",
      "PROGRESS: Creating a validation set from 5 percent of training data. This may take a while.\n",
      "          You can set ``validation_set=None`` to disable validation tracking.\n"
     ]
    },
    {
     "data": {
      "text/html": [
       "<pre>WARNING: Detected extremely low variance for feature(s) 'email_domain_morethan20' because all entries are nearly the same.\n",
       "Proceeding with model training using all features. If the model does not provide results of adequate quality, exclude the above mentioned feature(s) from the input dataset.</pre>"
      ],
      "text/plain": [
       "WARNING: Detected extremely low variance for feature(s) 'email_domain_morethan20' because all entries are nearly the same.\n",
       "Proceeding with model training using all features. If the model does not provide results of adequate quality, exclude the above mentioned feature(s) from the input dataset."
      ]
     },
     "metadata": {},
     "output_type": "display_data"
    },
    {
     "data": {
      "text/html": [
       "<pre>Random forest classifier:</pre>"
      ],
      "text/plain": [
       "Random forest classifier:"
      ]
     },
     "metadata": {},
     "output_type": "display_data"
    },
    {
     "data": {
      "text/html": [
       "<pre>--------------------------------------------------------</pre>"
      ],
      "text/plain": [
       "--------------------------------------------------------"
      ]
     },
     "metadata": {},
     "output_type": "display_data"
    },
    {
     "data": {
      "text/html": [
       "<pre>Number of examples          : 10861</pre>"
      ],
      "text/plain": [
       "Number of examples          : 10861"
      ]
     },
     "metadata": {},
     "output_type": "display_data"
    },
    {
     "data": {
      "text/html": [
       "<pre>Number of classes           : 2</pre>"
      ],
      "text/plain": [
       "Number of classes           : 2"
      ]
     },
     "metadata": {},
     "output_type": "display_data"
    },
    {
     "data": {
      "text/html": [
       "<pre>Number of feature columns   : 34</pre>"
      ],
      "text/plain": [
       "Number of feature columns   : 34"
      ]
     },
     "metadata": {},
     "output_type": "display_data"
    },
    {
     "data": {
      "text/html": [
       "<pre>Number of unpacked features : 34</pre>"
      ],
      "text/plain": [
       "Number of unpacked features : 34"
      ]
     },
     "metadata": {},
     "output_type": "display_data"
    },
    {
     "data": {
      "text/html": [
       "<pre>+-----------+--------------+-------------------+-------------------+---------------------+---------------------+</pre>"
      ],
      "text/plain": [
       "+-----------+--------------+-------------------+-------------------+---------------------+---------------------+"
      ]
     },
     "metadata": {},
     "output_type": "display_data"
    },
    {
     "data": {
      "text/html": [
       "<pre>| Iteration | Elapsed Time | Training-accuracy | Training-log_loss | Validation-accuracy | Validation-log_loss |</pre>"
      ],
      "text/plain": [
       "| Iteration | Elapsed Time | Training-accuracy | Training-log_loss | Validation-accuracy | Validation-log_loss |"
      ]
     },
     "metadata": {},
     "output_type": "display_data"
    },
    {
     "data": {
      "text/html": [
       "<pre>+-----------+--------------+-------------------+-------------------+---------------------+---------------------+</pre>"
      ],
      "text/plain": [
       "+-----------+--------------+-------------------+-------------------+---------------------+---------------------+"
      ]
     },
     "metadata": {},
     "output_type": "display_data"
    },
    {
     "data": {
      "text/html": [
       "<pre>| 1         | 0.017339     | 0.944020          | 0.253696          | 0.935216            | 0.264631            |</pre>"
      ],
      "text/plain": [
       "| 1         | 0.017339     | 0.944020          | 0.253696          | 0.935216            | 0.264631            |"
      ]
     },
     "metadata": {},
     "output_type": "display_data"
    },
    {
     "data": {
      "text/html": [
       "<pre>| 2         | 0.033124     | 0.943928          | 0.251823          | 0.938538            | 0.262415            |</pre>"
      ],
      "text/plain": [
       "| 2         | 0.033124     | 0.943928          | 0.251823          | 0.938538            | 0.262415            |"
      ]
     },
     "metadata": {},
     "output_type": "display_data"
    },
    {
     "data": {
      "text/html": [
       "<pre>| 3         | 0.050281     | 0.944941          | 0.251257          | 0.938538            | 0.263816            |</pre>"
      ],
      "text/plain": [
       "| 3         | 0.050281     | 0.944941          | 0.251257          | 0.938538            | 0.263816            |"
      ]
     },
     "metadata": {},
     "output_type": "display_data"
    },
    {
     "data": {
      "text/html": [
       "<pre>| 4         | 0.065324     | 0.944849          | 0.250383          | 0.936877            | 0.263348            |</pre>"
      ],
      "text/plain": [
       "| 4         | 0.065324     | 0.944849          | 0.250383          | 0.936877            | 0.263348            |"
      ]
     },
     "metadata": {},
     "output_type": "display_data"
    },
    {
     "data": {
      "text/html": [
       "<pre>| 5         | 0.082673     | 0.945217          | 0.250143          | 0.936877            | 0.263454            |</pre>"
      ],
      "text/plain": [
       "| 5         | 0.082673     | 0.945217          | 0.250143          | 0.936877            | 0.263454            |"
      ]
     },
     "metadata": {},
     "output_type": "display_data"
    },
    {
     "data": {
      "text/html": [
       "<pre>| 6         | 0.098596     | 0.943744          | 0.250676          | 0.936877            | 0.262158            |</pre>"
      ],
      "text/plain": [
       "| 6         | 0.098596     | 0.943744          | 0.250676          | 0.936877            | 0.262158            |"
      ]
     },
     "metadata": {},
     "output_type": "display_data"
    },
    {
     "data": {
      "text/html": [
       "<pre>| 11        | 0.169577     | 0.943467          | 0.251411          | 0.936877            | 0.261976            |</pre>"
      ],
      "text/plain": [
       "| 11        | 0.169577     | 0.943467          | 0.251411          | 0.936877            | 0.261976            |"
      ]
     },
     "metadata": {},
     "output_type": "display_data"
    },
    {
     "data": {
      "text/html": [
       "<pre>| 51        | 0.708475     | 0.943467          | 0.250488          | 0.936877            | 0.259899            |</pre>"
      ],
      "text/plain": [
       "| 51        | 0.708475     | 0.943467          | 0.250488          | 0.936877            | 0.259899            |"
      ]
     },
     "metadata": {},
     "output_type": "display_data"
    },
    {
     "data": {
      "text/html": [
       "<pre>| 100       | 1.369023     | 0.943560          | 0.250515          | 0.936877            | 0.260149            |</pre>"
      ],
      "text/plain": [
       "| 100       | 1.369023     | 0.943560          | 0.250515          | 0.936877            | 0.260149            |"
      ]
     },
     "metadata": {},
     "output_type": "display_data"
    },
    {
     "data": {
      "text/html": [
       "<pre>+-----------+--------------+-------------------+-------------------+---------------------+---------------------+</pre>"
      ],
      "text/plain": [
       "+-----------+--------------+-------------------+-------------------+---------------------+---------------------+"
      ]
     },
     "metadata": {},
     "output_type": "display_data"
    },
    {
     "name": "stdout",
     "output_type": "stream",
     "text": [
      "\n",
      "PROGRESS: Creating a validation set from 5 percent of training data. This may take a while.\n",
      "          You can set ``validation_set=None`` to disable validation tracking.\n"
     ]
    },
    {
     "data": {
      "text/html": [
       "<pre>WARNING: Detected extremely low variance for feature(s) 'email_domain_morethan20' because all entries are nearly the same.\n",
       "Proceeding with model training using all features. If the model does not provide results of adequate quality, exclude the above mentioned feature(s) from the input dataset.</pre>"
      ],
      "text/plain": [
       "WARNING: Detected extremely low variance for feature(s) 'email_domain_morethan20' because all entries are nearly the same.\n",
       "Proceeding with model training using all features. If the model does not provide results of adequate quality, exclude the above mentioned feature(s) from the input dataset."
      ]
     },
     "metadata": {},
     "output_type": "display_data"
    },
    {
     "data": {
      "text/html": [
       "<pre>Boosted trees classifier:</pre>"
      ],
      "text/plain": [
       "Boosted trees classifier:"
      ]
     },
     "metadata": {},
     "output_type": "display_data"
    },
    {
     "data": {
      "text/html": [
       "<pre>--------------------------------------------------------</pre>"
      ],
      "text/plain": [
       "--------------------------------------------------------"
      ]
     },
     "metadata": {},
     "output_type": "display_data"
    },
    {
     "data": {
      "text/html": [
       "<pre>Number of examples          : 10894</pre>"
      ],
      "text/plain": [
       "Number of examples          : 10894"
      ]
     },
     "metadata": {},
     "output_type": "display_data"
    },
    {
     "data": {
      "text/html": [
       "<pre>Number of classes           : 2</pre>"
      ],
      "text/plain": [
       "Number of classes           : 2"
      ]
     },
     "metadata": {},
     "output_type": "display_data"
    },
    {
     "data": {
      "text/html": [
       "<pre>Number of feature columns   : 34</pre>"
      ],
      "text/plain": [
       "Number of feature columns   : 34"
      ]
     },
     "metadata": {},
     "output_type": "display_data"
    },
    {
     "data": {
      "text/html": [
       "<pre>Number of unpacked features : 34</pre>"
      ],
      "text/plain": [
       "Number of unpacked features : 34"
      ]
     },
     "metadata": {},
     "output_type": "display_data"
    },
    {
     "data": {
      "text/html": [
       "<pre>+-----------+--------------+-------------------+-------------------+---------------------+---------------------+</pre>"
      ],
      "text/plain": [
       "+-----------+--------------+-------------------+-------------------+---------------------+---------------------+"
      ]
     },
     "metadata": {},
     "output_type": "display_data"
    },
    {
     "data": {
      "text/html": [
       "<pre>| Iteration | Elapsed Time | Training-accuracy | Training-log_loss | Validation-accuracy | Validation-log_loss |</pre>"
      ],
      "text/plain": [
       "| Iteration | Elapsed Time | Training-accuracy | Training-log_loss | Validation-accuracy | Validation-log_loss |"
      ]
     },
     "metadata": {},
     "output_type": "display_data"
    },
    {
     "data": {
      "text/html": [
       "<pre>+-----------+--------------+-------------------+-------------------+---------------------+---------------------+</pre>"
      ],
      "text/plain": [
       "+-----------+--------------+-------------------+-------------------+---------------------+---------------------+"
      ]
     },
     "metadata": {},
     "output_type": "display_data"
    },
    {
     "data": {
      "text/html": [
       "<pre>| 1         | 0.019888     | 0.944373          | 0.490504          | 0.927944            | 0.497830            |</pre>"
      ],
      "text/plain": [
       "| 1         | 0.019888     | 0.944373          | 0.490504          | 0.927944            | 0.497830            |"
      ]
     },
     "metadata": {},
     "output_type": "display_data"
    },
    {
     "data": {
      "text/html": [
       "<pre>| 2         | 0.038327     | 0.944281          | 0.379521          | 0.933216            | 0.388901            |</pre>"
      ],
      "text/plain": [
       "| 2         | 0.038327     | 0.944281          | 0.379521          | 0.933216            | 0.388901            |"
      ]
     },
     "metadata": {},
     "output_type": "display_data"
    },
    {
     "data": {
      "text/html": [
       "<pre>| 3         | 0.056027     | 0.945842          | 0.311734          | 0.934974            | 0.324797            |</pre>"
      ],
      "text/plain": [
       "| 3         | 0.056027     | 0.945842          | 0.311734          | 0.934974            | 0.324797            |"
      ]
     },
     "metadata": {},
     "output_type": "display_data"
    },
    {
     "data": {
      "text/html": [
       "<pre>| 4         | 0.075095     | 0.946760          | 0.267170          | 0.934974            | 0.287283            |</pre>"
      ],
      "text/plain": [
       "| 4         | 0.075095     | 0.946760          | 0.267170          | 0.934974            | 0.287283            |"
      ]
     },
     "metadata": {},
     "output_type": "display_data"
    },
    {
     "data": {
      "text/html": [
       "<pre>| 5         | 0.094552     | 0.947402          | 0.234376          | 0.936731            | 0.259005            |</pre>"
      ],
      "text/plain": [
       "| 5         | 0.094552     | 0.947402          | 0.234376          | 0.936731            | 0.259005            |"
      ]
     },
     "metadata": {},
     "output_type": "display_data"
    },
    {
     "data": {
      "text/html": [
       "<pre>| 6         | 0.113622     | 0.948504          | 0.213195          | 0.936731            | 0.241683            |</pre>"
      ],
      "text/plain": [
       "| 6         | 0.113622     | 0.948504          | 0.213195          | 0.936731            | 0.241683            |"
      ]
     },
     "metadata": {},
     "output_type": "display_data"
    },
    {
     "data": {
      "text/html": [
       "<pre>| 11        | 0.196039     | 0.950799          | 0.160358          | 0.931459            | 0.205723            |</pre>"
      ],
      "text/plain": [
       "| 11        | 0.196039     | 0.950799          | 0.160358          | 0.931459            | 0.205723            |"
      ]
     },
     "metadata": {},
     "output_type": "display_data"
    },
    {
     "data": {
      "text/html": [
       "<pre>| 51        | 0.838391     | 0.985497          | 0.050010          | 0.949033            | 0.171505            |</pre>"
      ],
      "text/plain": [
       "| 51        | 0.838391     | 0.985497          | 0.050010          | 0.949033            | 0.171505            |"
      ]
     },
     "metadata": {},
     "output_type": "display_data"
    },
    {
     "data": {
      "text/html": [
       "<pre>| 100       | 1.570360     | 0.999725          | 0.015513          | 0.949033            | 0.172689            |</pre>"
      ],
      "text/plain": [
       "| 100       | 1.570360     | 0.999725          | 0.015513          | 0.949033            | 0.172689            |"
      ]
     },
     "metadata": {},
     "output_type": "display_data"
    },
    {
     "data": {
      "text/html": [
       "<pre>+-----------+--------------+-------------------+-------------------+---------------------+---------------------+</pre>"
      ],
      "text/plain": [
       "+-----------+--------------+-------------------+-------------------+---------------------+---------------------+"
      ]
     },
     "metadata": {},
     "output_type": "display_data"
    },
    {
     "name": "stdout",
     "output_type": "stream",
     "text": [
      "\n",
      "PROGRESS: Creating a validation set from 5 percent of training data. This may take a while.\n",
      "          You can set ``validation_set=None`` to disable validation tracking.\n"
     ]
    },
    {
     "data": {
      "text/html": [
       "<pre>WARNING: Detected extremely low variance for feature(s) 'email_domain_morethan20' because all entries are nearly the same.\n",
       "Proceeding with model training using all features. If the model does not provide results of adequate quality, exclude the above mentioned feature(s) from the input dataset.</pre>"
      ],
      "text/plain": [
       "WARNING: Detected extremely low variance for feature(s) 'email_domain_morethan20' because all entries are nearly the same.\n",
       "Proceeding with model training using all features. If the model does not provide results of adequate quality, exclude the above mentioned feature(s) from the input dataset."
      ]
     },
     "metadata": {},
     "output_type": "display_data"
    },
    {
     "data": {
      "text/html": [
       "<pre>Random forest classifier:</pre>"
      ],
      "text/plain": [
       "Random forest classifier:"
      ]
     },
     "metadata": {},
     "output_type": "display_data"
    },
    {
     "data": {
      "text/html": [
       "<pre>--------------------------------------------------------</pre>"
      ],
      "text/plain": [
       "--------------------------------------------------------"
      ]
     },
     "metadata": {},
     "output_type": "display_data"
    },
    {
     "data": {
      "text/html": [
       "<pre>Number of examples          : 10888</pre>"
      ],
      "text/plain": [
       "Number of examples          : 10888"
      ]
     },
     "metadata": {},
     "output_type": "display_data"
    },
    {
     "data": {
      "text/html": [
       "<pre>Number of classes           : 2</pre>"
      ],
      "text/plain": [
       "Number of classes           : 2"
      ]
     },
     "metadata": {},
     "output_type": "display_data"
    },
    {
     "data": {
      "text/html": [
       "<pre>Number of feature columns   : 34</pre>"
      ],
      "text/plain": [
       "Number of feature columns   : 34"
      ]
     },
     "metadata": {},
     "output_type": "display_data"
    },
    {
     "data": {
      "text/html": [
       "<pre>Number of unpacked features : 34</pre>"
      ],
      "text/plain": [
       "Number of unpacked features : 34"
      ]
     },
     "metadata": {},
     "output_type": "display_data"
    },
    {
     "data": {
      "text/html": [
       "<pre>+-----------+--------------+-------------------+-------------------+---------------------+---------------------+</pre>"
      ],
      "text/plain": [
       "+-----------+--------------+-------------------+-------------------+---------------------+---------------------+"
      ]
     },
     "metadata": {},
     "output_type": "display_data"
    },
    {
     "data": {
      "text/html": [
       "<pre>| Iteration | Elapsed Time | Training-accuracy | Training-log_loss | Validation-accuracy | Validation-log_loss |</pre>"
      ],
      "text/plain": [
       "| Iteration | Elapsed Time | Training-accuracy | Training-log_loss | Validation-accuracy | Validation-log_loss |"
      ]
     },
     "metadata": {},
     "output_type": "display_data"
    },
    {
     "data": {
      "text/html": [
       "<pre>+-----------+--------------+-------------------+-------------------+---------------------+---------------------+</pre>"
      ],
      "text/plain": [
       "+-----------+--------------+-------------------+-------------------+---------------------+---------------------+"
      ]
     },
     "metadata": {},
     "output_type": "display_data"
    },
    {
     "data": {
      "text/html": [
       "<pre>| 1         | 0.018703     | 0.942414          | 0.255900          | 0.939130            | 0.254581            |</pre>"
      ],
      "text/plain": [
       "| 1         | 0.018703     | 0.942414          | 0.255900          | 0.939130            | 0.254581            |"
      ]
     },
     "metadata": {},
     "output_type": "display_data"
    },
    {
     "data": {
      "text/html": [
       "<pre>| 2         | 0.034863     | 0.941495          | 0.252684          | 0.940870            | 0.252625            |</pre>"
      ],
      "text/plain": [
       "| 2         | 0.034863     | 0.941495          | 0.252684          | 0.940870            | 0.252625            |"
      ]
     },
     "metadata": {},
     "output_type": "display_data"
    },
    {
     "data": {
      "text/html": [
       "<pre>| 3         | 0.051335     | 0.942046          | 0.251040          | 0.944348            | 0.245822            |</pre>"
      ],
      "text/plain": [
       "| 3         | 0.051335     | 0.942046          | 0.251040          | 0.944348            | 0.245822            |"
      ]
     },
     "metadata": {},
     "output_type": "display_data"
    },
    {
     "data": {
      "text/html": [
       "<pre>| 4         | 0.067304     | 0.943057          | 0.251290          | 0.949565            | 0.243661            |</pre>"
      ],
      "text/plain": [
       "| 4         | 0.067304     | 0.943057          | 0.251290          | 0.949565            | 0.243661            |"
      ]
     },
     "metadata": {},
     "output_type": "display_data"
    },
    {
     "data": {
      "text/html": [
       "<pre>| 5         | 0.083711     | 0.942322          | 0.251523          | 0.947826            | 0.242656            |</pre>"
      ],
      "text/plain": [
       "| 5         | 0.083711     | 0.942322          | 0.251523          | 0.947826            | 0.242656            |"
      ]
     },
     "metadata": {},
     "output_type": "display_data"
    },
    {
     "data": {
      "text/html": [
       "<pre>| 6         | 0.100422     | 0.943240          | 0.251436          | 0.953043            | 0.241558            |</pre>"
      ],
      "text/plain": [
       "| 6         | 0.100422     | 0.943240          | 0.251436          | 0.953043            | 0.241558            |"
      ]
     },
     "metadata": {},
     "output_type": "display_data"
    },
    {
     "data": {
      "text/html": [
       "<pre>| 11        | 0.171084     | 0.942230          | 0.251710          | 0.951304            | 0.243151            |</pre>"
      ],
      "text/plain": [
       "| 11        | 0.171084     | 0.942230          | 0.251710          | 0.951304            | 0.243151            |"
      ]
     },
     "metadata": {},
     "output_type": "display_data"
    },
    {
     "data": {
      "text/html": [
       "<pre>| 51        | 0.704459     | 0.942506          | 0.250901          | 0.953043            | 0.241930            |</pre>"
      ],
      "text/plain": [
       "| 51        | 0.704459     | 0.942506          | 0.250901          | 0.953043            | 0.241930            |"
      ]
     },
     "metadata": {},
     "output_type": "display_data"
    },
    {
     "data": {
      "text/html": [
       "<pre>| 100       | 1.372257     | 0.942506          | 0.250857          | 0.953043            | 0.240957            |</pre>"
      ],
      "text/plain": [
       "| 100       | 1.372257     | 0.942506          | 0.250857          | 0.953043            | 0.240957            |"
      ]
     },
     "metadata": {},
     "output_type": "display_data"
    },
    {
     "data": {
      "text/html": [
       "<pre>+-----------+--------------+-------------------+-------------------+---------------------+---------------------+</pre>"
      ],
      "text/plain": [
       "+-----------+--------------+-------------------+-------------------+---------------------+---------------------+"
      ]
     },
     "metadata": {},
     "output_type": "display_data"
    },
    {
     "name": "stdout",
     "output_type": "stream",
     "text": [
      "\n",
      "PROGRESS: Creating a validation set from 5 percent of training data. This may take a while.\n",
      "          You can set ``validation_set=None`` to disable validation tracking.\n"
     ]
    },
    {
     "data": {
      "text/html": [
       "<pre>WARNING: Detected extremely low variance for feature(s) 'email_domain_morethan20' because all entries are nearly the same.\n",
       "Proceeding with model training using all features. If the model does not provide results of adequate quality, exclude the above mentioned feature(s) from the input dataset.</pre>"
      ],
      "text/plain": [
       "WARNING: Detected extremely low variance for feature(s) 'email_domain_morethan20' because all entries are nearly the same.\n",
       "Proceeding with model training using all features. If the model does not provide results of adequate quality, exclude the above mentioned feature(s) from the input dataset."
      ]
     },
     "metadata": {},
     "output_type": "display_data"
    },
    {
     "data": {
      "text/html": [
       "<pre>Boosted trees classifier:</pre>"
      ],
      "text/plain": [
       "Boosted trees classifier:"
      ]
     },
     "metadata": {},
     "output_type": "display_data"
    },
    {
     "data": {
      "text/html": [
       "<pre>--------------------------------------------------------</pre>"
      ],
      "text/plain": [
       "--------------------------------------------------------"
      ]
     },
     "metadata": {},
     "output_type": "display_data"
    },
    {
     "data": {
      "text/html": [
       "<pre>Number of examples          : 10926</pre>"
      ],
      "text/plain": [
       "Number of examples          : 10926"
      ]
     },
     "metadata": {},
     "output_type": "display_data"
    },
    {
     "data": {
      "text/html": [
       "<pre>Number of classes           : 2</pre>"
      ],
      "text/plain": [
       "Number of classes           : 2"
      ]
     },
     "metadata": {},
     "output_type": "display_data"
    },
    {
     "data": {
      "text/html": [
       "<pre>Number of feature columns   : 34</pre>"
      ],
      "text/plain": [
       "Number of feature columns   : 34"
      ]
     },
     "metadata": {},
     "output_type": "display_data"
    },
    {
     "data": {
      "text/html": [
       "<pre>Number of unpacked features : 34</pre>"
      ],
      "text/plain": [
       "Number of unpacked features : 34"
      ]
     },
     "metadata": {},
     "output_type": "display_data"
    },
    {
     "data": {
      "text/html": [
       "<pre>+-----------+--------------+-------------------+-------------------+---------------------+---------------------+</pre>"
      ],
      "text/plain": [
       "+-----------+--------------+-------------------+-------------------+---------------------+---------------------+"
      ]
     },
     "metadata": {},
     "output_type": "display_data"
    },
    {
     "data": {
      "text/html": [
       "<pre>| Iteration | Elapsed Time | Training-accuracy | Training-log_loss | Validation-accuracy | Validation-log_loss |</pre>"
      ],
      "text/plain": [
       "| Iteration | Elapsed Time | Training-accuracy | Training-log_loss | Validation-accuracy | Validation-log_loss |"
      ]
     },
     "metadata": {},
     "output_type": "display_data"
    },
    {
     "data": {
      "text/html": [
       "<pre>+-----------+--------------+-------------------+-------------------+---------------------+---------------------+</pre>"
      ],
      "text/plain": [
       "+-----------+--------------+-------------------+-------------------+---------------------+---------------------+"
      ]
     },
     "metadata": {},
     "output_type": "display_data"
    },
    {
     "data": {
      "text/html": [
       "<pre>| 1         | 0.019371     | 0.942522          | 0.491824          | 0.936685            | 0.496027            |</pre>"
      ],
      "text/plain": [
       "| 1         | 0.019371     | 0.942522          | 0.491824          | 0.936685            | 0.496027            |"
      ]
     },
     "metadata": {},
     "output_type": "display_data"
    },
    {
     "data": {
      "text/html": [
       "<pre>| 2         | 0.036065     | 0.943163          | 0.380788          | 0.932961            | 0.389380            |</pre>"
      ],
      "text/plain": [
       "| 2         | 0.036065     | 0.943163          | 0.380788          | 0.932961            | 0.389380            |"
      ]
     },
     "metadata": {},
     "output_type": "display_data"
    },
    {
     "data": {
      "text/html": [
       "<pre>| 3         | 0.054822     | 0.943712          | 0.312783          | 0.938547            | 0.323134            |</pre>"
      ],
      "text/plain": [
       "| 3         | 0.054822     | 0.943712          | 0.312783          | 0.938547            | 0.323134            |"
      ]
     },
     "metadata": {},
     "output_type": "display_data"
    },
    {
     "data": {
      "text/html": [
       "<pre>| 4         | 0.074503     | 0.946183          | 0.268039          | 0.936685            | 0.283234            |</pre>"
      ],
      "text/plain": [
       "| 4         | 0.074503     | 0.946183          | 0.268039          | 0.936685            | 0.283234            |"
      ]
     },
     "metadata": {},
     "output_type": "display_data"
    },
    {
     "data": {
      "text/html": [
       "<pre>| 5         | 0.092679     | 0.947007          | 0.236552          | 0.940410            | 0.253896            |</pre>"
      ],
      "text/plain": [
       "| 5         | 0.092679     | 0.947007          | 0.236552          | 0.940410            | 0.253896            |"
      ]
     },
     "metadata": {},
     "output_type": "display_data"
    },
    {
     "data": {
      "text/html": [
       "<pre>| 6         | 0.110370     | 0.947007          | 0.214188          | 0.938547            | 0.233754            |</pre>"
      ],
      "text/plain": [
       "| 6         | 0.110370     | 0.947007          | 0.214188          | 0.938547            | 0.233754            |"
      ]
     },
     "metadata": {},
     "output_type": "display_data"
    },
    {
     "data": {
      "text/html": [
       "<pre>| 11        | 0.195860     | 0.951309          | 0.162284          | 0.942272            | 0.188918            |</pre>"
      ],
      "text/plain": [
       "| 11        | 0.195860     | 0.951309          | 0.162284          | 0.942272            | 0.188918            |"
      ]
     },
     "metadata": {},
     "output_type": "display_data"
    },
    {
     "data": {
      "text/html": [
       "<pre>| 51        | 0.793755     | 0.983983          | 0.055854          | 0.957169            | 0.158092            |</pre>"
      ],
      "text/plain": [
       "| 51        | 0.793755     | 0.983983          | 0.055854          | 0.957169            | 0.158092            |"
      ]
     },
     "metadata": {},
     "output_type": "display_data"
    },
    {
     "data": {
      "text/html": [
       "<pre>| 100       | 1.514300     | 0.999359          | 0.017810          | 0.959032            | 0.150792            |</pre>"
      ],
      "text/plain": [
       "| 100       | 1.514300     | 0.999359          | 0.017810          | 0.959032            | 0.150792            |"
      ]
     },
     "metadata": {},
     "output_type": "display_data"
    },
    {
     "data": {
      "text/html": [
       "<pre>+-----------+--------------+-------------------+-------------------+---------------------+---------------------+</pre>"
      ],
      "text/plain": [
       "+-----------+--------------+-------------------+-------------------+---------------------+---------------------+"
      ]
     },
     "metadata": {},
     "output_type": "display_data"
    },
    {
     "name": "stdout",
     "output_type": "stream",
     "text": [
      "\n",
      "PROGRESS: Creating a validation set from 5 percent of training data. This may take a while.\n",
      "          You can set ``validation_set=None`` to disable validation tracking.\n",
      "**OUTPUT MUTED**"
     ]
    }
   ],
   "source": [
    "# One-out\n",
    "out_forests = {}\n",
    "out_boosted = {}\n",
    "for out_col in good_cols:\n",
    "    cols = [c for c in good_cols if c != out_col]\n",
    "    cols.append('fraud')\n",
    "    rfc = gl.random_forest_classifier.create(sf_train[cols], 'fraud',\n",
    "                                             num_trees=100)\n",
    "    out_forests[out_col] = rfc\n",
    "    btc = gl.boosted_trees_classifier.create(sf_train[cols], 'fraud',\n",
    "                                             max_iterations=100)\n",
    "    out_boosted[out_col] = btc\n"
   ]
  },
  {
   "cell_type": "code",
   "execution_count": 23,
   "metadata": {
    "ExecuteTime": {
     "end_time": "2016-04-06T19:19:37.786282",
     "start_time": "2016-04-06T19:19:23.493480"
    },
    "collapsed": false
   },
   "outputs": [],
   "source": [
    "in_scoresf = get_scores(in_forests)\n",
    "out_scoresf = get_scores(out_forests)\n",
    "out_boostsf = get_scores(out_boosted)"
   ]
  },
  {
   "cell_type": "code",
   "execution_count": 25,
   "metadata": {
    "ExecuteTime": {
     "end_time": "2016-04-06T19:19:37.904143",
     "start_time": "2016-04-06T19:19:37.820858"
    },
    "collapsed": false,
    "scrolled": true
   },
   "outputs": [
    {
     "data": {
      "text/html": [
       "<div style=\"max-height:1000px;max-width:1500px;overflow:auto;\"><table frame=\"box\" rules=\"cols\">\n",
       "    <tr>\n",
       "        <th style=\"padding-left: 1em; padding-right: 1em; text-align: center\">X1</th>\n",
       "        <th style=\"padding-left: 1em; padding-right: 1em; text-align: center\">auc_score</th>\n",
       "        <th style=\"padding-left: 1em; padding-right: 1em; text-align: center\">accuracy_score</th>\n",
       "    </tr>\n",
       "    <tr>\n",
       "        <td style=\"padding-left: 1em; padding-right: 1em; text-align: center; vertical-align: top\">ticket_types_cost_mean</td>\n",
       "        <td style=\"padding-left: 1em; padding-right: 1em; text-align: center; vertical-align: top\">0.882006082166</td>\n",
       "        <td style=\"padding-left: 1em; padding-right: 1em; text-align: center; vertical-align: top\">0.934585942937</td>\n",
       "    </tr>\n",
       "    <tr>\n",
       "        <td style=\"padding-left: 1em; padding-right: 1em; text-align: center; vertical-align: top\">previous_payouts_median</td>\n",
       "        <td style=\"padding-left: 1em; padding-right: 1em; text-align: center; vertical-align: top\">0.881980756043</td>\n",
       "        <td style=\"padding-left: 1em; padding-right: 1em; text-align: center; vertical-align: top\">0.937021572721</td>\n",
       "    </tr>\n",
       "    <tr>\n",
       "        <td style=\"padding-left: 1em; padding-right: 1em; text-align: center; vertical-align: top\">user_venue_country_same</td>\n",
       "        <td style=\"padding-left: 1em; padding-right: 1em; text-align: center; vertical-align: top\">0.881479104001</td>\n",
       "        <td style=\"padding-left: 1em; padding-right: 1em; text-align: center; vertical-align: top\">0.937369519833</td>\n",
       "    </tr>\n",
       "    <tr>\n",
       "        <td style=\"padding-left: 1em; padding-right: 1em; text-align: center; vertical-align: top\">show_map</td>\n",
       "        <td style=\"padding-left: 1em; padding-right: 1em; text-align: center; vertical-align: top\">0.881219998286</td>\n",
       "        <td style=\"padding-left: 1em; padding-right: 1em; text-align: center; vertical-align: top\">0.938413361169</td>\n",
       "    </tr>\n",
       "    <tr>\n",
       "        <td style=\"padding-left: 1em; padding-right: 1em; text-align: center; vertical-align: top\">has_header</td>\n",
       "        <td style=\"padding-left: 1em; padding-right: 1em; text-align: center; vertical-align: top\">0.880465572059</td>\n",
       "        <td style=\"padding-left: 1em; padding-right: 1em; text-align: center; vertical-align: top\">0.937369519833</td>\n",
       "    </tr>\n",
       "    <tr>\n",
       "        <td style=\"padding-left: 1em; padding-right: 1em; text-align: center; vertical-align: top\">venue_latitude</td>\n",
       "        <td style=\"padding-left: 1em; padding-right: 1em; text-align: center; vertical-align: top\">0.879749622056</td>\n",
       "        <td style=\"padding-left: 1em; padding-right: 1em; text-align: center; vertical-align: top\">0.935977731385</td>\n",
       "    </tr>\n",
       "    <tr>\n",
       "        <td style=\"padding-left: 1em; padding-right: 1em; text-align: center; vertical-align: top\">has_analytics</td>\n",
       "        <td style=\"padding-left: 1em; padding-right: 1em; text-align: center; vertical-align: top\">0.879384828484</td>\n",
       "        <td style=\"padding-left: 1em; padding-right: 1em; text-align: center; vertical-align: top\">0.937021572721</td>\n",
       "    </tr>\n",
       "    <tr>\n",
       "        <td style=\"padding-left: 1em; padding-right: 1em; text-align: center; vertical-align: top\">org_twitter</td>\n",
       "        <td style=\"padding-left: 1em; padding-right: 1em; text-align: center; vertical-align: top\">0.879361450524</td>\n",
       "        <td style=\"padding-left: 1em; padding-right: 1em; text-align: center; vertical-align: top\">0.935977731385</td>\n",
       "    </tr>\n",
       "    <tr>\n",
       "        <td style=\"padding-left: 1em; padding-right: 1em; text-align: center; vertical-align: top\">previous_payouts_max</td>\n",
       "        <td style=\"padding-left: 1em; padding-right: 1em; text-align: center; vertical-align: top\">0.879315668688</td>\n",
       "        <td style=\"padding-left: 1em; padding-right: 1em; text-align: center; vertical-align: top\">0.935977731385</td>\n",
       "    </tr>\n",
       "    <tr>\n",
       "        <td style=\"padding-left: 1em; padding-right: 1em; text-align: center; vertical-align: top\">org_facebook</td>\n",
       "        <td style=\"padding-left: 1em; padding-right: 1em; text-align: center; vertical-align: top\">0.87929326481</td>\n",
       "        <td style=\"padding-left: 1em; padding-right: 1em; text-align: center; vertical-align: top\">0.935281837161</td>\n",
       "    </tr>\n",
       "</table>\n",
       "[35 rows x 3 columns]<br/>Note: Only the head of the SFrame is printed.<br/>You can use print_rows(num_rows=m, num_columns=n) to print more rows and columns.\n",
       "</div>"
      ],
      "text/plain": [
       "Columns:\n",
       "\tX1\tstr\n",
       "\tauc_score\tfloat\n",
       "\taccuracy_score\tfloat\n",
       "\n",
       "Rows: 35\n",
       "\n",
       "Data:\n",
       "+-------------------------+----------------+----------------+\n",
       "|            X1           |   auc_score    | accuracy_score |\n",
       "+-------------------------+----------------+----------------+\n",
       "|  ticket_types_cost_mean | 0.882006082166 | 0.934585942937 |\n",
       "| previous_payouts_median | 0.881980756043 | 0.937021572721 |\n",
       "| user_venue_country_same | 0.881479104001 | 0.937369519833 |\n",
       "|         show_map        | 0.881219998286 | 0.938413361169 |\n",
       "|        has_header       | 0.880465572059 | 0.937369519833 |\n",
       "|      venue_latitude     | 0.879749622056 | 0.935977731385 |\n",
       "|      has_analytics      | 0.879384828484 | 0.937021572721 |\n",
       "|       org_twitter       | 0.879361450524 | 0.935977731385 |\n",
       "|   previous_payouts_max  | 0.879315668688 | 0.935977731385 |\n",
       "|       org_facebook      | 0.87929326481  | 0.935281837161 |\n",
       "+-------------------------+----------------+----------------+\n",
       "[35 rows x 3 columns]\n",
       "Note: Only the head of the SFrame is printed.\n",
       "You can use print_rows(num_rows=m, num_columns=n) to print more rows and columns."
      ]
     },
     "execution_count": 25,
     "metadata": {},
     "output_type": "execute_result"
    }
   ],
   "source": [
    "# Show least valuable features (Random Forest)\n",
    "out_scoresf"
   ]
  },
  {
   "cell_type": "code",
   "execution_count": 26,
   "metadata": {
    "ExecuteTime": {
     "end_time": "2016-04-06T19:19:37.995034",
     "start_time": "2016-04-06T19:19:37.905512"
    },
    "collapsed": false
   },
   "outputs": [
    {
     "data": {
      "text/html": [
       "<div style=\"max-height:1000px;max-width:1500px;overflow:auto;\"><table frame=\"box\" rules=\"cols\">\n",
       "    <tr>\n",
       "        <th style=\"padding-left: 1em; padding-right: 1em; text-align: center\">X1</th>\n",
       "        <th style=\"padding-left: 1em; padding-right: 1em; text-align: center\">auc_score</th>\n",
       "        <th style=\"padding-left: 1em; padding-right: 1em; text-align: center\">accuracy_score</th>\n",
       "    </tr>\n",
       "    <tr>\n",
       "        <td style=\"padding-left: 1em; padding-right: 1em; text-align: center; vertical-align: top\">sale_duration</td>\n",
       "        <td style=\"padding-left: 1em; padding-right: 1em; text-align: center; vertical-align: top\">0.943310883999</td>\n",
       "        <td style=\"padding-left: 1em; padding-right: 1em; text-align: center; vertical-align: top\">0.951287404315</td>\n",
       "    </tr>\n",
       "    <tr>\n",
       "        <td style=\"padding-left: 1em; padding-right: 1em; text-align: center; vertical-align: top\">sale_duration2</td>\n",
       "        <td style=\"padding-left: 1em; padding-right: 1em; text-align: center; vertical-align: top\">0.939541675109</td>\n",
       "        <td style=\"padding-left: 1em; padding-right: 1em; text-align: center; vertical-align: top\">0.951287404315</td>\n",
       "    </tr>\n",
       "    <tr>\n",
       "        <td style=\"padding-left: 1em; padding-right: 1em; text-align: center; vertical-align: top\">gts</td>\n",
       "        <td style=\"padding-left: 1em; padding-right: 1em; text-align: center; vertical-align: top\">0.939337117965</td>\n",
       "        <td style=\"padding-left: 1em; padding-right: 1em; text-align: center; vertical-align: top\">0.95059151009</td>\n",
       "    </tr>\n",
       "    <tr>\n",
       "        <td style=\"padding-left: 1em; padding-right: 1em; text-align: center; vertical-align: top\">org_twitter</td>\n",
       "        <td style=\"padding-left: 1em; padding-right: 1em; text-align: center; vertical-align: top\">0.938715166841</td>\n",
       "        <td style=\"padding-left: 1em; padding-right: 1em; text-align: center; vertical-align: top\">0.950243562978</td>\n",
       "    </tr>\n",
       "    <tr>\n",
       "        <td style=\"padding-left: 1em; padding-right: 1em; text-align: center; vertical-align: top\">name_length</td>\n",
       "        <td style=\"padding-left: 1em; padding-right: 1em; text-align: center; vertical-align: top\">0.938188188676</td>\n",
       "        <td style=\"padding-left: 1em; padding-right: 1em; text-align: center; vertical-align: top\">0.952331245651</td>\n",
       "    </tr>\n",
       "    <tr>\n",
       "        <td style=\"padding-left: 1em; padding-right: 1em; text-align: center; vertical-align: top\">num_order</td>\n",
       "        <td style=\"padding-left: 1em; padding-right: 1em; text-align: center; vertical-align: top\">0.937453731122</td>\n",
       "        <td style=\"padding-left: 1em; padding-right: 1em; text-align: center; vertical-align: top\">0.95059151009</td>\n",
       "    </tr>\n",
       "    <tr>\n",
       "        <td style=\"padding-left: 1em; padding-right: 1em; text-align: center; vertical-align: top\">venue_longitude</td>\n",
       "        <td style=\"padding-left: 1em; padding-right: 1em; text-align: center; vertical-align: top\">0.937398208469</td>\n",
       "        <td style=\"padding-left: 1em; padding-right: 1em; text-align: center; vertical-align: top\">0.950939457203</td>\n",
       "    </tr>\n",
       "    <tr>\n",
       "        <td style=\"padding-left: 1em; padding-right: 1em; text-align: center; vertical-align: top\">num_payouts</td>\n",
       "        <td style=\"padding-left: 1em; padding-right: 1em; text-align: center; vertical-align: top\">0.936664724997</td>\n",
       "        <td style=\"padding-left: 1em; padding-right: 1em; text-align: center; vertical-align: top\">0.952331245651</td>\n",
       "    </tr>\n",
       "    <tr>\n",
       "        <td style=\"padding-left: 1em; padding-right: 1em; text-align: center; vertical-align: top\">previous_payouts_mean</td>\n",
       "        <td style=\"padding-left: 1em; padding-right: 1em; text-align: center; vertical-align: top\">0.936301392547</td>\n",
       "        <td style=\"padding-left: 1em; padding-right: 1em; text-align: center; vertical-align: top\">0.947807933194</td>\n",
       "    </tr>\n",
       "    <tr>\n",
       "        <td style=\"padding-left: 1em; padding-right: 1em; text-align: center; vertical-align: top\">show_map</td>\n",
       "        <td style=\"padding-left: 1em; padding-right: 1em; text-align: center; vertical-align: top\">0.936102192853</td>\n",
       "        <td style=\"padding-left: 1em; padding-right: 1em; text-align: center; vertical-align: top\">0.949547668754</td>\n",
       "    </tr>\n",
       "</table>\n",
       "[35 rows x 3 columns]<br/>Note: Only the head of the SFrame is printed.<br/>You can use print_rows(num_rows=m, num_columns=n) to print more rows and columns.\n",
       "</div>"
      ],
      "text/plain": [
       "Columns:\n",
       "\tX1\tstr\n",
       "\tauc_score\tfloat\n",
       "\taccuracy_score\tfloat\n",
       "\n",
       "Rows: 35\n",
       "\n",
       "Data:\n",
       "+-----------------------+----------------+----------------+\n",
       "|           X1          |   auc_score    | accuracy_score |\n",
       "+-----------------------+----------------+----------------+\n",
       "|     sale_duration     | 0.943310883999 | 0.951287404315 |\n",
       "|     sale_duration2    | 0.939541675109 | 0.951287404315 |\n",
       "|          gts          | 0.939337117965 | 0.95059151009  |\n",
       "|      org_twitter      | 0.938715166841 | 0.950243562978 |\n",
       "|      name_length      | 0.938188188676 | 0.952331245651 |\n",
       "|       num_order       | 0.937453731122 | 0.95059151009  |\n",
       "|    venue_longitude    | 0.937398208469 | 0.950939457203 |\n",
       "|      num_payouts      | 0.936664724997 | 0.952331245651 |\n",
       "| previous_payouts_mean | 0.936301392547 | 0.947807933194 |\n",
       "|        show_map       | 0.936102192853 | 0.949547668754 |\n",
       "+-----------------------+----------------+----------------+\n",
       "[35 rows x 3 columns]\n",
       "Note: Only the head of the SFrame is printed.\n",
       "You can use print_rows(num_rows=m, num_columns=n) to print more rows and columns."
      ]
     },
     "execution_count": 26,
     "metadata": {},
     "output_type": "execute_result"
    }
   ],
   "source": [
    "# Show least valuable features (Boosted)\n",
    "out_boostsf.sort('auc_score', ascending=False)"
   ]
  },
  {
   "cell_type": "code",
   "execution_count": 53,
   "metadata": {
    "ExecuteTime": {
     "end_time": "2016-04-06T19:28:56.355256",
     "start_time": "2016-04-06T19:28:56.289112"
    },
    "collapsed": false
   },
   "outputs": [
    {
     "name": "stdout",
     "output_type": "stream",
     "text": [
      "+---------------------------+----------------+----------------+\n",
      "|             X1            |   auc_score    | accuracy_score |\n",
      "+---------------------------+----------------+----------------+\n",
      "|  email_domain_num_people  | 0.872972936116 | 0.933890048713 |\n",
      "|        fb_published       | 0.873742947649 | 0.937369519833 |\n",
      "|         user_type         | 0.874401426835 | 0.935281837161 |\n",
      "|       sale_duration2      | 0.874806644795 | 0.934933890049 |\n",
      "|        num_payouts        | 0.875046268878 | 0.937717466945 |\n",
      "|          user_age         | 0.875240598164 | 0.935977731385 |\n",
      "| ticket_types_quantity_sum | 0.875330213675 | 0.937021572721 |\n",
      "|        body_length        | 0.875409601328 | 0.935281837161 |\n",
      "|    previous_payouts_sum   | 0.875462201736 | 0.938065414057 |\n",
      "|  email_domain_morethan20  | 0.875636562349 | 0.935629784273 |\n",
      "|   ticket_types_cost_min   | 0.876136753269 | 0.935629784273 |\n",
      "|          has_logo         | 0.876235622555 | 0.934933890049 |\n",
      "|       sale_duration       | 0.876360305004 | 0.935977731385 |\n",
      "|   previous_payouts_mean   | 0.876772828577 | 0.936325678497 |\n",
      "|    venue_address_blank    | 0.876843449496 | 0.936325678497 |\n",
      "|  ticket_types_total_value | 0.877332438477 | 0.938065414057 |\n",
      "|        name_length        | 0.877382603681 | 0.934585942937 |\n",
      "|           listed          | 0.878059103377 | 0.934933890049 |\n",
      "|         object_id         | 0.878111216745 | 0.936673625609 |\n",
      "|   previous_payouts_count  | 0.878482828889 | 0.935977731385 |\n",
      "|     ticket_types_count    | 0.878738038278 | 0.935977731385 |\n",
      "|   ticket_types_cost_max   | 0.878861746645 | 0.937021572721 |\n",
      "|            gts            | 0.878913860013 | 0.936673625609 |\n",
      "|         num_order         | 0.879116956034 | 0.935629784273 |\n",
      "|      venue_longitude      | 0.879253327463 | 0.934933890049 |\n",
      "|        org_facebook       | 0.87929326481  | 0.935281837161 |\n",
      "|    previous_payouts_max   | 0.879315668688 | 0.935977731385 |\n",
      "|        org_twitter        | 0.879361450524 | 0.935977731385 |\n",
      "|       has_analytics       | 0.879384828484 | 0.937021572721 |\n",
      "|       venue_latitude      | 0.879749622056 | 0.935977731385 |\n",
      "|         has_header        | 0.880465572059 | 0.937369519833 |\n",
      "|          show_map         | 0.881219998286 | 0.938413361169 |\n",
      "|  user_venue_country_same  | 0.881479104001 | 0.937369519833 |\n",
      "|  previous_payouts_median  | 0.881980756043 | 0.937021572721 |\n",
      "|   ticket_types_cost_mean  | 0.882006082166 | 0.934585942937 |\n",
      "+---------------------------+----------------+----------------+\n",
      "[35 rows x 3 columns]\n",
      "\n"
     ]
    }
   ],
   "source": [
    "# Show most important features\n",
    "out_scoresf.sort('auc_score').print_rows(50)"
   ]
  },
  {
   "cell_type": "code",
   "execution_count": 34,
   "metadata": {
    "ExecuteTime": {
     "end_time": "2016-04-06T19:23:49.494314",
     "start_time": "2016-04-06T19:23:49.410772"
    },
    "collapsed": false,
    "scrolled": true
   },
   "outputs": [
    {
     "data": {
      "text/html": [
       "<div style=\"max-height:1000px;max-width:1500px;overflow:auto;\"><table frame=\"box\" rules=\"cols\">\n",
       "    <tr>\n",
       "        <th style=\"padding-left: 1em; padding-right: 1em; text-align: center\">X1</th>\n",
       "        <th style=\"padding-left: 1em; padding-right: 1em; text-align: center\">auc_score</th>\n",
       "        <th style=\"padding-left: 1em; padding-right: 1em; text-align: center\">accuracy_score</th>\n",
       "    </tr>\n",
       "    <tr>\n",
       "        <td style=\"padding-left: 1em; padding-right: 1em; text-align: center; vertical-align: top\">previous_payouts_max</td>\n",
       "        <td style=\"padding-left: 1em; padding-right: 1em; text-align: center; vertical-align: top\">0.821055359008</td>\n",
       "        <td style=\"padding-left: 1em; padding-right: 1em; text-align: center; vertical-align: top\">0.930410577592</td>\n",
       "    </tr>\n",
       "    <tr>\n",
       "        <td style=\"padding-left: 1em; padding-right: 1em; text-align: center; vertical-align: top\">sale_duration2</td>\n",
       "        <td style=\"padding-left: 1em; padding-right: 1em; text-align: center; vertical-align: top\">0.809715587644</td>\n",
       "        <td style=\"padding-left: 1em; padding-right: 1em; text-align: center; vertical-align: top\">0.868823938761</td>\n",
       "    </tr>\n",
       "    <tr>\n",
       "        <td style=\"padding-left: 1em; padding-right: 1em; text-align: center; vertical-align: top\">previous_payouts_median</td>\n",
       "        <td style=\"padding-left: 1em; padding-right: 1em; text-align: center; vertical-align: top\">0.808433696211</td>\n",
       "        <td style=\"padding-left: 1em; padding-right: 1em; text-align: center; vertical-align: top\">0.930758524704</td>\n",
       "    </tr>\n",
       "    <tr>\n",
       "        <td style=\"padding-left: 1em; padding-right: 1em; text-align: center; vertical-align: top\">sale_duration</td>\n",
       "        <td style=\"padding-left: 1em; padding-right: 1em; text-align: center; vertical-align: top\">0.80659316896</td>\n",
       "        <td style=\"padding-left: 1em; padding-right: 1em; text-align: center; vertical-align: top\">0.870215727209</td>\n",
       "    </tr>\n",
       "    <tr>\n",
       "        <td style=\"padding-left: 1em; padding-right: 1em; text-align: center; vertical-align: top\">previous_payouts_mean</td>\n",
       "        <td style=\"padding-left: 1em; padding-right: 1em; text-align: center; vertical-align: top\">0.797874164238</td>\n",
       "        <td style=\"padding-left: 1em; padding-right: 1em; text-align: center; vertical-align: top\">0.927974947808</td>\n",
       "    </tr>\n",
       "    <tr>\n",
       "        <td style=\"padding-left: 1em; padding-right: 1em; text-align: center; vertical-align: top\">previous_payouts_count</td>\n",
       "        <td style=\"padding-left: 1em; padding-right: 1em; text-align: center; vertical-align: top\">0.794734699126</td>\n",
       "        <td style=\"padding-left: 1em; padding-right: 1em; text-align: center; vertical-align: top\">0.927974947808</td>\n",
       "    </tr>\n",
       "    <tr>\n",
       "        <td style=\"padding-left: 1em; padding-right: 1em; text-align: center; vertical-align: top\">previous_payouts_sum</td>\n",
       "        <td style=\"padding-left: 1em; padding-right: 1em; text-align: center; vertical-align: top\">0.787845506756</td>\n",
       "        <td style=\"padding-left: 1em; padding-right: 1em; text-align: center; vertical-align: top\">0.927974947808</td>\n",
       "    </tr>\n",
       "    <tr>\n",
       "        <td style=\"padding-left: 1em; padding-right: 1em; text-align: center; vertical-align: top\">email_domain_num_people</td>\n",
       "        <td style=\"padding-left: 1em; padding-right: 1em; text-align: center; vertical-align: top\">0.740944937113</td>\n",
       "        <td style=\"padding-left: 1em; padding-right: 1em; text-align: center; vertical-align: top\">0.861864996521</td>\n",
       "    </tr>\n",
       "    <tr>\n",
       "        <td style=\"padding-left: 1em; padding-right: 1em; text-align: center; vertical-align: top\">ticket_types_cost_max</td>\n",
       "        <td style=\"padding-left: 1em; padding-right: 1em; text-align: center; vertical-align: top\">0.715143462743</td>\n",
       "        <td style=\"padding-left: 1em; padding-right: 1em; text-align: center; vertical-align: top\">0.856297842728</td>\n",
       "    </tr>\n",
       "    <tr>\n",
       "        <td style=\"padding-left: 1em; padding-right: 1em; text-align: center; vertical-align: top\">venue_latitude</td>\n",
       "        <td style=\"padding-left: 1em; padding-right: 1em; text-align: center; vertical-align: top\">0.70358939342</td>\n",
       "        <td style=\"padding-left: 1em; padding-right: 1em; text-align: center; vertical-align: top\">0.8583855254</td>\n",
       "    </tr>\n",
       "</table>\n",
       "[35 rows x 3 columns]<br/>Note: Only the head of the SFrame is printed.<br/>You can use print_rows(num_rows=m, num_columns=n) to print more rows and columns.\n",
       "</div>"
      ],
      "text/plain": [
       "Columns:\n",
       "\tX1\tstr\n",
       "\tauc_score\tfloat\n",
       "\taccuracy_score\tfloat\n",
       "\n",
       "Rows: 35\n",
       "\n",
       "Data:\n",
       "+-------------------------+----------------+----------------+\n",
       "|            X1           |   auc_score    | accuracy_score |\n",
       "+-------------------------+----------------+----------------+\n",
       "|   previous_payouts_max  | 0.821055359008 | 0.930410577592 |\n",
       "|      sale_duration2     | 0.809715587644 | 0.868823938761 |\n",
       "| previous_payouts_median | 0.808433696211 | 0.930758524704 |\n",
       "|      sale_duration      | 0.80659316896  | 0.870215727209 |\n",
       "|  previous_payouts_mean  | 0.797874164238 | 0.927974947808 |\n",
       "|  previous_payouts_count | 0.794734699126 | 0.927974947808 |\n",
       "|   previous_payouts_sum  | 0.787845506756 | 0.927974947808 |\n",
       "| email_domain_num_people | 0.740944937113 | 0.861864996521 |\n",
       "|  ticket_types_cost_max  | 0.715143462743 | 0.856297842728 |\n",
       "|      venue_latitude     | 0.70358939342  |  0.8583855254  |\n",
       "+-------------------------+----------------+----------------+\n",
       "[35 rows x 3 columns]\n",
       "Note: Only the head of the SFrame is printed.\n",
       "You can use print_rows(num_rows=m, num_columns=n) to print more rows and columns."
      ]
     },
     "execution_count": 34,
     "metadata": {},
     "output_type": "execute_result"
    }
   ],
   "source": [
    "# Show most valuable stand-alone features\n",
    "in_scoresf"
   ]
  },
  {
   "cell_type": "code",
   "execution_count": 45,
   "metadata": {
    "ExecuteTime": {
     "end_time": "2016-04-06T19:26:05.474760",
     "start_time": "2016-04-06T19:26:05.437596"
    },
    "collapsed": false
   },
   "outputs": [
    {
     "data": {
      "text/plain": [
       "['previous_payouts_max',\n",
       " 'sale_duration2',\n",
       " 'previous_payouts_median',\n",
       " 'sale_duration',\n",
       " 'previous_payouts_mean',\n",
       " 'previous_payouts_count',\n",
       " 'previous_payouts_sum',\n",
       " 'email_domain_num_people',\n",
       " 'ticket_types_cost_max']"
      ]
     },
     "execution_count": 45,
     "metadata": {},
     "output_type": "execute_result"
    }
   ],
   "source": [
    "priceless_features = list(in_scoresf['X1'][:9])\n",
    "priceless_features"
   ]
  },
  {
   "cell_type": "code",
   "execution_count": 47,
   "metadata": {
    "ExecuteTime": {
     "end_time": "2016-04-06T19:26:35.942976",
     "start_time": "2016-04-06T19:26:24.471112"
    },
    "collapsed": false
   },
   "outputs": [
    {
     "data": {
      "text/html": [
       "<pre>Boosted trees classifier:</pre>"
      ],
      "text/plain": [
       "Boosted trees classifier:"
      ]
     },
     "metadata": {},
     "output_type": "display_data"
    },
    {
     "data": {
      "text/html": [
       "<pre>--------------------------------------------------------</pre>"
      ],
      "text/plain": [
       "--------------------------------------------------------"
      ]
     },
     "metadata": {},
     "output_type": "display_data"
    },
    {
     "data": {
      "text/html": [
       "<pre>Number of examples          : 10893</pre>"
      ],
      "text/plain": [
       "Number of examples          : 10893"
      ]
     },
     "metadata": {},
     "output_type": "display_data"
    },
    {
     "data": {
      "text/html": [
       "<pre>Number of classes           : 2</pre>"
      ],
      "text/plain": [
       "Number of classes           : 2"
      ]
     },
     "metadata": {},
     "output_type": "display_data"
    },
    {
     "data": {
      "text/html": [
       "<pre>Number of feature columns   : 9</pre>"
      ],
      "text/plain": [
       "Number of feature columns   : 9"
      ]
     },
     "metadata": {},
     "output_type": "display_data"
    },
    {
     "data": {
      "text/html": [
       "<pre>Number of unpacked features : 9</pre>"
      ],
      "text/plain": [
       "Number of unpacked features : 9"
      ]
     },
     "metadata": {},
     "output_type": "display_data"
    },
    {
     "data": {
      "text/html": [
       "<pre>+-----------+--------------+-------------------+-------------------+---------------------+---------------------+</pre>"
      ],
      "text/plain": [
       "+-----------+--------------+-------------------+-------------------+---------------------+---------------------+"
      ]
     },
     "metadata": {},
     "output_type": "display_data"
    },
    {
     "data": {
      "text/html": [
       "<pre>| Iteration | Elapsed Time | Training-accuracy | Training-log_loss | Validation-accuracy | Validation-log_loss |</pre>"
      ],
      "text/plain": [
       "| Iteration | Elapsed Time | Training-accuracy | Training-log_loss | Validation-accuracy | Validation-log_loss |"
      ]
     },
     "metadata": {},
     "output_type": "display_data"
    },
    {
     "data": {
      "text/html": [
       "<pre>+-----------+--------------+-------------------+-------------------+---------------------+---------------------+</pre>"
      ],
      "text/plain": [
       "+-----------+--------------+-------------------+-------------------+---------------------+---------------------+"
      ]
     },
     "metadata": {},
     "output_type": "display_data"
    },
    {
     "data": {
      "text/html": [
       "<pre>| 1         | 0.013013     | 0.942348          | 0.492114          | 0.936842            | 0.493990            |</pre>"
      ],
      "text/plain": [
       "| 1         | 0.013013     | 0.942348          | 0.492114          | 0.936842            | 0.493990            |"
      ]
     },
     "metadata": {},
     "output_type": "display_data"
    },
    {
     "data": {
      "text/html": [
       "<pre>| 2         | 0.024766     | 0.942532          | 0.382593          | 0.938596            | 0.386536            |</pre>"
      ],
      "text/plain": [
       "| 2         | 0.024766     | 0.942532          | 0.382593          | 0.938596            | 0.386536            |"
      ]
     },
     "metadata": {},
     "output_type": "display_data"
    },
    {
     "data": {
      "text/html": [
       "<pre>| 3         | 0.038622     | 0.943358          | 0.316072          | 0.938596            | 0.322334            |</pre>"
      ],
      "text/plain": [
       "| 3         | 0.038622     | 0.943358          | 0.316072          | 0.938596            | 0.322334            |"
      ]
     },
     "metadata": {},
     "output_type": "display_data"
    },
    {
     "data": {
      "text/html": [
       "<pre>| 4         | 0.053116     | 0.944184          | 0.272436          | 0.938596            | 0.280192            |</pre>"
      ],
      "text/plain": [
       "| 4         | 0.053116     | 0.944184          | 0.272436          | 0.938596            | 0.280192            |"
      ]
     },
     "metadata": {},
     "output_type": "display_data"
    },
    {
     "data": {
      "text/html": [
       "<pre>| 5         | 0.066166     | 0.944184          | 0.243102          | 0.938596            | 0.254067            |</pre>"
      ],
      "text/plain": [
       "| 5         | 0.066166     | 0.944184          | 0.243102          | 0.938596            | 0.254067            |"
      ]
     },
     "metadata": {},
     "output_type": "display_data"
    },
    {
     "data": {
      "text/html": [
       "<pre>| 6         | 0.079197     | 0.943542          | 0.222184          | 0.938596            | 0.231995            |</pre>"
      ],
      "text/plain": [
       "| 6         | 0.079197     | 0.943542          | 0.222184          | 0.938596            | 0.231995            |"
      ]
     },
     "metadata": {},
     "output_type": "display_data"
    },
    {
     "data": {
      "text/html": [
       "<pre>| 11        | 0.144682     | 0.945929          | 0.176420          | 0.942105            | 0.196928            |</pre>"
      ],
      "text/plain": [
       "| 11        | 0.144682     | 0.945929          | 0.176420          | 0.942105            | 0.196928            |"
      ]
     },
     "metadata": {},
     "output_type": "display_data"
    },
    {
     "data": {
      "text/html": [
       "<pre>| 51        | 0.626438     | 0.974020          | 0.081683          | 0.952632            | 0.154966            |</pre>"
      ],
      "text/plain": [
       "| 51        | 0.626438     | 0.974020          | 0.081683          | 0.952632            | 0.154966            |"
      ]
     },
     "metadata": {},
     "output_type": "display_data"
    },
    {
     "data": {
      "text/html": [
       "<pre>| 100       | 1.144560     | 0.989994          | 0.041653          | 0.961403            | 0.154974            |</pre>"
      ],
      "text/plain": [
       "| 100       | 1.144560     | 0.989994          | 0.041653          | 0.961403            | 0.154974            |"
      ]
     },
     "metadata": {},
     "output_type": "display_data"
    },
    {
     "data": {
      "text/html": [
       "<pre>| 101       | 1.154994     | 0.990177          | 0.041043          | 0.961403            | 0.155416            |</pre>"
      ],
      "text/plain": [
       "| 101       | 1.154994     | 0.990177          | 0.041043          | 0.961403            | 0.155416            |"
      ]
     },
     "metadata": {},
     "output_type": "display_data"
    },
    {
     "data": {
      "text/html": [
       "<pre>| 200       | 2.296895     | 0.999357          | 0.014066          | 0.963158            | 0.168676            |</pre>"
      ],
      "text/plain": [
       "| 200       | 2.296895     | 0.999357          | 0.014066          | 0.963158            | 0.168676            |"
      ]
     },
     "metadata": {},
     "output_type": "display_data"
    },
    {
     "data": {
      "text/html": [
       "<pre>| 300       | 3.423888     | 0.999725          | 0.006757          | 0.959649            | 0.193623            |</pre>"
      ],
      "text/plain": [
       "| 300       | 3.423888     | 0.999725          | 0.006757          | 0.959649            | 0.193623            |"
      ]
     },
     "metadata": {},
     "output_type": "display_data"
    },
    {
     "data": {
      "text/html": [
       "<pre>| 400       | 4.498886     | 0.999725          | 0.004344          | 0.961403            | 0.206922            |</pre>"
      ],
      "text/plain": [
       "| 400       | 4.498886     | 0.999725          | 0.004344          | 0.961403            | 0.206922            |"
      ]
     },
     "metadata": {},
     "output_type": "display_data"
    },
    {
     "data": {
      "text/html": [
       "<pre>| 500       | 5.556224     | 0.999725          | 0.003109          | 0.961403            | 0.219544            |</pre>"
      ],
      "text/plain": [
       "| 500       | 5.556224     | 0.999725          | 0.003109          | 0.961403            | 0.219544            |"
      ]
     },
     "metadata": {},
     "output_type": "display_data"
    },
    {
     "data": {
      "text/html": [
       "<pre>| 501       | 5.566231     | 0.999725          | 0.003105          | 0.961403            | 0.219506            |</pre>"
      ],
      "text/plain": [
       "| 501       | 5.566231     | 0.999725          | 0.003105          | 0.961403            | 0.219506            |"
      ]
     },
     "metadata": {},
     "output_type": "display_data"
    },
    {
     "data": {
      "text/html": [
       "<pre>| 600       | 6.629483     | 0.999725          | 0.002464          | 0.961403            | 0.229818            |</pre>"
      ],
      "text/plain": [
       "| 600       | 6.629483     | 0.999725          | 0.002464          | 0.961403            | 0.229818            |"
      ]
     },
     "metadata": {},
     "output_type": "display_data"
    },
    {
     "data": {
      "text/html": [
       "<pre>| 700       | 7.726955     | 0.999725          | 0.002044          | 0.961403            | 0.237261            |</pre>"
      ],
      "text/plain": [
       "| 700       | 7.726955     | 0.999725          | 0.002044          | 0.961403            | 0.237261            |"
      ]
     },
     "metadata": {},
     "output_type": "display_data"
    },
    {
     "data": {
      "text/html": [
       "<pre>| 800       | 8.808774     | 0.999725          | 0.001762          | 0.961403            | 0.243694            |</pre>"
      ],
      "text/plain": [
       "| 800       | 8.808774     | 0.999725          | 0.001762          | 0.961403            | 0.243694            |"
      ]
     },
     "metadata": {},
     "output_type": "display_data"
    },
    {
     "data": {
      "text/html": [
       "<pre>| 900       | 9.847219     | 0.999725          | 0.001558          | 0.961403            | 0.250111            |</pre>"
      ],
      "text/plain": [
       "| 900       | 9.847219     | 0.999725          | 0.001558          | 0.961403            | 0.250111            |"
      ]
     },
     "metadata": {},
     "output_type": "display_data"
    },
    {
     "data": {
      "text/html": [
       "<pre>| 1000      | 10.864416    | 0.999725          | 0.001417          | 0.961403            | 0.255887            |</pre>"
      ],
      "text/plain": [
       "| 1000      | 10.864416    | 0.999725          | 0.001417          | 0.961403            | 0.255887            |"
      ]
     },
     "metadata": {},
     "output_type": "display_data"
    },
    {
     "data": {
      "text/html": [
       "<pre>+-----------+--------------+-------------------+-------------------+---------------------+---------------------+</pre>"
      ],
      "text/plain": [
       "+-----------+--------------+-------------------+-------------------+---------------------+---------------------+"
      ]
     },
     "metadata": {},
     "output_type": "display_data"
    },
    {
     "name": "stdout",
     "output_type": "stream",
     "text": [
      "PROGRESS: Creating a validation set from 5 percent of training data. This may take a while.\n",
      "          You can set ``validation_set=None`` to disable validation tracking.\n",
      "\n"
     ]
    }
   ],
   "source": [
    "btc = gl.boosted_trees_classifier.create(sf_train[priceless_features + ['fraud']], 'fraud',\n",
    "                                             max_iterations=1000)"
   ]
  },
  {
   "cell_type": "code",
   "execution_count": 54,
   "metadata": {
    "ExecuteTime": {
     "end_time": "2016-04-06T19:29:30.561624",
     "start_time": "2016-04-06T19:29:30.246311"
    },
    "collapsed": false
   },
   "outputs": [
    {
     "data": {
      "text/plain": [
       "{'accuracy': 0.9561586638830898,\n",
       " 'auc': 0.9264962868008013,\n",
       " 'confusion_matrix': Columns:\n",
       " \ttarget_label\tstr\n",
       " \tpredicted_label\tstr\n",
       " \tcount\tint\n",
       " \n",
       " Rows: 4\n",
       " \n",
       " Data:\n",
       " +--------------+-----------------+-------+\n",
       " | target_label | predicted_label | count |\n",
       " +--------------+-----------------+-------+\n",
       " |    False     |       True      |   17  |\n",
       " |     True     |       True      |  309  |\n",
       " |     True     |      False      |  109  |\n",
       " |    False     |      False      |  2439 |\n",
       " +--------------+-----------------+-------+\n",
       " [4 rows x 3 columns],\n",
       " 'f1_score': 0.8306451612903226,\n",
       " 'log_loss': 0.2659806732265724,\n",
       " 'precision': 0.9478527607361963,\n",
       " 'recall': 0.7392344497607656,\n",
       " 'roc_curve': Columns:\n",
       " \tthreshold\tfloat\n",
       " \tfpr\tfloat\n",
       " \ttpr\tfloat\n",
       " \tp\tint\n",
       " \tn\tint\n",
       " \n",
       " Rows: 100001\n",
       " \n",
       " Data:\n",
       " +-----------+----------------+----------------+-----+------+\n",
       " | threshold |      fpr       |      tpr       |  p  |  n   |\n",
       " +-----------+----------------+----------------+-----+------+\n",
       " |    0.0    |      1.0       |      1.0       | 418 | 2456 |\n",
       " |   1e-05   | 0.792752442997 | 0.985645933014 | 418 | 2456 |\n",
       " |   2e-05   | 0.712133550489 | 0.966507177033 | 418 | 2456 |\n",
       " |   3e-05   | 0.65838762215  | 0.964114832536 | 418 | 2456 |\n",
       " |   4e-05   | 0.616449511401 | 0.954545454545 | 418 | 2456 |\n",
       " |   5e-05   | 0.58509771987  | 0.94976076555  | 418 | 2456 |\n",
       " |   6e-05   | 0.556596091205 | 0.947368421053 | 418 | 2456 |\n",
       " |   7e-05   | 0.536237785016 | 0.944976076555 | 418 | 2456 |\n",
       " |   8e-05   | 0.521986970684 | 0.944976076555 | 418 | 2456 |\n",
       " |   9e-05   | 0.510179153094 | 0.944976076555 | 418 | 2456 |\n",
       " +-----------+----------------+----------------+-----+------+\n",
       " [100001 rows x 5 columns]\n",
       " Note: Only the head of the SFrame is printed.\n",
       " You can use print_rows(num_rows=m, num_columns=n) to print more rows and columns.}"
      ]
     },
     "execution_count": 54,
     "metadata": {},
     "output_type": "execute_result"
    }
   ],
   "source": [
    "btc.evaluate(sf_test)"
   ]
  },
  {
   "cell_type": "code",
   "execution_count": 55,
   "metadata": {
    "ExecuteTime": {
     "end_time": "2016-04-06T19:36:10.044957",
     "start_time": "2016-04-06T19:35:53.792455"
    },
    "collapsed": false
   },
   "outputs": [
    {
     "data": {
      "text/html": [
       "<pre>WARNING: Detected extremely low variance for feature(s) 'email_domain_morethan20' because all entries are nearly the same.\n",
       "Proceeding with model training using all features. If the model does not provide results of adequate quality, exclude the above mentioned feature(s) from the input dataset.</pre>"
      ],
      "text/plain": [
       "WARNING: Detected extremely low variance for feature(s) 'email_domain_morethan20' because all entries are nearly the same.\n",
       "Proceeding with model training using all features. If the model does not provide results of adequate quality, exclude the above mentioned feature(s) from the input dataset."
      ]
     },
     "metadata": {},
     "output_type": "display_data"
    },
    {
     "data": {
      "text/html": [
       "<pre>Boosted trees classifier:</pre>"
      ],
      "text/plain": [
       "Boosted trees classifier:"
      ]
     },
     "metadata": {},
     "output_type": "display_data"
    },
    {
     "data": {
      "text/html": [
       "<pre>--------------------------------------------------------</pre>"
      ],
      "text/plain": [
       "--------------------------------------------------------"
      ]
     },
     "metadata": {},
     "output_type": "display_data"
    },
    {
     "data": {
      "text/html": [
       "<pre>Number of examples          : 10886</pre>"
      ],
      "text/plain": [
       "Number of examples          : 10886"
      ]
     },
     "metadata": {},
     "output_type": "display_data"
    },
    {
     "data": {
      "text/html": [
       "<pre>Number of classes           : 2</pre>"
      ],
      "text/plain": [
       "Number of classes           : 2"
      ]
     },
     "metadata": {},
     "output_type": "display_data"
    },
    {
     "data": {
      "text/html": [
       "<pre>Number of feature columns   : 35</pre>"
      ],
      "text/plain": [
       "Number of feature columns   : 35"
      ]
     },
     "metadata": {},
     "output_type": "display_data"
    },
    {
     "data": {
      "text/html": [
       "<pre>Number of unpacked features : 35</pre>"
      ],
      "text/plain": [
       "Number of unpacked features : 35"
      ]
     },
     "metadata": {},
     "output_type": "display_data"
    },
    {
     "data": {
      "text/html": [
       "<pre>+-----------+--------------+-------------------+-------------------+---------------------+---------------------+</pre>"
      ],
      "text/plain": [
       "+-----------+--------------+-------------------+-------------------+---------------------+---------------------+"
      ]
     },
     "metadata": {},
     "output_type": "display_data"
    },
    {
     "data": {
      "text/html": [
       "<pre>| Iteration | Elapsed Time | Training-accuracy | Training-log_loss | Validation-accuracy | Validation-log_loss |</pre>"
      ],
      "text/plain": [
       "| Iteration | Elapsed Time | Training-accuracy | Training-log_loss | Validation-accuracy | Validation-log_loss |"
      ]
     },
     "metadata": {},
     "output_type": "display_data"
    },
    {
     "data": {
      "text/html": [
       "<pre>+-----------+--------------+-------------------+-------------------+---------------------+---------------------+</pre>"
      ],
      "text/plain": [
       "+-----------+--------------+-------------------+-------------------+---------------------+---------------------+"
      ]
     },
     "metadata": {},
     "output_type": "display_data"
    },
    {
     "data": {
      "text/html": [
       "<pre>| 1         | 0.020878     | 0.944332          | 0.490912          | 0.941075            | 0.492603            |</pre>"
      ],
      "text/plain": [
       "| 1         | 0.020878     | 0.944332          | 0.490912          | 0.941075            | 0.492603            |"
      ]
     },
     "metadata": {},
     "output_type": "display_data"
    },
    {
     "data": {
      "text/html": [
       "<pre>| 2         | 0.041312     | 0.944608          | 0.379702          | 0.939341            | 0.383596            |</pre>"
      ],
      "text/plain": [
       "| 2         | 0.041312     | 0.944608          | 0.379702          | 0.939341            | 0.383596            |"
      ]
     },
     "metadata": {},
     "output_type": "display_data"
    },
    {
     "data": {
      "text/html": [
       "<pre>| 3         | 0.061475     | 0.946353          | 0.311266          | 0.944541            | 0.318012            |</pre>"
      ],
      "text/plain": [
       "| 3         | 0.061475     | 0.946353          | 0.311266          | 0.944541            | 0.318012            |"
      ]
     },
     "metadata": {},
     "output_type": "display_data"
    },
    {
     "data": {
      "text/html": [
       "<pre>| 4         | 0.081704     | 0.946996          | 0.267071          | 0.941075            | 0.276984            |</pre>"
      ],
      "text/plain": [
       "| 4         | 0.081704     | 0.946996          | 0.267071          | 0.941075            | 0.276984            |"
      ]
     },
     "metadata": {},
     "output_type": "display_data"
    },
    {
     "data": {
      "text/html": [
       "<pre>| 5         | 0.102555     | 0.947639          | 0.236103          | 0.941075            | 0.250450            |</pre>"
      ],
      "text/plain": [
       "| 5         | 0.102555     | 0.947639          | 0.236103          | 0.941075            | 0.250450            |"
      ]
     },
     "metadata": {},
     "output_type": "display_data"
    },
    {
     "data": {
      "text/html": [
       "<pre>| 6         | 0.124948     | 0.948007          | 0.213164          | 0.942808            | 0.232391            |</pre>"
      ],
      "text/plain": [
       "| 6         | 0.124948     | 0.948007          | 0.213164          | 0.942808            | 0.232391            |"
      ]
     },
     "metadata": {},
     "output_type": "display_data"
    },
    {
     "data": {
      "text/html": [
       "<pre>| 11        | 0.230458     | 0.951314          | 0.162348          | 0.942808            | 0.196743            |</pre>"
      ],
      "text/plain": [
       "| 11        | 0.230458     | 0.951314          | 0.162348          | 0.942808            | 0.196743            |"
      ]
     },
     "metadata": {},
     "output_type": "display_data"
    },
    {
     "data": {
      "text/html": [
       "<pre>| 50        | 0.881416     | 0.986313          | 0.050439          | 0.954939            | 0.161756            |</pre>"
      ],
      "text/plain": [
       "| 50        | 0.881416     | 0.986313          | 0.050439          | 0.954939            | 0.161756            |"
      ]
     },
     "metadata": {},
     "output_type": "display_data"
    },
    {
     "data": {
      "text/html": [
       "<pre>| 51        | 0.899882     | 0.987139          | 0.048181          | 0.954939            | 0.162657            |</pre>"
      ],
      "text/plain": [
       "| 51        | 0.899882     | 0.987139          | 0.048181          | 0.954939            | 0.162657            |"
      ]
     },
     "metadata": {},
     "output_type": "display_data"
    },
    {
     "data": {
      "text/html": [
       "<pre>| 100       | 1.778531     | 0.999724          | 0.014840          | 0.960139            | 0.183447            |</pre>"
      ],
      "text/plain": [
       "| 100       | 1.778531     | 0.999724          | 0.014840          | 0.960139            | 0.183447            |"
      ]
     },
     "metadata": {},
     "output_type": "display_data"
    },
    {
     "data": {
      "text/html": [
       "<pre>| 101       | 1.798192     | 0.999816          | 0.014320          | 0.960139            | 0.183581            |</pre>"
      ],
      "text/plain": [
       "| 101       | 1.798192     | 0.999816          | 0.014320          | 0.960139            | 0.183581            |"
      ]
     },
     "metadata": {},
     "output_type": "display_data"
    },
    {
     "data": {
      "text/html": [
       "<pre>| 150       | 2.706939     | 1.000000          | 0.005366          | 0.961872            | 0.206352            |</pre>"
      ],
      "text/plain": [
       "| 150       | 2.706939     | 1.000000          | 0.005366          | 0.961872            | 0.206352            |"
      ]
     },
     "metadata": {},
     "output_type": "display_data"
    },
    {
     "data": {
      "text/html": [
       "<pre>| 200       | 3.557593     | 1.000000          | 0.002718          | 0.961872            | 0.220935            |</pre>"
      ],
      "text/plain": [
       "| 200       | 3.557593     | 1.000000          | 0.002718          | 0.961872            | 0.220935            |"
      ]
     },
     "metadata": {},
     "output_type": "display_data"
    },
    {
     "data": {
      "text/html": [
       "<pre>| 250       | 4.352758     | 1.000000          | 0.001636          | 0.963605            | 0.235848            |</pre>"
      ],
      "text/plain": [
       "| 250       | 4.352758     | 1.000000          | 0.001636          | 0.963605            | 0.235848            |"
      ]
     },
     "metadata": {},
     "output_type": "display_data"
    },
    {
     "data": {
      "text/html": [
       "<pre>| 300       | 5.126713     | 1.000000          | 0.001128          | 0.963605            | 0.245786            |</pre>"
      ],
      "text/plain": [
       "| 300       | 5.126713     | 1.000000          | 0.001128          | 0.963605            | 0.245786            |"
      ]
     },
     "metadata": {},
     "output_type": "display_data"
    },
    {
     "data": {
      "text/html": [
       "<pre>| 350       | 5.900384     | 1.000000          | 0.000841          | 0.963605            | 0.252634            |</pre>"
      ],
      "text/plain": [
       "| 350       | 5.900384     | 1.000000          | 0.000841          | 0.963605            | 0.252634            |"
      ]
     },
     "metadata": {},
     "output_type": "display_data"
    },
    {
     "data": {
      "text/html": [
       "<pre>| 400       | 6.646756     | 1.000000          | 0.000674          | 0.963605            | 0.259907            |</pre>"
      ],
      "text/plain": [
       "| 400       | 6.646756     | 1.000000          | 0.000674          | 0.963605            | 0.259907            |"
      ]
     },
     "metadata": {},
     "output_type": "display_data"
    },
    {
     "data": {
      "text/html": [
       "<pre>| 450       | 7.369664     | 1.000000          | 0.000560          | 0.963605            | 0.265852            |</pre>"
      ],
      "text/plain": [
       "| 450       | 7.369664     | 1.000000          | 0.000560          | 0.963605            | 0.265852            |"
      ]
     },
     "metadata": {},
     "output_type": "display_data"
    },
    {
     "data": {
      "text/html": [
       "<pre>| 500       | 8.096758     | 1.000000          | 0.000477          | 0.963605            | 0.270598            |</pre>"
      ],
      "text/plain": [
       "| 500       | 8.096758     | 1.000000          | 0.000477          | 0.963605            | 0.270598            |"
      ]
     },
     "metadata": {},
     "output_type": "display_data"
    },
    {
     "data": {
      "text/html": [
       "<pre>| 501       | 8.114114     | 1.000000          | 0.000475          | 0.961872            | 0.270550            |</pre>"
      ],
      "text/plain": [
       "| 501       | 8.114114     | 1.000000          | 0.000475          | 0.961872            | 0.270550            |"
      ]
     },
     "metadata": {},
     "output_type": "display_data"
    },
    {
     "data": {
      "text/html": [
       "<pre>| 550       | 8.852845     | 1.000000          | 0.000419          | 0.961872            | 0.275860            |</pre>"
      ],
      "text/plain": [
       "| 550       | 8.852845     | 1.000000          | 0.000419          | 0.961872            | 0.275860            |"
      ]
     },
     "metadata": {},
     "output_type": "display_data"
    },
    {
     "data": {
      "text/html": [
       "<pre>| 600       | 9.672186     | 1.000000          | 0.000373          | 0.961872            | 0.280452            |</pre>"
      ],
      "text/plain": [
       "| 600       | 9.672186     | 1.000000          | 0.000373          | 0.961872            | 0.280452            |"
      ]
     },
     "metadata": {},
     "output_type": "display_data"
    },
    {
     "data": {
      "text/html": [
       "<pre>| 650       | 10.468921    | 1.000000          | 0.000336          | 0.961872            | 0.285080            |</pre>"
      ],
      "text/plain": [
       "| 650       | 10.468921    | 1.000000          | 0.000336          | 0.961872            | 0.285080            |"
      ]
     },
     "metadata": {},
     "output_type": "display_data"
    },
    {
     "data": {
      "text/html": [
       "<pre>| 700       | 11.236158    | 1.000000          | 0.000307          | 0.961872            | 0.287914            |</pre>"
      ],
      "text/plain": [
       "| 700       | 11.236158    | 1.000000          | 0.000307          | 0.961872            | 0.287914            |"
      ]
     },
     "metadata": {},
     "output_type": "display_data"
    },
    {
     "data": {
      "text/html": [
       "<pre>| 750       | 11.983603    | 1.000000          | 0.000283          | 0.961872            | 0.291367            |</pre>"
      ],
      "text/plain": [
       "| 750       | 11.983603    | 1.000000          | 0.000283          | 0.961872            | 0.291367            |"
      ]
     },
     "metadata": {},
     "output_type": "display_data"
    },
    {
     "data": {
      "text/html": [
       "<pre>| 800       | 12.702381    | 1.000000          | 0.000263          | 0.961872            | 0.293394            |</pre>"
      ],
      "text/plain": [
       "| 800       | 12.702381    | 1.000000          | 0.000263          | 0.961872            | 0.293394            |"
      ]
     },
     "metadata": {},
     "output_type": "display_data"
    },
    {
     "data": {
      "text/html": [
       "<pre>| 850       | 13.407403    | 1.000000          | 0.000247          | 0.961872            | 0.295632            |</pre>"
      ],
      "text/plain": [
       "| 850       | 13.407403    | 1.000000          | 0.000247          | 0.961872            | 0.295632            |"
      ]
     },
     "metadata": {},
     "output_type": "display_data"
    },
    {
     "data": {
      "text/html": [
       "<pre>| 900       | 14.116305    | 1.000000          | 0.000233          | 0.961872            | 0.297523            |</pre>"
      ],
      "text/plain": [
       "| 900       | 14.116305    | 1.000000          | 0.000233          | 0.961872            | 0.297523            |"
      ]
     },
     "metadata": {},
     "output_type": "display_data"
    },
    {
     "data": {
      "text/html": [
       "<pre>| 950       | 14.787349    | 1.000000          | 0.000221          | 0.961872            | 0.299698            |</pre>"
      ],
      "text/plain": [
       "| 950       | 14.787349    | 1.000000          | 0.000221          | 0.961872            | 0.299698            |"
      ]
     },
     "metadata": {},
     "output_type": "display_data"
    },
    {
     "data": {
      "text/html": [
       "<pre>| 1000      | 15.446492    | 1.000000          | 0.000210          | 0.961872            | 0.301032            |</pre>"
      ],
      "text/plain": [
       "| 1000      | 15.446492    | 1.000000          | 0.000210          | 0.961872            | 0.301032            |"
      ]
     },
     "metadata": {},
     "output_type": "display_data"
    },
    {
     "data": {
      "text/html": [
       "<pre>+-----------+--------------+-------------------+-------------------+---------------------+---------------------+</pre>"
      ],
      "text/plain": [
       "+-----------+--------------+-------------------+-------------------+---------------------+---------------------+"
      ]
     },
     "metadata": {},
     "output_type": "display_data"
    },
    {
     "name": "stdout",
     "output_type": "stream",
     "text": [
      "PROGRESS: Creating a validation set from 5 percent of training data. This may take a while.\n",
      "          You can set ``validation_set=None`` to disable validation tracking.\n",
      "\n"
     ]
    }
   ],
   "source": [
    "btc_all = gl.boosted_trees_classifier.create(sf_train[good_cols + ['fraud']], 'fraud',\n",
    "                                             max_iterations=1000)"
   ]
  },
  {
   "cell_type": "code",
   "execution_count": 56,
   "metadata": {
    "ExecuteTime": {
     "end_time": "2016-04-06T19:36:13.549894",
     "start_time": "2016-04-06T19:36:13.223467"
    },
    "collapsed": false
   },
   "outputs": [
    {
     "data": {
      "text/plain": [
       "{'accuracy': 0.953723034098817,\n",
       " 'auc': 0.93428504356093,\n",
       " 'confusion_matrix': Columns:\n",
       " \ttarget_label\tstr\n",
       " \tpredicted_label\tstr\n",
       " \tcount\tint\n",
       " \n",
       " Rows: 4\n",
       " \n",
       " Data:\n",
       " +--------------+-----------------+-------+\n",
       " | target_label | predicted_label | count |\n",
       " +--------------+-----------------+-------+\n",
       " |     True     |      False      |  122  |\n",
       " |     True     |       True      |  296  |\n",
       " |    False     |      False      |  2445 |\n",
       " |    False     |       True      |   11  |\n",
       " +--------------+-----------------+-------+\n",
       " [4 rows x 3 columns],\n",
       " 'f1_score': 0.816551724137931,\n",
       " 'log_loss': 0.29569360307531084,\n",
       " 'precision': 0.9641693811074918,\n",
       " 'recall': 0.7081339712918661,\n",
       " 'roc_curve': Columns:\n",
       " \tthreshold\tfloat\n",
       " \tfpr\tfloat\n",
       " \ttpr\tfloat\n",
       " \tp\tint\n",
       " \tn\tint\n",
       " \n",
       " Rows: 100001\n",
       " \n",
       " Data:\n",
       " +-----------+----------------+----------------+-----+------+\n",
       " | threshold |      fpr       |      tpr       |  p  |  n   |\n",
       " +-----------+----------------+----------------+-----+------+\n",
       " |    0.0    |      1.0       |      1.0       | 418 | 2456 |\n",
       " |   1e-05   | 0.656758957655 | 0.973684210526 | 418 | 2456 |\n",
       " |   2e-05   | 0.571661237785 | 0.961722488038 | 418 | 2456 |\n",
       " |   3e-05   | 0.514657980456 | 0.959330143541 | 418 | 2456 |\n",
       " |   4e-05   | 0.484527687296 | 0.956937799043 | 418 | 2456 |\n",
       " |   5e-05   | 0.454804560261 | 0.954545454545 | 418 | 2456 |\n",
       " |   6e-05   | 0.426302931596 | 0.952153110048 | 418 | 2456 |\n",
       " |   7e-05   | 0.407166123779 | 0.944976076555 | 418 | 2456 |\n",
       " |   8e-05   | 0.389657980456 | 0.937799043062 | 418 | 2456 |\n",
       " |   9e-05   |     0.375      | 0.925837320574 | 418 | 2456 |\n",
       " +-----------+----------------+----------------+-----+------+\n",
       " [100001 rows x 5 columns]\n",
       " Note: Only the head of the SFrame is printed.\n",
       " You can use print_rows(num_rows=m, num_columns=n) to print more rows and columns.}"
      ]
     },
     "execution_count": 56,
     "metadata": {},
     "output_type": "execute_result"
    }
   ],
   "source": [
    "btc_all.evaluate(sf_test)"
   ]
  },
  {
   "cell_type": "code",
   "execution_count": 58,
   "metadata": {
    "ExecuteTime": {
     "end_time": "2016-04-07T10:48:31.649580",
     "start_time": "2016-04-07T10:48:31.268066"
    },
    "collapsed": false
   },
   "outputs": [],
   "source": [
    "btc.save('models/btc_priceless_v1.gl')"
   ]
  },
  {
   "cell_type": "code",
   "execution_count": null,
   "metadata": {
    "collapsed": true
   },
   "outputs": [],
   "source": []
  }
 ],
 "metadata": {
  "kernelspec": {
   "display_name": "Python 2",
   "language": "python",
   "name": "python2"
  },
  "language_info": {
   "codemirror_mode": {
    "name": "ipython",
    "version": 2
   },
   "file_extension": ".py",
   "mimetype": "text/x-python",
   "name": "python",
   "nbconvert_exporter": "python",
   "pygments_lexer": "ipython2",
   "version": "2.7.11"
  }
 },
 "nbformat": 4,
 "nbformat_minor": 0
}
